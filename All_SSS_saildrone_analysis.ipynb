{
 "cells": [
  {
   "cell_type": "code",
   "execution_count": null,
   "metadata": {},
   "outputs": [],
   "source": [
    "import sys\n",
    "import numpy as np\n",
    "import matplotlib.pyplot as plt\n",
    "import xarray as xr\n",
    "sys.path.append('../saildrone/subroutines/')\n",
    "import warnings\n",
    "warnings.simplefilter('ignore') # filter some warning messages\n",
    "from glob import glob\n"
   ]
  },
  {
   "cell_type": "markdown",
   "metadata": {},
   "source": [
    "# read in collocated files"
   ]
  },
  {
   "cell_type": "code",
   "execution_count": null,
   "metadata": {},
   "outputs": [],
   "source": [
    "data_dir = 'F:/data/cruise_data/saildrone/sss_collocations_norepeat/'\n",
    "filenames = [x for x in glob(data_dir+'*.nc')]\n",
    "filenames"
   ]
  },
  {
   "cell_type": "code",
   "execution_count": null,
   "metadata": {},
   "outputs": [],
   "source": [
    "for iname,name in enumerate(filenames):\n",
    "#    if not iname==2:\n",
    "#        continue\n",
    "    i = name.find('\\\\')\n",
    "    ds = xr.open_dataset(name)\n",
    "    ds.close()\n",
    "    rdif = ds.SAL_CTD_MEAN-ds.smap_SSS\n",
    "    rdif = rdif.where(rdif<1000,drop=True)\n",
    "    print(iname,name[i+1:-18],\"{:.2f}\".format(rdif.mean().data),\"{:.2f}\".format(rdif.std().data))"
   ]
  },
  {
   "cell_type": "code",
   "execution_count": null,
   "metadata": {},
   "outputs": [],
   "source": [
    "#ds= xr.open_dataset('F:/data/sat_data/smap/SSS/L2/JPL/V4.3/2015/136\\SMAP_L2B_SSS_01530_20150516T034831_R16010_V4.3.h5')"
   ]
  },
  {
   "cell_type": "code",
   "execution_count": null,
   "metadata": {},
   "outputs": [],
   "source": [
    "rdif = ds.SAL_CTD_MEAN-ds.smap_SSS\n",
    "print(iname,name[i+1:-18],\"{:.2f}\".format(rdif.mean().data),\"{:.2f}\".format(rdif.std().data))"
   ]
  },
  {
   "cell_type": "code",
   "execution_count": null,
   "metadata": {},
   "outputs": [],
   "source": [
    "name[i+1:-18]"
   ]
  },
  {
   "cell_type": "code",
   "execution_count": null,
   "metadata": {},
   "outputs": [],
   "source": []
  }
 ],
 "metadata": {
  "kernelspec": {
   "display_name": "Python 3",
   "language": "python",
   "name": "python3"
  },
  "language_info": {
   "codemirror_mode": {
    "name": "ipython",
    "version": 3
   },
   "file_extension": ".py",
   "mimetype": "text/x-python",
   "name": "python",
   "nbconvert_exporter": "python",
   "pygments_lexer": "ipython3",
   "version": "3.7.6"
  }
 },
 "nbformat": 4,
 "nbformat_minor": 4
}
