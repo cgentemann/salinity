{
 "cells": [
  {
   "cell_type": "code",
   "execution_count": null,
   "metadata": {},
   "outputs": [],
   "source": [
    "import xarray as xr\n",
    "import numpy as np\n",
    "\n",
    "\n",
    "file = 'Z:/allData/smap/L2/JPL/V4.2/2019/006/SMAP_L2B_SSS_20996_20190106T035849_R16022_V4.2.h5'\n",
    "file = 'Z:/allData/smap/L2/JPL/V4.2/2018/230/SMAP_L2B_SSS_18934_20180818T041058_R16010_V4.2.h5'\n",
    "ds = xr.open_dataset(file)\n",
    "print(ds.row_time[0].data)\n",
    "file = 'F:/data/sat_data/smap/SSS/L2/JPL/V4.2/2018/230/SMAP_L2B_SSS_18934_20180818T041058_R16010_V4.2.h5'\n",
    "ds = xr.open_dataset(file)\n",
    "print(ds.row_time[0].data)"
   ]
  },
  {
   "cell_type": "code",
   "execution_count": null,
   "metadata": {},
   "outputs": [],
   "source": []
  },
  {
   "cell_type": "code",
   "execution_count": null,
   "metadata": {},
   "outputs": [],
   "source": []
  },
  {
   "cell_type": "code",
   "execution_count": null,
   "metadata": {},
   "outputs": [],
   "source": [
    "ds.row_time[0]-np.datetime64(ds.attrs['REV_START_TIME'])  #np.timedelta64(1,'Y')"
   ]
  },
  {
   "cell_type": "code",
   "execution_count": null,
   "metadata": {},
   "outputs": [],
   "source": [
    "ds.attrs['REV_START_TIME']"
   ]
  },
  {
   "cell_type": "code",
   "execution_count": null,
   "metadata": {},
   "outputs": [],
   "source": [
    "ds"
   ]
  },
  {
   "cell_type": "code",
   "execution_count": null,
   "metadata": {},
   "outputs": [],
   "source": []
  }
 ],
 "metadata": {
  "kernelspec": {
   "display_name": "Python 3",
   "language": "python",
   "name": "python3"
  },
  "language_info": {
   "codemirror_mode": {
    "name": "ipython",
    "version": 3
   },
   "file_extension": ".py",
   "mimetype": "text/x-python",
   "name": "python",
   "nbconvert_exporter": "python",
   "pygments_lexer": "ipython3",
   "version": "3.7.1"
  }
 },
 "nbformat": 4,
 "nbformat_minor": 2
}
