{
 "cells": [
  {
   "cell_type": "code",
   "execution_count": null,
   "metadata": {},
   "outputs": [],
   "source": [
    "import sys\n",
    "import numpy as np\n",
    "import matplotlib.pyplot as plt\n",
    "import xarray as xr\n",
    "sys.path.append('../saildrone/subroutines/')\n",
    "import warnings\n",
    "warnings.simplefilter('ignore') # filter some warning messages\n",
    "from glob import glob\n",
    "import cartopy\n",
    "import cartopy.crs as ccrs\n",
    "\n"
   ]
  },
  {
   "cell_type": "markdown",
   "metadata": {},
   "source": [
    "# read in collocated files"
   ]
  },
  {
   "cell_type": "code",
   "execution_count": null,
   "metadata": {},
   "outputs": [],
   "source": [
    "data_dir = 'F:/data/cruise_data/saildrone/sss/sss_collocations/'\n",
    "data_dir_out = 'F:/data/cruise_data/saildrone/sss/sss_collocations_norepeat/'\n",
    "fig_dir_out = 'F:/data/cruise_data/saildrone/sss/figs/'\n",
    "filenames = glob(data_dir+'*4.3*.nc')\n",
    "#filenames = [x for x in glob(data_dir+'*.nc')]\n",
    "filenames"
   ]
  },
  {
   "cell_type": "code",
   "execution_count": null,
   "metadata": {},
   "outputs": [],
   "source": [
    "loc=['lat','lon']\n",
    "for iname,name in enumerate(filenames):\n",
    "#    if iname ==0:\n",
    "    #    i = name.find('\\\\')\n",
    "    #    fout = data_dir_out + name[i+1:-3]+'norep.nc' \n",
    "    ds = xr.open_dataset(name).rename({'latitude':'lat'})\n",
    "    ds.close()\n",
    "\n",
    "    #if lat/lon in coordinates rather than variables move to variables\n",
    "    for cor in ds.coords:\n",
    "        if cor in loc:\n",
    "            ds = ds.reset_coords(cor)\n",
    "\n",
    "    ds_usv = ds\n",
    "    dx,dy=2,2\n",
    "    x1,x2=ds_usv.lon.min().data-dx,ds_usv.lon.max().data+dx\n",
    "    y1,y2=ds_usv.lat.min().data-dy,ds_usv.lat.max().data+dy\n",
    "    ax3 = plt.subplot(111,projection = ccrs.PlateCarree())\n",
    "    ds2 = ds_usv\n",
    "    im=ax3.scatter(ds2.lon,ds2.lat,c=ds.SAL_CTD_MEAN,s=.15,transform=ccrs.PlateCarree(),cmap='jet')\n",
    "    ax3.coastlines(resolution='10m')                \n",
    "    ax3.set_extent([x1,x2,y1,y2])\n",
    "    plt.savefig(fig_dir_out+name[name.find('\\\\')+1:-3]+'.png')\n",
    "    plt.clf()"
   ]
  },
  {
   "cell_type": "code",
   "execution_count": null,
   "metadata": {},
   "outputs": [],
   "source": [
    "name = 'C:/Users/gentemann/Google Drive/public/2019_saildrone\\saildrone_arctic_sd1033_2019.nc'\n",
    "ds = xr.open_dataset(name).rename({'latitude':'lat','longitude':'lon'})\n",
    "ds.close()\n",
    "\n",
    "#if lat/lon in coordinates rather than variables move to variables\n",
    "for cor in ds.coords:\n",
    "    if cor in loc:\n",
    "        ds = ds.reset_coords(cor)\n",
    "\n",
    "ds_usv = ds\n",
    "dx,dy=2,2\n",
    "x1,x2=ds_usv.lon.min().data-dx,ds_usv.lon.max().data+dx\n",
    "y1,y2=ds_usv.lat.min().data-dy,ds_usv.lat.max().data+dy\n",
    "ax3 = plt.subplot(111,projection = ccrs.PlateCarree())\n",
    "ds2 = ds_usv\n",
    "im=ax3.scatter(ds2.lon,ds2.lat,c=ds.TEMP_CTD_RBR_MEAN,s=.15,transform=ccrs.PlateCarree(),cmap='jet')\n",
    "ax3.coastlines(resolution='10m')                \n",
    "ax3.set_extent([x1,x2,y1,y2])\n"
   ]
  },
  {
   "cell_type": "code",
   "execution_count": null,
   "metadata": {},
   "outputs": [],
   "source": [
    "plt.plot(ds.time,ds.SAL_SBE37_MEAN,'.')"
   ]
  },
  {
   "cell_type": "code",
   "execution_count": null,
   "metadata": {},
   "outputs": [],
   "source": [
    "ds.time.min()"
   ]
  },
  {
   "cell_type": "code",
   "execution_count": null,
   "metadata": {},
   "outputs": [],
   "source": []
  },
  {
   "cell_type": "code",
   "execution_count": null,
   "metadata": {},
   "outputs": [],
   "source": []
  },
  {
   "cell_type": "code",
   "execution_count": null,
   "metadata": {},
   "outputs": [],
   "source": []
  }
 ],
 "metadata": {
  "kernelspec": {
   "display_name": "Python 3",
   "language": "python",
   "name": "python3"
  },
  "language_info": {
   "codemirror_mode": {
    "name": "ipython",
    "version": 3
   },
   "file_extension": ".py",
   "mimetype": "text/x-python",
   "name": "python",
   "nbconvert_exporter": "python",
   "pygments_lexer": "ipython3",
   "version": "3.8.3"
  }
 },
 "nbformat": 4,
 "nbformat_minor": 4
}
