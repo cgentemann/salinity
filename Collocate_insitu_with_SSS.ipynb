{
 "cells": [
  {
   "cell_type": "markdown",
   "metadata": {},
   "source": [
    "# This is the in situ and SSS collocation code. \n"
   ]
  },
  {
   "cell_type": "code",
   "execution_count": 22,
   "metadata": {},
   "outputs": [],
   "source": [
    "import os\n",
    "import numpy as np\n",
    "import matplotlib.pyplot as plt\n",
    "import datetime as dt\n",
    "import xarray as xr\n",
    "import scipy\n",
    "from glob import glob\n",
    "import cartopy.crs as ccrs\n",
    "from pyresample.geometry import AreaDefinition\n",
    "from pyresample import image, geometry, load_area, save_quicklook, SwathDefinition\n",
    "from pyresample.kd_tree import resample_nearest\n",
    "from math import radians, cos, sin, asin, sqrt\n",
    "def haversine(lon1, lat1, lon2, lat2):\n",
    "    \"\"\"\n",
    "    Calculate the great circle distance between two points \n",
    "    on the earth (specified in decimal degrees)\n",
    "    \"\"\"\n",
    "    # convert decimal degrees to radians \n",
    "    lon1, lat1, lon2, lat2 = map(radians, [lon1, lat1, lon2, lat2])\n",
    "    # haversine formula \n",
    "    dlon = lon2 - lon1 \n",
    "    dlat = lat2 - lat1 \n",
    "    a = sin(dlat/2)**2 + cos(lat1) * cos(lat2) * sin(dlon/2)**2\n",
    "    c = 2 * asin(sqrt(a)) \n",
    "    # Radius of earth in kilometers is 6371\n",
    "    km = 6371* c\n",
    "    return km"
   ]
  },
  {
   "cell_type": "markdown",
   "metadata": {},
   "source": [
    "# Read in USV data\n",
    "Read in the Saildrone USV file either from a local disc or using OpenDAP.\n",
    "\n"
   ]
  },
  {
   "cell_type": "code",
   "execution_count": 23,
   "metadata": {},
   "outputs": [
    {
     "data": {
      "text/plain": [
       "<xarray.Dataset>\n",
       "Dimensions:               (time: 85980)\n",
       "Coordinates:\n",
       "    trajectory            float32 1002.0\n",
       "  * time                  (time) datetime64[ns] 2018-04-12T02:00:00 ... 2018-06-10T18:59:00\n",
       "    lat                   (time) float64 37.51 37.51 37.51 ... 37.68 37.68 37.68\n",
       "    lon                   (time) float64 -122.8 -122.8 -122.8 ... -122.7 -122.7\n",
       "Data variables:\n",
       "    SOG                   (time) float64 ...\n",
       "    COG                   (time) float64 ...\n",
       "    HDG                   (time) float64 ...\n",
       "    HDG_WING              (time) float64 ...\n",
       "    ROLL                  (time) float64 ...\n",
       "    PITCH                 (time) float64 ...\n",
       "    WING_ANGLE            (time) float64 ...\n",
       "    BARO_PRES_MEAN        (time) float64 ...\n",
       "    BARO_PRES_STDDEV      (time) float64 ...\n",
       "    TEMP_AIR_MEAN         (time) float64 ...\n",
       "    TEMP_AIR_STDDEV       (time) float64 ...\n",
       "    RH_MEAN               (time) float64 ...\n",
       "    RH_STDDEV             (time) float64 ...\n",
       "    TEMP_IR_UNCOR_MEAN    (time) float64 ...\n",
       "    TEMP_IR_UNCOR_STDDEV  (time) float64 ...\n",
       "    UWND_MEAN             (time) float64 9.31 nan nan nan ... nan nan nan nan\n",
       "    UWND_STDDEV           (time) float64 ...\n",
       "    VWND_MEAN             (time) float64 -6.38 nan nan nan ... nan nan nan nan\n",
       "    VWND_STDDEV           (time) float64 ...\n",
       "    WWND_MEAN             (time) float64 ...\n",
       "    WWND_STDDEV           (time) float64 ...\n",
       "    GUST_WND_MEAN         (time) float64 ...\n",
       "    GUST_WND_STDDEV       (time) float64 ...\n",
       "    TEMP_CTD_MEAN         (time) float64 ...\n",
       "    TEMP_CTD_STDDEV       (time) float64 ...\n",
       "    COND_MEAN             (time) float64 ...\n",
       "    COND_STDDEV           (time) float64 ...\n",
       "    SAL_MEAN              (time) float64 ...\n",
       "    SAL_STDDEV            (time) float64 ...\n",
       "    O2_CONC_UNCOR_MEAN    (time) float64 ...\n",
       "    O2_CONC_UNCOR_STDDEV  (time) float64 ...\n",
       "    O2_SAT_MEAN           (time) float64 ...\n",
       "    O2_SAT_STDDEV         (time) float64 ...\n",
       "    TEMP_O2_MEAN          (time) float64 ...\n",
       "    TEMP_O2_STDDEV        (time) float64 ...\n",
       "    CHLOR_MEAN            (time) float64 ...\n",
       "    CHLOR_STDDEV          (time) float64 ...\n",
       "    CDOM_MEAN             (time) float64 ...\n",
       "    CDOM_STDDEV           (time) float64 ...\n",
       "    BKSCT_RED_MEAN        (time) float64 ...\n",
       "    BKSCT_RED_STDDEV      (time) float64 ...\n",
       "    wind_speed            (time) float64 11.29 nan nan nan ... nan nan nan nan\n",
       "    wind_dir              (time) float64 -34.42 nan nan nan ... nan nan nan nan\n",
       "Attributes:\n",
       "    title:                     Baja 2018 Near-Real-Time Mission Data\n",
       "    ncei_template_version:     NCEI_NetCDF_Trajectory_Template_v2.0\n",
       "    Conventions:               CF-1.6, ACDD-1.3\n",
       "    netcdf_version:            4.4.1.1\n",
       "    featureType:               trajectory\n",
       "    cdm_data_type:             Trajectory\n",
       "    standard_name_vocabulary:  CF Standard Name Table v58\n",
       "    description:               Saildrone NetCDF Format\n",
       "    creator_name:              Saildrone\n",
       "    platform:                  Saildrone\n",
       "    institution:               Saildrone\n",
       "    creator_email:             support@saildrone.com\n",
       "    creator_url:               http://saildrone.com/\n",
       "    date_created:              2018-08-29T21:02:49.774718Z\n",
       "    interval:                  60.0\n",
       "    time_coverage_resolution:  PT1M\n",
       "    time_coverage_start:       2018-04-11T18:00:00.000000Z\n",
       "    time_coverage_end:         2018-06-11T05:59:59.000000Z\n",
       "    time_coverage_duration:    P60DT11H59M59S\n",
       "    data_mode:                 realtime\n",
       "    drone_id:                  1002\n",
       "    id:                        3860\n",
       "    naming_authority:          com.saildrone\n",
       "    uuid:                      b98a9a81-d9f0-4751-aad6-8ea5b8cea963\n",
       "    geospatial_lat_min:        28.0176832\n",
       "    geospatial_lat_max:        37.8174912\n",
       "    geospatial_lat_units:      degrees_north\n",
       "    geospatial_lon_min:        -125.55297279999999\n",
       "    geospatial_lon_max:        -115.5226624\n",
       "    geospatial_lon_units:      degrees_east\n",
       "    area:                      Baja California Coast\n",
       "    project:                   baja_2018\n",
       "    product_version:           1\n",
       "    summary:                   The Saildrone unmanned surface vehicle (USV) c..."
      ]
     },
     "execution_count": 23,
     "metadata": {},
     "output_type": "execute_result"
    }
   ],
   "source": [
    "#filename_usv='f:/data/cruise_data/saildrone/baja-2018/saildrone-gen_4-baja_2018-sd1002-20180411T180000-20180611T055959-1_minutes-v1.nc'\n",
    "filename_usv='f:/data/cruise_data/saildrone/baja-2018/saildrone-gen_4-baja_2018-sd1002-20180411T180000-20180611T055959-1_minutes-v1.nc'\n",
    "ds_usv = xr.open_dataset(filename_usv)\n",
    "ds_usv.close()\n",
    "ds_usv = ds_usv.isel(trajectory=0).swap_dims({'obs':'time'}).rename({'longitude':'lon','latitude':'lat'})\n",
    "ds_usv = ds_usv.sel(time=slice('2018-04-12T02','2018-06-10T18')) #get rid of last part and first part where USV being towed\n",
    "ds_usv['lon'] = ds_usv.lon.interpolate_na(dim='time',method='linear') #there are 6 nan values\n",
    "ds_usv['lat'] = ds_usv.lat.interpolate_na(dim='time',method='linear')\n",
    "ds_usv['wind_speed']=np.sqrt(ds_usv.UWND_MEAN**2+ds_usv.VWND_MEAN**2)\n",
    "ds_usv['wind_dir']=np.arctan2(ds_usv.VWND_MEAN,ds_usv.UWND_MEAN)*180/np.pi\n",
    "ds_usv"
   ]
  },
  {
   "cell_type": "code",
   "execution_count": 24,
   "metadata": {},
   "outputs": [
    {
     "data": {
      "image/png": "[encoded data removed]",
      "text/plain": [
       "<Figure size 432x288 with 2 Axes>"
      ]
     },
     "metadata": {
      "needs_background": "light"
     },
     "output_type": "display_data"
    }
   ],
   "source": [
    "#plot cruise SSS with coastlines\n",
    "ax = plt.axes(projection=ccrs.PlateCarree())\n",
    "cs1 = ax.scatter(ds_usv.lon, ds_usv.lat, s=3.0, c=ds_usv.SAL_MEAN, edgecolor='none', cmap='jet',vmin=33,vmax=34.35)\n",
    "ax.coastlines()\n",
    "x1,x2,y1,y2 = -128,-112,25,40\n",
    "ax.set_xlim(x1,x2)\n",
    "ax.set_ylim(y1,y2)\n",
    "ax.set_xticks(np.arange(x1,x2,4))\n",
    "ax.set_yticks(np.arange(y1,y2,5))\n",
    "cax = plt.colorbar(cs1)\n",
    "cax.set_label('Salinity (psu)')\n",
    "fig_fname = 'C:/Users/gentemann/Google Drive/f_drive/docs/projects/SSS/figures/baja_location.png'\n",
    "plt.savefig(fig_fname, transparent=False, format='png')"
   ]
  },
  {
   "cell_type": "markdown",
   "metadata": {},
   "source": [
    "## Here is the search code first step.  Narrow down what orbital files to search in"
   ]
  },
  {
   "cell_type": "code",
   "execution_count": 190,
   "metadata": {
    "scrolled": true
   },
   "outputs": [
    {
     "name": "stdout",
     "output_type": "stream",
     "text": [
      "2018-04-12T02:00:00.000000000 2018-06-10T18:59:00.000000000\n",
      "2018-04-13 2018-04-14 1441\n"
     ]
    },
    {
     "name": "stderr",
     "output_type": "stream",
     "text": [
      "C:\\Users\\gentemann\\Miniconda3\\envs\\satenv\\lib\\site-packages\\ipykernel_launcher.py:37: RuntimeWarning: invalid value encountered in remainder\n",
      "C:\\Users\\gentemann\\Miniconda3\\envs\\satenv\\lib\\site-packages\\pyresample\\kd_tree.py:411: RuntimeWarning: invalid value encountered in greater_equal\n",
      "  (source_lats <= 90) & (source_lats >= -90))\n",
      "C:\\Users\\gentemann\\Miniconda3\\envs\\satenv\\lib\\site-packages\\pyresample\\kd_tree.py:411: RuntimeWarning: invalid value encountered in less_equal\n",
      "  (source_lats <= 90) & (source_lats >= -90))\n",
      "C:\\Users\\gentemann\\Miniconda3\\envs\\satenv\\lib\\site-packages\\pyresample\\data_reduce.py:304: RuntimeWarning: invalid value encountered in greater_equal\n",
      "  valid_lats = (lats >= lat_min_buffered) * (lats <= lat_max_buffered)\n",
      "C:\\Users\\gentemann\\Miniconda3\\envs\\satenv\\lib\\site-packages\\pyresample\\data_reduce.py:304: RuntimeWarning: invalid value encountered in less_equal\n",
      "  valid_lats = (lats >= lat_min_buffered) * (lats <= lat_max_buffered)\n",
      "C:\\Users\\gentemann\\Miniconda3\\envs\\satenv\\lib\\site-packages\\pyresample\\data_reduce.py:308: RuntimeWarning: invalid value encountered in greater_equal\n",
      "  valid_lons = (lons >= lon_min_buffered) * \\\n",
      "C:\\Users\\gentemann\\Miniconda3\\envs\\satenv\\lib\\site-packages\\pyresample\\data_reduce.py:309: RuntimeWarning: invalid value encountered in less_equal\n",
      "  (lons <= lon_max_buffered)\n"
     ]
    },
    {
     "name": "stdout",
     "output_type": "stream",
     "text": [
      "2018-04-14 2018-04-15 1441\n"
     ]
    },
    {
     "name": "stderr",
     "output_type": "stream",
     "text": [
      "C:\\Users\\gentemann\\Miniconda3\\envs\\satenv\\lib\\site-packages\\ipykernel_launcher.py:37: RuntimeWarning: invalid value encountered in remainder\n",
      "C:\\Users\\gentemann\\Miniconda3\\envs\\satenv\\lib\\site-packages\\pyresample\\kd_tree.py:411: RuntimeWarning: invalid value encountered in greater_equal\n",
      "  (source_lats <= 90) & (source_lats >= -90))\n",
      "C:\\Users\\gentemann\\Miniconda3\\envs\\satenv\\lib\\site-packages\\pyresample\\kd_tree.py:411: RuntimeWarning: invalid value encountered in less_equal\n",
      "  (source_lats <= 90) & (source_lats >= -90))\n",
      "C:\\Users\\gentemann\\Miniconda3\\envs\\satenv\\lib\\site-packages\\pyresample\\data_reduce.py:304: RuntimeWarning: invalid value encountered in greater_equal\n",
      "  valid_lats = (lats >= lat_min_buffered) * (lats <= lat_max_buffered)\n",
      "C:\\Users\\gentemann\\Miniconda3\\envs\\satenv\\lib\\site-packages\\pyresample\\data_reduce.py:304: RuntimeWarning: invalid value encountered in less_equal\n",
      "  valid_lats = (lats >= lat_min_buffered) * (lats <= lat_max_buffered)\n",
      "C:\\Users\\gentemann\\Miniconda3\\envs\\satenv\\lib\\site-packages\\pyresample\\data_reduce.py:308: RuntimeWarning: invalid value encountered in greater_equal\n",
      "  valid_lons = (lons >= lon_min_buffered) * \\\n",
      "C:\\Users\\gentemann\\Miniconda3\\envs\\satenv\\lib\\site-packages\\pyresample\\data_reduce.py:309: RuntimeWarning: invalid value encountered in less_equal\n",
      "  (lons <= lon_max_buffered)\n"
     ]
    },
    {
     "name": "stdout",
     "output_type": "stream",
     "text": [
      "2018-04-15 2018-04-16 1441\n"
     ]
    },
    {
     "name": "stderr",
     "output_type": "stream",
     "text": [
      "C:\\Users\\gentemann\\Miniconda3\\envs\\satenv\\lib\\site-packages\\ipykernel_launcher.py:37: RuntimeWarning: invalid value encountered in remainder\n",
      "C:\\Users\\gentemann\\Miniconda3\\envs\\satenv\\lib\\site-packages\\pyresample\\kd_tree.py:411: RuntimeWarning: invalid value encountered in greater_equal\n",
      "  (source_lats <= 90) & (source_lats >= -90))\n",
      "C:\\Users\\gentemann\\Miniconda3\\envs\\satenv\\lib\\site-packages\\pyresample\\kd_tree.py:411: RuntimeWarning: invalid value encountered in less_equal\n",
      "  (source_lats <= 90) & (source_lats >= -90))\n",
      "C:\\Users\\gentemann\\Miniconda3\\envs\\satenv\\lib\\site-packages\\pyresample\\data_reduce.py:304: RuntimeWarning: invalid value encountered in greater_equal\n",
      "  valid_lats = (lats >= lat_min_buffered) * (lats <= lat_max_buffered)\n",
      "C:\\Users\\gentemann\\Miniconda3\\envs\\satenv\\lib\\site-packages\\pyresample\\data_reduce.py:304: RuntimeWarning: invalid value encountered in less_equal\n",
      "  valid_lats = (lats >= lat_min_buffered) * (lats <= lat_max_buffered)\n",
      "C:\\Users\\gentemann\\Miniconda3\\envs\\satenv\\lib\\site-packages\\pyresample\\data_reduce.py:308: RuntimeWarning: invalid value encountered in greater_equal\n",
      "  valid_lons = (lons >= lon_min_buffered) * \\\n",
      "C:\\Users\\gentemann\\Miniconda3\\envs\\satenv\\lib\\site-packages\\pyresample\\data_reduce.py:309: RuntimeWarning: invalid value encountered in less_equal\n",
      "  (lons <= lon_max_buffered)\n"
     ]
    },
    {
     "name": "stdout",
     "output_type": "stream",
     "text": [
      "2018-04-16 2018-04-17 1441\n"
     ]
    },
    {
     "name": "stderr",
     "output_type": "stream",
     "text": [
      "C:\\Users\\gentemann\\Miniconda3\\envs\\satenv\\lib\\site-packages\\ipykernel_launcher.py:37: RuntimeWarning: invalid value encountered in remainder\n",
      "C:\\Users\\gentemann\\Miniconda3\\envs\\satenv\\lib\\site-packages\\pyresample\\kd_tree.py:411: RuntimeWarning: invalid value encountered in greater_equal\n",
      "  (source_lats <= 90) & (source_lats >= -90))\n",
      "C:\\Users\\gentemann\\Miniconda3\\envs\\satenv\\lib\\site-packages\\pyresample\\kd_tree.py:411: RuntimeWarning: invalid value encountered in less_equal\n",
      "  (source_lats <= 90) & (source_lats >= -90))\n",
      "C:\\Users\\gentemann\\Miniconda3\\envs\\satenv\\lib\\site-packages\\pyresample\\data_reduce.py:304: RuntimeWarning: invalid value encountered in greater_equal\n",
      "  valid_lats = (lats >= lat_min_buffered) * (lats <= lat_max_buffered)\n",
      "C:\\Users\\gentemann\\Miniconda3\\envs\\satenv\\lib\\site-packages\\pyresample\\data_reduce.py:304: RuntimeWarning: invalid value encountered in less_equal\n",
      "  valid_lats = (lats >= lat_min_buffered) * (lats <= lat_max_buffered)\n",
      "C:\\Users\\gentemann\\Miniconda3\\envs\\satenv\\lib\\site-packages\\pyresample\\data_reduce.py:308: RuntimeWarning: invalid value encountered in greater_equal\n",
      "  valid_lons = (lons >= lon_min_buffered) * \\\n",
      "C:\\Users\\gentemann\\Miniconda3\\envs\\satenv\\lib\\site-packages\\pyresample\\data_reduce.py:309: RuntimeWarning: invalid value encountered in less_equal\n",
      "  (lons <= lon_max_buffered)\n"
     ]
    },
    {
     "name": "stdout",
     "output_type": "stream",
     "text": [
      "2018-04-17 2018-04-18 1441\n"
     ]
    },
    {
     "name": "stderr",
     "output_type": "stream",
     "text": [
      "C:\\Users\\gentemann\\Miniconda3\\envs\\satenv\\lib\\site-packages\\ipykernel_launcher.py:37: RuntimeWarning: invalid value encountered in remainder\n",
      "C:\\Users\\gentemann\\Miniconda3\\envs\\satenv\\lib\\site-packages\\pyresample\\kd_tree.py:411: RuntimeWarning: invalid value encountered in greater_equal\n",
      "  (source_lats <= 90) & (source_lats >= -90))\n",
      "C:\\Users\\gentemann\\Miniconda3\\envs\\satenv\\lib\\site-packages\\pyresample\\kd_tree.py:411: RuntimeWarning: invalid value encountered in less_equal\n",
      "  (source_lats <= 90) & (source_lats >= -90))\n",
      "C:\\Users\\gentemann\\Miniconda3\\envs\\satenv\\lib\\site-packages\\pyresample\\data_reduce.py:304: RuntimeWarning: invalid value encountered in greater_equal\n",
      "  valid_lats = (lats >= lat_min_buffered) * (lats <= lat_max_buffered)\n",
      "C:\\Users\\gentemann\\Miniconda3\\envs\\satenv\\lib\\site-packages\\pyresample\\data_reduce.py:304: RuntimeWarning: invalid value encountered in less_equal\n",
      "  valid_lats = (lats >= lat_min_buffered) * (lats <= lat_max_buffered)\n",
      "C:\\Users\\gentemann\\Miniconda3\\envs\\satenv\\lib\\site-packages\\pyresample\\data_reduce.py:308: RuntimeWarning: invalid value encountered in greater_equal\n",
      "  valid_lons = (lons >= lon_min_buffered) * \\\n",
      "C:\\Users\\gentemann\\Miniconda3\\envs\\satenv\\lib\\site-packages\\pyresample\\data_reduce.py:309: RuntimeWarning: invalid value encountered in less_equal\n",
      "  (lons <= lon_max_buffered)\n"
     ]
    },
    {
     "name": "stdout",
     "output_type": "stream",
     "text": [
      "2018-04-18 2018-04-19 1441\n"
     ]
    },
    {
     "name": "stderr",
     "output_type": "stream",
     "text": [
      "C:\\Users\\gentemann\\Miniconda3\\envs\\satenv\\lib\\site-packages\\ipykernel_launcher.py:37: RuntimeWarning: invalid value encountered in remainder\n",
      "C:\\Users\\gentemann\\Miniconda3\\envs\\satenv\\lib\\site-packages\\pyresample\\kd_tree.py:411: RuntimeWarning: invalid value encountered in greater_equal\n",
      "  (source_lats <= 90) & (source_lats >= -90))\n",
      "C:\\Users\\gentemann\\Miniconda3\\envs\\satenv\\lib\\site-packages\\pyresample\\kd_tree.py:411: RuntimeWarning: invalid value encountered in less_equal\n",
      "  (source_lats <= 90) & (source_lats >= -90))\n",
      "C:\\Users\\gentemann\\Miniconda3\\envs\\satenv\\lib\\site-packages\\pyresample\\data_reduce.py:304: RuntimeWarning: invalid value encountered in greater_equal\n",
      "  valid_lats = (lats >= lat_min_buffered) * (lats <= lat_max_buffered)\n",
      "C:\\Users\\gentemann\\Miniconda3\\envs\\satenv\\lib\\site-packages\\pyresample\\data_reduce.py:304: RuntimeWarning: invalid value encountered in less_equal\n",
      "  valid_lats = (lats >= lat_min_buffered) * (lats <= lat_max_buffered)\n",
      "C:\\Users\\gentemann\\Miniconda3\\envs\\satenv\\lib\\site-packages\\pyresample\\data_reduce.py:308: RuntimeWarning: invalid value encountered in greater_equal\n",
      "  valid_lons = (lons >= lon_min_buffered) * \\\n",
      "C:\\Users\\gentemann\\Miniconda3\\envs\\satenv\\lib\\site-packages\\pyresample\\data_reduce.py:309: RuntimeWarning: invalid value encountered in less_equal\n",
      "  (lons <= lon_max_buffered)\n"
     ]
    },
    {
     "name": "stdout",
     "output_type": "stream",
     "text": [
      "2018-04-19 2018-04-20 1441\n"
     ]
    },
    {
     "name": "stderr",
     "output_type": "stream",
     "text": [
      "C:\\Users\\gentemann\\Miniconda3\\envs\\satenv\\lib\\site-packages\\ipykernel_launcher.py:37: RuntimeWarning: invalid value encountered in remainder\n",
      "C:\\Users\\gentemann\\Miniconda3\\envs\\satenv\\lib\\site-packages\\pyresample\\kd_tree.py:411: RuntimeWarning: invalid value encountered in greater_equal\n",
      "  (source_lats <= 90) & (source_lats >= -90))\n",
      "C:\\Users\\gentemann\\Miniconda3\\envs\\satenv\\lib\\site-packages\\pyresample\\kd_tree.py:411: RuntimeWarning: invalid value encountered in less_equal\n",
      "  (source_lats <= 90) & (source_lats >= -90))\n",
      "C:\\Users\\gentemann\\Miniconda3\\envs\\satenv\\lib\\site-packages\\pyresample\\data_reduce.py:304: RuntimeWarning: invalid value encountered in greater_equal\n",
      "  valid_lats = (lats >= lat_min_buffered) * (lats <= lat_max_buffered)\n",
      "C:\\Users\\gentemann\\Miniconda3\\envs\\satenv\\lib\\site-packages\\pyresample\\data_reduce.py:304: RuntimeWarning: invalid value encountered in less_equal\n",
      "  valid_lats = (lats >= lat_min_buffered) * (lats <= lat_max_buffered)\n",
      "C:\\Users\\gentemann\\Miniconda3\\envs\\satenv\\lib\\site-packages\\pyresample\\data_reduce.py:308: RuntimeWarning: invalid value encountered in greater_equal\n",
      "  valid_lons = (lons >= lon_min_buffered) * \\\n",
      "C:\\Users\\gentemann\\Miniconda3\\envs\\satenv\\lib\\site-packages\\pyresample\\data_reduce.py:309: RuntimeWarning: invalid value encountered in less_equal\n",
      "  (lons <= lon_max_buffered)\n"
     ]
    },
    {
     "name": "stdout",
     "output_type": "stream",
     "text": [
      "2018-04-20 2018-04-21 1441\n"
     ]
    },
    {
     "name": "stderr",
     "output_type": "stream",
     "text": [
      "C:\\Users\\gentemann\\Miniconda3\\envs\\satenv\\lib\\site-packages\\ipykernel_launcher.py:37: RuntimeWarning: invalid value encountered in remainder\n",
      "C:\\Users\\gentemann\\Miniconda3\\envs\\satenv\\lib\\site-packages\\pyresample\\kd_tree.py:411: RuntimeWarning: invalid value encountered in greater_equal\n",
      "  (source_lats <= 90) & (source_lats >= -90))\n",
      "C:\\Users\\gentemann\\Miniconda3\\envs\\satenv\\lib\\site-packages\\pyresample\\kd_tree.py:411: RuntimeWarning: invalid value encountered in less_equal\n",
      "  (source_lats <= 90) & (source_lats >= -90))\n",
      "C:\\Users\\gentemann\\Miniconda3\\envs\\satenv\\lib\\site-packages\\pyresample\\data_reduce.py:304: RuntimeWarning: invalid value encountered in greater_equal\n",
      "  valid_lats = (lats >= lat_min_buffered) * (lats <= lat_max_buffered)\n",
      "C:\\Users\\gentemann\\Miniconda3\\envs\\satenv\\lib\\site-packages\\pyresample\\data_reduce.py:304: RuntimeWarning: invalid value encountered in less_equal\n",
      "  valid_lats = (lats >= lat_min_buffered) * (lats <= lat_max_buffered)\n",
      "C:\\Users\\gentemann\\Miniconda3\\envs\\satenv\\lib\\site-packages\\pyresample\\data_reduce.py:308: RuntimeWarning: invalid value encountered in greater_equal\n",
      "  valid_lons = (lons >= lon_min_buffered) * \\\n",
      "C:\\Users\\gentemann\\Miniconda3\\envs\\satenv\\lib\\site-packages\\pyresample\\data_reduce.py:309: RuntimeWarning: invalid value encountered in less_equal\n",
      "  (lons <= lon_max_buffered)\n"
     ]
    },
    {
     "name": "stdout",
     "output_type": "stream",
     "text": [
      "2018-04-21 2018-04-22 1441\n"
     ]
    },
    {
     "name": "stderr",
     "output_type": "stream",
     "text": [
      "C:\\Users\\gentemann\\Miniconda3\\envs\\satenv\\lib\\site-packages\\ipykernel_launcher.py:37: RuntimeWarning: invalid value encountered in remainder\n",
      "C:\\Users\\gentemann\\Miniconda3\\envs\\satenv\\lib\\site-packages\\pyresample\\kd_tree.py:411: RuntimeWarning: invalid value encountered in greater_equal\n",
      "  (source_lats <= 90) & (source_lats >= -90))\n",
      "C:\\Users\\gentemann\\Miniconda3\\envs\\satenv\\lib\\site-packages\\pyresample\\kd_tree.py:411: RuntimeWarning: invalid value encountered in less_equal\n",
      "  (source_lats <= 90) & (source_lats >= -90))\n",
      "C:\\Users\\gentemann\\Miniconda3\\envs\\satenv\\lib\\site-packages\\pyresample\\data_reduce.py:304: RuntimeWarning: invalid value encountered in greater_equal\n",
      "  valid_lats = (lats >= lat_min_buffered) * (lats <= lat_max_buffered)\n",
      "C:\\Users\\gentemann\\Miniconda3\\envs\\satenv\\lib\\site-packages\\pyresample\\data_reduce.py:304: RuntimeWarning: invalid value encountered in less_equal\n",
      "  valid_lats = (lats >= lat_min_buffered) * (lats <= lat_max_buffered)\n",
      "C:\\Users\\gentemann\\Miniconda3\\envs\\satenv\\lib\\site-packages\\pyresample\\data_reduce.py:308: RuntimeWarning: invalid value encountered in greater_equal\n",
      "  valid_lons = (lons >= lon_min_buffered) * \\\n",
      "C:\\Users\\gentemann\\Miniconda3\\envs\\satenv\\lib\\site-packages\\pyresample\\data_reduce.py:309: RuntimeWarning: invalid value encountered in less_equal\n",
      "  (lons <= lon_max_buffered)\n"
     ]
    },
    {
     "name": "stdout",
     "output_type": "stream",
     "text": [
      "2018-04-22 2018-04-23 1441\n"
     ]
    },
    {
     "name": "stderr",
     "output_type": "stream",
     "text": [
      "C:\\Users\\gentemann\\Miniconda3\\envs\\satenv\\lib\\site-packages\\ipykernel_launcher.py:37: RuntimeWarning: invalid value encountered in remainder\n",
      "C:\\Users\\gentemann\\Miniconda3\\envs\\satenv\\lib\\site-packages\\pyresample\\kd_tree.py:411: RuntimeWarning: invalid value encountered in greater_equal\n",
      "  (source_lats <= 90) & (source_lats >= -90))\n",
      "C:\\Users\\gentemann\\Miniconda3\\envs\\satenv\\lib\\site-packages\\pyresample\\kd_tree.py:411: RuntimeWarning: invalid value encountered in less_equal\n",
      "  (source_lats <= 90) & (source_lats >= -90))\n",
      "C:\\Users\\gentemann\\Miniconda3\\envs\\satenv\\lib\\site-packages\\pyresample\\data_reduce.py:304: RuntimeWarning: invalid value encountered in greater_equal\n",
      "  valid_lats = (lats >= lat_min_buffered) * (lats <= lat_max_buffered)\n",
      "C:\\Users\\gentemann\\Miniconda3\\envs\\satenv\\lib\\site-packages\\pyresample\\data_reduce.py:304: RuntimeWarning: invalid value encountered in less_equal\n",
      "  valid_lats = (lats >= lat_min_buffered) * (lats <= lat_max_buffered)\n",
      "C:\\Users\\gentemann\\Miniconda3\\envs\\satenv\\lib\\site-packages\\pyresample\\data_reduce.py:308: RuntimeWarning: invalid value encountered in greater_equal\n",
      "  valid_lons = (lons >= lon_min_buffered) * \\\n",
      "C:\\Users\\gentemann\\Miniconda3\\envs\\satenv\\lib\\site-packages\\pyresample\\data_reduce.py:309: RuntimeWarning: invalid value encountered in less_equal\n",
      "  (lons <= lon_max_buffered)\n"
     ]
    },
    {
     "name": "stdout",
     "output_type": "stream",
     "text": [
      "2018-04-23 2018-04-24 1441\n"
     ]
    },
    {
     "name": "stderr",
     "output_type": "stream",
     "text": [
      "C:\\Users\\gentemann\\Miniconda3\\envs\\satenv\\lib\\site-packages\\ipykernel_launcher.py:37: RuntimeWarning: invalid value encountered in remainder\n",
      "C:\\Users\\gentemann\\Miniconda3\\envs\\satenv\\lib\\site-packages\\pyresample\\kd_tree.py:411: RuntimeWarning: invalid value encountered in greater_equal\n",
      "  (source_lats <= 90) & (source_lats >= -90))\n",
      "C:\\Users\\gentemann\\Miniconda3\\envs\\satenv\\lib\\site-packages\\pyresample\\kd_tree.py:411: RuntimeWarning: invalid value encountered in less_equal\n",
      "  (source_lats <= 90) & (source_lats >= -90))\n",
      "C:\\Users\\gentemann\\Miniconda3\\envs\\satenv\\lib\\site-packages\\pyresample\\data_reduce.py:304: RuntimeWarning: invalid value encountered in greater_equal\n",
      "  valid_lats = (lats >= lat_min_buffered) * (lats <= lat_max_buffered)\n",
      "C:\\Users\\gentemann\\Miniconda3\\envs\\satenv\\lib\\site-packages\\pyresample\\data_reduce.py:304: RuntimeWarning: invalid value encountered in less_equal\n",
      "  valid_lats = (lats >= lat_min_buffered) * (lats <= lat_max_buffered)\n",
      "C:\\Users\\gentemann\\Miniconda3\\envs\\satenv\\lib\\site-packages\\pyresample\\data_reduce.py:308: RuntimeWarning: invalid value encountered in greater_equal\n",
      "  valid_lons = (lons >= lon_min_buffered) * \\\n",
      "C:\\Users\\gentemann\\Miniconda3\\envs\\satenv\\lib\\site-packages\\pyresample\\data_reduce.py:309: RuntimeWarning: invalid value encountered in less_equal\n",
      "  (lons <= lon_max_buffered)\n"
     ]
    },
    {
     "name": "stdout",
     "output_type": "stream",
     "text": [
      "2018-04-24 2018-04-25 1441\n"
     ]
    },
    {
     "name": "stderr",
     "output_type": "stream",
     "text": [
      "C:\\Users\\gentemann\\Miniconda3\\envs\\satenv\\lib\\site-packages\\ipykernel_launcher.py:37: RuntimeWarning: invalid value encountered in remainder\n",
      "C:\\Users\\gentemann\\Miniconda3\\envs\\satenv\\lib\\site-packages\\pyresample\\kd_tree.py:411: RuntimeWarning: invalid value encountered in greater_equal\n",
      "  (source_lats <= 90) & (source_lats >= -90))\n",
      "C:\\Users\\gentemann\\Miniconda3\\envs\\satenv\\lib\\site-packages\\pyresample\\kd_tree.py:411: RuntimeWarning: invalid value encountered in less_equal\n",
      "  (source_lats <= 90) & (source_lats >= -90))\n",
      "C:\\Users\\gentemann\\Miniconda3\\envs\\satenv\\lib\\site-packages\\pyresample\\data_reduce.py:304: RuntimeWarning: invalid value encountered in greater_equal\n",
      "  valid_lats = (lats >= lat_min_buffered) * (lats <= lat_max_buffered)\n",
      "C:\\Users\\gentemann\\Miniconda3\\envs\\satenv\\lib\\site-packages\\pyresample\\data_reduce.py:304: RuntimeWarning: invalid value encountered in less_equal\n",
      "  valid_lats = (lats >= lat_min_buffered) * (lats <= lat_max_buffered)\n",
      "C:\\Users\\gentemann\\Miniconda3\\envs\\satenv\\lib\\site-packages\\pyresample\\data_reduce.py:308: RuntimeWarning: invalid value encountered in greater_equal\n",
      "  valid_lons = (lons >= lon_min_buffered) * \\\n",
      "C:\\Users\\gentemann\\Miniconda3\\envs\\satenv\\lib\\site-packages\\pyresample\\data_reduce.py:309: RuntimeWarning: invalid value encountered in less_equal\n",
      "  (lons <= lon_max_buffered)\n"
     ]
    },
    {
     "name": "stdout",
     "output_type": "stream",
     "text": [
      "2018-04-25 2018-04-26 1441\n"
     ]
    },
    {
     "name": "stderr",
     "output_type": "stream",
     "text": [
      "C:\\Users\\gentemann\\Miniconda3\\envs\\satenv\\lib\\site-packages\\ipykernel_launcher.py:37: RuntimeWarning: invalid value encountered in remainder\n",
      "C:\\Users\\gentemann\\Miniconda3\\envs\\satenv\\lib\\site-packages\\pyresample\\kd_tree.py:411: RuntimeWarning: invalid value encountered in greater_equal\n",
      "  (source_lats <= 90) & (source_lats >= -90))\n",
      "C:\\Users\\gentemann\\Miniconda3\\envs\\satenv\\lib\\site-packages\\pyresample\\kd_tree.py:411: RuntimeWarning: invalid value encountered in less_equal\n",
      "  (source_lats <= 90) & (source_lats >= -90))\n",
      "C:\\Users\\gentemann\\Miniconda3\\envs\\satenv\\lib\\site-packages\\pyresample\\data_reduce.py:304: RuntimeWarning: invalid value encountered in greater_equal\n",
      "  valid_lats = (lats >= lat_min_buffered) * (lats <= lat_max_buffered)\n",
      "C:\\Users\\gentemann\\Miniconda3\\envs\\satenv\\lib\\site-packages\\pyresample\\data_reduce.py:304: RuntimeWarning: invalid value encountered in less_equal\n",
      "  valid_lats = (lats >= lat_min_buffered) * (lats <= lat_max_buffered)\n",
      "C:\\Users\\gentemann\\Miniconda3\\envs\\satenv\\lib\\site-packages\\pyresample\\data_reduce.py:308: RuntimeWarning: invalid value encountered in greater_equal\n",
      "  valid_lons = (lons >= lon_min_buffered) * \\\n",
      "C:\\Users\\gentemann\\Miniconda3\\envs\\satenv\\lib\\site-packages\\pyresample\\data_reduce.py:309: RuntimeWarning: invalid value encountered in less_equal\n",
      "  (lons <= lon_max_buffered)\n"
     ]
    },
    {
     "name": "stdout",
     "output_type": "stream",
     "text": [
      "2018-04-26 2018-04-27 1441\n"
     ]
    },
    {
     "name": "stderr",
     "output_type": "stream",
     "text": [
      "C:\\Users\\gentemann\\Miniconda3\\envs\\satenv\\lib\\site-packages\\ipykernel_launcher.py:37: RuntimeWarning: invalid value encountered in remainder\n",
      "C:\\Users\\gentemann\\Miniconda3\\envs\\satenv\\lib\\site-packages\\pyresample\\kd_tree.py:411: RuntimeWarning: invalid value encountered in greater_equal\n",
      "  (source_lats <= 90) & (source_lats >= -90))\n",
      "C:\\Users\\gentemann\\Miniconda3\\envs\\satenv\\lib\\site-packages\\pyresample\\kd_tree.py:411: RuntimeWarning: invalid value encountered in less_equal\n",
      "  (source_lats <= 90) & (source_lats >= -90))\n",
      "C:\\Users\\gentemann\\Miniconda3\\envs\\satenv\\lib\\site-packages\\pyresample\\data_reduce.py:304: RuntimeWarning: invalid value encountered in greater_equal\n",
      "  valid_lats = (lats >= lat_min_buffered) * (lats <= lat_max_buffered)\n",
      "C:\\Users\\gentemann\\Miniconda3\\envs\\satenv\\lib\\site-packages\\pyresample\\data_reduce.py:304: RuntimeWarning: invalid value encountered in less_equal\n",
      "  valid_lats = (lats >= lat_min_buffered) * (lats <= lat_max_buffered)\n",
      "C:\\Users\\gentemann\\Miniconda3\\envs\\satenv\\lib\\site-packages\\pyresample\\data_reduce.py:308: RuntimeWarning: invalid value encountered in greater_equal\n",
      "  valid_lons = (lons >= lon_min_buffered) * \\\n",
      "C:\\Users\\gentemann\\Miniconda3\\envs\\satenv\\lib\\site-packages\\pyresample\\data_reduce.py:309: RuntimeWarning: invalid value encountered in less_equal\n",
      "  (lons <= lon_max_buffered)\n"
     ]
    },
    {
     "name": "stdout",
     "output_type": "stream",
     "text": [
      "2018-04-27 2018-04-28 1441\n"
     ]
    },
    {
     "name": "stderr",
     "output_type": "stream",
     "text": [
      "C:\\Users\\gentemann\\Miniconda3\\envs\\satenv\\lib\\site-packages\\ipykernel_launcher.py:37: RuntimeWarning: invalid value encountered in remainder\n",
      "C:\\Users\\gentemann\\Miniconda3\\envs\\satenv\\lib\\site-packages\\pyresample\\kd_tree.py:411: RuntimeWarning: invalid value encountered in greater_equal\n",
      "  (source_lats <= 90) & (source_lats >= -90))\n",
      "C:\\Users\\gentemann\\Miniconda3\\envs\\satenv\\lib\\site-packages\\pyresample\\kd_tree.py:411: RuntimeWarning: invalid value encountered in less_equal\n",
      "  (source_lats <= 90) & (source_lats >= -90))\n",
      "C:\\Users\\gentemann\\Miniconda3\\envs\\satenv\\lib\\site-packages\\pyresample\\data_reduce.py:304: RuntimeWarning: invalid value encountered in greater_equal\n",
      "  valid_lats = (lats >= lat_min_buffered) * (lats <= lat_max_buffered)\n",
      "C:\\Users\\gentemann\\Miniconda3\\envs\\satenv\\lib\\site-packages\\pyresample\\data_reduce.py:304: RuntimeWarning: invalid value encountered in less_equal\n",
      "  valid_lats = (lats >= lat_min_buffered) * (lats <= lat_max_buffered)\n",
      "C:\\Users\\gentemann\\Miniconda3\\envs\\satenv\\lib\\site-packages\\pyresample\\data_reduce.py:308: RuntimeWarning: invalid value encountered in greater_equal\n",
      "  valid_lons = (lons >= lon_min_buffered) * \\\n",
      "C:\\Users\\gentemann\\Miniconda3\\envs\\satenv\\lib\\site-packages\\pyresample\\data_reduce.py:309: RuntimeWarning: invalid value encountered in less_equal\n",
      "  (lons <= lon_max_buffered)\n"
     ]
    },
    {
     "name": "stdout",
     "output_type": "stream",
     "text": [
      "2018-04-28 2018-04-29 1441\n"
     ]
    },
    {
     "name": "stderr",
     "output_type": "stream",
     "text": [
      "C:\\Users\\gentemann\\Miniconda3\\envs\\satenv\\lib\\site-packages\\ipykernel_launcher.py:37: RuntimeWarning: invalid value encountered in remainder\n",
      "C:\\Users\\gentemann\\Miniconda3\\envs\\satenv\\lib\\site-packages\\pyresample\\kd_tree.py:411: RuntimeWarning: invalid value encountered in greater_equal\n",
      "  (source_lats <= 90) & (source_lats >= -90))\n",
      "C:\\Users\\gentemann\\Miniconda3\\envs\\satenv\\lib\\site-packages\\pyresample\\kd_tree.py:411: RuntimeWarning: invalid value encountered in less_equal\n",
      "  (source_lats <= 90) & (source_lats >= -90))\n",
      "C:\\Users\\gentemann\\Miniconda3\\envs\\satenv\\lib\\site-packages\\pyresample\\data_reduce.py:304: RuntimeWarning: invalid value encountered in greater_equal\n",
      "  valid_lats = (lats >= lat_min_buffered) * (lats <= lat_max_buffered)\n",
      "C:\\Users\\gentemann\\Miniconda3\\envs\\satenv\\lib\\site-packages\\pyresample\\data_reduce.py:304: RuntimeWarning: invalid value encountered in less_equal\n",
      "  valid_lats = (lats >= lat_min_buffered) * (lats <= lat_max_buffered)\n",
      "C:\\Users\\gentemann\\Miniconda3\\envs\\satenv\\lib\\site-packages\\pyresample\\data_reduce.py:308: RuntimeWarning: invalid value encountered in greater_equal\n",
      "  valid_lons = (lons >= lon_min_buffered) * \\\n",
      "C:\\Users\\gentemann\\Miniconda3\\envs\\satenv\\lib\\site-packages\\pyresample\\data_reduce.py:309: RuntimeWarning: invalid value encountered in less_equal\n",
      "  (lons <= lon_max_buffered)\n"
     ]
    },
    {
     "name": "stdout",
     "output_type": "stream",
     "text": [
      "2018-04-29 2018-04-30 1441\n"
     ]
    },
    {
     "name": "stderr",
     "output_type": "stream",
     "text": [
      "C:\\Users\\gentemann\\Miniconda3\\envs\\satenv\\lib\\site-packages\\ipykernel_launcher.py:37: RuntimeWarning: invalid value encountered in remainder\n",
      "C:\\Users\\gentemann\\Miniconda3\\envs\\satenv\\lib\\site-packages\\pyresample\\kd_tree.py:411: RuntimeWarning: invalid value encountered in greater_equal\n",
      "  (source_lats <= 90) & (source_lats >= -90))\n",
      "C:\\Users\\gentemann\\Miniconda3\\envs\\satenv\\lib\\site-packages\\pyresample\\kd_tree.py:411: RuntimeWarning: invalid value encountered in less_equal\n",
      "  (source_lats <= 90) & (source_lats >= -90))\n",
      "C:\\Users\\gentemann\\Miniconda3\\envs\\satenv\\lib\\site-packages\\pyresample\\data_reduce.py:304: RuntimeWarning: invalid value encountered in greater_equal\n",
      "  valid_lats = (lats >= lat_min_buffered) * (lats <= lat_max_buffered)\n",
      "C:\\Users\\gentemann\\Miniconda3\\envs\\satenv\\lib\\site-packages\\pyresample\\data_reduce.py:304: RuntimeWarning: invalid value encountered in less_equal\n",
      "  valid_lats = (lats >= lat_min_buffered) * (lats <= lat_max_buffered)\n",
      "C:\\Users\\gentemann\\Miniconda3\\envs\\satenv\\lib\\site-packages\\pyresample\\data_reduce.py:308: RuntimeWarning: invalid value encountered in greater_equal\n",
      "  valid_lons = (lons >= lon_min_buffered) * \\\n",
      "C:\\Users\\gentemann\\Miniconda3\\envs\\satenv\\lib\\site-packages\\pyresample\\data_reduce.py:309: RuntimeWarning: invalid value encountered in less_equal\n",
      "  (lons <= lon_max_buffered)\n"
     ]
    },
    {
     "name": "stdout",
     "output_type": "stream",
     "text": [
      "2018-04-30 2018-05-01 1441\n"
     ]
    },
    {
     "name": "stderr",
     "output_type": "stream",
     "text": [
      "C:\\Users\\gentemann\\Miniconda3\\envs\\satenv\\lib\\site-packages\\ipykernel_launcher.py:37: RuntimeWarning: invalid value encountered in remainder\n",
      "C:\\Users\\gentemann\\Miniconda3\\envs\\satenv\\lib\\site-packages\\pyresample\\kd_tree.py:411: RuntimeWarning: invalid value encountered in greater_equal\n",
      "  (source_lats <= 90) & (source_lats >= -90))\n",
      "C:\\Users\\gentemann\\Miniconda3\\envs\\satenv\\lib\\site-packages\\pyresample\\kd_tree.py:411: RuntimeWarning: invalid value encountered in less_equal\n",
      "  (source_lats <= 90) & (source_lats >= -90))\n",
      "C:\\Users\\gentemann\\Miniconda3\\envs\\satenv\\lib\\site-packages\\pyresample\\data_reduce.py:304: RuntimeWarning: invalid value encountered in greater_equal\n",
      "  valid_lats = (lats >= lat_min_buffered) * (lats <= lat_max_buffered)\n",
      "C:\\Users\\gentemann\\Miniconda3\\envs\\satenv\\lib\\site-packages\\pyresample\\data_reduce.py:304: RuntimeWarning: invalid value encountered in less_equal\n",
      "  valid_lats = (lats >= lat_min_buffered) * (lats <= lat_max_buffered)\n",
      "C:\\Users\\gentemann\\Miniconda3\\envs\\satenv\\lib\\site-packages\\pyresample\\data_reduce.py:308: RuntimeWarning: invalid value encountered in greater_equal\n",
      "  valid_lons = (lons >= lon_min_buffered) * \\\n",
      "C:\\Users\\gentemann\\Miniconda3\\envs\\satenv\\lib\\site-packages\\pyresample\\data_reduce.py:309: RuntimeWarning: invalid value encountered in less_equal\n",
      "  (lons <= lon_max_buffered)\n"
     ]
    },
    {
     "name": "stdout",
     "output_type": "stream",
     "text": [
      "2018-05-01 2018-05-02 1441\n"
     ]
    },
    {
     "name": "stderr",
     "output_type": "stream",
     "text": [
      "C:\\Users\\gentemann\\Miniconda3\\envs\\satenv\\lib\\site-packages\\ipykernel_launcher.py:37: RuntimeWarning: invalid value encountered in remainder\n",
      "C:\\Users\\gentemann\\Miniconda3\\envs\\satenv\\lib\\site-packages\\pyresample\\kd_tree.py:411: RuntimeWarning: invalid value encountered in greater_equal\n",
      "  (source_lats <= 90) & (source_lats >= -90))\n",
      "C:\\Users\\gentemann\\Miniconda3\\envs\\satenv\\lib\\site-packages\\pyresample\\kd_tree.py:411: RuntimeWarning: invalid value encountered in less_equal\n",
      "  (source_lats <= 90) & (source_lats >= -90))\n",
      "C:\\Users\\gentemann\\Miniconda3\\envs\\satenv\\lib\\site-packages\\pyresample\\data_reduce.py:304: RuntimeWarning: invalid value encountered in greater_equal\n",
      "  valid_lats = (lats >= lat_min_buffered) * (lats <= lat_max_buffered)\n",
      "C:\\Users\\gentemann\\Miniconda3\\envs\\satenv\\lib\\site-packages\\pyresample\\data_reduce.py:304: RuntimeWarning: invalid value encountered in less_equal\n",
      "  valid_lats = (lats >= lat_min_buffered) * (lats <= lat_max_buffered)\n",
      "C:\\Users\\gentemann\\Miniconda3\\envs\\satenv\\lib\\site-packages\\pyresample\\data_reduce.py:308: RuntimeWarning: invalid value encountered in greater_equal\n",
      "  valid_lons = (lons >= lon_min_buffered) * \\\n",
      "C:\\Users\\gentemann\\Miniconda3\\envs\\satenv\\lib\\site-packages\\pyresample\\data_reduce.py:309: RuntimeWarning: invalid value encountered in less_equal\n",
      "  (lons <= lon_max_buffered)\n"
     ]
    },
    {
     "name": "stdout",
     "output_type": "stream",
     "text": [
      "2018-05-02 2018-05-03 1441\n"
     ]
    },
    {
     "name": "stderr",
     "output_type": "stream",
     "text": [
      "C:\\Users\\gentemann\\Miniconda3\\envs\\satenv\\lib\\site-packages\\ipykernel_launcher.py:37: RuntimeWarning: invalid value encountered in remainder\n",
      "C:\\Users\\gentemann\\Miniconda3\\envs\\satenv\\lib\\site-packages\\pyresample\\kd_tree.py:411: RuntimeWarning: invalid value encountered in greater_equal\n",
      "  (source_lats <= 90) & (source_lats >= -90))\n",
      "C:\\Users\\gentemann\\Miniconda3\\envs\\satenv\\lib\\site-packages\\pyresample\\kd_tree.py:411: RuntimeWarning: invalid value encountered in less_equal\n",
      "  (source_lats <= 90) & (source_lats >= -90))\n",
      "C:\\Users\\gentemann\\Miniconda3\\envs\\satenv\\lib\\site-packages\\pyresample\\data_reduce.py:304: RuntimeWarning: invalid value encountered in greater_equal\n",
      "  valid_lats = (lats >= lat_min_buffered) * (lats <= lat_max_buffered)\n",
      "C:\\Users\\gentemann\\Miniconda3\\envs\\satenv\\lib\\site-packages\\pyresample\\data_reduce.py:304: RuntimeWarning: invalid value encountered in less_equal\n",
      "  valid_lats = (lats >= lat_min_buffered) * (lats <= lat_max_buffered)\n",
      "C:\\Users\\gentemann\\Miniconda3\\envs\\satenv\\lib\\site-packages\\pyresample\\data_reduce.py:308: RuntimeWarning: invalid value encountered in greater_equal\n",
      "  valid_lons = (lons >= lon_min_buffered) * \\\n",
      "C:\\Users\\gentemann\\Miniconda3\\envs\\satenv\\lib\\site-packages\\pyresample\\data_reduce.py:309: RuntimeWarning: invalid value encountered in less_equal\n",
      "  (lons <= lon_max_buffered)\n"
     ]
    },
    {
     "name": "stdout",
     "output_type": "stream",
     "text": [
      "2018-05-03 2018-05-04 1441\n"
     ]
    },
    {
     "name": "stderr",
     "output_type": "stream",
     "text": [
      "C:\\Users\\gentemann\\Miniconda3\\envs\\satenv\\lib\\site-packages\\ipykernel_launcher.py:37: RuntimeWarning: invalid value encountered in remainder\n",
      "C:\\Users\\gentemann\\Miniconda3\\envs\\satenv\\lib\\site-packages\\pyresample\\kd_tree.py:411: RuntimeWarning: invalid value encountered in greater_equal\n",
      "  (source_lats <= 90) & (source_lats >= -90))\n",
      "C:\\Users\\gentemann\\Miniconda3\\envs\\satenv\\lib\\site-packages\\pyresample\\kd_tree.py:411: RuntimeWarning: invalid value encountered in less_equal\n",
      "  (source_lats <= 90) & (source_lats >= -90))\n",
      "C:\\Users\\gentemann\\Miniconda3\\envs\\satenv\\lib\\site-packages\\pyresample\\data_reduce.py:304: RuntimeWarning: invalid value encountered in greater_equal\n",
      "  valid_lats = (lats >= lat_min_buffered) * (lats <= lat_max_buffered)\n",
      "C:\\Users\\gentemann\\Miniconda3\\envs\\satenv\\lib\\site-packages\\pyresample\\data_reduce.py:304: RuntimeWarning: invalid value encountered in less_equal\n",
      "  valid_lats = (lats >= lat_min_buffered) * (lats <= lat_max_buffered)\n",
      "C:\\Users\\gentemann\\Miniconda3\\envs\\satenv\\lib\\site-packages\\pyresample\\data_reduce.py:308: RuntimeWarning: invalid value encountered in greater_equal\n",
      "  valid_lons = (lons >= lon_min_buffered) * \\\n",
      "C:\\Users\\gentemann\\Miniconda3\\envs\\satenv\\lib\\site-packages\\pyresample\\data_reduce.py:309: RuntimeWarning: invalid value encountered in less_equal\n",
      "  (lons <= lon_max_buffered)\n"
     ]
    },
    {
     "name": "stdout",
     "output_type": "stream",
     "text": [
      "2018-05-04 2018-05-05 1441\n"
     ]
    },
    {
     "name": "stderr",
     "output_type": "stream",
     "text": [
      "C:\\Users\\gentemann\\Miniconda3\\envs\\satenv\\lib\\site-packages\\ipykernel_launcher.py:37: RuntimeWarning: invalid value encountered in remainder\n",
      "C:\\Users\\gentemann\\Miniconda3\\envs\\satenv\\lib\\site-packages\\pyresample\\kd_tree.py:411: RuntimeWarning: invalid value encountered in greater_equal\n",
      "  (source_lats <= 90) & (source_lats >= -90))\n",
      "C:\\Users\\gentemann\\Miniconda3\\envs\\satenv\\lib\\site-packages\\pyresample\\kd_tree.py:411: RuntimeWarning: invalid value encountered in less_equal\n",
      "  (source_lats <= 90) & (source_lats >= -90))\n",
      "C:\\Users\\gentemann\\Miniconda3\\envs\\satenv\\lib\\site-packages\\pyresample\\data_reduce.py:304: RuntimeWarning: invalid value encountered in greater_equal\n",
      "  valid_lats = (lats >= lat_min_buffered) * (lats <= lat_max_buffered)\n",
      "C:\\Users\\gentemann\\Miniconda3\\envs\\satenv\\lib\\site-packages\\pyresample\\data_reduce.py:304: RuntimeWarning: invalid value encountered in less_equal\n",
      "  valid_lats = (lats >= lat_min_buffered) * (lats <= lat_max_buffered)\n",
      "C:\\Users\\gentemann\\Miniconda3\\envs\\satenv\\lib\\site-packages\\pyresample\\data_reduce.py:308: RuntimeWarning: invalid value encountered in greater_equal\n",
      "  valid_lons = (lons >= lon_min_buffered) * \\\n",
      "C:\\Users\\gentemann\\Miniconda3\\envs\\satenv\\lib\\site-packages\\pyresample\\data_reduce.py:309: RuntimeWarning: invalid value encountered in less_equal\n",
      "  (lons <= lon_max_buffered)\n"
     ]
    },
    {
     "name": "stdout",
     "output_type": "stream",
     "text": [
      "2018-05-05 2018-05-06 1441\n"
     ]
    },
    {
     "name": "stderr",
     "output_type": "stream",
     "text": [
      "C:\\Users\\gentemann\\Miniconda3\\envs\\satenv\\lib\\site-packages\\ipykernel_launcher.py:37: RuntimeWarning: invalid value encountered in remainder\n",
      "C:\\Users\\gentemann\\Miniconda3\\envs\\satenv\\lib\\site-packages\\pyresample\\kd_tree.py:411: RuntimeWarning: invalid value encountered in greater_equal\n",
      "  (source_lats <= 90) & (source_lats >= -90))\n",
      "C:\\Users\\gentemann\\Miniconda3\\envs\\satenv\\lib\\site-packages\\pyresample\\kd_tree.py:411: RuntimeWarning: invalid value encountered in less_equal\n",
      "  (source_lats <= 90) & (source_lats >= -90))\n",
      "C:\\Users\\gentemann\\Miniconda3\\envs\\satenv\\lib\\site-packages\\pyresample\\data_reduce.py:304: RuntimeWarning: invalid value encountered in greater_equal\n",
      "  valid_lats = (lats >= lat_min_buffered) * (lats <= lat_max_buffered)\n",
      "C:\\Users\\gentemann\\Miniconda3\\envs\\satenv\\lib\\site-packages\\pyresample\\data_reduce.py:304: RuntimeWarning: invalid value encountered in less_equal\n",
      "  valid_lats = (lats >= lat_min_buffered) * (lats <= lat_max_buffered)\n",
      "C:\\Users\\gentemann\\Miniconda3\\envs\\satenv\\lib\\site-packages\\pyresample\\data_reduce.py:308: RuntimeWarning: invalid value encountered in greater_equal\n",
      "  valid_lons = (lons >= lon_min_buffered) * \\\n",
      "C:\\Users\\gentemann\\Miniconda3\\envs\\satenv\\lib\\site-packages\\pyresample\\data_reduce.py:309: RuntimeWarning: invalid value encountered in less_equal\n",
      "  (lons <= lon_max_buffered)\n"
     ]
    },
    {
     "name": "stdout",
     "output_type": "stream",
     "text": [
      "2018-05-06 2018-05-07 1441\n"
     ]
    },
    {
     "name": "stderr",
     "output_type": "stream",
     "text": [
      "C:\\Users\\gentemann\\Miniconda3\\envs\\satenv\\lib\\site-packages\\ipykernel_launcher.py:37: RuntimeWarning: invalid value encountered in remainder\n",
      "C:\\Users\\gentemann\\Miniconda3\\envs\\satenv\\lib\\site-packages\\pyresample\\kd_tree.py:411: RuntimeWarning: invalid value encountered in greater_equal\n",
      "  (source_lats <= 90) & (source_lats >= -90))\n",
      "C:\\Users\\gentemann\\Miniconda3\\envs\\satenv\\lib\\site-packages\\pyresample\\kd_tree.py:411: RuntimeWarning: invalid value encountered in less_equal\n",
      "  (source_lats <= 90) & (source_lats >= -90))\n",
      "C:\\Users\\gentemann\\Miniconda3\\envs\\satenv\\lib\\site-packages\\pyresample\\data_reduce.py:304: RuntimeWarning: invalid value encountered in greater_equal\n",
      "  valid_lats = (lats >= lat_min_buffered) * (lats <= lat_max_buffered)\n",
      "C:\\Users\\gentemann\\Miniconda3\\envs\\satenv\\lib\\site-packages\\pyresample\\data_reduce.py:304: RuntimeWarning: invalid value encountered in less_equal\n",
      "  valid_lats = (lats >= lat_min_buffered) * (lats <= lat_max_buffered)\n",
      "C:\\Users\\gentemann\\Miniconda3\\envs\\satenv\\lib\\site-packages\\pyresample\\data_reduce.py:308: RuntimeWarning: invalid value encountered in greater_equal\n",
      "  valid_lons = (lons >= lon_min_buffered) * \\\n",
      "C:\\Users\\gentemann\\Miniconda3\\envs\\satenv\\lib\\site-packages\\pyresample\\data_reduce.py:309: RuntimeWarning: invalid value encountered in less_equal\n",
      "  (lons <= lon_max_buffered)\n"
     ]
    },
    {
     "name": "stdout",
     "output_type": "stream",
     "text": [
      "2018-05-07 2018-05-08 1441\n"
     ]
    },
    {
     "name": "stderr",
     "output_type": "stream",
     "text": [
      "C:\\Users\\gentemann\\Miniconda3\\envs\\satenv\\lib\\site-packages\\ipykernel_launcher.py:37: RuntimeWarning: invalid value encountered in remainder\n",
      "C:\\Users\\gentemann\\Miniconda3\\envs\\satenv\\lib\\site-packages\\pyresample\\kd_tree.py:411: RuntimeWarning: invalid value encountered in greater_equal\n",
      "  (source_lats <= 90) & (source_lats >= -90))\n",
      "C:\\Users\\gentemann\\Miniconda3\\envs\\satenv\\lib\\site-packages\\pyresample\\kd_tree.py:411: RuntimeWarning: invalid value encountered in less_equal\n",
      "  (source_lats <= 90) & (source_lats >= -90))\n",
      "C:\\Users\\gentemann\\Miniconda3\\envs\\satenv\\lib\\site-packages\\pyresample\\data_reduce.py:304: RuntimeWarning: invalid value encountered in greater_equal\n",
      "  valid_lats = (lats >= lat_min_buffered) * (lats <= lat_max_buffered)\n",
      "C:\\Users\\gentemann\\Miniconda3\\envs\\satenv\\lib\\site-packages\\pyresample\\data_reduce.py:304: RuntimeWarning: invalid value encountered in less_equal\n",
      "  valid_lats = (lats >= lat_min_buffered) * (lats <= lat_max_buffered)\n",
      "C:\\Users\\gentemann\\Miniconda3\\envs\\satenv\\lib\\site-packages\\pyresample\\data_reduce.py:308: RuntimeWarning: invalid value encountered in greater_equal\n",
      "  valid_lons = (lons >= lon_min_buffered) * \\\n",
      "C:\\Users\\gentemann\\Miniconda3\\envs\\satenv\\lib\\site-packages\\pyresample\\data_reduce.py:309: RuntimeWarning: invalid value encountered in less_equal\n",
      "  (lons <= lon_max_buffered)\n"
     ]
    },
    {
     "name": "stdout",
     "output_type": "stream",
     "text": [
      "2018-05-08 2018-05-09 1441\n"
     ]
    },
    {
     "name": "stderr",
     "output_type": "stream",
     "text": [
      "C:\\Users\\gentemann\\Miniconda3\\envs\\satenv\\lib\\site-packages\\ipykernel_launcher.py:37: RuntimeWarning: invalid value encountered in remainder\n",
      "C:\\Users\\gentemann\\Miniconda3\\envs\\satenv\\lib\\site-packages\\pyresample\\kd_tree.py:411: RuntimeWarning: invalid value encountered in greater_equal\n",
      "  (source_lats <= 90) & (source_lats >= -90))\n",
      "C:\\Users\\gentemann\\Miniconda3\\envs\\satenv\\lib\\site-packages\\pyresample\\kd_tree.py:411: RuntimeWarning: invalid value encountered in less_equal\n",
      "  (source_lats <= 90) & (source_lats >= -90))\n",
      "C:\\Users\\gentemann\\Miniconda3\\envs\\satenv\\lib\\site-packages\\pyresample\\data_reduce.py:304: RuntimeWarning: invalid value encountered in greater_equal\n",
      "  valid_lats = (lats >= lat_min_buffered) * (lats <= lat_max_buffered)\n",
      "C:\\Users\\gentemann\\Miniconda3\\envs\\satenv\\lib\\site-packages\\pyresample\\data_reduce.py:304: RuntimeWarning: invalid value encountered in less_equal\n",
      "  valid_lats = (lats >= lat_min_buffered) * (lats <= lat_max_buffered)\n",
      "C:\\Users\\gentemann\\Miniconda3\\envs\\satenv\\lib\\site-packages\\pyresample\\data_reduce.py:308: RuntimeWarning: invalid value encountered in greater_equal\n",
      "  valid_lons = (lons >= lon_min_buffered) * \\\n",
      "C:\\Users\\gentemann\\Miniconda3\\envs\\satenv\\lib\\site-packages\\pyresample\\data_reduce.py:309: RuntimeWarning: invalid value encountered in less_equal\n",
      "  (lons <= lon_max_buffered)\n"
     ]
    },
    {
     "name": "stdout",
     "output_type": "stream",
     "text": [
      "2018-05-09 2018-05-10 1441\n"
     ]
    },
    {
     "name": "stderr",
     "output_type": "stream",
     "text": [
      "C:\\Users\\gentemann\\Miniconda3\\envs\\satenv\\lib\\site-packages\\ipykernel_launcher.py:37: RuntimeWarning: invalid value encountered in remainder\n",
      "C:\\Users\\gentemann\\Miniconda3\\envs\\satenv\\lib\\site-packages\\pyresample\\kd_tree.py:411: RuntimeWarning: invalid value encountered in greater_equal\n",
      "  (source_lats <= 90) & (source_lats >= -90))\n",
      "C:\\Users\\gentemann\\Miniconda3\\envs\\satenv\\lib\\site-packages\\pyresample\\kd_tree.py:411: RuntimeWarning: invalid value encountered in less_equal\n",
      "  (source_lats <= 90) & (source_lats >= -90))\n",
      "C:\\Users\\gentemann\\Miniconda3\\envs\\satenv\\lib\\site-packages\\pyresample\\data_reduce.py:304: RuntimeWarning: invalid value encountered in greater_equal\n",
      "  valid_lats = (lats >= lat_min_buffered) * (lats <= lat_max_buffered)\n",
      "C:\\Users\\gentemann\\Miniconda3\\envs\\satenv\\lib\\site-packages\\pyresample\\data_reduce.py:304: RuntimeWarning: invalid value encountered in less_equal\n",
      "  valid_lats = (lats >= lat_min_buffered) * (lats <= lat_max_buffered)\n",
      "C:\\Users\\gentemann\\Miniconda3\\envs\\satenv\\lib\\site-packages\\pyresample\\data_reduce.py:308: RuntimeWarning: invalid value encountered in greater_equal\n",
      "  valid_lons = (lons >= lon_min_buffered) * \\\n",
      "C:\\Users\\gentemann\\Miniconda3\\envs\\satenv\\lib\\site-packages\\pyresample\\data_reduce.py:309: RuntimeWarning: invalid value encountered in less_equal\n",
      "  (lons <= lon_max_buffered)\n"
     ]
    },
    {
     "name": "stdout",
     "output_type": "stream",
     "text": [
      "2018-05-10 2018-05-11 1441\n"
     ]
    },
    {
     "name": "stderr",
     "output_type": "stream",
     "text": [
      "C:\\Users\\gentemann\\Miniconda3\\envs\\satenv\\lib\\site-packages\\ipykernel_launcher.py:37: RuntimeWarning: invalid value encountered in remainder\n",
      "C:\\Users\\gentemann\\Miniconda3\\envs\\satenv\\lib\\site-packages\\pyresample\\kd_tree.py:411: RuntimeWarning: invalid value encountered in greater_equal\n",
      "  (source_lats <= 90) & (source_lats >= -90))\n",
      "C:\\Users\\gentemann\\Miniconda3\\envs\\satenv\\lib\\site-packages\\pyresample\\kd_tree.py:411: RuntimeWarning: invalid value encountered in less_equal\n",
      "  (source_lats <= 90) & (source_lats >= -90))\n",
      "C:\\Users\\gentemann\\Miniconda3\\envs\\satenv\\lib\\site-packages\\pyresample\\data_reduce.py:304: RuntimeWarning: invalid value encountered in greater_equal\n",
      "  valid_lats = (lats >= lat_min_buffered) * (lats <= lat_max_buffered)\n",
      "C:\\Users\\gentemann\\Miniconda3\\envs\\satenv\\lib\\site-packages\\pyresample\\data_reduce.py:304: RuntimeWarning: invalid value encountered in less_equal\n",
      "  valid_lats = (lats >= lat_min_buffered) * (lats <= lat_max_buffered)\n",
      "C:\\Users\\gentemann\\Miniconda3\\envs\\satenv\\lib\\site-packages\\pyresample\\data_reduce.py:308: RuntimeWarning: invalid value encountered in greater_equal\n",
      "  valid_lons = (lons >= lon_min_buffered) * \\\n",
      "C:\\Users\\gentemann\\Miniconda3\\envs\\satenv\\lib\\site-packages\\pyresample\\data_reduce.py:309: RuntimeWarning: invalid value encountered in less_equal\n",
      "  (lons <= lon_max_buffered)\n"
     ]
    },
    {
     "name": "stdout",
     "output_type": "stream",
     "text": [
      "2018-05-11 2018-05-12 1441\n"
     ]
    },
    {
     "name": "stderr",
     "output_type": "stream",
     "text": [
      "C:\\Users\\gentemann\\Miniconda3\\envs\\satenv\\lib\\site-packages\\ipykernel_launcher.py:37: RuntimeWarning: invalid value encountered in remainder\n",
      "C:\\Users\\gentemann\\Miniconda3\\envs\\satenv\\lib\\site-packages\\pyresample\\kd_tree.py:411: RuntimeWarning: invalid value encountered in greater_equal\n",
      "  (source_lats <= 90) & (source_lats >= -90))\n",
      "C:\\Users\\gentemann\\Miniconda3\\envs\\satenv\\lib\\site-packages\\pyresample\\kd_tree.py:411: RuntimeWarning: invalid value encountered in less_equal\n",
      "  (source_lats <= 90) & (source_lats >= -90))\n",
      "C:\\Users\\gentemann\\Miniconda3\\envs\\satenv\\lib\\site-packages\\pyresample\\data_reduce.py:304: RuntimeWarning: invalid value encountered in greater_equal\n",
      "  valid_lats = (lats >= lat_min_buffered) * (lats <= lat_max_buffered)\n",
      "C:\\Users\\gentemann\\Miniconda3\\envs\\satenv\\lib\\site-packages\\pyresample\\data_reduce.py:304: RuntimeWarning: invalid value encountered in less_equal\n",
      "  valid_lats = (lats >= lat_min_buffered) * (lats <= lat_max_buffered)\n",
      "C:\\Users\\gentemann\\Miniconda3\\envs\\satenv\\lib\\site-packages\\pyresample\\data_reduce.py:308: RuntimeWarning: invalid value encountered in greater_equal\n",
      "  valid_lons = (lons >= lon_min_buffered) * \\\n",
      "C:\\Users\\gentemann\\Miniconda3\\envs\\satenv\\lib\\site-packages\\pyresample\\data_reduce.py:309: RuntimeWarning: invalid value encountered in less_equal\n",
      "  (lons <= lon_max_buffered)\n"
     ]
    },
    {
     "name": "stdout",
     "output_type": "stream",
     "text": [
      "2018-05-12 2018-05-13 1441\n"
     ]
    },
    {
     "name": "stderr",
     "output_type": "stream",
     "text": [
      "C:\\Users\\gentemann\\Miniconda3\\envs\\satenv\\lib\\site-packages\\ipykernel_launcher.py:37: RuntimeWarning: invalid value encountered in remainder\n",
      "C:\\Users\\gentemann\\Miniconda3\\envs\\satenv\\lib\\site-packages\\pyresample\\kd_tree.py:411: RuntimeWarning: invalid value encountered in greater_equal\n",
      "  (source_lats <= 90) & (source_lats >= -90))\n",
      "C:\\Users\\gentemann\\Miniconda3\\envs\\satenv\\lib\\site-packages\\pyresample\\kd_tree.py:411: RuntimeWarning: invalid value encountered in less_equal\n",
      "  (source_lats <= 90) & (source_lats >= -90))\n",
      "C:\\Users\\gentemann\\Miniconda3\\envs\\satenv\\lib\\site-packages\\pyresample\\data_reduce.py:304: RuntimeWarning: invalid value encountered in greater_equal\n",
      "  valid_lats = (lats >= lat_min_buffered) * (lats <= lat_max_buffered)\n",
      "C:\\Users\\gentemann\\Miniconda3\\envs\\satenv\\lib\\site-packages\\pyresample\\data_reduce.py:304: RuntimeWarning: invalid value encountered in less_equal\n",
      "  valid_lats = (lats >= lat_min_buffered) * (lats <= lat_max_buffered)\n",
      "C:\\Users\\gentemann\\Miniconda3\\envs\\satenv\\lib\\site-packages\\pyresample\\data_reduce.py:308: RuntimeWarning: invalid value encountered in greater_equal\n",
      "  valid_lons = (lons >= lon_min_buffered) * \\\n",
      "C:\\Users\\gentemann\\Miniconda3\\envs\\satenv\\lib\\site-packages\\pyresample\\data_reduce.py:309: RuntimeWarning: invalid value encountered in less_equal\n",
      "  (lons <= lon_max_buffered)\n"
     ]
    },
    {
     "name": "stdout",
     "output_type": "stream",
     "text": [
      "2018-05-13 2018-05-14 1441\n"
     ]
    },
    {
     "name": "stderr",
     "output_type": "stream",
     "text": [
      "C:\\Users\\gentemann\\Miniconda3\\envs\\satenv\\lib\\site-packages\\ipykernel_launcher.py:37: RuntimeWarning: invalid value encountered in remainder\n",
      "C:\\Users\\gentemann\\Miniconda3\\envs\\satenv\\lib\\site-packages\\pyresample\\kd_tree.py:411: RuntimeWarning: invalid value encountered in greater_equal\n",
      "  (source_lats <= 90) & (source_lats >= -90))\n",
      "C:\\Users\\gentemann\\Miniconda3\\envs\\satenv\\lib\\site-packages\\pyresample\\kd_tree.py:411: RuntimeWarning: invalid value encountered in less_equal\n",
      "  (source_lats <= 90) & (source_lats >= -90))\n",
      "C:\\Users\\gentemann\\Miniconda3\\envs\\satenv\\lib\\site-packages\\pyresample\\data_reduce.py:304: RuntimeWarning: invalid value encountered in greater_equal\n",
      "  valid_lats = (lats >= lat_min_buffered) * (lats <= lat_max_buffered)\n",
      "C:\\Users\\gentemann\\Miniconda3\\envs\\satenv\\lib\\site-packages\\pyresample\\data_reduce.py:304: RuntimeWarning: invalid value encountered in less_equal\n",
      "  valid_lats = (lats >= lat_min_buffered) * (lats <= lat_max_buffered)\n",
      "C:\\Users\\gentemann\\Miniconda3\\envs\\satenv\\lib\\site-packages\\pyresample\\data_reduce.py:308: RuntimeWarning: invalid value encountered in greater_equal\n",
      "  valid_lons = (lons >= lon_min_buffered) * \\\n",
      "C:\\Users\\gentemann\\Miniconda3\\envs\\satenv\\lib\\site-packages\\pyresample\\data_reduce.py:309: RuntimeWarning: invalid value encountered in less_equal\n",
      "  (lons <= lon_max_buffered)\n"
     ]
    },
    {
     "name": "stdout",
     "output_type": "stream",
     "text": [
      "2018-05-14 2018-05-15 1441\n"
     ]
    },
    {
     "name": "stderr",
     "output_type": "stream",
     "text": [
      "C:\\Users\\gentemann\\Miniconda3\\envs\\satenv\\lib\\site-packages\\ipykernel_launcher.py:37: RuntimeWarning: invalid value encountered in remainder\n",
      "C:\\Users\\gentemann\\Miniconda3\\envs\\satenv\\lib\\site-packages\\pyresample\\kd_tree.py:411: RuntimeWarning: invalid value encountered in greater_equal\n",
      "  (source_lats <= 90) & (source_lats >= -90))\n",
      "C:\\Users\\gentemann\\Miniconda3\\envs\\satenv\\lib\\site-packages\\pyresample\\kd_tree.py:411: RuntimeWarning: invalid value encountered in less_equal\n",
      "  (source_lats <= 90) & (source_lats >= -90))\n",
      "C:\\Users\\gentemann\\Miniconda3\\envs\\satenv\\lib\\site-packages\\pyresample\\data_reduce.py:304: RuntimeWarning: invalid value encountered in greater_equal\n",
      "  valid_lats = (lats >= lat_min_buffered) * (lats <= lat_max_buffered)\n",
      "C:\\Users\\gentemann\\Miniconda3\\envs\\satenv\\lib\\site-packages\\pyresample\\data_reduce.py:304: RuntimeWarning: invalid value encountered in less_equal\n",
      "  valid_lats = (lats >= lat_min_buffered) * (lats <= lat_max_buffered)\n",
      "C:\\Users\\gentemann\\Miniconda3\\envs\\satenv\\lib\\site-packages\\pyresample\\data_reduce.py:308: RuntimeWarning: invalid value encountered in greater_equal\n",
      "  valid_lons = (lons >= lon_min_buffered) * \\\n",
      "C:\\Users\\gentemann\\Miniconda3\\envs\\satenv\\lib\\site-packages\\pyresample\\data_reduce.py:309: RuntimeWarning: invalid value encountered in less_equal\n",
      "  (lons <= lon_max_buffered)\n"
     ]
    },
    {
     "name": "stdout",
     "output_type": "stream",
     "text": [
      "2018-05-15 2018-05-16 1441\n"
     ]
    },
    {
     "name": "stderr",
     "output_type": "stream",
     "text": [
      "C:\\Users\\gentemann\\Miniconda3\\envs\\satenv\\lib\\site-packages\\ipykernel_launcher.py:37: RuntimeWarning: invalid value encountered in remainder\n",
      "C:\\Users\\gentemann\\Miniconda3\\envs\\satenv\\lib\\site-packages\\pyresample\\kd_tree.py:411: RuntimeWarning: invalid value encountered in greater_equal\n",
      "  (source_lats <= 90) & (source_lats >= -90))\n",
      "C:\\Users\\gentemann\\Miniconda3\\envs\\satenv\\lib\\site-packages\\pyresample\\kd_tree.py:411: RuntimeWarning: invalid value encountered in less_equal\n",
      "  (source_lats <= 90) & (source_lats >= -90))\n",
      "C:\\Users\\gentemann\\Miniconda3\\envs\\satenv\\lib\\site-packages\\pyresample\\data_reduce.py:304: RuntimeWarning: invalid value encountered in greater_equal\n",
      "  valid_lats = (lats >= lat_min_buffered) * (lats <= lat_max_buffered)\n",
      "C:\\Users\\gentemann\\Miniconda3\\envs\\satenv\\lib\\site-packages\\pyresample\\data_reduce.py:304: RuntimeWarning: invalid value encountered in less_equal\n",
      "  valid_lats = (lats >= lat_min_buffered) * (lats <= lat_max_buffered)\n",
      "C:\\Users\\gentemann\\Miniconda3\\envs\\satenv\\lib\\site-packages\\pyresample\\data_reduce.py:308: RuntimeWarning: invalid value encountered in greater_equal\n",
      "  valid_lons = (lons >= lon_min_buffered) * \\\n",
      "C:\\Users\\gentemann\\Miniconda3\\envs\\satenv\\lib\\site-packages\\pyresample\\data_reduce.py:309: RuntimeWarning: invalid value encountered in less_equal\n",
      "  (lons <= lon_max_buffered)\n"
     ]
    },
    {
     "name": "stdout",
     "output_type": "stream",
     "text": [
      "2018-05-16 2018-05-17 1441\n"
     ]
    },
    {
     "name": "stderr",
     "output_type": "stream",
     "text": [
      "C:\\Users\\gentemann\\Miniconda3\\envs\\satenv\\lib\\site-packages\\ipykernel_launcher.py:37: RuntimeWarning: invalid value encountered in remainder\n",
      "C:\\Users\\gentemann\\Miniconda3\\envs\\satenv\\lib\\site-packages\\pyresample\\kd_tree.py:411: RuntimeWarning: invalid value encountered in greater_equal\n",
      "  (source_lats <= 90) & (source_lats >= -90))\n",
      "C:\\Users\\gentemann\\Miniconda3\\envs\\satenv\\lib\\site-packages\\pyresample\\kd_tree.py:411: RuntimeWarning: invalid value encountered in less_equal\n",
      "  (source_lats <= 90) & (source_lats >= -90))\n",
      "C:\\Users\\gentemann\\Miniconda3\\envs\\satenv\\lib\\site-packages\\pyresample\\data_reduce.py:304: RuntimeWarning: invalid value encountered in greater_equal\n",
      "  valid_lats = (lats >= lat_min_buffered) * (lats <= lat_max_buffered)\n",
      "C:\\Users\\gentemann\\Miniconda3\\envs\\satenv\\lib\\site-packages\\pyresample\\data_reduce.py:304: RuntimeWarning: invalid value encountered in less_equal\n",
      "  valid_lats = (lats >= lat_min_buffered) * (lats <= lat_max_buffered)\n",
      "C:\\Users\\gentemann\\Miniconda3\\envs\\satenv\\lib\\site-packages\\pyresample\\data_reduce.py:308: RuntimeWarning: invalid value encountered in greater_equal\n",
      "  valid_lons = (lons >= lon_min_buffered) * \\\n",
      "C:\\Users\\gentemann\\Miniconda3\\envs\\satenv\\lib\\site-packages\\pyresample\\data_reduce.py:309: RuntimeWarning: invalid value encountered in less_equal\n",
      "  (lons <= lon_max_buffered)\n"
     ]
    },
    {
     "name": "stdout",
     "output_type": "stream",
     "text": [
      "2018-05-17 2018-05-18 1441\n"
     ]
    },
    {
     "name": "stderr",
     "output_type": "stream",
     "text": [
      "C:\\Users\\gentemann\\Miniconda3\\envs\\satenv\\lib\\site-packages\\ipykernel_launcher.py:37: RuntimeWarning: invalid value encountered in remainder\n",
      "C:\\Users\\gentemann\\Miniconda3\\envs\\satenv\\lib\\site-packages\\pyresample\\kd_tree.py:411: RuntimeWarning: invalid value encountered in greater_equal\n",
      "  (source_lats <= 90) & (source_lats >= -90))\n",
      "C:\\Users\\gentemann\\Miniconda3\\envs\\satenv\\lib\\site-packages\\pyresample\\kd_tree.py:411: RuntimeWarning: invalid value encountered in less_equal\n",
      "  (source_lats <= 90) & (source_lats >= -90))\n",
      "C:\\Users\\gentemann\\Miniconda3\\envs\\satenv\\lib\\site-packages\\pyresample\\data_reduce.py:304: RuntimeWarning: invalid value encountered in greater_equal\n",
      "  valid_lats = (lats >= lat_min_buffered) * (lats <= lat_max_buffered)\n",
      "C:\\Users\\gentemann\\Miniconda3\\envs\\satenv\\lib\\site-packages\\pyresample\\data_reduce.py:304: RuntimeWarning: invalid value encountered in less_equal\n",
      "  valid_lats = (lats >= lat_min_buffered) * (lats <= lat_max_buffered)\n",
      "C:\\Users\\gentemann\\Miniconda3\\envs\\satenv\\lib\\site-packages\\pyresample\\data_reduce.py:308: RuntimeWarning: invalid value encountered in greater_equal\n",
      "  valid_lons = (lons >= lon_min_buffered) * \\\n",
      "C:\\Users\\gentemann\\Miniconda3\\envs\\satenv\\lib\\site-packages\\pyresample\\data_reduce.py:309: RuntimeWarning: invalid value encountered in less_equal\n",
      "  (lons <= lon_max_buffered)\n"
     ]
    },
    {
     "name": "stdout",
     "output_type": "stream",
     "text": [
      "2018-05-18 2018-05-19 1441\n"
     ]
    },
    {
     "name": "stderr",
     "output_type": "stream",
     "text": [
      "C:\\Users\\gentemann\\Miniconda3\\envs\\satenv\\lib\\site-packages\\ipykernel_launcher.py:37: RuntimeWarning: invalid value encountered in remainder\n",
      "C:\\Users\\gentemann\\Miniconda3\\envs\\satenv\\lib\\site-packages\\pyresample\\kd_tree.py:411: RuntimeWarning: invalid value encountered in greater_equal\n",
      "  (source_lats <= 90) & (source_lats >= -90))\n",
      "C:\\Users\\gentemann\\Miniconda3\\envs\\satenv\\lib\\site-packages\\pyresample\\kd_tree.py:411: RuntimeWarning: invalid value encountered in less_equal\n",
      "  (source_lats <= 90) & (source_lats >= -90))\n",
      "C:\\Users\\gentemann\\Miniconda3\\envs\\satenv\\lib\\site-packages\\pyresample\\data_reduce.py:304: RuntimeWarning: invalid value encountered in greater_equal\n",
      "  valid_lats = (lats >= lat_min_buffered) * (lats <= lat_max_buffered)\n",
      "C:\\Users\\gentemann\\Miniconda3\\envs\\satenv\\lib\\site-packages\\pyresample\\data_reduce.py:304: RuntimeWarning: invalid value encountered in less_equal\n",
      "  valid_lats = (lats >= lat_min_buffered) * (lats <= lat_max_buffered)\n",
      "C:\\Users\\gentemann\\Miniconda3\\envs\\satenv\\lib\\site-packages\\pyresample\\data_reduce.py:308: RuntimeWarning: invalid value encountered in greater_equal\n",
      "  valid_lons = (lons >= lon_min_buffered) * \\\n",
      "C:\\Users\\gentemann\\Miniconda3\\envs\\satenv\\lib\\site-packages\\pyresample\\data_reduce.py:309: RuntimeWarning: invalid value encountered in less_equal\n",
      "  (lons <= lon_max_buffered)\n"
     ]
    },
    {
     "name": "stdout",
     "output_type": "stream",
     "text": [
      "2018-05-19 2018-05-20 1441\n"
     ]
    },
    {
     "name": "stderr",
     "output_type": "stream",
     "text": [
      "C:\\Users\\gentemann\\Miniconda3\\envs\\satenv\\lib\\site-packages\\ipykernel_launcher.py:37: RuntimeWarning: invalid value encountered in remainder\n",
      "C:\\Users\\gentemann\\Miniconda3\\envs\\satenv\\lib\\site-packages\\pyresample\\kd_tree.py:411: RuntimeWarning: invalid value encountered in greater_equal\n",
      "  (source_lats <= 90) & (source_lats >= -90))\n",
      "C:\\Users\\gentemann\\Miniconda3\\envs\\satenv\\lib\\site-packages\\pyresample\\kd_tree.py:411: RuntimeWarning: invalid value encountered in less_equal\n",
      "  (source_lats <= 90) & (source_lats >= -90))\n",
      "C:\\Users\\gentemann\\Miniconda3\\envs\\satenv\\lib\\site-packages\\pyresample\\data_reduce.py:304: RuntimeWarning: invalid value encountered in greater_equal\n",
      "  valid_lats = (lats >= lat_min_buffered) * (lats <= lat_max_buffered)\n",
      "C:\\Users\\gentemann\\Miniconda3\\envs\\satenv\\lib\\site-packages\\pyresample\\data_reduce.py:304: RuntimeWarning: invalid value encountered in less_equal\n",
      "  valid_lats = (lats >= lat_min_buffered) * (lats <= lat_max_buffered)\n",
      "C:\\Users\\gentemann\\Miniconda3\\envs\\satenv\\lib\\site-packages\\pyresample\\data_reduce.py:308: RuntimeWarning: invalid value encountered in greater_equal\n",
      "  valid_lons = (lons >= lon_min_buffered) * \\\n",
      "C:\\Users\\gentemann\\Miniconda3\\envs\\satenv\\lib\\site-packages\\pyresample\\data_reduce.py:309: RuntimeWarning: invalid value encountered in less_equal\n",
      "  (lons <= lon_max_buffered)\n"
     ]
    },
    {
     "name": "stdout",
     "output_type": "stream",
     "text": [
      "2018-05-20 2018-05-21 1441\n"
     ]
    },
    {
     "name": "stderr",
     "output_type": "stream",
     "text": [
      "C:\\Users\\gentemann\\Miniconda3\\envs\\satenv\\lib\\site-packages\\ipykernel_launcher.py:37: RuntimeWarning: invalid value encountered in remainder\n",
      "C:\\Users\\gentemann\\Miniconda3\\envs\\satenv\\lib\\site-packages\\pyresample\\kd_tree.py:411: RuntimeWarning: invalid value encountered in greater_equal\n",
      "  (source_lats <= 90) & (source_lats >= -90))\n",
      "C:\\Users\\gentemann\\Miniconda3\\envs\\satenv\\lib\\site-packages\\pyresample\\kd_tree.py:411: RuntimeWarning: invalid value encountered in less_equal\n",
      "  (source_lats <= 90) & (source_lats >= -90))\n",
      "C:\\Users\\gentemann\\Miniconda3\\envs\\satenv\\lib\\site-packages\\pyresample\\data_reduce.py:304: RuntimeWarning: invalid value encountered in greater_equal\n",
      "  valid_lats = (lats >= lat_min_buffered) * (lats <= lat_max_buffered)\n",
      "C:\\Users\\gentemann\\Miniconda3\\envs\\satenv\\lib\\site-packages\\pyresample\\data_reduce.py:304: RuntimeWarning: invalid value encountered in less_equal\n",
      "  valid_lats = (lats >= lat_min_buffered) * (lats <= lat_max_buffered)\n",
      "C:\\Users\\gentemann\\Miniconda3\\envs\\satenv\\lib\\site-packages\\pyresample\\data_reduce.py:308: RuntimeWarning: invalid value encountered in greater_equal\n",
      "  valid_lons = (lons >= lon_min_buffered) * \\\n",
      "C:\\Users\\gentemann\\Miniconda3\\envs\\satenv\\lib\\site-packages\\pyresample\\data_reduce.py:309: RuntimeWarning: invalid value encountered in less_equal\n",
      "  (lons <= lon_max_buffered)\n"
     ]
    },
    {
     "name": "stdout",
     "output_type": "stream",
     "text": [
      "2018-05-21 2018-05-22 1441\n"
     ]
    },
    {
     "name": "stderr",
     "output_type": "stream",
     "text": [
      "C:\\Users\\gentemann\\Miniconda3\\envs\\satenv\\lib\\site-packages\\ipykernel_launcher.py:37: RuntimeWarning: invalid value encountered in remainder\n",
      "C:\\Users\\gentemann\\Miniconda3\\envs\\satenv\\lib\\site-packages\\pyresample\\kd_tree.py:411: RuntimeWarning: invalid value encountered in greater_equal\n",
      "  (source_lats <= 90) & (source_lats >= -90))\n",
      "C:\\Users\\gentemann\\Miniconda3\\envs\\satenv\\lib\\site-packages\\pyresample\\kd_tree.py:411: RuntimeWarning: invalid value encountered in less_equal\n",
      "  (source_lats <= 90) & (source_lats >= -90))\n",
      "C:\\Users\\gentemann\\Miniconda3\\envs\\satenv\\lib\\site-packages\\pyresample\\data_reduce.py:304: RuntimeWarning: invalid value encountered in greater_equal\n",
      "  valid_lats = (lats >= lat_min_buffered) * (lats <= lat_max_buffered)\n",
      "C:\\Users\\gentemann\\Miniconda3\\envs\\satenv\\lib\\site-packages\\pyresample\\data_reduce.py:304: RuntimeWarning: invalid value encountered in less_equal\n",
      "  valid_lats = (lats >= lat_min_buffered) * (lats <= lat_max_buffered)\n",
      "C:\\Users\\gentemann\\Miniconda3\\envs\\satenv\\lib\\site-packages\\pyresample\\data_reduce.py:308: RuntimeWarning: invalid value encountered in greater_equal\n",
      "  valid_lons = (lons >= lon_min_buffered) * \\\n",
      "C:\\Users\\gentemann\\Miniconda3\\envs\\satenv\\lib\\site-packages\\pyresample\\data_reduce.py:309: RuntimeWarning: invalid value encountered in less_equal\n",
      "  (lons <= lon_max_buffered)\n"
     ]
    },
    {
     "name": "stdout",
     "output_type": "stream",
     "text": [
      "2018-05-22 2018-05-23 1441\n"
     ]
    },
    {
     "name": "stderr",
     "output_type": "stream",
     "text": [
      "C:\\Users\\gentemann\\Miniconda3\\envs\\satenv\\lib\\site-packages\\ipykernel_launcher.py:37: RuntimeWarning: invalid value encountered in remainder\n",
      "C:\\Users\\gentemann\\Miniconda3\\envs\\satenv\\lib\\site-packages\\pyresample\\kd_tree.py:411: RuntimeWarning: invalid value encountered in greater_equal\n",
      "  (source_lats <= 90) & (source_lats >= -90))\n",
      "C:\\Users\\gentemann\\Miniconda3\\envs\\satenv\\lib\\site-packages\\pyresample\\kd_tree.py:411: RuntimeWarning: invalid value encountered in less_equal\n",
      "  (source_lats <= 90) & (source_lats >= -90))\n",
      "C:\\Users\\gentemann\\Miniconda3\\envs\\satenv\\lib\\site-packages\\pyresample\\data_reduce.py:304: RuntimeWarning: invalid value encountered in greater_equal\n",
      "  valid_lats = (lats >= lat_min_buffered) * (lats <= lat_max_buffered)\n",
      "C:\\Users\\gentemann\\Miniconda3\\envs\\satenv\\lib\\site-packages\\pyresample\\data_reduce.py:304: RuntimeWarning: invalid value encountered in less_equal\n",
      "  valid_lats = (lats >= lat_min_buffered) * (lats <= lat_max_buffered)\n",
      "C:\\Users\\gentemann\\Miniconda3\\envs\\satenv\\lib\\site-packages\\pyresample\\data_reduce.py:308: RuntimeWarning: invalid value encountered in greater_equal\n",
      "  valid_lons = (lons >= lon_min_buffered) * \\\n",
      "C:\\Users\\gentemann\\Miniconda3\\envs\\satenv\\lib\\site-packages\\pyresample\\data_reduce.py:309: RuntimeWarning: invalid value encountered in less_equal\n",
      "  (lons <= lon_max_buffered)\n"
     ]
    },
    {
     "name": "stdout",
     "output_type": "stream",
     "text": [
      "2018-05-23 2018-05-24 1441\n"
     ]
    },
    {
     "name": "stderr",
     "output_type": "stream",
     "text": [
      "C:\\Users\\gentemann\\Miniconda3\\envs\\satenv\\lib\\site-packages\\ipykernel_launcher.py:37: RuntimeWarning: invalid value encountered in remainder\n",
      "C:\\Users\\gentemann\\Miniconda3\\envs\\satenv\\lib\\site-packages\\pyresample\\kd_tree.py:411: RuntimeWarning: invalid value encountered in greater_equal\n",
      "  (source_lats <= 90) & (source_lats >= -90))\n",
      "C:\\Users\\gentemann\\Miniconda3\\envs\\satenv\\lib\\site-packages\\pyresample\\kd_tree.py:411: RuntimeWarning: invalid value encountered in less_equal\n",
      "  (source_lats <= 90) & (source_lats >= -90))\n",
      "C:\\Users\\gentemann\\Miniconda3\\envs\\satenv\\lib\\site-packages\\pyresample\\data_reduce.py:304: RuntimeWarning: invalid value encountered in greater_equal\n",
      "  valid_lats = (lats >= lat_min_buffered) * (lats <= lat_max_buffered)\n",
      "C:\\Users\\gentemann\\Miniconda3\\envs\\satenv\\lib\\site-packages\\pyresample\\data_reduce.py:304: RuntimeWarning: invalid value encountered in less_equal\n",
      "  valid_lats = (lats >= lat_min_buffered) * (lats <= lat_max_buffered)\n",
      "C:\\Users\\gentemann\\Miniconda3\\envs\\satenv\\lib\\site-packages\\pyresample\\data_reduce.py:308: RuntimeWarning: invalid value encountered in greater_equal\n",
      "  valid_lons = (lons >= lon_min_buffered) * \\\n",
      "C:\\Users\\gentemann\\Miniconda3\\envs\\satenv\\lib\\site-packages\\pyresample\\data_reduce.py:309: RuntimeWarning: invalid value encountered in less_equal\n",
      "  (lons <= lon_max_buffered)\n"
     ]
    },
    {
     "name": "stdout",
     "output_type": "stream",
     "text": [
      "2018-05-24 2018-05-25 1441\n"
     ]
    },
    {
     "name": "stderr",
     "output_type": "stream",
     "text": [
      "C:\\Users\\gentemann\\Miniconda3\\envs\\satenv\\lib\\site-packages\\ipykernel_launcher.py:37: RuntimeWarning: invalid value encountered in remainder\n",
      "C:\\Users\\gentemann\\Miniconda3\\envs\\satenv\\lib\\site-packages\\pyresample\\kd_tree.py:411: RuntimeWarning: invalid value encountered in greater_equal\n",
      "  (source_lats <= 90) & (source_lats >= -90))\n",
      "C:\\Users\\gentemann\\Miniconda3\\envs\\satenv\\lib\\site-packages\\pyresample\\kd_tree.py:411: RuntimeWarning: invalid value encountered in less_equal\n",
      "  (source_lats <= 90) & (source_lats >= -90))\n",
      "C:\\Users\\gentemann\\Miniconda3\\envs\\satenv\\lib\\site-packages\\pyresample\\data_reduce.py:304: RuntimeWarning: invalid value encountered in greater_equal\n",
      "  valid_lats = (lats >= lat_min_buffered) * (lats <= lat_max_buffered)\n",
      "C:\\Users\\gentemann\\Miniconda3\\envs\\satenv\\lib\\site-packages\\pyresample\\data_reduce.py:304: RuntimeWarning: invalid value encountered in less_equal\n",
      "  valid_lats = (lats >= lat_min_buffered) * (lats <= lat_max_buffered)\n",
      "C:\\Users\\gentemann\\Miniconda3\\envs\\satenv\\lib\\site-packages\\pyresample\\data_reduce.py:308: RuntimeWarning: invalid value encountered in greater_equal\n",
      "  valid_lons = (lons >= lon_min_buffered) * \\\n",
      "C:\\Users\\gentemann\\Miniconda3\\envs\\satenv\\lib\\site-packages\\pyresample\\data_reduce.py:309: RuntimeWarning: invalid value encountered in less_equal\n",
      "  (lons <= lon_max_buffered)\n"
     ]
    },
    {
     "name": "stdout",
     "output_type": "stream",
     "text": [
      "2018-05-25 2018-05-26 1441\n"
     ]
    },
    {
     "name": "stderr",
     "output_type": "stream",
     "text": [
      "C:\\Users\\gentemann\\Miniconda3\\envs\\satenv\\lib\\site-packages\\ipykernel_launcher.py:37: RuntimeWarning: invalid value encountered in remainder\n",
      "C:\\Users\\gentemann\\Miniconda3\\envs\\satenv\\lib\\site-packages\\pyresample\\kd_tree.py:411: RuntimeWarning: invalid value encountered in greater_equal\n",
      "  (source_lats <= 90) & (source_lats >= -90))\n",
      "C:\\Users\\gentemann\\Miniconda3\\envs\\satenv\\lib\\site-packages\\pyresample\\kd_tree.py:411: RuntimeWarning: invalid value encountered in less_equal\n",
      "  (source_lats <= 90) & (source_lats >= -90))\n",
      "C:\\Users\\gentemann\\Miniconda3\\envs\\satenv\\lib\\site-packages\\pyresample\\data_reduce.py:304: RuntimeWarning: invalid value encountered in greater_equal\n",
      "  valid_lats = (lats >= lat_min_buffered) * (lats <= lat_max_buffered)\n",
      "C:\\Users\\gentemann\\Miniconda3\\envs\\satenv\\lib\\site-packages\\pyresample\\data_reduce.py:304: RuntimeWarning: invalid value encountered in less_equal\n",
      "  valid_lats = (lats >= lat_min_buffered) * (lats <= lat_max_buffered)\n",
      "C:\\Users\\gentemann\\Miniconda3\\envs\\satenv\\lib\\site-packages\\pyresample\\data_reduce.py:308: RuntimeWarning: invalid value encountered in greater_equal\n",
      "  valid_lons = (lons >= lon_min_buffered) * \\\n",
      "C:\\Users\\gentemann\\Miniconda3\\envs\\satenv\\lib\\site-packages\\pyresample\\data_reduce.py:309: RuntimeWarning: invalid value encountered in less_equal\n",
      "  (lons <= lon_max_buffered)\n"
     ]
    },
    {
     "name": "stdout",
     "output_type": "stream",
     "text": [
      "2018-05-26 2018-05-27 1441\n"
     ]
    },
    {
     "name": "stderr",
     "output_type": "stream",
     "text": [
      "C:\\Users\\gentemann\\Miniconda3\\envs\\satenv\\lib\\site-packages\\ipykernel_launcher.py:37: RuntimeWarning: invalid value encountered in remainder\n",
      "C:\\Users\\gentemann\\Miniconda3\\envs\\satenv\\lib\\site-packages\\pyresample\\kd_tree.py:411: RuntimeWarning: invalid value encountered in greater_equal\n",
      "  (source_lats <= 90) & (source_lats >= -90))\n",
      "C:\\Users\\gentemann\\Miniconda3\\envs\\satenv\\lib\\site-packages\\pyresample\\kd_tree.py:411: RuntimeWarning: invalid value encountered in less_equal\n",
      "  (source_lats <= 90) & (source_lats >= -90))\n",
      "C:\\Users\\gentemann\\Miniconda3\\envs\\satenv\\lib\\site-packages\\pyresample\\data_reduce.py:304: RuntimeWarning: invalid value encountered in greater_equal\n",
      "  valid_lats = (lats >= lat_min_buffered) * (lats <= lat_max_buffered)\n",
      "C:\\Users\\gentemann\\Miniconda3\\envs\\satenv\\lib\\site-packages\\pyresample\\data_reduce.py:304: RuntimeWarning: invalid value encountered in less_equal\n",
      "  valid_lats = (lats >= lat_min_buffered) * (lats <= lat_max_buffered)\n",
      "C:\\Users\\gentemann\\Miniconda3\\envs\\satenv\\lib\\site-packages\\pyresample\\data_reduce.py:308: RuntimeWarning: invalid value encountered in greater_equal\n",
      "  valid_lons = (lons >= lon_min_buffered) * \\\n",
      "C:\\Users\\gentemann\\Miniconda3\\envs\\satenv\\lib\\site-packages\\pyresample\\data_reduce.py:309: RuntimeWarning: invalid value encountered in less_equal\n",
      "  (lons <= lon_max_buffered)\n"
     ]
    },
    {
     "name": "stdout",
     "output_type": "stream",
     "text": [
      "2018-05-27 2018-05-28 1441\n"
     ]
    },
    {
     "name": "stderr",
     "output_type": "stream",
     "text": [
      "C:\\Users\\gentemann\\Miniconda3\\envs\\satenv\\lib\\site-packages\\ipykernel_launcher.py:37: RuntimeWarning: invalid value encountered in remainder\n",
      "C:\\Users\\gentemann\\Miniconda3\\envs\\satenv\\lib\\site-packages\\pyresample\\kd_tree.py:411: RuntimeWarning: invalid value encountered in greater_equal\n",
      "  (source_lats <= 90) & (source_lats >= -90))\n",
      "C:\\Users\\gentemann\\Miniconda3\\envs\\satenv\\lib\\site-packages\\pyresample\\kd_tree.py:411: RuntimeWarning: invalid value encountered in less_equal\n",
      "  (source_lats <= 90) & (source_lats >= -90))\n",
      "C:\\Users\\gentemann\\Miniconda3\\envs\\satenv\\lib\\site-packages\\pyresample\\data_reduce.py:304: RuntimeWarning: invalid value encountered in greater_equal\n",
      "  valid_lats = (lats >= lat_min_buffered) * (lats <= lat_max_buffered)\n",
      "C:\\Users\\gentemann\\Miniconda3\\envs\\satenv\\lib\\site-packages\\pyresample\\data_reduce.py:304: RuntimeWarning: invalid value encountered in less_equal\n",
      "  valid_lats = (lats >= lat_min_buffered) * (lats <= lat_max_buffered)\n",
      "C:\\Users\\gentemann\\Miniconda3\\envs\\satenv\\lib\\site-packages\\pyresample\\data_reduce.py:308: RuntimeWarning: invalid value encountered in greater_equal\n",
      "  valid_lons = (lons >= lon_min_buffered) * \\\n",
      "C:\\Users\\gentemann\\Miniconda3\\envs\\satenv\\lib\\site-packages\\pyresample\\data_reduce.py:309: RuntimeWarning: invalid value encountered in less_equal\n",
      "  (lons <= lon_max_buffered)\n"
     ]
    },
    {
     "name": "stdout",
     "output_type": "stream",
     "text": [
      "2018-05-28 2018-05-29 1441\n"
     ]
    },
    {
     "name": "stderr",
     "output_type": "stream",
     "text": [
      "C:\\Users\\gentemann\\Miniconda3\\envs\\satenv\\lib\\site-packages\\ipykernel_launcher.py:37: RuntimeWarning: invalid value encountered in remainder\n",
      "C:\\Users\\gentemann\\Miniconda3\\envs\\satenv\\lib\\site-packages\\pyresample\\kd_tree.py:411: RuntimeWarning: invalid value encountered in greater_equal\n",
      "  (source_lats <= 90) & (source_lats >= -90))\n",
      "C:\\Users\\gentemann\\Miniconda3\\envs\\satenv\\lib\\site-packages\\pyresample\\kd_tree.py:411: RuntimeWarning: invalid value encountered in less_equal\n",
      "  (source_lats <= 90) & (source_lats >= -90))\n",
      "C:\\Users\\gentemann\\Miniconda3\\envs\\satenv\\lib\\site-packages\\pyresample\\data_reduce.py:304: RuntimeWarning: invalid value encountered in greater_equal\n",
      "  valid_lats = (lats >= lat_min_buffered) * (lats <= lat_max_buffered)\n",
      "C:\\Users\\gentemann\\Miniconda3\\envs\\satenv\\lib\\site-packages\\pyresample\\data_reduce.py:304: RuntimeWarning: invalid value encountered in less_equal\n",
      "  valid_lats = (lats >= lat_min_buffered) * (lats <= lat_max_buffered)\n",
      "C:\\Users\\gentemann\\Miniconda3\\envs\\satenv\\lib\\site-packages\\pyresample\\data_reduce.py:308: RuntimeWarning: invalid value encountered in greater_equal\n",
      "  valid_lons = (lons >= lon_min_buffered) * \\\n",
      "C:\\Users\\gentemann\\Miniconda3\\envs\\satenv\\lib\\site-packages\\pyresample\\data_reduce.py:309: RuntimeWarning: invalid value encountered in less_equal\n",
      "  (lons <= lon_max_buffered)\n"
     ]
    },
    {
     "name": "stdout",
     "output_type": "stream",
     "text": [
      "2018-05-29 2018-05-30 1441\n"
     ]
    },
    {
     "name": "stderr",
     "output_type": "stream",
     "text": [
      "C:\\Users\\gentemann\\Miniconda3\\envs\\satenv\\lib\\site-packages\\ipykernel_launcher.py:37: RuntimeWarning: invalid value encountered in remainder\n",
      "C:\\Users\\gentemann\\Miniconda3\\envs\\satenv\\lib\\site-packages\\pyresample\\kd_tree.py:411: RuntimeWarning: invalid value encountered in greater_equal\n",
      "  (source_lats <= 90) & (source_lats >= -90))\n",
      "C:\\Users\\gentemann\\Miniconda3\\envs\\satenv\\lib\\site-packages\\pyresample\\kd_tree.py:411: RuntimeWarning: invalid value encountered in less_equal\n",
      "  (source_lats <= 90) & (source_lats >= -90))\n",
      "C:\\Users\\gentemann\\Miniconda3\\envs\\satenv\\lib\\site-packages\\pyresample\\data_reduce.py:304: RuntimeWarning: invalid value encountered in greater_equal\n",
      "  valid_lats = (lats >= lat_min_buffered) * (lats <= lat_max_buffered)\n",
      "C:\\Users\\gentemann\\Miniconda3\\envs\\satenv\\lib\\site-packages\\pyresample\\data_reduce.py:304: RuntimeWarning: invalid value encountered in less_equal\n",
      "  valid_lats = (lats >= lat_min_buffered) * (lats <= lat_max_buffered)\n",
      "C:\\Users\\gentemann\\Miniconda3\\envs\\satenv\\lib\\site-packages\\pyresample\\data_reduce.py:308: RuntimeWarning: invalid value encountered in greater_equal\n",
      "  valid_lons = (lons >= lon_min_buffered) * \\\n",
      "C:\\Users\\gentemann\\Miniconda3\\envs\\satenv\\lib\\site-packages\\pyresample\\data_reduce.py:309: RuntimeWarning: invalid value encountered in less_equal\n",
      "  (lons <= lon_max_buffered)\n"
     ]
    },
    {
     "name": "stdout",
     "output_type": "stream",
     "text": [
      "2018-05-30 2018-05-31 1441\n"
     ]
    },
    {
     "name": "stderr",
     "output_type": "stream",
     "text": [
      "C:\\Users\\gentemann\\Miniconda3\\envs\\satenv\\lib\\site-packages\\ipykernel_launcher.py:37: RuntimeWarning: invalid value encountered in remainder\n",
      "C:\\Users\\gentemann\\Miniconda3\\envs\\satenv\\lib\\site-packages\\pyresample\\kd_tree.py:411: RuntimeWarning: invalid value encountered in greater_equal\n",
      "  (source_lats <= 90) & (source_lats >= -90))\n",
      "C:\\Users\\gentemann\\Miniconda3\\envs\\satenv\\lib\\site-packages\\pyresample\\kd_tree.py:411: RuntimeWarning: invalid value encountered in less_equal\n",
      "  (source_lats <= 90) & (source_lats >= -90))\n",
      "C:\\Users\\gentemann\\Miniconda3\\envs\\satenv\\lib\\site-packages\\pyresample\\data_reduce.py:304: RuntimeWarning: invalid value encountered in greater_equal\n",
      "  valid_lats = (lats >= lat_min_buffered) * (lats <= lat_max_buffered)\n",
      "C:\\Users\\gentemann\\Miniconda3\\envs\\satenv\\lib\\site-packages\\pyresample\\data_reduce.py:304: RuntimeWarning: invalid value encountered in less_equal\n",
      "  valid_lats = (lats >= lat_min_buffered) * (lats <= lat_max_buffered)\n",
      "C:\\Users\\gentemann\\Miniconda3\\envs\\satenv\\lib\\site-packages\\pyresample\\data_reduce.py:308: RuntimeWarning: invalid value encountered in greater_equal\n",
      "  valid_lons = (lons >= lon_min_buffered) * \\\n",
      "C:\\Users\\gentemann\\Miniconda3\\envs\\satenv\\lib\\site-packages\\pyresample\\data_reduce.py:309: RuntimeWarning: invalid value encountered in less_equal\n",
      "  (lons <= lon_max_buffered)\n"
     ]
    },
    {
     "name": "stdout",
     "output_type": "stream",
     "text": [
      "2018-05-31 2018-06-01 1441\n"
     ]
    },
    {
     "name": "stderr",
     "output_type": "stream",
     "text": [
      "C:\\Users\\gentemann\\Miniconda3\\envs\\satenv\\lib\\site-packages\\ipykernel_launcher.py:37: RuntimeWarning: invalid value encountered in remainder\n",
      "C:\\Users\\gentemann\\Miniconda3\\envs\\satenv\\lib\\site-packages\\pyresample\\kd_tree.py:411: RuntimeWarning: invalid value encountered in greater_equal\n",
      "  (source_lats <= 90) & (source_lats >= -90))\n",
      "C:\\Users\\gentemann\\Miniconda3\\envs\\satenv\\lib\\site-packages\\pyresample\\kd_tree.py:411: RuntimeWarning: invalid value encountered in less_equal\n",
      "  (source_lats <= 90) & (source_lats >= -90))\n",
      "C:\\Users\\gentemann\\Miniconda3\\envs\\satenv\\lib\\site-packages\\pyresample\\data_reduce.py:304: RuntimeWarning: invalid value encountered in greater_equal\n",
      "  valid_lats = (lats >= lat_min_buffered) * (lats <= lat_max_buffered)\n",
      "C:\\Users\\gentemann\\Miniconda3\\envs\\satenv\\lib\\site-packages\\pyresample\\data_reduce.py:304: RuntimeWarning: invalid value encountered in less_equal\n",
      "  valid_lats = (lats >= lat_min_buffered) * (lats <= lat_max_buffered)\n",
      "C:\\Users\\gentemann\\Miniconda3\\envs\\satenv\\lib\\site-packages\\pyresample\\data_reduce.py:308: RuntimeWarning: invalid value encountered in greater_equal\n",
      "  valid_lons = (lons >= lon_min_buffered) * \\\n",
      "C:\\Users\\gentemann\\Miniconda3\\envs\\satenv\\lib\\site-packages\\pyresample\\data_reduce.py:309: RuntimeWarning: invalid value encountered in less_equal\n",
      "  (lons <= lon_max_buffered)\n"
     ]
    },
    {
     "name": "stdout",
     "output_type": "stream",
     "text": [
      "2018-06-01 2018-06-02 1441\n"
     ]
    },
    {
     "name": "stderr",
     "output_type": "stream",
     "text": [
      "C:\\Users\\gentemann\\Miniconda3\\envs\\satenv\\lib\\site-packages\\ipykernel_launcher.py:37: RuntimeWarning: invalid value encountered in remainder\n",
      "C:\\Users\\gentemann\\Miniconda3\\envs\\satenv\\lib\\site-packages\\pyresample\\kd_tree.py:411: RuntimeWarning: invalid value encountered in greater_equal\n",
      "  (source_lats <= 90) & (source_lats >= -90))\n",
      "C:\\Users\\gentemann\\Miniconda3\\envs\\satenv\\lib\\site-packages\\pyresample\\kd_tree.py:411: RuntimeWarning: invalid value encountered in less_equal\n",
      "  (source_lats <= 90) & (source_lats >= -90))\n",
      "C:\\Users\\gentemann\\Miniconda3\\envs\\satenv\\lib\\site-packages\\pyresample\\data_reduce.py:304: RuntimeWarning: invalid value encountered in greater_equal\n",
      "  valid_lats = (lats >= lat_min_buffered) * (lats <= lat_max_buffered)\n",
      "C:\\Users\\gentemann\\Miniconda3\\envs\\satenv\\lib\\site-packages\\pyresample\\data_reduce.py:304: RuntimeWarning: invalid value encountered in less_equal\n",
      "  valid_lats = (lats >= lat_min_buffered) * (lats <= lat_max_buffered)\n",
      "C:\\Users\\gentemann\\Miniconda3\\envs\\satenv\\lib\\site-packages\\pyresample\\data_reduce.py:308: RuntimeWarning: invalid value encountered in greater_equal\n",
      "  valid_lons = (lons >= lon_min_buffered) * \\\n",
      "C:\\Users\\gentemann\\Miniconda3\\envs\\satenv\\lib\\site-packages\\pyresample\\data_reduce.py:309: RuntimeWarning: invalid value encountered in less_equal\n",
      "  (lons <= lon_max_buffered)\n"
     ]
    },
    {
     "name": "stdout",
     "output_type": "stream",
     "text": [
      "2018-06-02 2018-06-03 1441\n"
     ]
    },
    {
     "name": "stderr",
     "output_type": "stream",
     "text": [
      "C:\\Users\\gentemann\\Miniconda3\\envs\\satenv\\lib\\site-packages\\ipykernel_launcher.py:37: RuntimeWarning: invalid value encountered in remainder\n",
      "C:\\Users\\gentemann\\Miniconda3\\envs\\satenv\\lib\\site-packages\\pyresample\\kd_tree.py:411: RuntimeWarning: invalid value encountered in greater_equal\n",
      "  (source_lats <= 90) & (source_lats >= -90))\n",
      "C:\\Users\\gentemann\\Miniconda3\\envs\\satenv\\lib\\site-packages\\pyresample\\kd_tree.py:411: RuntimeWarning: invalid value encountered in less_equal\n",
      "  (source_lats <= 90) & (source_lats >= -90))\n",
      "C:\\Users\\gentemann\\Miniconda3\\envs\\satenv\\lib\\site-packages\\pyresample\\data_reduce.py:304: RuntimeWarning: invalid value encountered in greater_equal\n",
      "  valid_lats = (lats >= lat_min_buffered) * (lats <= lat_max_buffered)\n",
      "C:\\Users\\gentemann\\Miniconda3\\envs\\satenv\\lib\\site-packages\\pyresample\\data_reduce.py:304: RuntimeWarning: invalid value encountered in less_equal\n",
      "  valid_lats = (lats >= lat_min_buffered) * (lats <= lat_max_buffered)\n",
      "C:\\Users\\gentemann\\Miniconda3\\envs\\satenv\\lib\\site-packages\\pyresample\\data_reduce.py:308: RuntimeWarning: invalid value encountered in greater_equal\n",
      "  valid_lons = (lons >= lon_min_buffered) * \\\n",
      "C:\\Users\\gentemann\\Miniconda3\\envs\\satenv\\lib\\site-packages\\pyresample\\data_reduce.py:309: RuntimeWarning: invalid value encountered in less_equal\n",
      "  (lons <= lon_max_buffered)\n"
     ]
    },
    {
     "name": "stdout",
     "output_type": "stream",
     "text": [
      "2018-06-03 2018-06-04 1441\n"
     ]
    },
    {
     "name": "stderr",
     "output_type": "stream",
     "text": [
      "C:\\Users\\gentemann\\Miniconda3\\envs\\satenv\\lib\\site-packages\\ipykernel_launcher.py:37: RuntimeWarning: invalid value encountered in remainder\n",
      "C:\\Users\\gentemann\\Miniconda3\\envs\\satenv\\lib\\site-packages\\pyresample\\kd_tree.py:411: RuntimeWarning: invalid value encountered in greater_equal\n",
      "  (source_lats <= 90) & (source_lats >= -90))\n",
      "C:\\Users\\gentemann\\Miniconda3\\envs\\satenv\\lib\\site-packages\\pyresample\\kd_tree.py:411: RuntimeWarning: invalid value encountered in less_equal\n",
      "  (source_lats <= 90) & (source_lats >= -90))\n",
      "C:\\Users\\gentemann\\Miniconda3\\envs\\satenv\\lib\\site-packages\\pyresample\\data_reduce.py:304: RuntimeWarning: invalid value encountered in greater_equal\n",
      "  valid_lats = (lats >= lat_min_buffered) * (lats <= lat_max_buffered)\n",
      "C:\\Users\\gentemann\\Miniconda3\\envs\\satenv\\lib\\site-packages\\pyresample\\data_reduce.py:304: RuntimeWarning: invalid value encountered in less_equal\n",
      "  valid_lats = (lats >= lat_min_buffered) * (lats <= lat_max_buffered)\n",
      "C:\\Users\\gentemann\\Miniconda3\\envs\\satenv\\lib\\site-packages\\pyresample\\data_reduce.py:308: RuntimeWarning: invalid value encountered in greater_equal\n",
      "  valid_lons = (lons >= lon_min_buffered) * \\\n",
      "C:\\Users\\gentemann\\Miniconda3\\envs\\satenv\\lib\\site-packages\\pyresample\\data_reduce.py:309: RuntimeWarning: invalid value encountered in less_equal\n",
      "  (lons <= lon_max_buffered)\n"
     ]
    },
    {
     "name": "stdout",
     "output_type": "stream",
     "text": [
      "2018-06-04 2018-06-05 1441\n"
     ]
    },
    {
     "name": "stderr",
     "output_type": "stream",
     "text": [
      "C:\\Users\\gentemann\\Miniconda3\\envs\\satenv\\lib\\site-packages\\ipykernel_launcher.py:37: RuntimeWarning: invalid value encountered in remainder\n",
      "C:\\Users\\gentemann\\Miniconda3\\envs\\satenv\\lib\\site-packages\\pyresample\\kd_tree.py:411: RuntimeWarning: invalid value encountered in greater_equal\n",
      "  (source_lats <= 90) & (source_lats >= -90))\n",
      "C:\\Users\\gentemann\\Miniconda3\\envs\\satenv\\lib\\site-packages\\pyresample\\kd_tree.py:411: RuntimeWarning: invalid value encountered in less_equal\n",
      "  (source_lats <= 90) & (source_lats >= -90))\n",
      "C:\\Users\\gentemann\\Miniconda3\\envs\\satenv\\lib\\site-packages\\pyresample\\data_reduce.py:304: RuntimeWarning: invalid value encountered in greater_equal\n",
      "  valid_lats = (lats >= lat_min_buffered) * (lats <= lat_max_buffered)\n",
      "C:\\Users\\gentemann\\Miniconda3\\envs\\satenv\\lib\\site-packages\\pyresample\\data_reduce.py:304: RuntimeWarning: invalid value encountered in less_equal\n",
      "  valid_lats = (lats >= lat_min_buffered) * (lats <= lat_max_buffered)\n",
      "C:\\Users\\gentemann\\Miniconda3\\envs\\satenv\\lib\\site-packages\\pyresample\\data_reduce.py:308: RuntimeWarning: invalid value encountered in greater_equal\n",
      "  valid_lons = (lons >= lon_min_buffered) * \\\n",
      "C:\\Users\\gentemann\\Miniconda3\\envs\\satenv\\lib\\site-packages\\pyresample\\data_reduce.py:309: RuntimeWarning: invalid value encountered in less_equal\n",
      "  (lons <= lon_max_buffered)\n"
     ]
    },
    {
     "name": "stdout",
     "output_type": "stream",
     "text": [
      "2018-06-05 2018-06-06 1441\n"
     ]
    },
    {
     "name": "stderr",
     "output_type": "stream",
     "text": [
      "C:\\Users\\gentemann\\Miniconda3\\envs\\satenv\\lib\\site-packages\\ipykernel_launcher.py:37: RuntimeWarning: invalid value encountered in remainder\n",
      "C:\\Users\\gentemann\\Miniconda3\\envs\\satenv\\lib\\site-packages\\pyresample\\kd_tree.py:411: RuntimeWarning: invalid value encountered in greater_equal\n",
      "  (source_lats <= 90) & (source_lats >= -90))\n",
      "C:\\Users\\gentemann\\Miniconda3\\envs\\satenv\\lib\\site-packages\\pyresample\\kd_tree.py:411: RuntimeWarning: invalid value encountered in less_equal\n",
      "  (source_lats <= 90) & (source_lats >= -90))\n",
      "C:\\Users\\gentemann\\Miniconda3\\envs\\satenv\\lib\\site-packages\\pyresample\\data_reduce.py:304: RuntimeWarning: invalid value encountered in greater_equal\n",
      "  valid_lats = (lats >= lat_min_buffered) * (lats <= lat_max_buffered)\n",
      "C:\\Users\\gentemann\\Miniconda3\\envs\\satenv\\lib\\site-packages\\pyresample\\data_reduce.py:304: RuntimeWarning: invalid value encountered in less_equal\n",
      "  valid_lats = (lats >= lat_min_buffered) * (lats <= lat_max_buffered)\n",
      "C:\\Users\\gentemann\\Miniconda3\\envs\\satenv\\lib\\site-packages\\pyresample\\data_reduce.py:308: RuntimeWarning: invalid value encountered in greater_equal\n",
      "  valid_lons = (lons >= lon_min_buffered) * \\\n",
      "C:\\Users\\gentemann\\Miniconda3\\envs\\satenv\\lib\\site-packages\\pyresample\\data_reduce.py:309: RuntimeWarning: invalid value encountered in less_equal\n",
      "  (lons <= lon_max_buffered)\n"
     ]
    },
    {
     "name": "stdout",
     "output_type": "stream",
     "text": [
      "2018-06-06 2018-06-07 1441\n"
     ]
    },
    {
     "name": "stderr",
     "output_type": "stream",
     "text": [
      "C:\\Users\\gentemann\\Miniconda3\\envs\\satenv\\lib\\site-packages\\ipykernel_launcher.py:37: RuntimeWarning: invalid value encountered in remainder\n",
      "C:\\Users\\gentemann\\Miniconda3\\envs\\satenv\\lib\\site-packages\\pyresample\\kd_tree.py:411: RuntimeWarning: invalid value encountered in greater_equal\n",
      "  (source_lats <= 90) & (source_lats >= -90))\n",
      "C:\\Users\\gentemann\\Miniconda3\\envs\\satenv\\lib\\site-packages\\pyresample\\kd_tree.py:411: RuntimeWarning: invalid value encountered in less_equal\n",
      "  (source_lats <= 90) & (source_lats >= -90))\n",
      "C:\\Users\\gentemann\\Miniconda3\\envs\\satenv\\lib\\site-packages\\pyresample\\data_reduce.py:304: RuntimeWarning: invalid value encountered in greater_equal\n",
      "  valid_lats = (lats >= lat_min_buffered) * (lats <= lat_max_buffered)\n",
      "C:\\Users\\gentemann\\Miniconda3\\envs\\satenv\\lib\\site-packages\\pyresample\\data_reduce.py:304: RuntimeWarning: invalid value encountered in less_equal\n",
      "  valid_lats = (lats >= lat_min_buffered) * (lats <= lat_max_buffered)\n",
      "C:\\Users\\gentemann\\Miniconda3\\envs\\satenv\\lib\\site-packages\\pyresample\\data_reduce.py:308: RuntimeWarning: invalid value encountered in greater_equal\n",
      "  valid_lons = (lons >= lon_min_buffered) * \\\n",
      "C:\\Users\\gentemann\\Miniconda3\\envs\\satenv\\lib\\site-packages\\pyresample\\data_reduce.py:309: RuntimeWarning: invalid value encountered in less_equal\n",
      "  (lons <= lon_max_buffered)\n"
     ]
    },
    {
     "name": "stdout",
     "output_type": "stream",
     "text": [
      "2018-06-07 2018-06-08 1441\n"
     ]
    },
    {
     "name": "stderr",
     "output_type": "stream",
     "text": [
      "C:\\Users\\gentemann\\Miniconda3\\envs\\satenv\\lib\\site-packages\\ipykernel_launcher.py:37: RuntimeWarning: invalid value encountered in remainder\n",
      "C:\\Users\\gentemann\\Miniconda3\\envs\\satenv\\lib\\site-packages\\pyresample\\kd_tree.py:411: RuntimeWarning: invalid value encountered in greater_equal\n",
      "  (source_lats <= 90) & (source_lats >= -90))\n",
      "C:\\Users\\gentemann\\Miniconda3\\envs\\satenv\\lib\\site-packages\\pyresample\\kd_tree.py:411: RuntimeWarning: invalid value encountered in less_equal\n",
      "  (source_lats <= 90) & (source_lats >= -90))\n",
      "C:\\Users\\gentemann\\Miniconda3\\envs\\satenv\\lib\\site-packages\\pyresample\\data_reduce.py:304: RuntimeWarning: invalid value encountered in greater_equal\n",
      "  valid_lats = (lats >= lat_min_buffered) * (lats <= lat_max_buffered)\n",
      "C:\\Users\\gentemann\\Miniconda3\\envs\\satenv\\lib\\site-packages\\pyresample\\data_reduce.py:304: RuntimeWarning: invalid value encountered in less_equal\n",
      "  valid_lats = (lats >= lat_min_buffered) * (lats <= lat_max_buffered)\n",
      "C:\\Users\\gentemann\\Miniconda3\\envs\\satenv\\lib\\site-packages\\pyresample\\data_reduce.py:308: RuntimeWarning: invalid value encountered in greater_equal\n",
      "  valid_lons = (lons >= lon_min_buffered) * \\\n",
      "C:\\Users\\gentemann\\Miniconda3\\envs\\satenv\\lib\\site-packages\\pyresample\\data_reduce.py:309: RuntimeWarning: invalid value encountered in less_equal\n",
      "  (lons <= lon_max_buffered)\n"
     ]
    },
    {
     "name": "stdout",
     "output_type": "stream",
     "text": [
      "2018-06-08 2018-06-09 1441\n"
     ]
    },
    {
     "name": "stderr",
     "output_type": "stream",
     "text": [
      "C:\\Users\\gentemann\\Miniconda3\\envs\\satenv\\lib\\site-packages\\ipykernel_launcher.py:37: RuntimeWarning: invalid value encountered in remainder\n",
      "C:\\Users\\gentemann\\Miniconda3\\envs\\satenv\\lib\\site-packages\\pyresample\\kd_tree.py:411: RuntimeWarning: invalid value encountered in greater_equal\n",
      "  (source_lats <= 90) & (source_lats >= -90))\n",
      "C:\\Users\\gentemann\\Miniconda3\\envs\\satenv\\lib\\site-packages\\pyresample\\kd_tree.py:411: RuntimeWarning: invalid value encountered in less_equal\n",
      "  (source_lats <= 90) & (source_lats >= -90))\n",
      "C:\\Users\\gentemann\\Miniconda3\\envs\\satenv\\lib\\site-packages\\pyresample\\data_reduce.py:304: RuntimeWarning: invalid value encountered in greater_equal\n",
      "  valid_lats = (lats >= lat_min_buffered) * (lats <= lat_max_buffered)\n",
      "C:\\Users\\gentemann\\Miniconda3\\envs\\satenv\\lib\\site-packages\\pyresample\\data_reduce.py:304: RuntimeWarning: invalid value encountered in less_equal\n",
      "  valid_lats = (lats >= lat_min_buffered) * (lats <= lat_max_buffered)\n",
      "C:\\Users\\gentemann\\Miniconda3\\envs\\satenv\\lib\\site-packages\\pyresample\\data_reduce.py:308: RuntimeWarning: invalid value encountered in greater_equal\n",
      "  valid_lons = (lons >= lon_min_buffered) * \\\n",
      "C:\\Users\\gentemann\\Miniconda3\\envs\\satenv\\lib\\site-packages\\pyresample\\data_reduce.py:309: RuntimeWarning: invalid value encountered in less_equal\n",
      "  (lons <= lon_max_buffered)\n"
     ]
    },
    {
     "name": "stdout",
     "output_type": "stream",
     "text": [
      "2018-06-09 2018-06-10 1441\n"
     ]
    },
    {
     "name": "stderr",
     "output_type": "stream",
     "text": [
      "C:\\Users\\gentemann\\Miniconda3\\envs\\satenv\\lib\\site-packages\\ipykernel_launcher.py:37: RuntimeWarning: invalid value encountered in remainder\n",
      "C:\\Users\\gentemann\\Miniconda3\\envs\\satenv\\lib\\site-packages\\pyresample\\kd_tree.py:411: RuntimeWarning: invalid value encountered in greater_equal\n",
      "  (source_lats <= 90) & (source_lats >= -90))\n",
      "C:\\Users\\gentemann\\Miniconda3\\envs\\satenv\\lib\\site-packages\\pyresample\\kd_tree.py:411: RuntimeWarning: invalid value encountered in less_equal\n",
      "  (source_lats <= 90) & (source_lats >= -90))\n",
      "C:\\Users\\gentemann\\Miniconda3\\envs\\satenv\\lib\\site-packages\\pyresample\\data_reduce.py:304: RuntimeWarning: invalid value encountered in greater_equal\n",
      "  valid_lats = (lats >= lat_min_buffered) * (lats <= lat_max_buffered)\n",
      "C:\\Users\\gentemann\\Miniconda3\\envs\\satenv\\lib\\site-packages\\pyresample\\data_reduce.py:304: RuntimeWarning: invalid value encountered in less_equal\n",
      "  valid_lats = (lats >= lat_min_buffered) * (lats <= lat_max_buffered)\n",
      "C:\\Users\\gentemann\\Miniconda3\\envs\\satenv\\lib\\site-packages\\pyresample\\data_reduce.py:308: RuntimeWarning: invalid value encountered in greater_equal\n",
      "  valid_lons = (lons >= lon_min_buffered) * \\\n",
      "C:\\Users\\gentemann\\Miniconda3\\envs\\satenv\\lib\\site-packages\\pyresample\\data_reduce.py:309: RuntimeWarning: invalid value encountered in less_equal\n",
      "  (lons <= lon_max_buffered)\n"
     ]
    },
    {
     "name": "stdout",
     "output_type": "stream",
     "text": [
      "2018-06-10 2018-06-11 1140\n"
     ]
    },
    {
     "name": "stderr",
     "output_type": "stream",
     "text": [
      "C:\\Users\\gentemann\\Miniconda3\\envs\\satenv\\lib\\site-packages\\ipykernel_launcher.py:37: RuntimeWarning: invalid value encountered in remainder\n",
      "C:\\Users\\gentemann\\Miniconda3\\envs\\satenv\\lib\\site-packages\\pyresample\\kd_tree.py:411: RuntimeWarning: invalid value encountered in greater_equal\n",
      "  (source_lats <= 90) & (source_lats >= -90))\n",
      "C:\\Users\\gentemann\\Miniconda3\\envs\\satenv\\lib\\site-packages\\pyresample\\kd_tree.py:411: RuntimeWarning: invalid value encountered in less_equal\n",
      "  (source_lats <= 90) & (source_lats >= -90))\n",
      "C:\\Users\\gentemann\\Miniconda3\\envs\\satenv\\lib\\site-packages\\pyresample\\data_reduce.py:304: RuntimeWarning: invalid value encountered in greater_equal\n",
      "  valid_lats = (lats >= lat_min_buffered) * (lats <= lat_max_buffered)\n",
      "C:\\Users\\gentemann\\Miniconda3\\envs\\satenv\\lib\\site-packages\\pyresample\\data_reduce.py:304: RuntimeWarning: invalid value encountered in less_equal\n",
      "  valid_lats = (lats >= lat_min_buffered) * (lats <= lat_max_buffered)\n",
      "C:\\Users\\gentemann\\Miniconda3\\envs\\satenv\\lib\\site-packages\\pyresample\\data_reduce.py:308: RuntimeWarning: invalid value encountered in greater_equal\n",
      "  valid_lons = (lons >= lon_min_buffered) * \\\n",
      "C:\\Users\\gentemann\\Miniconda3\\envs\\satenv\\lib\\site-packages\\pyresample\\data_reduce.py:309: RuntimeWarning: invalid value encountered in less_equal\n",
      "  (lons <= lon_max_buffered)\n"
     ]
    },
    {
     "name": "stdout",
     "output_type": "stream",
     "text": [
      "2018-06-11 2018-06-12 0\n"
     ]
    }
   ],
   "source": [
    "#search each day of USV data for min/max lat/lon \n",
    "#read in orbital files for that day and check to see if any valid data in that box\n",
    "\n",
    "#intialize grid\n",
    "area_def = load_area('areas.cfg', 'pc_world')\n",
    "rlon=np.arange(-180,180,.1)\n",
    "rlat=np.arange(90,-90,-.1)\n",
    "\n",
    "#init filelist\n",
    "file_save=[]\n",
    "\n",
    "#search usv data\n",
    "minday,maxday = ds_usv.time[0],ds_usv.time[-1]\n",
    "usv_day = minday\n",
    "print(minday.data,maxday.data)\n",
    "while usv_day<=maxday:\n",
    "    usv_day += np.timedelta64(1,'D')\n",
    "    check_day = np.datetime64(str(usv_day.dt.year.data)+'-'+str(usv_day.dt.month.data).zfill(2)+'-'+str(usv_day.dt.day.data).zfill(2))\n",
    "    usv_day1 = usv_day + np.timedelta64(1,'D')\n",
    "    check_day1 = np.datetime64(str(usv_day1.dt.year.data)+'-'+str(usv_day1.dt.month.data).zfill(2)+'-'+str(usv_day1.dt.day.data).zfill(2))\n",
    "    ds_day = ds_usv.sel(time=slice(check_day,check_day1))\n",
    "    ilen = ds_day.time.size\n",
    "    print(check_day,check_day1,ilen)\n",
    "    if ilen<10:\n",
    "        continue\n",
    "    minlon,maxlon,minlat,maxlat = ds_day.lon.min().data,ds_day.lon.max().data,ds_day.lat.min().data,ds_day.lat.max().data\n",
    "#caluclate filelist\n",
    "    filelist = glob('F:/data/sat_data/smap/SSS/L2/RSS/V3/40km/'\n",
    "                    +str(usv_day.dt.year.data)+'/'+str(usv_day.dt.dayofyear.data)+'/*.nc')   \n",
    "    x,y,z = [],[],[]\n",
    "    for file in filelist:\n",
    "        ds = xr.open_dataset(file)\n",
    "        ds.close()\n",
    "        x = ds.cellon[:,:,0].data #np.append(x,ds.cellon[:,:,0].data)\n",
    "        y = ds.cellat[:,:,0].data #np.append(y,ds.cellat[:,:,0].data)\n",
    "        z = ds.sss_smap[:,:,0].data #np.append(z,ds.sss_smap[:,:,0].data)\n",
    "        lons,lats,data = x,y,z \n",
    "        lons = np.mod(lons+180,360)-180\n",
    "        swath_def = SwathDefinition(lons, lats)\n",
    "        result1 = resample_nearest(swath_def, data, area_def, radius_of_influence=20000, fill_value=None)\n",
    "        da = xr.DataArray(result1,name='sss',coords={'lat':rlat,'lon':rlon},dims=('lat','lon'))\n",
    "        subset = da.sel(lat = slice(maxlat,minlat),lon=slice(minlon,maxlon))\n",
    "        num_obs = np.isfinite(subset).sum()\n",
    "        if num_obs>0:\n",
    "            file_save = np.append(file_save,file)\n",
    "df = xr.DataArray(file_save,name='filenames')\n",
    "df.to_netcdf('C:/Users/gentemann/Google Drive/f_drive/docs/projects/SSS/rss40km_filesave.nc')"
   ]
  },
  {
   "cell_type": "code",
   "execution_count": 26,
   "metadata": {},
   "outputs": [],
   "source": [
    "#now read in orbits that have collocated data\n",
    "#subset orbit to region USV has data on that day\n",
    "#need to fill lat/lon nan with value for tree to build\n",
    "#just picked -89 as it is outside usv observation region\n",
    "from scipy import spatial\n",
    "df = xr.open_dataset('C:/Users/gentemann/Google Drive/f_drive/docs/projects/SSS/rss40km_filesave.nc')\n"
   ]
  },
  {
   "cell_type": "code",
   "execution_count": 247,
   "metadata": {},
   "outputs": [
    {
     "data": {
      "text/plain": [
       "numpy.datetime64('2000-01-01T00:00:00.000000000')"
      ]
     },
     "execution_count": 247,
     "metadata": {},
     "output_type": "execute_result"
    }
   ],
   "source": []
  },
  {
   "cell_type": "code",
   "execution_count": 257,
   "metadata": {},
   "outputs": [],
   "source": [
    "file = df.filenames[1].data\n",
    "file = str(df.filenames[1].data)\n",
    "file.replace('\\\\','/')\n",
    "ds = xr.open_dataset(file)\n",
    "ds.close()\n",
    "lons = ds.cellon[:,:,0].fillna(-89).data #np.append(x,ds.cellon[:,:,0].data)\n",
    "lats = ds.cellat[:,:,0].fillna(-89).data #np.append(y,ds.cellat[:,:,0].data)\n",
    "inputdata = list(zip(lons.ravel(), lats.ravel()))\n",
    "tree = spatial.KDTree(inputdata)\n",
    "pts = np.array([ds_usv.lon[1000]+360, ds_usv.lat[1000]])\n",
    "tree.query(pts,k=1)\n",
    "i=tree.query(pts)[1]\n",
    "ii=np.int(np.floor(i/1560))\n",
    "jj=np.mod(i,1560)\n"
   ]
  },
  {
   "cell_type": "code",
   "execution_count": 256,
   "metadata": {},
   "outputs": [
    {
     "data": {
      "text/plain": [
       "<xarray.DataArray 'time' ()>\n",
       "array('2018-04-14T15:17:28.670473000', dtype='datetime64[ns]')"
      ]
     },
     "execution_count": 256,
     "metadata": {},
     "output_type": "execute_result"
    }
   ],
   "source": [
    "ds.time[:,:,0].max()"
   ]
  },
  {
   "cell_type": "code",
   "execution_count": 239,
   "metadata": {},
   "outputs": [
    {
     "name": "stdout",
     "output_type": "stream",
     "text": [
      "(0.12456794107567877, 792031)\n",
      "(237.6235, 36.88049)\n",
      "[237.511616, array(36.8257344)]\n",
      "1123200\n"
     ]
    }
   ],
   "source": [
    "print(tree.query(pts))\n",
    "print(inputdata[tree.query(pts)[1]])\n",
    "print([ds_usv.lon[1000].data+360, ds_usv.lat[1000].data])\n",
    "print(len(inputdata))"
   ]
  },
  {
   "cell_type": "code",
   "execution_count": 240,
   "metadata": {},
   "outputs": [
    {
     "name": "stdout",
     "output_type": "stream",
     "text": [
      "-122.488384 36.8257344\n",
      "1111 507 792031\n",
      "-122.37649536132812 36.88049\n",
      "-122.37649536132812 36.88049\n"
     ]
    }
   ],
   "source": [
    "print(ds_usv.lon[1000].data,ds_usv.lat[1000].data)\n",
    "print(jj,ii, ii*1560+jj)\n",
    "print(ds.cellon[ii,jj,0].data-360,ds.cellat[ii,jj,0].data)\n",
    "print(lons[ii,jj]-360,lats[ii,jj])\n"
   ]
  },
  {
   "cell_type": "code",
   "execution_count": 160,
   "metadata": {},
   "outputs": [
    {
     "data": {
      "text/plain": [
       "(25, 40)"
      ]
     },
     "execution_count": 160,
     "metadata": {},
     "output_type": "execute_result"
    },
    {
     "data": {
      "image/png": "[encoded data removed]",
      "text/plain": [
       "<Figure size 432x288 with 1 Axes>"
      ]
     },
     "metadata": {
      "needs_background": "light"
     },
     "output_type": "display_data"
    }
   ],
   "source": [
    "ds = xr.open_dataset(file)\n",
    "ds.close()\n",
    "x = ds.cellon[:,:,0].data\n",
    "y = ds.cellat[:,:,0].data\n",
    "z = ds.sss_smap[:,:,0].data\n",
    "ax = plt.axes(projection=ccrs.PlateCarree())\n",
    "cs1 = ax.scatter(x, y, s=1.0, c=z, edgecolor='none', cmap='jet')\n",
    "minlon,maxlon,minlat,maxlat = ds_usv.lon.min().data,ds_usv.lon.max().data,ds_usv.lat.min().data,ds_usv.lat.max().data\n",
    "ax.plot([minlon,maxlon,maxlon,minlon,minlon],[minlat,minlat,maxlat,maxlat,minlat])\n",
    "ax.plot(ds.cellon[jj,ii,0],ds.cellat[jj,ii,0],'b*')\n",
    "ax.plot(ds_usv.lon[1000],ds_usv.lat[1000],'ro')\n",
    "ax.coastlines()\n",
    "ax.set_xlim(-130,-110)\n",
    "ax.set_ylim(25,40)\n"
   ]
  },
  {
   "cell_type": "code",
   "execution_count": 129,
   "metadata": {},
   "outputs": [
    {
     "data": {
      "text/plain": [
       "359.99933"
      ]
     },
     "execution_count": 129,
     "metadata": {},
     "output_type": "execute_result"
    }
   ],
   "source": [
    "np.nanmax(ds.cellon)"
   ]
  },
  {
   "cell_type": "code",
   "execution_count": 66,
   "metadata": {},
   "outputs": [
    {
     "name": "stdout",
     "output_type": "stream",
     "text": [
      "-125.55297279999999 -115.5226624 28.0176832 37.6797408\n"
     ]
    },
    {
     "name": "stderr",
     "output_type": "stream",
     "text": [
      "C:\\Users\\gentemann\\Miniconda3\\envs\\satenv\\lib\\site-packages\\ipykernel_launcher.py:8: RuntimeWarning: invalid value encountered in greater_equal\n",
      "  \n",
      "C:\\Users\\gentemann\\Miniconda3\\envs\\satenv\\lib\\site-packages\\ipykernel_launcher.py:8: RuntimeWarning: invalid value encountered in less_equal\n",
      "  \n"
     ]
    },
    {
     "ename": "ValueError",
     "evalue": "operands could not be broadcast together with shapes (720,1560,2) (720,1560) () ",
     "output_type": "error",
     "traceback": [
      "\u001b[1;31m---------------------------------------------------------------------------\u001b[0m",
      "\u001b[1;31mValueError\u001b[0m                                Traceback (most recent call last)",
      "\u001b[1;32m<ipython-input-66-8207c605ad5e>\u001b[0m in \u001b[0;36m<module>\u001b[1;34m\u001b[0m\n\u001b[0;32m      6\u001b[0m \u001b[1;31m#meets_condition = (air_day.air > 22) & (air_day.air < 30)\u001b[0m\u001b[1;33m\u001b[0m\u001b[1;33m\u001b[0m\u001b[1;33m\u001b[0m\u001b[0m\n\u001b[0;32m      7\u001b[0m \u001b[1;31m#subset = ds.where((lons>=minlon) & (lons<=maxlon) & (lats>=minlat) & (lats<=maxlat),drop=True)\u001b[0m\u001b[1;33m\u001b[0m\u001b[1;33m\u001b[0m\u001b[1;33m\u001b[0m\u001b[0m\n\u001b[1;32m----> 8\u001b[1;33m \u001b[0msubset\u001b[0m \u001b[1;33m=\u001b[0m \u001b[0mds\u001b[0m\u001b[1;33m.\u001b[0m\u001b[0mwhere\u001b[0m\u001b[1;33m(\u001b[0m\u001b[1;33m(\u001b[0m\u001b[0mlons\u001b[0m\u001b[1;33m>=\u001b[0m\u001b[0mminlon\u001b[0m\u001b[1;33m)\u001b[0m \u001b[1;33m&\u001b[0m \u001b[1;33m(\u001b[0m\u001b[0mlons\u001b[0m\u001b[1;33m<=\u001b[0m\u001b[0mmaxlon\u001b[0m\u001b[1;33m)\u001b[0m \u001b[1;33m&\u001b[0m \u001b[1;33m(\u001b[0m\u001b[0mlats\u001b[0m\u001b[1;33m>=\u001b[0m\u001b[0mminlat\u001b[0m\u001b[1;33m)\u001b[0m \u001b[1;33m&\u001b[0m \u001b[1;33m(\u001b[0m\u001b[0mlats\u001b[0m\u001b[1;33m<=\u001b[0m\u001b[0mmaxlat\u001b[0m\u001b[1;33m)\u001b[0m\u001b[1;33m)\u001b[0m\u001b[1;33m\u001b[0m\u001b[1;33m\u001b[0m\u001b[0m\n\u001b[0m\u001b[0;32m      9\u001b[0m \u001b[0mprint\u001b[0m\u001b[1;33m(\u001b[0m\u001b[0msubset\u001b[0m\u001b[1;33m)\u001b[0m\u001b[1;33m\u001b[0m\u001b[1;33m\u001b[0m\u001b[0m\n",
      "\u001b[1;32m~\\Miniconda3\\envs\\satenv\\lib\\site-packages\\xarray\\core\\common.py\u001b[0m in \u001b[0;36mwhere\u001b[1;34m(self, cond, other, drop)\u001b[0m\n\u001b[0;32m    857\u001b[0m             \u001b[0mcond\u001b[0m \u001b[1;33m=\u001b[0m \u001b[0mcond\u001b[0m\u001b[1;33m.\u001b[0m\u001b[0misel\u001b[0m\u001b[1;33m(\u001b[0m\u001b[1;33m**\u001b[0m\u001b[0mindexers\u001b[0m\u001b[1;33m)\u001b[0m\u001b[1;33m\u001b[0m\u001b[1;33m\u001b[0m\u001b[0m\n\u001b[0;32m    858\u001b[0m \u001b[1;33m\u001b[0m\u001b[0m\n\u001b[1;32m--> 859\u001b[1;33m         \u001b[1;32mreturn\u001b[0m \u001b[0mops\u001b[0m\u001b[1;33m.\u001b[0m\u001b[0mwhere_method\u001b[0m\u001b[1;33m(\u001b[0m\u001b[0mself\u001b[0m\u001b[1;33m,\u001b[0m \u001b[0mcond\u001b[0m\u001b[1;33m,\u001b[0m \u001b[0mother\u001b[0m\u001b[1;33m)\u001b[0m\u001b[1;33m\u001b[0m\u001b[1;33m\u001b[0m\u001b[0m\n\u001b[0m\u001b[0;32m    860\u001b[0m \u001b[1;33m\u001b[0m\u001b[0m\n\u001b[0;32m    861\u001b[0m     \u001b[1;32mdef\u001b[0m \u001b[0mclose\u001b[0m\u001b[1;33m(\u001b[0m\u001b[0mself\u001b[0m\u001b[1;33m)\u001b[0m\u001b[1;33m:\u001b[0m\u001b[1;33m\u001b[0m\u001b[1;33m\u001b[0m\u001b[0m\n",
      "\u001b[1;32m~\\Miniconda3\\envs\\satenv\\lib\\site-packages\\xarray\\core\\ops.py\u001b[0m in \u001b[0;36mwhere_method\u001b[1;34m(self, cond, other)\u001b[0m\n\u001b[0;32m    189\u001b[0m                        \u001b[0mdataset_join\u001b[0m\u001b[1;33m=\u001b[0m\u001b[0mjoin\u001b[0m\u001b[1;33m,\u001b[0m\u001b[1;33m\u001b[0m\u001b[1;33m\u001b[0m\u001b[0m\n\u001b[0;32m    190\u001b[0m                        \u001b[0mdask\u001b[0m\u001b[1;33m=\u001b[0m\u001b[1;34m'allowed'\u001b[0m\u001b[1;33m,\u001b[0m\u001b[1;33m\u001b[0m\u001b[1;33m\u001b[0m\u001b[0m\n\u001b[1;32m--> 191\u001b[1;33m                        keep_attrs=True)\n\u001b[0m\u001b[0;32m    192\u001b[0m \u001b[1;33m\u001b[0m\u001b[0m\n\u001b[0;32m    193\u001b[0m \u001b[1;33m\u001b[0m\u001b[0m\n",
      "\u001b[1;32m~\\Miniconda3\\envs\\satenv\\lib\\site-packages\\xarray\\core\\computation.py\u001b[0m in \u001b[0;36mapply_ufunc\u001b[1;34m(func, input_core_dims, output_core_dims, exclude_dims, vectorize, join, dataset_join, dataset_fill_value, keep_attrs, kwargs, dask, output_dtypes, output_sizes, *args)\u001b[0m\n\u001b[0;32m    961\u001b[0m                                    \u001b[0mdataset_join\u001b[0m\u001b[1;33m=\u001b[0m\u001b[0mdataset_join\u001b[0m\u001b[1;33m,\u001b[0m\u001b[1;33m\u001b[0m\u001b[1;33m\u001b[0m\u001b[0m\n\u001b[0;32m    962\u001b[0m                                    \u001b[0mfill_value\u001b[0m\u001b[1;33m=\u001b[0m\u001b[0mdataset_fill_value\u001b[0m\u001b[1;33m,\u001b[0m\u001b[1;33m\u001b[0m\u001b[1;33m\u001b[0m\u001b[0m\n\u001b[1;32m--> 963\u001b[1;33m                                    keep_attrs=keep_attrs)\n\u001b[0m\u001b[0;32m    964\u001b[0m     \u001b[1;32melif\u001b[0m \u001b[0many\u001b[0m\u001b[1;33m(\u001b[0m\u001b[0misinstance\u001b[0m\u001b[1;33m(\u001b[0m\u001b[0ma\u001b[0m\u001b[1;33m,\u001b[0m \u001b[0mDataArray\u001b[0m\u001b[1;33m)\u001b[0m \u001b[1;32mfor\u001b[0m \u001b[0ma\u001b[0m \u001b[1;32min\u001b[0m \u001b[0margs\u001b[0m\u001b[1;33m)\u001b[0m\u001b[1;33m:\u001b[0m\u001b[1;33m\u001b[0m\u001b[1;33m\u001b[0m\u001b[0m\n\u001b[0;32m    965\u001b[0m         return apply_dataarray_vfunc(variables_vfunc, *args,\n",
      "\u001b[1;32m~\\Miniconda3\\envs\\satenv\\lib\\site-packages\\xarray\\core\\computation.py\u001b[0m in \u001b[0;36mapply_dataset_vfunc\u001b[1;34m(func, signature, join, dataset_join, fill_value, exclude_dims, keep_attrs, *args)\u001b[0m\n\u001b[0;32m    368\u001b[0m     result_vars = apply_dict_of_variables_vfunc(\n\u001b[0;32m    369\u001b[0m         \u001b[0mfunc\u001b[0m\u001b[1;33m,\u001b[0m \u001b[1;33m*\u001b[0m\u001b[0margs\u001b[0m\u001b[1;33m,\u001b[0m \u001b[0msignature\u001b[0m\u001b[1;33m=\u001b[0m\u001b[0msignature\u001b[0m\u001b[1;33m,\u001b[0m \u001b[0mjoin\u001b[0m\u001b[1;33m=\u001b[0m\u001b[0mdataset_join\u001b[0m\u001b[1;33m,\u001b[0m\u001b[1;33m\u001b[0m\u001b[1;33m\u001b[0m\u001b[0m\n\u001b[1;32m--> 370\u001b[1;33m         fill_value=fill_value)\n\u001b[0m\u001b[0;32m    371\u001b[0m \u001b[1;33m\u001b[0m\u001b[0m\n\u001b[0;32m    372\u001b[0m     \u001b[1;32mif\u001b[0m \u001b[0msignature\u001b[0m\u001b[1;33m.\u001b[0m\u001b[0mnum_outputs\u001b[0m \u001b[1;33m>\u001b[0m \u001b[1;36m1\u001b[0m\u001b[1;33m:\u001b[0m\u001b[1;33m\u001b[0m\u001b[1;33m\u001b[0m\u001b[0m\n",
      "\u001b[1;32m~\\Miniconda3\\envs\\satenv\\lib\\site-packages\\xarray\\core\\computation.py\u001b[0m in \u001b[0;36mapply_dict_of_variables_vfunc\u001b[1;34m(func, signature, join, fill_value, *args)\u001b[0m\n\u001b[0;32m    315\u001b[0m     \u001b[0mresult_vars\u001b[0m \u001b[1;33m=\u001b[0m \u001b[0mOrderedDict\u001b[0m\u001b[1;33m(\u001b[0m\u001b[1;33m)\u001b[0m\u001b[1;33m\u001b[0m\u001b[1;33m\u001b[0m\u001b[0m\n\u001b[0;32m    316\u001b[0m     \u001b[1;32mfor\u001b[0m \u001b[0mname\u001b[0m\u001b[1;33m,\u001b[0m \u001b[0mvariable_args\u001b[0m \u001b[1;32min\u001b[0m \u001b[0mzip\u001b[0m\u001b[1;33m(\u001b[0m\u001b[0mnames\u001b[0m\u001b[1;33m,\u001b[0m \u001b[0mgrouped_by_name\u001b[0m\u001b[1;33m)\u001b[0m\u001b[1;33m:\u001b[0m\u001b[1;33m\u001b[0m\u001b[1;33m\u001b[0m\u001b[0m\n\u001b[1;32m--> 317\u001b[1;33m         \u001b[0mresult_vars\u001b[0m\u001b[1;33m[\u001b[0m\u001b[0mname\u001b[0m\u001b[1;33m]\u001b[0m \u001b[1;33m=\u001b[0m \u001b[0mfunc\u001b[0m\u001b[1;33m(\u001b[0m\u001b[1;33m*\u001b[0m\u001b[0mvariable_args\u001b[0m\u001b[1;33m)\u001b[0m\u001b[1;33m\u001b[0m\u001b[1;33m\u001b[0m\u001b[0m\n\u001b[0m\u001b[0;32m    318\u001b[0m \u001b[1;33m\u001b[0m\u001b[0m\n\u001b[0;32m    319\u001b[0m     \u001b[1;32mif\u001b[0m \u001b[0msignature\u001b[0m\u001b[1;33m.\u001b[0m\u001b[0mnum_outputs\u001b[0m \u001b[1;33m>\u001b[0m \u001b[1;36m1\u001b[0m\u001b[1;33m:\u001b[0m\u001b[1;33m\u001b[0m\u001b[1;33m\u001b[0m\u001b[0m\n",
      "\u001b[1;32m~\\Miniconda3\\envs\\satenv\\lib\\site-packages\\xarray\\core\\computation.py\u001b[0m in \u001b[0;36mapply_variable_ufunc\u001b[1;34m(func, signature, exclude_dims, dask, output_dtypes, output_sizes, keep_attrs, *args)\u001b[0m\n\u001b[0;32m    563\u001b[0m             raise ValueError('unknown setting for dask array handling in '\n\u001b[0;32m    564\u001b[0m                              'apply_ufunc: {}'.format(dask))\n\u001b[1;32m--> 565\u001b[1;33m     \u001b[0mresult_data\u001b[0m \u001b[1;33m=\u001b[0m \u001b[0mfunc\u001b[0m\u001b[1;33m(\u001b[0m\u001b[1;33m*\u001b[0m\u001b[0minput_data\u001b[0m\u001b[1;33m)\u001b[0m\u001b[1;33m\u001b[0m\u001b[1;33m\u001b[0m\u001b[0m\n\u001b[0m\u001b[0;32m    566\u001b[0m \u001b[1;33m\u001b[0m\u001b[0m\n\u001b[0;32m    567\u001b[0m     \u001b[1;32mif\u001b[0m \u001b[0msignature\u001b[0m\u001b[1;33m.\u001b[0m\u001b[0mnum_outputs\u001b[0m \u001b[1;33m==\u001b[0m \u001b[1;36m1\u001b[0m\u001b[1;33m:\u001b[0m\u001b[1;33m\u001b[0m\u001b[1;33m\u001b[0m\u001b[0m\n",
      "\u001b[1;32m~\\Miniconda3\\envs\\satenv\\lib\\site-packages\\xarray\\core\\duck_array_ops.py\u001b[0m in \u001b[0;36mwhere_method\u001b[1;34m(data, cond, other)\u001b[0m\n\u001b[0;32m    197\u001b[0m     \u001b[1;32mif\u001b[0m \u001b[0mother\u001b[0m \u001b[1;32mis\u001b[0m \u001b[0mdtypes\u001b[0m\u001b[1;33m.\u001b[0m\u001b[0mNA\u001b[0m\u001b[1;33m:\u001b[0m\u001b[1;33m\u001b[0m\u001b[1;33m\u001b[0m\u001b[0m\n\u001b[0;32m    198\u001b[0m         \u001b[0mother\u001b[0m \u001b[1;33m=\u001b[0m \u001b[0mdtypes\u001b[0m\u001b[1;33m.\u001b[0m\u001b[0mget_fill_value\u001b[0m\u001b[1;33m(\u001b[0m\u001b[0mdata\u001b[0m\u001b[1;33m.\u001b[0m\u001b[0mdtype\u001b[0m\u001b[1;33m)\u001b[0m\u001b[1;33m\u001b[0m\u001b[1;33m\u001b[0m\u001b[0m\n\u001b[1;32m--> 199\u001b[1;33m     \u001b[1;32mreturn\u001b[0m \u001b[0mwhere\u001b[0m\u001b[1;33m(\u001b[0m\u001b[0mcond\u001b[0m\u001b[1;33m,\u001b[0m \u001b[0mdata\u001b[0m\u001b[1;33m,\u001b[0m \u001b[0mother\u001b[0m\u001b[1;33m)\u001b[0m\u001b[1;33m\u001b[0m\u001b[1;33m\u001b[0m\u001b[0m\n\u001b[0m\u001b[0;32m    200\u001b[0m \u001b[1;33m\u001b[0m\u001b[0m\n\u001b[0;32m    201\u001b[0m \u001b[1;33m\u001b[0m\u001b[0m\n",
      "\u001b[1;32m~\\Miniconda3\\envs\\satenv\\lib\\site-packages\\xarray\\core\\duck_array_ops.py\u001b[0m in \u001b[0;36mwhere\u001b[1;34m(condition, x, y)\u001b[0m\n\u001b[0;32m    191\u001b[0m \u001b[1;32mdef\u001b[0m \u001b[0mwhere\u001b[0m\u001b[1;33m(\u001b[0m\u001b[0mcondition\u001b[0m\u001b[1;33m,\u001b[0m \u001b[0mx\u001b[0m\u001b[1;33m,\u001b[0m \u001b[0my\u001b[0m\u001b[1;33m)\u001b[0m\u001b[1;33m:\u001b[0m\u001b[1;33m\u001b[0m\u001b[1;33m\u001b[0m\u001b[0m\n\u001b[0;32m    192\u001b[0m     \u001b[1;34m\"\"\"Three argument where() with better dtype promotion rules.\"\"\"\u001b[0m\u001b[1;33m\u001b[0m\u001b[1;33m\u001b[0m\u001b[0m\n\u001b[1;32m--> 193\u001b[1;33m     \u001b[1;32mreturn\u001b[0m \u001b[0m_where\u001b[0m\u001b[1;33m(\u001b[0m\u001b[0mcondition\u001b[0m\u001b[1;33m,\u001b[0m \u001b[1;33m*\u001b[0m\u001b[0mas_shared_dtype\u001b[0m\u001b[1;33m(\u001b[0m\u001b[1;33m[\u001b[0m\u001b[0mx\u001b[0m\u001b[1;33m,\u001b[0m \u001b[0my\u001b[0m\u001b[1;33m]\u001b[0m\u001b[1;33m)\u001b[0m\u001b[1;33m)\u001b[0m\u001b[1;33m\u001b[0m\u001b[1;33m\u001b[0m\u001b[0m\n\u001b[0m\u001b[0;32m    194\u001b[0m \u001b[1;33m\u001b[0m\u001b[0m\n\u001b[0;32m    195\u001b[0m \u001b[1;33m\u001b[0m\u001b[0m\n",
      "\u001b[1;32m~\\Miniconda3\\envs\\satenv\\lib\\site-packages\\xarray\\core\\duck_array_ops.py\u001b[0m in \u001b[0;36mf\u001b[1;34m(*args, **kwargs)\u001b[0m\n\u001b[0;32m     42\u001b[0m             \u001b[1;32melse\u001b[0m\u001b[1;33m:\u001b[0m\u001b[1;33m\u001b[0m\u001b[1;33m\u001b[0m\u001b[0m\n\u001b[0;32m     43\u001b[0m                 \u001b[0mwrapped\u001b[0m \u001b[1;33m=\u001b[0m \u001b[0mgetattr\u001b[0m\u001b[1;33m(\u001b[0m\u001b[0meager_module\u001b[0m\u001b[1;33m,\u001b[0m \u001b[0mname\u001b[0m\u001b[1;33m)\u001b[0m\u001b[1;33m\u001b[0m\u001b[1;33m\u001b[0m\u001b[0m\n\u001b[1;32m---> 44\u001b[1;33m             \u001b[1;32mreturn\u001b[0m \u001b[0mwrapped\u001b[0m\u001b[1;33m(\u001b[0m\u001b[1;33m*\u001b[0m\u001b[0margs\u001b[0m\u001b[1;33m,\u001b[0m \u001b[1;33m**\u001b[0m\u001b[0mkwargs\u001b[0m\u001b[1;33m)\u001b[0m\u001b[1;33m\u001b[0m\u001b[1;33m\u001b[0m\u001b[0m\n\u001b[0m\u001b[0;32m     45\u001b[0m     \u001b[1;32melse\u001b[0m\u001b[1;33m:\u001b[0m\u001b[1;33m\u001b[0m\u001b[1;33m\u001b[0m\u001b[0m\n\u001b[0;32m     46\u001b[0m         \u001b[1;32mdef\u001b[0m \u001b[0mf\u001b[0m\u001b[1;33m(\u001b[0m\u001b[1;33m*\u001b[0m\u001b[0margs\u001b[0m\u001b[1;33m,\u001b[0m \u001b[1;33m**\u001b[0m\u001b[0mkwargs\u001b[0m\u001b[1;33m)\u001b[0m\u001b[1;33m:\u001b[0m\u001b[1;33m\u001b[0m\u001b[1;33m\u001b[0m\u001b[0m\n",
      "\u001b[1;31mValueError\u001b[0m: operands could not be broadcast together with shapes (720,1560,2) (720,1560) () "
     ]
    }
   ],
   "source": [
    "minlon,maxlon,minlat,maxlat = ds_usv.lon.min().data,ds_usv.lon.max().data,ds_usv.lat.min().data,ds_usv.lat.max().data\n",
    "print(minlon,maxlon,minlat,maxlat)\n",
    "#cond = (lons>=minlon) & (lons<=maxlon) & (lats>=minlat) & (lats<=maxlat)\n",
    "#meets_condition = (air_day.air > 22) & (air_day.air < 30)\n",
    "#subset = ds.where((lons>=minlon) & (lons<=maxlon) & (lats>=minlat) & (lats<=maxlat),drop=True)\n",
    "subset = ds.where((lons>=minlon) & (lons<=maxlon) & (lats>=minlat) & (lats<=maxlat))\n",
    "print(subset)"
   ]
  },
  {
   "cell_type": "code",
   "execution_count": null,
   "metadata": {},
   "outputs": [],
   "source": []
  },
  {
   "cell_type": "markdown",
   "metadata": {},
   "source": [
    "# Read in ACCESS data"
   ]
  },
  {
   "cell_type": "code",
   "execution_count": 17,
   "metadata": {},
   "outputs": [],
   "source": [
    "filename = 'F:/data/cruise_data/access/rockfish_casts_2011.nc'\n",
    "ds = xr.open_dataset(filename)\n",
    "ds = ds.swap_dims({'row':'time'})\n",
    "ds = ds.rename({'latitude':'lat','longitude':'lon'})\n",
    "ds_access1 = ds.copy(deep=True)\n",
    "filename = 'F:/data/cruise_data/access/rockfish_casts_2015.nc'\n",
    "ds = xr.open_dataset(filename)\n",
    "ds = ds.swap_dims({'row':'time'})\n",
    "ds = ds.rename({'latitude':'lat','longitude':'lon'})\n",
    "ds_access2 = ds.copy(deep=True)\n",
    "ds_access = xr.concat((ds_access1,ds_access2),dim='time')"
   ]
  },
  {
   "cell_type": "code",
   "execution_count": 18,
   "metadata": {},
   "outputs": [
    {
     "data": {
      "text/plain": [
       "<xarray.Dataset>\n",
       "Dimensions:         (time: 151030)\n",
       "Coordinates:\n",
       "  * time            (time) datetime64[ns] 2011-05-03T08:02:00 ... 2015-06-14T11:51:00\n",
       "Data variables:\n",
       "    cruise          (time) |S4 b'1101' b'1101' b'1101' ... b'1505' b'1505'\n",
       "    ctd_index       (time) int16 1 1 1 1 1 1 1 1 ... 246 246 246 246 246 246 246\n",
       "    ctd_no          (time) int16 32767 32767 32767 32767 32767 ... 6 6 6 6 6\n",
       "    station         (time) int16 473 473 473 473 473 473 ... 154 154 154 154 154\n",
       "    lon             (time) float32 -124.106 -124.106 ... -123.19917 -123.19917\n",
       "    lat             (time) float32 39.834167 39.834167 ... 37.6605 37.6605\n",
       "    depth           (time) int16 2 4 6 8 10 12 14 ... 498 500 502 504 506 508\n",
       "    temperature     (time) float32 9.8669 9.8627 9.8572 ... 6.2409 6.2327 6.2257\n",
       "    salinity        (time) float32 33.016 33.0333 33.0427 ... 34.2127 34.213\n",
       "    density         (time) float32 25.4252 25.4394 25.4477 ... 26.9066 26.9077\n",
       "    dyn_hgt         (time) float32 nan nan nan nan ... 0.86 0.8626 0.8644 0.8664\n",
       "    irradiance      (time) float32 0.1451 0.1437 0.1435 0.1429 ... 0.0 0.0 0.0\n",
       "    fluor_volt      (time) float32 0.3019 0.3237 0.316 ... 0.1958 0.1953 0.1953\n",
       "    transmissivity  (time) float32 95.85 95.77 95.81 95.92 ... 84.58 84.6 84.56\n",
       "    chlorophyll     (time) float32 0.9158218 1.0413681 0.9288796 ... 0.0 0.0 0.0\n",
       "    oxygen_volt     (time) float32 2.457 2.4489 2.4358 ... 0.6417 0.641 0.6414\n",
       "    oxygen          (time) float32 5.278 5.275 5.248 5.227 ... 0.443 0.448 0.457\n",
       "Attributes:\n",
       "    id:       rockfish_casts_2011"
      ]
     },
     "execution_count": 18,
     "metadata": {},
     "output_type": "execute_result"
    }
   ],
   "source": [
    "ds_access"
   ]
  },
  {
   "cell_type": "code",
   "execution_count": 19,
   "metadata": {},
   "outputs": [
    {
     "data": {
      "text/plain": [
       "<xarray.DataArray 'month' (time: 151030)>\n",
       "array([5, 5, 5, ..., 6, 6, 6], dtype=int64)\n",
       "Coordinates:\n",
       "  * time     (time) datetime64[ns] 2011-05-03T08:02:00 ... 2015-06-14T11:51:00"
      ]
     },
     "execution_count": 19,
     "metadata": {},
     "output_type": "execute_result"
    }
   ],
   "source": [
    "ds_access.time.dt.month"
   ]
  },
  {
   "cell_type": "code",
   "execution_count": 21,
   "metadata": {},
   "outputs": [
    {
     "data": {
      "image/png": "[encoded data removed]",
      "text/plain": [
       "<Figure size 432x288 with 1 Axes>"
      ]
     },
     "metadata": {
      "needs_background": "light"
     },
     "output_type": "display_data"
    }
   ],
   "source": [
    "plt.plot(ds_access.time.dt.year,ds_access.time.dt.dayofyear,'.')\n",
    "plt.xlabel('Day of Year')\n",
    "plt.ylabel('Year')\n",
    "fig_fname = 'C:/Users/gentemann/Google Drive/f_drive/docs/projects/SSS/figures/access_date.png'\n",
    "plt.savefig(fig_fname, transparent=False, format='png')"
   ]
  },
  {
   "cell_type": "code",
   "execution_count": 46,
   "metadata": {},
   "outputs": [
    {
     "data": {
      "image/png": "[encoded data removed]",
      "text/plain": [
       "<Figure size 432x288 with 2 Axes>"
      ]
     },
     "metadata": {
      "needs_background": "light"
     },
     "output_type": "display_data"
    }
   ],
   "source": [
    "ax = plt.axes(projection=ccrs.PlateCarree())\n",
    "cs1 = ax.scatter(ds_access.lon, ds_access.lat, s=3.0, c=ds_access.salinity, edgecolor='none', cmap='jet',vmin=33,vmax=34.35)\n",
    "ax.coastlines()\n",
    "x1,x2,y1,y2 = -128,-112,30,50\n",
    "ax.set_xlim(x1,x2)\n",
    "ax.set_ylim(y1,y2)\n",
    "ax.set_xticks(np.arange(x1,x2,4))\n",
    "ax.set_yticks(np.arange(y1,y2,5))\n",
    "cax = plt.colorbar(cs1)\n",
    "cax.set_label('Salinity (psu)')\n",
    "fig_fname = 'C:/Users/gentemann/Google Drive/f_drive/docs/projects/SSS/figures/access_location.png'\n",
    "plt.savefig(fig_fname, transparent=False, format='png')"
   ]
  },
  {
   "cell_type": "markdown",
   "metadata": {},
   "source": [
    "# Read in 2018 Saildrone West Coast Survey"
   ]
  },
  {
   "cell_type": "code",
   "execution_count": 140,
   "metadata": {},
   "outputs": [],
   "source": [
    "#https://coastwatch.pfeg.noaa.gov/erddap/\n",
    "#url = 'https://coastwatch.pfeg.noaa.gov/erddap/tabledap/saildrone_west_coast_survey_2018.nc'\n",
    "#url = 'https://ferret.pmel.noaa.gov/pmel/erddap/tabledap/saildrone_west_coast_survey_2018.nc'\n",
    "url = 'https://ferret.pmel.noaa.gov/pmel/erddap/tabledap/saildrone_west_coast_survey_2018'\n",
    "#url = 'F:/data/cruise_data/saildrone/2018_wcoast/saildrone_west_coast_survey_2018_f374_2e74_3de8.nc'\n",
    "#url = 'https://ferret.pmel.noaa.gov/pmel/erddap/tabledap/saildrone_west_coast_survey_2018.nc'\n",
    "ds_usv = xr.open_dataset(url)\n",
    "ds_usv.close()\n",
    "ds_usv['lat']=ds_usv['s.latitude']\n",
    "ds_usv['lon']=ds_usv['s.longitude']\n",
    "ds_usv['time']=ds_usv['s.time']\n",
    "ds_usv['trajectory']=ds_usv['s.trajectory']\n",
    "ds_usv['SAL_MEAN']=ds_usv['s.SAL_MEAN']\n",
    "ds_usv['TEMP_CTD_MEAN']=ds_usv['s.TEMP_CTD_MEAN']\n",
    "ds_usv = ds_usv.swap_dims({'s':'time'})\n",
    "#print(ds_usv.time.min().data,ds_usv.time.max().data)\n",
    "#ds_usv.load()\n"
   ]
  },
  {
   "cell_type": "code",
   "execution_count": 141,
   "metadata": {},
   "outputs": [
    {
     "name": "stdout",
     "output_type": "stream",
     "text": [
      "787066\n"
     ]
    },
    {
     "ename": "TypeError",
     "evalue": "'float' object is not callable",
     "output_type": "error",
     "traceback": [
      "\u001b[1;31m---------------------------------------------------------------------------\u001b[0m",
      "\u001b[1;31mTypeError\u001b[0m                                 Traceback (most recent call last)",
      "\u001b[1;32m<ipython-input-141-ae842a839e01>\u001b[0m in \u001b[0;36m<module>\u001b[1;34m\u001b[0m\n\u001b[0;32m      2\u001b[0m \u001b[0milen\u001b[0m \u001b[1;33m=\u001b[0m \u001b[0mds_usv\u001b[0m\u001b[1;33m.\u001b[0m\u001b[0mSAL_MEAN\u001b[0m\u001b[1;33m.\u001b[0m\u001b[0msize\u001b[0m\u001b[1;33m\u001b[0m\u001b[1;33m\u001b[0m\u001b[0m\n\u001b[0;32m      3\u001b[0m \u001b[0mprint\u001b[0m\u001b[1;33m(\u001b[0m\u001b[0milen\u001b[0m\u001b[1;33m)\u001b[0m\u001b[1;33m\u001b[0m\u001b[1;33m\u001b[0m\u001b[0m\n\u001b[1;32m----> 4\u001b[1;33m \u001b[0mtem\u001b[0m \u001b[1;33m=\u001b[0m \u001b[0mnp\u001b[0m\u001b[1;33m.\u001b[0m\u001b[0mnan\u001b[0m\u001b[1;33m(\u001b[0m\u001b[0milen\u001b[0m\u001b[1;33m)\u001b[0m\u001b[1;33m\u001b[0m\u001b[1;33m\u001b[0m\u001b[0m\n\u001b[0m\u001b[0;32m      5\u001b[0m \u001b[1;32mfor\u001b[0m \u001b[0mi\u001b[0m \u001b[1;32min\u001b[0m \u001b[0mrange\u001b[0m\u001b[1;33m(\u001b[0m\u001b[1;36m787066\u001b[0m\u001b[1;33m)\u001b[0m\u001b[1;33m:\u001b[0m\u001b[1;33m\u001b[0m\u001b[1;33m\u001b[0m\u001b[0m\n\u001b[0;32m      6\u001b[0m     \u001b[1;32mif\u001b[0m \u001b[0mds_usv\u001b[0m\u001b[1;33m.\u001b[0m\u001b[0mSAL_MEAN\u001b[0m\u001b[1;33m[\u001b[0m\u001b[0mi\u001b[0m\u001b[1;33m]\u001b[0m\u001b[1;33m>\u001b[0m\u001b[1;36m20\u001b[0m\u001b[1;33m:\u001b[0m\u001b[1;33m\u001b[0m\u001b[1;33m\u001b[0m\u001b[0m\n",
      "\u001b[1;31mTypeError\u001b[0m: 'float' object is not callable"
     ]
    }
   ],
   "source": [
    "#used this code to figure out where the data goes bad\n",
    "ilen = ds_usv.SAL_MEAN.size\n",
    "print(ilen)\n",
    "tem = np.nan(ilen)\n",
    "for i in range(787066):\n",
    "    if ds_usv.SAL_MEAN[i]>20:\n",
    "        tem[i]=ds_usv.SAL_MEAN[i]\n",
    "tem[i:]=np.nan"
   ]
  },
  {
   "cell_type": "code",
   "execution_count": 113,
   "metadata": {},
   "outputs": [
    {
     "data": {
      "image/png": "[encoded data removed]",
      "text/plain": [
       "<Figure size 432x288 with 2 Axes>"
      ]
     },
     "metadata": {
      "needs_background": "light"
     },
     "output_type": "display_data"
    }
   ],
   "source": [
    "#there is something bad in the data file above 776100 so subset the data to just the good part\n",
    "ds_usv2 = ds_usv.isel(time=slice(None,776100))\n",
    "xlon =  ds_usv2.lon.copy(deep=True)\n",
    "xlat =  ds_usv2.lat.copy(deep=True)\n",
    "salinity = ds_usv2.SAL_MEAN.copy(deep=True)\n",
    "ax = plt.axes(projection=ccrs.PlateCarree())\n",
    "cs1 = ax.scatter(xlon, xlat, s=3.0, c=salinity, edgecolor='none', cmap='jet',vmin=32,vmax=34.35)\n",
    "ax.coastlines()\n",
    "x1,x2,y1,y2 = -130,-114,30,52\n",
    "ax.set_xlim(x1,x2)\n",
    "ax.set_ylim(y1,y2)\n",
    "ax.set_xticks(np.arange(x1,x2,4))\n",
    "ax.set_yticks(np.arange(y1,y2,5))\n",
    "cax = plt.colorbar(cs1)\n",
    "cax.set_label('Salinity (psu)')\n",
    "fig_fname = 'C:/Users/gentemann/Google Drive/f_drive/docs/projects/SSS/figures/wcoast_location2.png'\n",
    "plt.savefig(fig_fname, transparent=False, format='png')\n"
   ]
  },
  {
   "cell_type": "code",
   "execution_count": 125,
   "metadata": {},
   "outputs": [
    {
     "data": {
      "text/plain": [
       "<xarray.DataArray 'trajectory' (time: 5)>\n",
       "array([b'1024.0', b'1025.0', b'1026.0', b'1027.0', b'1028.0'], dtype='|S64')\n",
       "Coordinates:\n",
       "  * time     (time) datetime64[ns] 2018-07-17T18:00:00 ... 2018-07-17T18:04:00\n",
       "Attributes:\n",
       "    axis:           E\n",
       "    cf_role:        trajectory_id\n",
       "    comment:        A trajectory is a single deployment of a drone\n",
       "    long_name:      Trajectory/Drone ID\n",
       "    point_spacing:  even"
      ]
     },
     "execution_count": 125,
     "metadata": {},
     "output_type": "execute_result"
    }
   ],
   "source": [
    "ds_usv2.trajectory[0:5]"
   ]
  },
  {
   "cell_type": "code",
   "execution_count": 126,
   "metadata": {},
   "outputs": [
    {
     "data": {
      "text/plain": [
       "<xarray.Dataset>\n",
       "Dimensions:                          (s: 787066)\n",
       "Dimensions without coordinates: s\n",
       "Data variables:\n",
       "    s.trajectory                     (s) |S64 ...\n",
       "    s.latitude                       (s) float64 ...\n",
       "    s.longitude                      (s) float64 ...\n",
       "    s.SOG                            (s) float64 ...\n",
       "    s.COG                            (s) float64 ...\n",
       "    s.HDG                            (s) float64 ...\n",
       "    s.HDG_WING                       (s) float64 ...\n",
       "    s.ROLL                           (s) float64 ...\n",
       "    s.PITCH                          (s) float64 ...\n",
       "    s.WING_ANGLE                     (s) float64 ...\n",
       "    s.BARO_PRES_MEAN                 (s) float64 ...\n",
       "    s.BARO_PRES_STDDEV               (s) float64 ...\n",
       "    s.TEMP_AIR_MEAN                  (s) float64 ...\n",
       "    s.TEMP_AIR_STDDEV                (s) float64 ...\n",
       "    s.RH_MEAN                        (s) float64 ...\n",
       "    s.RH_STDDEV                      (s) float64 ...\n",
       "    s.PAR_AIR_MEAN                   (s) float64 ...\n",
       "    s.PAR_AIR_STDDEV                 (s) float64 ...\n",
       "    s.TEMP_IR_UNCOR_MEAN             (s) float64 ...\n",
       "    s.TEMP_IR_UNCOR_STDDEV           (s) float64 ...\n",
       "    s.UWND_MEAN                      (s) float64 ...\n",
       "    s.UWND_STDDEV                    (s) float64 ...\n",
       "    s.VWND_MEAN                      (s) float64 ...\n",
       "    s.VWND_STDDEV                    (s) float64 ...\n",
       "    s.WWND_MEAN                      (s) float64 ...\n",
       "    s.WWND_STDDEV                    (s) float64 ...\n",
       "    s.GUST_WND_MEAN                  (s) float64 ...\n",
       "    s.GUST_WND_STDDEV                (s) float64 ...\n",
       "    s.TEMP_CTD_MEAN                  (s) float64 ...\n",
       "    s.TEMP_CTD_STDDEV                (s) float64 ...\n",
       "    s.COND_MEAN                      (s) float64 ...\n",
       "    s.COND_STDDEV                    (s) float64 ...\n",
       "    s.SAL_MEAN                       (s) float64 ...\n",
       "    s.SAL_STDDEV                     (s) float64 ...\n",
       "    s.O2_RBR_CONC_MEAN               (s) float64 ...\n",
       "    s.O2_RBR_CONC_STDDEV             (s) float64 ...\n",
       "    s.O2_RBR_SAT_MEAN                (s) float64 ...\n",
       "    s.O2_RBR_SAT_STDDEV              (s) float64 ...\n",
       "    s.TEMP_O2_RBR_MEAN               (s) float64 ...\n",
       "    s.TEMP_O2_RBR_STDDEV             (s) float64 ...\n",
       "    s.O2_AANDERAA_CONC_UNCOR_MEAN    (s) float64 ...\n",
       "    s.O2_AANDERAA_CONC_UNCOR_STDDEV  (s) float64 ...\n",
       "    s.O2_AANDERAA_SAT_MEAN           (s) float64 ...\n",
       "    s.O2_AANDERAA_SAT_STDDEV         (s) float64 ...\n",
       "    s.TEMP_O2_AANDERAA_MEAN          (s) float64 ...\n",
       "    s.TEMP_O2_AANDERAA_STDDEV        (s) float64 ...\n",
       "    s.CHLOR_MEAN                     (s) float64 ...\n",
       "    s.CHLOR_STDDEV                   (s) float64 ...\n",
       "    s.time                           (s) datetime64[ns] ...\n",
       "    s.wind_speed                     (s) float64 ...\n",
       "    s.wind_dir                       (s) float64 ...\n",
       "    s.dist_partner                   (s) float64 ...\n",
       "    s.BARO_PRES_serial_number        (s) |S64 ...\n",
       "    s.AT_RH_serial_number            (s) |S64 ...\n",
       "    s.PAR_serial_number              (s) |S64 ...\n",
       "    s.TEMP_IR_serial_number          (s) |S64 ...\n",
       "    s.WIND_serial_number             (s) |S64 ...\n",
       "    s.RBR_serial_number              (s) |S64 ...\n",
       "    s.AANDERAA_serial_number         (s) |S64 ...\n",
       "Attributes:\n",
       "    area:                      unassigned\n",
       "    cdm_data_type:             Trajectory\n",
       "    cdm_trajectory_variables:  trajectory\n",
       "    Conventions:               CF-1.6, COARDS, ACDD-1.3\n",
       "    creator_email:             support@saildrone.com\n",
       "    creator_name:              Saildrone\n",
       "    creator_url:               http://saildrone.com/\n",
       "    data_mode:                 realtime\n",
       "    date_created:              2018-10-06T00:30:01.915026Z\n",
       "    description:               Saildrone NetCDF Format\n",
       "    drone_id:                  1028\n",
       "    Easternmost_Easting:       -117.238976\n",
       "    featureType:               Trajectory\n",
       "    geospatial_lat_max:        50.66664\n",
       "    geospatial_lat_min:        32.298064\n",
       "    geospatial_lat_units:      degrees_north\n",
       "    geospatial_lon_max:        -117.238976\n",
       "    geospatial_lon_min:        -129.00575999999998\n",
       "    geospatial_lon_units:      degrees_east\n",
       "    history:                   FERRET V7.5  26-May-19\\n2019-05-26T16:28:33Z (...\n",
       "    id:                        8708\n",
       "    infoUrl:                   http://saildrone.com/\n",
       "    institution:               Saildrone\n",
       "    interval:                  60.0\n",
       "    keywords:                  active, air, air_pressure, air_temperature, an...\n",
       "    keywords_vocabulary:       GCMD Science Keywords\n",
       "    license:                   The data may be used and redistributed for fre...\n",
       "    naming_authority:          com.saildrone\n",
       "    ncei_template_version:     NCEI_NetCDF_Trajectory_Template_v2.0\n",
       "    netcdf_version:            4.4.1.1\n",
       "    Northernmost_Northing:     50.66664\n",
       "    platform:                  Saildrone\n",
       "    project:                   west_coast_survey_2018\n",
       "    sourceUrl:                 (local files)\n",
       "    Southernmost_Northing:     32.298064\n",
       "    standard_name_vocabulary:  CF Standard Name Table v29\n",
       "    subsetVariables:           trajectory,BARO_PRES_serial_number,AT_RH_seria...\n",
       "    summary:                   Saildrone Network Common Data Format (NetCDF) ...\n",
       "    testOutOfDate:             now-1day\n",
       "    time_coverage_duration:    PT1H59M59S\n",
       "    time_coverage_end:         2018-11-27T19:59:00Z\n",
       "    time_coverage_resolution:  PT1M\n",
       "    time_coverage_start:       2018-06-27T00:00:00Z\n",
       "    title:                     Saildrone West Coast Survey 2018\n",
       "    uuid:                      3e4ce677-18db-4ba8-9c73-f2c1f3ad15ce\n",
       "    Westernmost_Easting:       -129.00575999999998"
      ]
     },
     "execution_count": 126,
     "metadata": {},
     "output_type": "execute_result"
    }
   ],
   "source": [
    "url = 'https://ferret.pmel.noaa.gov/pmel/erddap/tabledap/saildrone_west_coast_survey_2018'\n",
    "#url = 'F:/data/cruise_data/saildrone/2018_wcoast/saildrone_west_coast_survey_2018_f374_2e74_3de8.nc'\n",
    "#url = 'https://ferret.pmel.noaa.gov/pmel/erddap/tabledap/saildrone_west_coast_survey_2018.nc'\n",
    "ds_usv = xr.open_dataset(url)\n",
    "ds_usv.close()\n",
    "ds_usv"
   ]
  },
  {
   "cell_type": "code",
   "execution_count": 144,
   "metadata": {},
   "outputs": [
    {
     "ename": "KeyError",
     "evalue": "'s'",
     "output_type": "error",
     "traceback": [
      "\u001b[1;31m---------------------------------------------------------------------------\u001b[0m",
      "\u001b[1;31mKeyError\u001b[0m                                  Traceback (most recent call last)",
      "\u001b[1;32m~\\Miniconda3\\envs\\satenv\\lib\\site-packages\\xarray\\core\\dataset.py\u001b[0m in \u001b[0;36m_construct_dataarray\u001b[1;34m(self, name)\u001b[0m\n\u001b[0;32m    975\u001b[0m         \u001b[1;32mtry\u001b[0m\u001b[1;33m:\u001b[0m\u001b[1;33m\u001b[0m\u001b[1;33m\u001b[0m\u001b[0m\n\u001b[1;32m--> 976\u001b[1;33m             \u001b[0mvariable\u001b[0m \u001b[1;33m=\u001b[0m \u001b[0mself\u001b[0m\u001b[1;33m.\u001b[0m\u001b[0m_variables\u001b[0m\u001b[1;33m[\u001b[0m\u001b[0mname\u001b[0m\u001b[1;33m]\u001b[0m\u001b[1;33m\u001b[0m\u001b[1;33m\u001b[0m\u001b[0m\n\u001b[0m\u001b[0;32m    977\u001b[0m         \u001b[1;32mexcept\u001b[0m \u001b[0mKeyError\u001b[0m\u001b[1;33m:\u001b[0m\u001b[1;33m\u001b[0m\u001b[1;33m\u001b[0m\u001b[0m\n",
      "\u001b[1;31mKeyError\u001b[0m: 's.SAL_MEAN'",
      "\nDuring handling of the above exception, another exception occurred:\n",
      "\u001b[1;31mKeyError\u001b[0m                                  Traceback (most recent call last)",
      "\u001b[1;32m<ipython-input-144-c957eac5fbcc>\u001b[0m in \u001b[0;36m<module>\u001b[1;34m\u001b[0m\n\u001b[0;32m      7\u001b[0m \u001b[0mds_usv\u001b[0m\u001b[1;33m[\u001b[0m\u001b[1;34m'time'\u001b[0m\u001b[1;33m]\u001b[0m\u001b[1;33m=\u001b[0m\u001b[0mds_usv\u001b[0m\u001b[1;33m[\u001b[0m\u001b[1;34m's.time'\u001b[0m\u001b[1;33m]\u001b[0m\u001b[1;33m\u001b[0m\u001b[1;33m\u001b[0m\u001b[0m\n\u001b[0;32m      8\u001b[0m \u001b[0mds_usv\u001b[0m\u001b[1;33m[\u001b[0m\u001b[1;34m'trajectory'\u001b[0m\u001b[1;33m]\u001b[0m\u001b[1;33m=\u001b[0m\u001b[0mds_usv\u001b[0m\u001b[1;33m[\u001b[0m\u001b[1;34m's.trajectory'\u001b[0m\u001b[1;33m]\u001b[0m\u001b[1;33m\u001b[0m\u001b[1;33m\u001b[0m\u001b[0m\n\u001b[1;32m----> 9\u001b[1;33m \u001b[0mds_usv\u001b[0m\u001b[1;33m[\u001b[0m\u001b[1;34m'SAL_MEAN'\u001b[0m\u001b[1;33m]\u001b[0m\u001b[1;33m=\u001b[0m\u001b[0mds_usv\u001b[0m\u001b[1;33m[\u001b[0m\u001b[1;34m's.SAL_MEAN'\u001b[0m\u001b[1;33m]\u001b[0m\u001b[1;33m\u001b[0m\u001b[1;33m\u001b[0m\u001b[0m\n\u001b[0m\u001b[0;32m     10\u001b[0m \u001b[0mds_usv\u001b[0m\u001b[1;33m[\u001b[0m\u001b[1;34m'TEMP_CTD_MEAN'\u001b[0m\u001b[1;33m]\u001b[0m\u001b[1;33m=\u001b[0m\u001b[0mds_usv\u001b[0m\u001b[1;33m[\u001b[0m\u001b[1;34m's.TEMP_CTD_MEAN'\u001b[0m\u001b[1;33m]\u001b[0m\u001b[1;33m\u001b[0m\u001b[1;33m\u001b[0m\u001b[0m\n\u001b[0;32m     11\u001b[0m \u001b[1;31m#ds_usv = ds_usv.swap_dims({'s':'time'})\u001b[0m\u001b[1;33m\u001b[0m\u001b[1;33m\u001b[0m\u001b[1;33m\u001b[0m\u001b[0m\n",
      "\u001b[1;32m~\\Miniconda3\\envs\\satenv\\lib\\site-packages\\xarray\\core\\dataset.py\u001b[0m in \u001b[0;36m__getitem__\u001b[1;34m(self, key)\u001b[0m\n\u001b[0;32m   1056\u001b[0m \u001b[1;33m\u001b[0m\u001b[0m\n\u001b[0;32m   1057\u001b[0m         \u001b[1;32mif\u001b[0m \u001b[0mhashable\u001b[0m\u001b[1;33m(\u001b[0m\u001b[0mkey\u001b[0m\u001b[1;33m)\u001b[0m\u001b[1;33m:\u001b[0m\u001b[1;33m\u001b[0m\u001b[1;33m\u001b[0m\u001b[0m\n\u001b[1;32m-> 1058\u001b[1;33m             \u001b[1;32mreturn\u001b[0m \u001b[0mself\u001b[0m\u001b[1;33m.\u001b[0m\u001b[0m_construct_dataarray\u001b[0m\u001b[1;33m(\u001b[0m\u001b[0mkey\u001b[0m\u001b[1;33m)\u001b[0m\u001b[1;33m\u001b[0m\u001b[1;33m\u001b[0m\u001b[0m\n\u001b[0m\u001b[0;32m   1059\u001b[0m         \u001b[1;32melse\u001b[0m\u001b[1;33m:\u001b[0m\u001b[1;33m\u001b[0m\u001b[1;33m\u001b[0m\u001b[0m\n\u001b[0;32m   1060\u001b[0m             \u001b[1;32mreturn\u001b[0m \u001b[0mself\u001b[0m\u001b[1;33m.\u001b[0m\u001b[0m_copy_listed\u001b[0m\u001b[1;33m(\u001b[0m\u001b[0mnp\u001b[0m\u001b[1;33m.\u001b[0m\u001b[0masarray\u001b[0m\u001b[1;33m(\u001b[0m\u001b[0mkey\u001b[0m\u001b[1;33m)\u001b[0m\u001b[1;33m)\u001b[0m\u001b[1;33m\u001b[0m\u001b[1;33m\u001b[0m\u001b[0m\n",
      "\u001b[1;32m~\\Miniconda3\\envs\\satenv\\lib\\site-packages\\xarray\\core\\dataset.py\u001b[0m in \u001b[0;36m_construct_dataarray\u001b[1;34m(self, name)\u001b[0m\n\u001b[0;32m    977\u001b[0m         \u001b[1;32mexcept\u001b[0m \u001b[0mKeyError\u001b[0m\u001b[1;33m:\u001b[0m\u001b[1;33m\u001b[0m\u001b[1;33m\u001b[0m\u001b[0m\n\u001b[0;32m    978\u001b[0m             _, name, variable = _get_virtual_variable(\n\u001b[1;32m--> 979\u001b[1;33m                 self._variables, name, self._level_coords, self.dims)\n\u001b[0m\u001b[0;32m    980\u001b[0m \u001b[1;33m\u001b[0m\u001b[0m\n\u001b[0;32m    981\u001b[0m         \u001b[0mneeded_dims\u001b[0m \u001b[1;33m=\u001b[0m \u001b[0mset\u001b[0m\u001b[1;33m(\u001b[0m\u001b[0mvariable\u001b[0m\u001b[1;33m.\u001b[0m\u001b[0mdims\u001b[0m\u001b[1;33m)\u001b[0m\u001b[1;33m\u001b[0m\u001b[1;33m\u001b[0m\u001b[0m\n",
      "\u001b[1;32m~\\Miniconda3\\envs\\satenv\\lib\\site-packages\\xarray\\core\\dataset.py\u001b[0m in \u001b[0;36m_get_virtual_variable\u001b[1;34m(variables, key, level_vars, dim_sizes)\u001b[0m\n\u001b[0;32m     80\u001b[0m         \u001b[0mref_var\u001b[0m \u001b[1;33m=\u001b[0m \u001b[0mdim_var\u001b[0m\u001b[1;33m.\u001b[0m\u001b[0mto_index_variable\u001b[0m\u001b[1;33m(\u001b[0m\u001b[1;33m)\u001b[0m\u001b[1;33m.\u001b[0m\u001b[0mget_level_variable\u001b[0m\u001b[1;33m(\u001b[0m\u001b[0mref_name\u001b[0m\u001b[1;33m)\u001b[0m\u001b[1;33m\u001b[0m\u001b[1;33m\u001b[0m\u001b[0m\n\u001b[0;32m     81\u001b[0m     \u001b[1;32melse\u001b[0m\u001b[1;33m:\u001b[0m\u001b[1;33m\u001b[0m\u001b[1;33m\u001b[0m\u001b[0m\n\u001b[1;32m---> 82\u001b[1;33m         \u001b[0mref_var\u001b[0m \u001b[1;33m=\u001b[0m \u001b[0mvariables\u001b[0m\u001b[1;33m[\u001b[0m\u001b[0mref_name\u001b[0m\u001b[1;33m]\u001b[0m\u001b[1;33m\u001b[0m\u001b[1;33m\u001b[0m\u001b[0m\n\u001b[0m\u001b[0;32m     83\u001b[0m \u001b[1;33m\u001b[0m\u001b[0m\n\u001b[0;32m     84\u001b[0m     \u001b[1;32mif\u001b[0m \u001b[0mvar_name\u001b[0m \u001b[1;32mis\u001b[0m \u001b[1;32mNone\u001b[0m\u001b[1;33m:\u001b[0m\u001b[1;33m\u001b[0m\u001b[1;33m\u001b[0m\u001b[0m\n",
      "\u001b[1;31mKeyError\u001b[0m: 's'"
     ]
    }
   ],
   "source": [
    "url = 'https://ferret.pmel.noaa.gov/generic/erddap/tabledap/saildrone_arctic_gts'\n",
    "ds_usv = xr.open_dataset(url)\n",
    "ds_usv = xr.open_dataset(url)\n",
    "ds_usv.close()\n",
    "ds_usv['lat']=ds_usv['s.latitude']\n",
    "ds_usv['lon']=ds_usv['s.longitude']\n",
    "ds_usv['time']=ds_usv['s.time']\n",
    "ds_usv['trajectory']=ds_usv['s.trajectory']\n",
    "ds_usv['SAL_MEAN']=ds_usv['s.SAL_MEAN']\n",
    "ds_usv['TEMP_CTD_MEAN']=ds_usv['s.TEMP_CTD_MEAN']\n",
    "#ds_usv = ds_usv.swap_dims({'s':'time'})\n"
   ]
  },
  {
   "cell_type": "code",
   "execution_count": 145,
   "metadata": {},
   "outputs": [
    {
     "data": {
      "text/plain": [
       "<xarray.Dataset>\n",
       "Dimensions:              (s: 6)\n",
       "Dimensions without coordinates: s\n",
       "Data variables:\n",
       "    s.wmo_platform_code  (s) |S64 ...\n",
       "    s.trajectory         (s) float32 ...\n",
       "    s.time               (s) datetime64[ns] ...\n",
       "    s.latitude           (s) float64 ...\n",
       "    s.longitude          (s) float64 ...\n",
       "    s.TEMP_AIR_MEAN      (s) float64 ...\n",
       "    s.RH_MEAN            (s) float64 ...\n",
       "    s.BARO_PRES_MEAN     (s) float64 ...\n",
       "    s.TEMP_CTD_MEAN      (s) float64 ...\n",
       "    s.wind_speed         (s) float64 ...\n",
       "    s.wind_dir           (s) float64 ...\n",
       "    lat                  (s) float64 ...\n",
       "    lon                  (s) float64 ...\n",
       "    time                 (s) datetime64[ns] ...\n",
       "    trajectory           (s) float32 ...\n",
       "Attributes:\n",
       "    area:                      unassigned\n",
       "    cdm_data_type:             Trajectory\n",
       "    cdm_trajectory_variables:  trajectory\n",
       "    Conventions:               CF-1.6, COARDS, ACDD-1.3\n",
       "    creator_email:             support@saildrone.com\n",
       "    creator_name:              Saildrone\n",
       "    creator_url:               http://saildrone.com/\n",
       "    data_mode:                 realtime\n",
       "    date_created:              2019-05-26T16:30:19.078792Z\n",
       "    description:               Saildrone NetCDF Format\n",
       "    drone_id:                  1041\n",
       "    Easternmost_Easting:       -165.9955584\n",
       "    featureType:               Trajectory\n",
       "    geospatial_lat_max:        60.3979072\n",
       "    geospatial_lat_min:        53.8446912\n",
       "    geospatial_lat_units:      degrees_north\n",
       "    geospatial_lon_max:        -165.9955584\n",
       "    geospatial_lon_min:        -174.1512448\n",
       "    geospatial_lon_units:      degrees_east\n",
       "    history:                   Sun May 26 10:40:29 2019: /home/users/tmap/fer...\n",
       "    id:                        24029\n",
       "    infoUrl:                   http://saildrone.com/\n",
       "    institution:               Saildrone\n",
       "    interval:                  60.0\n",
       "    keywords:                  active, air, air_pressure, air_temperature, an...\n",
       "    keywords_vocabulary:       GCMD Science Keywords\n",
       "    license:                   The data may be used and redistributed for fre...\n",
       "    naming_authority:          com.saildrone\n",
       "    NCO:                       netCDF Operators version 4.7.5 (Homepage = htt...\n",
       "    netcdf_version:            4.4.1.1\n",
       "    Northernmost_Northing:     60.3979072\n",
       "    platform:                  Saildrone\n",
       "    project:                   Arctic-NOAA-2019\n",
       "    sourceUrl:                 (local files)\n",
       "    Southernmost_Northing:     53.8446912\n",
       "    standard_name_vocabulary:  CF Standard Name Table v58\n",
       "    subsetVariables:           trajectory, wmo_platform_code\n",
       "    summary:                   Arctic 2019 Mission. Saildrone data from a loc...\n",
       "    testOutOfDate:             now-1day\n",
       "    time_coverage_duration:    PT1H59M59S\n",
       "    time_coverage_end:         2019-05-26T15:59:00Z\n",
       "    time_coverage_resolution:  PT1M\n",
       "    time_coverage_start:       2019-05-14T14:00:00Z\n",
       "    title:                     Saildrone Arctic Data for GTS\n",
       "    Westernmost_Easting:       -174.1512448"
      ]
     },
     "execution_count": 145,
     "metadata": {},
     "output_type": "execute_result"
    }
   ],
   "source": [
    "ds_usv"
   ]
  },
  {
   "cell_type": "code",
   "execution_count": 143,
   "metadata": {},
   "outputs": [
    {
     "ename": "AttributeError",
     "evalue": "'Dataset' object has no attribute 'lon'",
     "output_type": "error",
     "traceback": [
      "\u001b[1;31m---------------------------------------------------------------------------\u001b[0m",
      "\u001b[1;31mAttributeError\u001b[0m                            Traceback (most recent call last)",
      "\u001b[1;32m<ipython-input-143-8c808d1d7e25>\u001b[0m in \u001b[0;36m<module>\u001b[1;34m\u001b[0m\n\u001b[1;32m----> 1\u001b[1;33m \u001b[0mxlon\u001b[0m \u001b[1;33m=\u001b[0m  \u001b[0mds_usv\u001b[0m\u001b[1;33m.\u001b[0m\u001b[0mlon\u001b[0m\u001b[1;33m.\u001b[0m\u001b[0mcopy\u001b[0m\u001b[1;33m(\u001b[0m\u001b[0mdeep\u001b[0m\u001b[1;33m=\u001b[0m\u001b[1;32mTrue\u001b[0m\u001b[1;33m)\u001b[0m\u001b[1;33m\u001b[0m\u001b[1;33m\u001b[0m\u001b[0m\n\u001b[0m\u001b[0;32m      2\u001b[0m \u001b[0mxlat\u001b[0m \u001b[1;33m=\u001b[0m  \u001b[0mds_usv\u001b[0m\u001b[1;33m.\u001b[0m\u001b[0mlat\u001b[0m\u001b[1;33m.\u001b[0m\u001b[0mcopy\u001b[0m\u001b[1;33m(\u001b[0m\u001b[0mdeep\u001b[0m\u001b[1;33m=\u001b[0m\u001b[1;32mTrue\u001b[0m\u001b[1;33m)\u001b[0m\u001b[1;33m\u001b[0m\u001b[1;33m\u001b[0m\u001b[0m\n\u001b[0;32m      3\u001b[0m \u001b[0msalinity\u001b[0m \u001b[1;33m=\u001b[0m \u001b[0mds_usv\u001b[0m\u001b[1;33m.\u001b[0m\u001b[0mSAL_MEAN\u001b[0m\u001b[1;33m.\u001b[0m\u001b[0mcopy\u001b[0m\u001b[1;33m(\u001b[0m\u001b[0mdeep\u001b[0m\u001b[1;33m=\u001b[0m\u001b[1;32mTrue\u001b[0m\u001b[1;33m)\u001b[0m\u001b[1;33m\u001b[0m\u001b[1;33m\u001b[0m\u001b[0m\n\u001b[0;32m      4\u001b[0m \u001b[0max\u001b[0m \u001b[1;33m=\u001b[0m \u001b[0mplt\u001b[0m\u001b[1;33m.\u001b[0m\u001b[0maxes\u001b[0m\u001b[1;33m(\u001b[0m\u001b[0mprojection\u001b[0m\u001b[1;33m=\u001b[0m\u001b[0mccrs\u001b[0m\u001b[1;33m.\u001b[0m\u001b[0mPlateCarree\u001b[0m\u001b[1;33m(\u001b[0m\u001b[1;33m)\u001b[0m\u001b[1;33m)\u001b[0m\u001b[1;33m\u001b[0m\u001b[1;33m\u001b[0m\u001b[0m\n\u001b[0;32m      5\u001b[0m \u001b[0mcs1\u001b[0m \u001b[1;33m=\u001b[0m \u001b[0max\u001b[0m\u001b[1;33m.\u001b[0m\u001b[0mscatter\u001b[0m\u001b[1;33m(\u001b[0m\u001b[0mxlon\u001b[0m\u001b[1;33m,\u001b[0m \u001b[0mxlat\u001b[0m\u001b[1;33m,\u001b[0m \u001b[0ms\u001b[0m\u001b[1;33m=\u001b[0m\u001b[1;36m3.0\u001b[0m\u001b[1;33m,\u001b[0m \u001b[0mc\u001b[0m\u001b[1;33m=\u001b[0m\u001b[0msalinity\u001b[0m\u001b[1;33m,\u001b[0m \u001b[0medgecolor\u001b[0m\u001b[1;33m=\u001b[0m\u001b[1;34m'none'\u001b[0m\u001b[1;33m,\u001b[0m \u001b[0mcmap\u001b[0m\u001b[1;33m=\u001b[0m\u001b[1;34m'jet'\u001b[0m\u001b[1;33m,\u001b[0m\u001b[0mvmin\u001b[0m\u001b[1;33m=\u001b[0m\u001b[1;36m32\u001b[0m\u001b[1;33m,\u001b[0m\u001b[0mvmax\u001b[0m\u001b[1;33m=\u001b[0m\u001b[1;36m34.35\u001b[0m\u001b[1;33m)\u001b[0m\u001b[1;33m\u001b[0m\u001b[1;33m\u001b[0m\u001b[0m\n",
      "\u001b[1;32m~\\Miniconda3\\envs\\satenv\\lib\\site-packages\\xarray\\core\\common.py\u001b[0m in \u001b[0;36m__getattr__\u001b[1;34m(self, name)\u001b[0m\n\u001b[0;32m    177\u001b[0m                     \u001b[1;32mreturn\u001b[0m \u001b[0msource\u001b[0m\u001b[1;33m[\u001b[0m\u001b[0mname\u001b[0m\u001b[1;33m]\u001b[0m\u001b[1;33m\u001b[0m\u001b[1;33m\u001b[0m\u001b[0m\n\u001b[0;32m    178\u001b[0m         raise AttributeError(\"%r object has no attribute %r\" %\n\u001b[1;32m--> 179\u001b[1;33m                              (type(self).__name__, name))\n\u001b[0m\u001b[0;32m    180\u001b[0m \u001b[1;33m\u001b[0m\u001b[0m\n\u001b[0;32m    181\u001b[0m     \u001b[1;32mdef\u001b[0m \u001b[0m__setattr__\u001b[0m\u001b[1;33m(\u001b[0m\u001b[0mself\u001b[0m\u001b[1;33m,\u001b[0m \u001b[0mname\u001b[0m\u001b[1;33m,\u001b[0m \u001b[0mvalue\u001b[0m\u001b[1;33m)\u001b[0m\u001b[1;33m:\u001b[0m\u001b[1;33m\u001b[0m\u001b[1;33m\u001b[0m\u001b[0m\n",
      "\u001b[1;31mAttributeError\u001b[0m: 'Dataset' object has no attribute 'lon'"
     ]
    }
   ],
   "source": [
    "xlon =  ds_usv.lon.copy(deep=True)\n",
    "xlat =  ds_usv.lat.copy(deep=True)\n",
    "salinity = ds_usv.SAL_MEAN.copy(deep=True)\n",
    "ax = plt.axes(projection=ccrs.PlateCarree())\n",
    "cs1 = ax.scatter(xlon, xlat, s=3.0, c=salinity, edgecolor='none', cmap='jet',vmin=32,vmax=34.35)\n",
    "ax.coastlines()\n",
    "x1,x2,y1,y2 = -130,-114,30,52\n",
    "ax.set_xlim(x1,x2)\n",
    "ax.set_ylim(y1,y2)\n",
    "ax.set_xticks(np.arange(x1,x2,4))\n",
    "ax.set_yticks(np.arange(y1,y2,5))\n",
    "cax = plt.colorbar(cs1)\n",
    "cax.set_label('Salinity (psu)')\n",
    "fig_fname = 'C:/Users/gentemann/Google Drive/f_drive/docs/projects/SSS/figures/arctic_location.png'\n",
    "plt.savefig(fig_fname, transparent=False, format='png')"
   ]
  },
  {
   "cell_type": "code",
   "execution_count": 133,
   "metadata": {},
   "outputs": [
    {
     "data": {
      "image/png": "[encoded data removed]",
      "text/plain": [
       "<Figure size 432x288 with 2 Axes>"
      ]
     },
     "metadata": {
      "needs_background": "light"
     },
     "output_type": "display_data"
    }
   ],
   "source": [
    "url = 'F:/data/cruise_data/saildrone/2018_wcoast/saildrone_west_coast_survey_2018_f374_2e74_3de8.nc'\n",
    "ds_usv = xr.open_dataset(url)\n",
    "ds_usv.close()\n",
    "xlon =  ds_usv.longitude.copy(deep=True)\n",
    "xlat =  ds_usv.latitude.copy(deep=True)\n",
    "salinity =  ds_usv.SAL_MEAN.copy(deep=True)\n",
    "ax = plt.axes(projection=ccrs.PlateCarree())\n",
    "cs1 = ax.scatter(xlon, xlat, s=3.0, c=salinity, edgecolor='none', cmap='jet',vmin=32,vmax=34.35)\n",
    "ax.coastlines()\n",
    "x1,x2,y1,y2 = -128,-112,25,40\n",
    "ax.set_xlim(x1,x2)\n",
    "ax.set_ylim(y1,y2)\n",
    "ax.set_xticks(np.arange(x1,x2,4))\n",
    "ax.set_yticks(np.arange(y1,y2,5))\n",
    "cax = plt.colorbar(cs1)\n",
    "cax.set_label('Salinity (psu)')\n",
    "fig_fname = 'C:/Users/gentemann/Google Drive/f_drive/docs/projects/SSS/figures/wcoast_location.png'\n",
    "plt.savefig(fig_fname, transparent=False, format='png')\n"
   ]
  },
  {
   "cell_type": "code",
   "execution_count": 195,
   "metadata": {},
   "outputs": [],
   "source": []
  },
  {
   "cell_type": "code",
   "execution_count": 186,
   "metadata": {},
   "outputs": [
    {
     "data": {
      "text/plain": [
       "<cartopy.mpl.feature_artist.FeatureArtist at 0x1eb02a27470>"
      ]
     },
     "execution_count": 186,
     "metadata": {},
     "output_type": "execute_result"
    },
    {
     "data": {
      "image/png": "[encoded data removed]",
      "text/plain": [
       "<Figure size 432x288 with 1 Axes>"
      ]
     },
     "metadata": {
      "needs_background": "light"
     },
     "output_type": "display_data"
    }
   ],
   "source": [
    "ds = xr.open_dataset(filelist[8])\n",
    "ds.close()\n",
    "x = ds.cellon[:,:,0].data\n",
    "y = ds.cellat[:,:,0].data\n",
    "z = ds.sss_smap[:,:,0].data\n",
    "ax = plt.axes(projection=ccrs.PlateCarree())\n",
    "cs1 = ax.scatter(x, y, s=1.0, c=z, edgecolor='none', cmap='jet')\n",
    "minlon,maxlon,minlat,maxlat = ds_usv.lon.min().data,ds_usv.lon.max().data,ds_usv.lat.min().data,ds_usv.lat.max().data\n",
    "ax.plot([minlon,maxlon,maxlon,minlon,minlon],[minlat,minlat,maxlat,maxlat,minlat])\n",
    "ax.coastlines()\n"
   ]
  },
  {
   "cell_type": "code",
   "execution_count": 153,
   "metadata": {},
   "outputs": [
    {
     "name": "stderr",
     "output_type": "stream",
     "text": [
      "C:\\Users\\gentemann\\Miniconda3\\envs\\satenv\\lib\\site-packages\\ipykernel_launcher.py:15: RuntimeWarning: invalid value encountered in remainder\n",
      "  from ipykernel import kernelapp as app\n"
     ]
    }
   ],
   "source": [
    "#create daily data arrays\n",
    "#grid the data and search within the in situ obs to find which filenames are in right region\n"
   ]
  },
  {
   "cell_type": "code",
   "execution_count": null,
   "metadata": {},
   "outputs": [],
   "source": []
  },
  {
   "cell_type": "code",
   "execution_count": null,
   "metadata": {},
   "outputs": [],
   "source": []
  },
  {
   "cell_type": "code",
   "execution_count": null,
   "metadata": {},
   "outputs": [],
   "source": []
  },
  {
   "cell_type": "code",
   "execution_count": 148,
   "metadata": {},
   "outputs": [
    {
     "name": "stderr",
     "output_type": "stream",
     "text": [
      "C:\\Users\\gentemann\\Miniconda3\\envs\\satenv\\lib\\site-packages\\ipykernel_launcher.py:30: RuntimeWarning: invalid value encountered in remainder\n"
     ]
    },
    {
     "ename": "TypeError",
     "evalue": "Type <class 'numpy.datetime64'> is unsupported for masked fill values",
     "output_type": "error",
     "traceback": [
      "\u001b[1;31m---------------------------------------------------------------------------\u001b[0m",
      "\u001b[1;31mTypeError\u001b[0m                                 Traceback (most recent call last)",
      "\u001b[1;32m<ipython-input-148-bd3fb1e44960>\u001b[0m in \u001b[0;36m<module>\u001b[1;34m\u001b[0m\n\u001b[0;32m     30\u001b[0m     \u001b[0mlons\u001b[0m \u001b[1;33m=\u001b[0m \u001b[0mnp\u001b[0m\u001b[1;33m.\u001b[0m\u001b[0mmod\u001b[0m\u001b[1;33m(\u001b[0m\u001b[0mlons\u001b[0m\u001b[1;33m+\u001b[0m\u001b[1;36m180\u001b[0m\u001b[1;33m,\u001b[0m\u001b[1;36m360\u001b[0m\u001b[1;33m)\u001b[0m\u001b[1;33m-\u001b[0m\u001b[1;36m180\u001b[0m\u001b[1;33m\u001b[0m\u001b[1;33m\u001b[0m\u001b[0m\n\u001b[0;32m     31\u001b[0m     \u001b[0mswath_def\u001b[0m \u001b[1;33m=\u001b[0m \u001b[0mSwathDefinition\u001b[0m\u001b[1;33m(\u001b[0m\u001b[0mlons\u001b[0m\u001b[1;33m,\u001b[0m \u001b[0mlats\u001b[0m\u001b[1;33m)\u001b[0m\u001b[1;33m\u001b[0m\u001b[1;33m\u001b[0m\u001b[0m\n\u001b[1;32m---> 32\u001b[1;33m     \u001b[0mresult1\u001b[0m \u001b[1;33m=\u001b[0m \u001b[0mresample_nearest\u001b[0m\u001b[1;33m(\u001b[0m\u001b[0mswath_def\u001b[0m\u001b[1;33m,\u001b[0m \u001b[0mdata\u001b[0m\u001b[1;33m,\u001b[0m \u001b[0marea_def\u001b[0m\u001b[1;33m,\u001b[0m \u001b[0mradius_of_influence\u001b[0m\u001b[1;33m=\u001b[0m\u001b[1;36m20000\u001b[0m\u001b[1;33m,\u001b[0m \u001b[0mfill_value\u001b[0m\u001b[1;33m=\u001b[0m\u001b[1;32mNone\u001b[0m\u001b[1;33m)\u001b[0m\u001b[1;33m\u001b[0m\u001b[1;33m\u001b[0m\u001b[0m\n\u001b[0m\u001b[0;32m     33\u001b[0m     \u001b[0mlons\u001b[0m\u001b[1;33m,\u001b[0m\u001b[0mlats\u001b[0m\u001b[1;33m,\u001b[0m\u001b[0mdata\u001b[0m \u001b[1;33m=\u001b[0m \u001b[0mx2\u001b[0m\u001b[1;33m,\u001b[0m\u001b[0my2\u001b[0m\u001b[1;33m,\u001b[0m\u001b[0mz2\u001b[0m\u001b[1;33m\u001b[0m\u001b[1;33m\u001b[0m\u001b[0m\n\u001b[0;32m     34\u001b[0m     \u001b[0mlons\u001b[0m \u001b[1;33m=\u001b[0m \u001b[0mnp\u001b[0m\u001b[1;33m.\u001b[0m\u001b[0mmod\u001b[0m\u001b[1;33m(\u001b[0m\u001b[0mlons\u001b[0m\u001b[1;33m+\u001b[0m\u001b[1;36m180\u001b[0m\u001b[1;33m,\u001b[0m\u001b[1;36m360\u001b[0m\u001b[1;33m)\u001b[0m\u001b[1;33m-\u001b[0m\u001b[1;36m180\u001b[0m\u001b[1;33m\u001b[0m\u001b[1;33m\u001b[0m\u001b[0m\n",
      "\u001b[1;32m~\\Miniconda3\\envs\\satenv\\lib\\site-packages\\pyresample\\kd_tree.py\u001b[0m in \u001b[0;36mresample_nearest\u001b[1;34m(source_geo_def, data, target_geo_def, radius_of_influence, epsilon, fill_value, reduce_data, nprocs, segments)\u001b[0m\n\u001b[0;32m    102\u001b[0m                      \u001b[0mradius_of_influence\u001b[0m\u001b[1;33m,\u001b[0m \u001b[0mneighbours\u001b[0m\u001b[1;33m=\u001b[0m\u001b[1;36m1\u001b[0m\u001b[1;33m,\u001b[0m\u001b[1;33m\u001b[0m\u001b[1;33m\u001b[0m\u001b[0m\n\u001b[0;32m    103\u001b[0m                      \u001b[0mepsilon\u001b[0m\u001b[1;33m=\u001b[0m\u001b[0mepsilon\u001b[0m\u001b[1;33m,\u001b[0m \u001b[0mfill_value\u001b[0m\u001b[1;33m=\u001b[0m\u001b[0mfill_value\u001b[0m\u001b[1;33m,\u001b[0m\u001b[1;33m\u001b[0m\u001b[1;33m\u001b[0m\u001b[0m\n\u001b[1;32m--> 104\u001b[1;33m                      reduce_data=reduce_data, nprocs=nprocs, segments=segments)\n\u001b[0m\u001b[0;32m    105\u001b[0m \u001b[1;33m\u001b[0m\u001b[0m\n\u001b[0;32m    106\u001b[0m \u001b[1;33m\u001b[0m\u001b[0m\n",
      "\u001b[1;32m~\\Miniconda3\\envs\\satenv\\lib\\site-packages\\pyresample\\kd_tree.py\u001b[0m in \u001b[0;36m_resample\u001b[1;34m(source_geo_def, data, target_geo_def, resample_type, radius_of_influence, neighbours, epsilon, weight_funcs, fill_value, reduce_data, nprocs, segments, with_uncert)\u001b[0m\n\u001b[0;32m    273\u001b[0m                                           \u001b[0mweight_funcs\u001b[0m\u001b[1;33m=\u001b[0m\u001b[0mweight_funcs\u001b[0m\u001b[1;33m,\u001b[0m\u001b[1;33m\u001b[0m\u001b[1;33m\u001b[0m\u001b[0m\n\u001b[0;32m    274\u001b[0m                                           \u001b[0mfill_value\u001b[0m\u001b[1;33m=\u001b[0m\u001b[0mfill_value\u001b[0m\u001b[1;33m,\u001b[0m\u001b[1;33m\u001b[0m\u001b[1;33m\u001b[0m\u001b[0m\n\u001b[1;32m--> 275\u001b[1;33m                                           with_uncert=with_uncert)\n\u001b[0m\u001b[0;32m    276\u001b[0m \u001b[1;33m\u001b[0m\u001b[0m\n\u001b[0;32m    277\u001b[0m \u001b[1;33m\u001b[0m\u001b[0m\n",
      "\u001b[1;32m~\\Miniconda3\\envs\\satenv\\lib\\site-packages\\pyresample\\kd_tree.py\u001b[0m in \u001b[0;36mget_sample_from_neighbour_info\u001b[1;34m(resample_type, output_shape, data, valid_input_index, valid_output_index, index_array, distance_array, weight_funcs, fill_value, with_uncert)\u001b[0m\n\u001b[0;32m    722\u001b[0m     \u001b[1;32mif\u001b[0m \u001b[0mfill_value\u001b[0m \u001b[1;32mis\u001b[0m \u001b[1;32mNone\u001b[0m\u001b[1;33m:\u001b[0m\u001b[1;33m\u001b[0m\u001b[1;33m\u001b[0m\u001b[0m\n\u001b[0;32m    723\u001b[0m         \u001b[0muse_masked_fill_value\u001b[0m \u001b[1;33m=\u001b[0m \u001b[1;32mTrue\u001b[0m\u001b[1;33m\u001b[0m\u001b[1;33m\u001b[0m\u001b[0m\n\u001b[1;32m--> 724\u001b[1;33m         \u001b[0mfill_value\u001b[0m \u001b[1;33m=\u001b[0m \u001b[0m_get_fill_mask_value\u001b[0m\u001b[1;33m(\u001b[0m\u001b[0mnew_data\u001b[0m\u001b[1;33m.\u001b[0m\u001b[0mdtype\u001b[0m\u001b[1;33m)\u001b[0m\u001b[1;33m\u001b[0m\u001b[1;33m\u001b[0m\u001b[0m\n\u001b[0m\u001b[0;32m    725\u001b[0m \u001b[1;33m\u001b[0m\u001b[0m\n\u001b[0;32m    726\u001b[0m     \u001b[1;31m# Resample based on kd-tree query result\u001b[0m\u001b[1;33m\u001b[0m\u001b[1;33m\u001b[0m\u001b[1;33m\u001b[0m\u001b[0m\n",
      "\u001b[1;32m~\\Miniconda3\\envs\\satenv\\lib\\site-packages\\pyresample\\kd_tree.py\u001b[0m in \u001b[0;36m_get_fill_mask_value\u001b[1;34m(data_dtype)\u001b[0m\n\u001b[0;32m   1222\u001b[0m     \u001b[1;32melse\u001b[0m\u001b[1;33m:\u001b[0m\u001b[1;33m\u001b[0m\u001b[1;33m\u001b[0m\u001b[0m\n\u001b[0;32m   1223\u001b[0m         raise TypeError('Type %s is unsupported for masked fill values' %\n\u001b[1;32m-> 1224\u001b[1;33m                         data_dtype.type)\n\u001b[0m\u001b[0;32m   1225\u001b[0m     \u001b[1;32mreturn\u001b[0m \u001b[0mfill_value\u001b[0m\u001b[1;33m\u001b[0m\u001b[1;33m\u001b[0m\u001b[0m\n\u001b[0;32m   1226\u001b[0m \u001b[1;33m\u001b[0m\u001b[0m\n",
      "\u001b[1;31mTypeError\u001b[0m: Type <class 'numpy.datetime64'> is unsupported for masked fill values"
     ]
    }
   ],
   "source": [
    "#create daily data arrays\n",
    "rlon=np.arange(-180,180,.25)\n",
    "rlat=np.arange(90,-90,-.25)\n",
    "area_def = load_area('areas.cfg', 'pc_world')\n",
    "itime=0\n",
    "for ilook in range(1):\n",
    "    x,y,x2,y2 = [],[],[],[]\n",
    "    if itime==1:\n",
    "        z = z2 = np.empty(0, np.int32)\n",
    "    else:\n",
    "        z = z2 = np.empty(0, np.datetime64)    \n",
    "    for file in filelist:\n",
    "        ds = xr.open_dataset(file)\n",
    "        ds.close()\n",
    "        x = np.append(x,ds.cellon[:,:780,ilook].data)\n",
    "        y = np.append(y,ds.cellat[:,:780,ilook].data)\n",
    "        if itime==1:\n",
    "            z = np.append(z,ds.sss_smap[:,:780,ilook].data)\n",
    "        else:\n",
    "            z = np.append(z,ds.time[:,:780,ilook].data)\n",
    "        x2 = np.append(x2,ds.cellon[:,780:,ilook].data)\n",
    "        y2 = np.append(y2,ds.cellat[:,780:,ilook].data)\n",
    "        if itime==1:\n",
    "            z2 = np.append(z2,ds.sss_smap[:,780:,ilook].data)\n",
    "        else:\n",
    "            z2 = np.append(z2,ds.time[:,780:,ilook].data)\n",
    "    lons,lats,data = x,y,z \n",
    "    lons = np.mod(lons+180,360)-180\n",
    "    swath_def = SwathDefinition(lons, lats)\n",
    "    result1 = resample_nearest(swath_def, data, area_def, radius_of_influence=20000, fill_value=None)\n",
    "    lons,lats,data = x2,y2,z2 \n",
    "    lons = np.mod(lons+180,360)-180\n",
    "    swath_def = SwathDefinition(lons, lats)\n",
    "    result2 = resample_nearest(swath_def, data, area_def, radius_of_influence=20000, fill_value=None)\n",
    "    tem = np.stack((result1,result2))\n",
    "    das = xr.DataArray(tem,name='sss1',coords={'iasc':[0,1],'lat':rlat,'lon':rlon},dims=('iasc','lat','lon'))\n",
    "    dat = xr.DataArray(tem,name='time',coords={'iasc':[0,1],'lat':rlat,'lon':rlon},dims=('iasc','lat','lon'))\n",
    "ds_out = xr.Dataset({das,dat})\n"
   ]
  },
  {
   "cell_type": "code",
   "execution_count": 147,
   "metadata": {},
   "outputs": [
    {
     "name": "stdout",
     "output_type": "stream",
     "text": [
      "<class 'numpy.ndarray'> <class 'numpy.datetime64'>\n"
     ]
    }
   ],
   "source": [
    "ds_out = xr.Dataset({das,dat})\n",
    "z=np.empty(0,np.datetime64)\n",
    "print(type(z),type(ds.time[0,0,0].data))\n",
    "z = np.append(z,ds.time[0,0,0].data)"
   ]
  },
  {
   "cell_type": "code",
   "execution_count": 124,
   "metadata": {},
   "outputs": [
    {
     "data": {
      "text/plain": [
       "array([[[nan, nan, nan, ..., nan, nan, nan],\n",
       "        [nan, nan, nan, ..., nan, nan, nan],\n",
       "        [nan, nan, nan, ..., nan, nan, nan],\n",
       "        ...,\n",
       "        [nan, nan, nan, ..., nan, nan, nan],\n",
       "        [nan, nan, nan, ..., nan, nan, nan],\n",
       "        [nan, nan, nan, ..., nan, nan, nan]],\n",
       "\n",
       "       [[nan, nan, nan, ..., nan, nan, nan],\n",
       "        [nan, nan, nan, ..., nan, nan, nan],\n",
       "        [nan, nan, nan, ..., nan, nan, nan],\n",
       "        ...,\n",
       "        [nan, nan, nan, ..., nan, nan, nan],\n",
       "        [nan, nan, nan, ..., nan, nan, nan],\n",
       "        [nan, nan, nan, ..., nan, nan, nan]]])"
      ]
     },
     "execution_count": 124,
     "metadata": {},
     "output_type": "execute_result"
    }
   ],
   "source": [
    "    da0 = xr.DataArray(result,name='sss0',coords={'lat':rlat,'lon':rlon},dims=('lat','lon'))\n",
    "\n",
    "#iasc=0\n",
    "#da1 = xr.DataArray(result,name='sss1',coords={'lat':rlat,'lon':rlon,'asc':iasc},dims=('lat','lon','asc'))\n"
   ]
  },
  {
   "cell_type": "code",
   "execution_count": 116,
   "metadata": {},
   "outputs": [
    {
     "data": {
      "text/plain": [
       "<matplotlib.collections.QuadMesh at 0x237349ce470>"
      ]
     },
     "execution_count": 116,
     "metadata": {},
     "output_type": "execute_result"
    },
    {
     "data": {
      "image/png": "[encoded data removed]",
      "text/plain": [
       "<Figure size 432x288 with 2 Axes>"
      ]
     },
     "metadata": {
      "needs_background": "light"
     },
     "output_type": "display_data"
    }
   ],
   "source": [
    "da1.plot()"
   ]
  },
  {
   "cell_type": "code",
   "execution_count": 102,
   "metadata": {},
   "outputs": [
    {
     "name": "stderr",
     "output_type": "stream",
     "text": [
      "C:\\Users\\gentemann\\Miniconda3\\envs\\satenv\\lib\\site-packages\\ipykernel_launcher.py:2: RuntimeWarning: invalid value encountered in remainder\n",
      "  \n"
     ]
    }
   ],
   "source": [
    "lons = x #ds.cellon[:,:,0].data\n",
    "lons = np.mod(lons+180,360)-180\n",
    "lats = y# ds.cellat[:,:,0].data\n",
    "data = z#ds.sss_smap[:,:,0].data\n",
    "area_def = load_area('areas.cfg', 'pc_world')\n",
    "swath_def = SwathDefinition(lons, lats)\n",
    "result = resample_nearest(swath_def, data, area_def, radius_of_influence=20000, fill_value=None)\n",
    "save_quicklook('sss.png', area_def, result, num_meridians=0, num_parallels=0, label='Salinity (psu)')"
   ]
  },
  {
   "cell_type": "code",
   "execution_count": 79,
   "metadata": {},
   "outputs": [],
   "source": [
    "rlon=np.arange(-180,180,.25)\n",
    "rlat=np.arange(90,-90,-.25)\n",
    "da = xr.DataArray(result,name='sss0',coords={'lat':rlat,'lon':rlon},dims=('lat','lon'))"
   ]
  },
  {
   "cell_type": "code",
   "execution_count": 81,
   "metadata": {},
   "outputs": [
    {
     "data": {
      "text/plain": [
       "<matplotlib.collections.QuadMesh at 0x2374b8a3198>"
      ]
     },
     "execution_count": 81,
     "metadata": {},
     "output_type": "execute_result"
    },
    {
     "data": {
      "image/png": "[encoded data removed]",
      "text/plain": [
       "<Figure size 432x288 with 2 Axes>"
      ]
     },
     "metadata": {
      "needs_background": "light"
     },
     "output_type": "display_data"
    }
   ],
   "source": [
    "da.plot()"
   ]
  },
  {
   "cell_type": "code",
   "execution_count": 76,
   "metadata": {},
   "outputs": [
    {
     "data": {
      "text/plain": [
       "<matplotlib.contour.QuadContourSet at 0x2374f00a320>"
      ]
     },
     "execution_count": 76,
     "metadata": {},
     "output_type": "execute_result"
    },
    {
     "data": {
      "image/png": "[encoded data removed]",
      "text/plain": [
       "<Figure size 432x288 with 1 Axes>"
      ]
     },
     "metadata": {
      "needs_background": "light"
     },
     "output_type": "display_data"
    }
   ],
   "source": [
    "plt.contourf(rlon,rlat,result)"
   ]
  },
  {
   "cell_type": "code",
   "execution_count": 112,
   "metadata": {},
   "outputs": [
    {
     "data": {
      "text/plain": [
       "<matplotlib.contour.QuadContourSet at 0x1c88f2c56a0>"
      ]
     },
     "execution_count": 112,
     "metadata": {},
     "output_type": "execute_result"
    },
    {
     "data": {
      "image/png": "[encoded data removed]",
      "text/plain": [
       "<Figure size 432x288 with 1 Axes>"
      ]
     },
     "metadata": {
      "needs_background": "light"
     },
     "output_type": "display_data"
    }
   ],
   "source": [
    "#interpolate onto grid\n",
    "# data coordinates and values\n",
    "idim = ds.cellon.shape[0]\n",
    "jdim = ds.cellon.shape[1]\n",
    "x = ds.cellon[:,:,0].data.reshape(idim*jdim)\n",
    "y = ds.cellat[:,:,0].data.reshape(idim*jdim)\n",
    "z = ds.sss_smap[:,:,0].data.reshape(idim*jdim)\n",
    "\n",
    "mask = np.isfinite(x) & np.isfinite(y)\n",
    "x = x[mask]\n",
    "y = y[mask]\n",
    "z = z[mask]\n",
    "\n",
    "# target grid to interpolate to\n",
    "xi,yi = np.arange(0,360,.5), np.arange(-90,90,.5)\n",
    "xi,yi = np.meshgrid(xi,yi)\n",
    "\n",
    "## set mask\n",
    "#mask = (xi > 0.5) & (xi < 0.6) & (yi > 0.5) & (yi < 0.6)\n",
    "\n",
    "# interpolate\n",
    "zi = griddata((x,y),z,(xi,yi),method='nearest')\n",
    "\n",
    "plt.contourf(xi,yi,zi)"
   ]
  },
  {
   "cell_type": "markdown",
   "metadata": {},
   "source": [
    "In order to use open_mfdataset you need to either provide a path or a list of filenames to input\n",
    "\n",
    "Here we use the USV cruise start and end date to read in all data for that period"
   ]
  },
  {
   "cell_type": "markdown",
   "metadata": {},
   "source": [
    "# Read in SSS L2 data\n",
    "Read in data using open_mfdataset with the option coords='minimal'\n",
    "\n",
    "The dataset is printed out and you can see that rather than straight xarray data array for each of the data variables open_mfdataset using dask arrays"
   ]
  },
  {
   "cell_type": "code",
   "execution_count": 54,
   "metadata": {},
   "outputs": [
    {
     "data": {
      "text/plain": [
       "array([   0,    1,    2,    3,    4,    5,    6,    7,    8,    9,   10,\n",
       "         11,   12,   13,   14,   15,   16,   17,   18,   19,   20,   21,\n",
       "         22,   23,   24,   25,   26,   27,   28,   29,   30,   31,   32,\n",
       "         33,   34,   35,   36,   37,   38,   39,   40,   41,   42,   43,\n",
       "         44,   45,   46,   47,   48,   49,   50,   51,   52,   53,   54,\n",
       "         55,   56,   57,   58,   59,   60,   61,   62,   63,   64,   65,\n",
       "         66,   67,   68,   69,   70,   71,   72,   73,   74,   75,   76,\n",
       "         77,   78,   79,   80,   81,   82,   83,   84,   85,   86,   87,\n",
       "         88,   89,   90,   91,   92,   93,   94,   95,   96,   97,   98,\n",
       "         99,  100,  101,  102,  103,  104,  105,  106,  107,  108,  109,\n",
       "        110,  111,  112,  113,  114,  115,  116,  117,  118,  119,  120,\n",
       "        121,  122,  123,  124,  125,  126,  127,  128,  129,  130,  131,\n",
       "        132,  133,  134,  135,  136,  137,  138,  139,  140,  141,  142,\n",
       "        143,  144,  145,  146,  147,  148,  149,  150,  151,  152,  153,\n",
       "        154,  155,  156,  157,  158,  159,  160,  161,  162,  163,  164,\n",
       "        165,  166,  167,  168,  169,  170,  171,  172,  173,  174,  175,\n",
       "        176,  177,  178,  179, -180, -179, -178, -177, -176, -175, -174,\n",
       "       -173, -172, -171, -170, -169, -168, -167, -166, -165, -164, -163,\n",
       "       -162, -161, -160, -159, -158, -157, -156, -155, -154, -153, -152,\n",
       "       -151, -150, -149, -148, -147, -146, -145, -144, -143, -142, -141,\n",
       "       -140, -139, -138, -137, -136, -135, -134, -133, -132, -131, -130,\n",
       "       -129, -128, -127, -126, -125, -124, -123, -122, -121, -120, -119,\n",
       "       -118, -117, -116, -115, -114, -113, -112, -111, -110, -109, -108,\n",
       "       -107, -106, -105, -104, -103, -102, -101, -100,  -99,  -98,  -97,\n",
       "        -96,  -95,  -94,  -93,  -92,  -91,  -90,  -89,  -88,  -87,  -86,\n",
       "        -85,  -84,  -83,  -82,  -81,  -80,  -79,  -78,  -77,  -76,  -75,\n",
       "        -74,  -73,  -72,  -71,  -70,  -69,  -68,  -67,  -66,  -65,  -64,\n",
       "        -63,  -62,  -61,  -60,  -59,  -58,  -57,  -56,  -55,  -54,  -53,\n",
       "        -52,  -51,  -50,  -49,  -48,  -47,  -46,  -45,  -44,  -43,  -42,\n",
       "        -41,  -40,  -39,  -38,  -37,  -36,  -35,  -34,  -33,  -32,  -31,\n",
       "        -30,  -29,  -28,  -27,  -26,  -25,  -24,  -23,  -22,  -21,  -20,\n",
       "        -19,  -18,  -17,  -16,  -15,  -14,  -13,  -12,  -11,  -10,   -9,\n",
       "         -8,   -7,   -6,   -5,   -4,   -3,   -2,   -1], dtype=int32)"
      ]
     },
     "execution_count": 54,
     "metadata": {},
     "output_type": "execute_result"
    }
   ],
   "source": [
    "lon = np.arange(0,360)\n",
    "np.mod(lon+180,360)-180\n",
    "np.mod(lon + 180,360) - 180"
   ]
  },
  {
   "cell_type": "code",
   "execution_count": 48,
   "metadata": {},
   "outputs": [
    {
     "data": {
      "text/plain": [
       "<matplotlib.collections.QuadMesh at 0x1c8b5490ef0>"
      ]
     },
     "execution_count": 48,
     "metadata": {},
     "output_type": "execute_result"
    },
    {
     "data": {
      "image/png": "[encoded data removed]",
      "text/plain": [
       "<Figure size 432x288 with 2 Axes>"
      ]
     },
     "metadata": {
      "needs_background": "light"
     },
     "output_type": "display_data"
    }
   ],
   "source": [
    "filename = 'f:/data/sat_data/aquarius/Q2011237.L3m_DAY_SCIA_V5.0.RAIN_MASK_SSS_1deg'\n",
    "ds = xr.open_dataset(filename)\n",
    "ds.close()\n",
    "ds.coords['phony_dim_0']=np.arange(90,-90,-1)\n",
    "ds.coords['phony_dim_1']=np.arange(-180,180)\n",
    "ds = ds.rename({'phony_dim_0':'lat','phony_dim_1':'lon'})\n",
    "ds.l3m_data.plot()"
   ]
  },
  {
   "cell_type": "code",
   "execution_count": 15,
   "metadata": {
    "scrolled": false
   },
   "outputs": [
    {
     "name": "stdout",
     "output_type": "stream",
     "text": [
      "<xarray.Dataset>\n",
      "Dimensions:            (look: 2, polarization_2: 2, polarization_3: 3, polarization_4: 4, xdim_grid: 1560, ydim_grid: 720)\n",
      "Dimensions without coordinates: look, polarization_2, polarization_3, polarization_4, xdim_grid, ydim_grid\n",
      "Data variables:\n",
      "    time               (ydim_grid, xdim_grid, look) datetime64[ns] ...\n",
      "    cellat             (ydim_grid, xdim_grid, look) float32 ...\n",
      "    cellon             (ydim_grid, xdim_grid, look) float32 ...\n",
      "    gland              (ydim_grid, xdim_grid, look) float32 ...\n",
      "    gice               (ydim_grid, xdim_grid) float32 ...\n",
      "    sss_smap           (ydim_grid, xdim_grid, look) float32 ...\n",
      "    surtep             (ydim_grid, xdim_grid) float32 ...\n",
      "    winspd             (ydim_grid, xdim_grid) float32 ...\n",
      "    sss_ref            (ydim_grid, xdim_grid) float32 ...\n",
      "    iqc_flag           (ydim_grid, xdim_grid, look) int32 ...\n",
      "    zang               (ydim_grid, xdim_grid, look) float32 ...\n",
      "    alpha              (ydim_grid, xdim_grid, look) float32 ...\n",
      "    eaa                (ydim_grid, xdim_grid, look) float32 ...\n",
      "    eia                (ydim_grid, xdim_grid, look) float32 ...\n",
      "    pra                (ydim_grid, xdim_grid, look) float32 ...\n",
      "    sunglt             (ydim_grid, xdim_grid, look) float32 ...\n",
      "    monglt             (ydim_grid, xdim_grid, look) float32 ...\n",
      "    gallat             (ydim_grid, xdim_grid, look) float32 ...\n",
      "    gallon             (ydim_grid, xdim_grid, look) float32 ...\n",
      "    sun_beta           (ydim_grid, xdim_grid, look) float32 ...\n",
      "    sun_alpha          (ydim_grid, xdim_grid, look) float32 ...\n",
      "    ta_ant_filtered    (ydim_grid, xdim_grid, look, polarization_4) float32 ...\n",
      "    ta_ant_calibrated  (ydim_grid, xdim_grid, look, polarization_4) float32 ...\n",
      "    ta_earth           (ydim_grid, xdim_grid, look, polarization_4) float32 ...\n",
      "    tb_toi             (ydim_grid, xdim_grid, look, polarization_4) float32 ...\n",
      "    tb_toa             (ydim_grid, xdim_grid, look, polarization_4) float32 ...\n",
      "    tb_toa_lc          (ydim_grid, xdim_grid, look, polarization_4) float32 ...\n",
      "    tb_sur             (ydim_grid, xdim_grid, look, polarization_4) float32 ...\n",
      "    tb_sur0            (ydim_grid, xdim_grid, look, polarization_4) float32 ...\n",
      "    temp_ant           (ydim_grid, xdim_grid, look, polarization_2) float32 ...\n",
      "    dtemp_ant          (ydim_grid, xdim_grid, look, polarization_2) float32 ...\n",
      "    ta_sun_dir         (ydim_grid, xdim_grid, look, polarization_3) float32 ...\n",
      "    ta_sun_ref         (ydim_grid, xdim_grid, look, polarization_3) float32 ...\n",
      "    ta_gal_dir         (ydim_grid, xdim_grid, look, polarization_3) float32 ...\n",
      "    ta_gal_ref         (ydim_grid, xdim_grid, look, polarization_3) float32 ...\n",
      "    tb_consistency     (ydim_grid, xdim_grid, look) float32 ...\n",
      "    ta_ant_exp         (ydim_grid, xdim_grid, look, polarization_4) float32 ...\n",
      "    pratot_exp         (ydim_grid, xdim_grid, look) float32 ...\n",
      "    tran               (ydim_grid, xdim_grid) float32 ...\n",
      "    tbup               (ydim_grid, xdim_grid) float32 ...\n",
      "    tbdw               (ydim_grid, xdim_grid) float32 ...\n",
      "    windir             (ydim_grid, xdim_grid) float32 ...\n",
      "    rain               (ydim_grid, xdim_grid) float32 ...\n",
      "    solar_flux         (ydim_grid, xdim_grid) float32 ...\n",
      "Attributes:\n",
      "    Conventions:                                             CF-1.6\n",
      "    title:                                                   SMAP ocean surfa...\n",
      "    version:                                                 V2.0 validated r...\n",
      "    level:                                                   Level 2: swath o...\n",
      "    history:                                                 created by T. Me...\n",
      "    creation_date:                                           2016-08-27 T00:2...\n",
      "    institution:                                             Remote Sensing S...\n",
      "    dataset_citation_authors:                                Meissner, T., an...\n",
      "    dataset_citation_year:                                   2016\n",
      "    dataset_citation_product:                                Remote Sensing S...\n",
      "    dataset_citation_version:                                Version 2.0 vali...\n",
      "    dataset_citation_institution:                            Remote Sensing S...\n",
      "    dataset_citation_weblink:                                Available online...\n",
      "    netCDF_version_id:                                       4\n",
      "    OI Earth grid x dimension:                               1560 (360 deg lo...\n",
      "    OI Earth grid y dimension:                                720 (180 deg la...\n",
      "    OI Earth grid cells longitude and latitude:              provided as vari...\n",
      "    Source of SMAP filtered TA:                              Piepmeier J. et ...\n",
      "    Source of ancillary SST:                                 Canadian Meteoro...\n",
      "    Source of ancillary WindSat wind speed and rain rate:    Wentz F. et al.,...\n",
      "    Source of ancillary F17 SSMIS wind speed and rain rate:  Wentz F. et al.,...\n",
      "    Source of ancillary NCEP wind speed and direction:       NCEP GFS 0.25-de...\n",
      "    Source of ancillary NCEP atmospheric profiles:           NCEP GDAS 1-deg ...\n",
      "    Source of ancillary NCEP sea ice fraction:               Available from h...\n",
      "    Source of ancillary total electron content:              IGS IONEX TEC fi...\n",
      "    Source of ancillary solar flux:                          noon flux values...\n",
      "    Source of ancillary land mask:                           1 km land/water ...\n",
      "    Source of  ancillary reference SSS from HYCOM:           Hybrid Coordinat...\n",
      "    iqcflag bit  0 set:                                      no radiometer ob...\n",
      "    iqcflag bit  1 set:                                      problenm with OI...\n",
      "    iqcflag bit  2 set:                                      strong land cont...\n",
      "    iqcflag bit  3 set:                                      strong sea ice c...\n",
      "    iqcflag bit  4 set:                                      MLE in SSS retri...\n",
      "    iqcflag bit  5 set:                                      sunglint. SSS re...\n",
      "    iqcflag bit  6 set:                                      moonglint. SSS r...\n",
      "    iqcflag bit  7 set:                                      high reflected g...\n",
      "    iqcflag bit  8 set:                                      land contaminati...\n",
      "    iqcflag bit  9 set:                                      sea ice contamin...\n",
      "    iqcflag bit 10 set:                                      high residual of...\n",
      "    iqcflag bit 11 set:                                      low SST. SSS ret...\n",
      "    iqcflag bit 12 set:                                      high wind. SSS r...\n",
      "    iqcflag bit 13 set:                                      no valid imager ...\n",
      "    iqcflag bit 14 set:                                      rain flag. SSS r...\n",
      "    start_time_sec2000:                                      495868400.0\n",
      "    start_time_year:                                         2015\n",
      "    start_time_month:                                        9\n",
      "    start_time_day_of_month:                                 18\n",
      "    start_time_day_of_year:                                  261\n",
      "    start_time_sec_of_day:                                   18831.568\n",
      "    emisivity_reflector_vpol:                                0.01\n",
      "    emisivity_reflector_hpol:                                0.01\n",
      "    A_II:                                                    1.108\n",
      "    A_IQ:                                                    -1e-04\n",
      "    A_I3:                                                    0.0036\n",
      "    A_I4:                                                    -0.0006\n",
      "    A_QI:                                                    0.0\n",
      "    A_QQ:                                                    1.1349\n",
      "    A_Q3:                                                    0.0066\n",
      "    A_Q4:                                                    -1e-04\n",
      "    A_3I:                                                    0.0009\n",
      "    A_3Q:                                                    0.0042\n",
      "    A_33:                                                    1.1336\n",
      "    A_34:                                                    -0.0553\n",
      "    A_4I:                                                    0.0003\n",
      "    A_4Q:                                                    0.0014\n",
      "    A_43:                                                    0.0117\n",
      "    A_44:                                                    1.1297\n",
      "    ta_ocean_ave_vpol:                                       109.237785\n",
      "    ta_ocean_ave_hpol:                                       75.83374\n",
      "    ta_bias_ocean_vpol:                                      -0.0039709527\n",
      "    ta_bias_ocean_hpol:                                      -0.012319085\n",
      "    ta_bias_ocean_S3:                                        0.1\n",
      "    ta_bias_ocean_S4:                                        -0.42\n"
     ]
    },
    {
     "data": {
      "text/plain": [
       "<xarray.Dataset>\n",
       "Dimensions:            (look: 2, polarization_2: 2, polarization_3: 3, polarization_4: 4, xdim_grid: 1560, ydim_grid: 720)\n",
       "Dimensions without coordinates: look, polarization_2, polarization_3, polarization_4, xdim_grid, ydim_grid\n",
       "Data variables:\n",
       "    time               (ydim_grid, xdim_grid, look) datetime64[ns] ...\n",
       "    cellat             (ydim_grid, xdim_grid, look) float32 ...\n",
       "    cellon             (ydim_grid, xdim_grid, look) float32 ...\n",
       "    gland              (ydim_grid, xdim_grid, look) float32 ...\n",
       "    gice               (ydim_grid, xdim_grid) float32 ...\n",
       "    sss_smap           (ydim_grid, xdim_grid, look) float32 ...\n",
       "    surtep             (ydim_grid, xdim_grid) float32 ...\n",
       "    winspd             (ydim_grid, xdim_grid) float32 ...\n",
       "    sss_ref            (ydim_grid, xdim_grid) float32 ...\n",
       "    iqc_flag           (ydim_grid, xdim_grid, look) int32 ...\n",
       "    zang               (ydim_grid, xdim_grid, look) float32 ...\n",
       "    alpha              (ydim_grid, xdim_grid, look) float32 ...\n",
       "    eaa                (ydim_grid, xdim_grid, look) float32 ...\n",
       "    eia                (ydim_grid, xdim_grid, look) float32 ...\n",
       "    pra                (ydim_grid, xdim_grid, look) float32 ...\n",
       "    sunglt             (ydim_grid, xdim_grid, look) float32 ...\n",
       "    monglt             (ydim_grid, xdim_grid, look) float32 ...\n",
       "    gallat             (ydim_grid, xdim_grid, look) float32 ...\n",
       "    gallon             (ydim_grid, xdim_grid, look) float32 ...\n",
       "    sun_beta           (ydim_grid, xdim_grid, look) float32 ...\n",
       "    sun_alpha          (ydim_grid, xdim_grid, look) float32 ...\n",
       "    ta_ant_filtered    (ydim_grid, xdim_grid, look, polarization_4) float32 ...\n",
       "    ta_ant_calibrated  (ydim_grid, xdim_grid, look, polarization_4) float32 ...\n",
       "    ta_earth           (ydim_grid, xdim_grid, look, polarization_4) float32 ...\n",
       "    tb_toi             (ydim_grid, xdim_grid, look, polarization_4) float32 ...\n",
       "    tb_toa             (ydim_grid, xdim_grid, look, polarization_4) float32 ...\n",
       "    tb_toa_lc          (ydim_grid, xdim_grid, look, polarization_4) float32 ...\n",
       "    tb_sur             (ydim_grid, xdim_grid, look, polarization_4) float32 ...\n",
       "    tb_sur0            (ydim_grid, xdim_grid, look, polarization_4) float32 ...\n",
       "    temp_ant           (ydim_grid, xdim_grid, look, polarization_2) float32 ...\n",
       "    dtemp_ant          (ydim_grid, xdim_grid, look, polarization_2) float32 ...\n",
       "    ta_sun_dir         (ydim_grid, xdim_grid, look, polarization_3) float32 ...\n",
       "    ta_sun_ref         (ydim_grid, xdim_grid, look, polarization_3) float32 ...\n",
       "    ta_gal_dir         (ydim_grid, xdim_grid, look, polarization_3) float32 ...\n",
       "    ta_gal_ref         (ydim_grid, xdim_grid, look, polarization_3) float32 ...\n",
       "    tb_consistency     (ydim_grid, xdim_grid, look) float32 ...\n",
       "    ta_ant_exp         (ydim_grid, xdim_grid, look, polarization_4) float32 ...\n",
       "    pratot_exp         (ydim_grid, xdim_grid, look) float32 ...\n",
       "    tran               (ydim_grid, xdim_grid) float32 ...\n",
       "    tbup               (ydim_grid, xdim_grid) float32 ...\n",
       "    tbdw               (ydim_grid, xdim_grid) float32 ...\n",
       "    windir             (ydim_grid, xdim_grid) float32 ...\n",
       "    rain               (ydim_grid, xdim_grid) float32 ...\n",
       "    solar_flux         (ydim_grid, xdim_grid) float32 ...\n",
       "Attributes:\n",
       "    Conventions:                                             CF-1.6\n",
       "    title:                                                   SMAP ocean surfa...\n",
       "    version:                                                 V2.0 validated r...\n",
       "    level:                                                   Level 2: swath o...\n",
       "    history:                                                 created by T. Me...\n",
       "    creation_date:                                           2016-08-27 T00:2...\n",
       "    institution:                                             Remote Sensing S...\n",
       "    dataset_citation_authors:                                Meissner, T., an...\n",
       "    dataset_citation_year:                                   2016\n",
       "    dataset_citation_product:                                Remote Sensing S...\n",
       "    dataset_citation_version:                                Version 2.0 vali...\n",
       "    dataset_citation_institution:                            Remote Sensing S...\n",
       "    dataset_citation_weblink:                                Available online...\n",
       "    netCDF_version_id:                                       4\n",
       "    OI Earth grid x dimension:                               1560 (360 deg lo...\n",
       "    OI Earth grid y dimension:                                720 (180 deg la...\n",
       "    OI Earth grid cells longitude and latitude:              provided as vari...\n",
       "    Source of SMAP filtered TA:                              Piepmeier J. et ...\n",
       "    Source of ancillary SST:                                 Canadian Meteoro...\n",
       "    Source of ancillary WindSat wind speed and rain rate:    Wentz F. et al.,...\n",
       "    Source of ancillary F17 SSMIS wind speed and rain rate:  Wentz F. et al.,...\n",
       "    Source of ancillary NCEP wind speed and direction:       NCEP GFS 0.25-de...\n",
       "    Source of ancillary NCEP atmospheric profiles:           NCEP GDAS 1-deg ...\n",
       "    Source of ancillary NCEP sea ice fraction:               Available from h...\n",
       "    Source of ancillary total electron content:              IGS IONEX TEC fi...\n",
       "    Source of ancillary solar flux:                          noon flux values...\n",
       "    Source of ancillary land mask:                           1 km land/water ...\n",
       "    Source of  ancillary reference SSS from HYCOM:           Hybrid Coordinat...\n",
       "    iqcflag bit  0 set:                                      no radiometer ob...\n",
       "    iqcflag bit  1 set:                                      problenm with OI...\n",
       "    iqcflag bit  2 set:                                      strong land cont...\n",
       "    iqcflag bit  3 set:                                      strong sea ice c...\n",
       "    iqcflag bit  4 set:                                      MLE in SSS retri...\n",
       "    iqcflag bit  5 set:                                      sunglint. SSS re...\n",
       "    iqcflag bit  6 set:                                      moonglint. SSS r...\n",
       "    iqcflag bit  7 set:                                      high reflected g...\n",
       "    iqcflag bit  8 set:                                      land contaminati...\n",
       "    iqcflag bit  9 set:                                      sea ice contamin...\n",
       "    iqcflag bit 10 set:                                      high residual of...\n",
       "    iqcflag bit 11 set:                                      low SST. SSS ret...\n",
       "    iqcflag bit 12 set:                                      high wind. SSS r...\n",
       "    iqcflag bit 13 set:                                      no valid imager ...\n",
       "    iqcflag bit 14 set:                                      rain flag. SSS r...\n",
       "    start_time_sec2000:                                      495868400.0\n",
       "    start_time_year:                                         2015\n",
       "    start_time_month:                                        9\n",
       "    start_time_day_of_month:                                 18\n",
       "    start_time_day_of_year:                                  261\n",
       "    start_time_sec_of_day:                                   18831.568\n",
       "    emisivity_reflector_vpol:                                0.01\n",
       "    emisivity_reflector_hpol:                                0.01\n",
       "    A_II:                                                    1.108\n",
       "    A_IQ:                                                    -1e-04\n",
       "    A_I3:                                                    0.0036\n",
       "    A_I4:                                                    -0.0006\n",
       "    A_QI:                                                    0.0\n",
       "    A_QQ:                                                    1.1349\n",
       "    A_Q3:                                                    0.0066\n",
       "    A_Q4:                                                    -1e-04\n",
       "    A_3I:                                                    0.0009\n",
       "    A_3Q:                                                    0.0042\n",
       "    A_33:                                                    1.1336\n",
       "    A_34:                                                    -0.0553\n",
       "    A_4I:                                                    0.0003\n",
       "    A_4Q:                                                    0.0014\n",
       "    A_43:                                                    0.0117\n",
       "    A_44:                                                    1.1297\n",
       "    ta_ocean_ave_vpol:                                       109.237785\n",
       "    ta_ocean_ave_hpol:                                       75.83374\n",
       "    ta_bias_ocean_vpol:                                      -0.0039709527\n",
       "    ta_bias_ocean_hpol:                                      -0.012319085\n",
       "    ta_bias_ocean_S3:                                        0.1\n",
       "    ta_bias_ocean_S4:                                        -0.42"
      ]
     },
     "execution_count": 15,
     "metadata": {},
     "output_type": "execute_result"
    }
   ],
   "source": [
    "#ds_sat = xr.open_mfdataset(filelist,coords='minimal')\n",
    "ds_sat = xr.open_dataset(filelist[0])\n",
    "#ds_sat = ds_sat.isel(depth=0).drop('year').rename({'latitude':'lat'}).rename({'longitude':'lon'})\n",
    "#ds_sat = ds_sat.sortby('lat').sel(lon=slice(20.0,379.00))\n",
    "#ds_sat.coords['lon'] = (ds_sat.coords['lon'] + 180) % 360 - 180\n",
    "#ds_sat = ds_sat.sortby('lon')\n",
    "ds_sat.close()\n",
    "print(ds_sat)  #check units \n",
    "ds_sat"
   ]
  },
  {
   "cell_type": "markdown",
   "metadata": {},
   "source": [
    "\n",
    "1. First let's subset the data to make it smaller to deal with by using the cruise lat/lons\n",
    "\n",
    "\n"
   ]
  },
  {
   "cell_type": "code",
   "execution_count": 8,
   "metadata": {},
   "outputs": [],
   "source": [
    "#Step 1 from above\n",
    "subset = ds_sat.sel(lon=slice(ds_usv_subset.lon.min().data,ds_usv_subset.lon.max().data),\n",
    "                    lat=slice(ds_usv_subset.lat.min().data,ds_usv_subset.lat.max().data))\n",
    "\n",
    "#now collocate with usv lat and lons\n",
    "ds_collocated = subset.interp(lat=ds_usv_subset.lat,lon=ds_usv_subset.lon,time=ds_usv_subset.time,method='linear')\n",
    "ds_collocated_nearest = subset.interp(lat=ds_usv_subset.lat,lon=ds_usv_subset.lon,time=ds_usv_subset.time,method='nearest')\n"
   ]
  },
  {
   "cell_type": "markdown",
   "metadata": {},
   "source": [
    "# A larger STD that isn't reflective of uncertainty in the observation\n",
    "The collocation above will result in multiple USV data points matched with a single satellite\n",
    "observation.    The USV is sampling every 1 min and approximately few meters, while the satellite\n",
    "is an average over a footprint that is interpolated onto a daily mean map.  While calculating the mean would results in a valid mean, the STD would be higher and consist of a component that reflects the uncertainty of the USV and the satellite and a component that reflects the natural variability in the region that is sampled by the USV\n",
    "\n",
    "Below we use the 'nearest' collocation results to identify when multiple USV data are collcated to\n",
    "a single satellite observation.\n",
    "This code goes through the data and creates averages of the USV data that match the single CCMP collocated value.\n"
   ]
  },
  {
   "cell_type": "code",
   "execution_count": 9,
   "metadata": {
    "scrolled": true
   },
   "outputs": [],
   "source": [
    "ilen,index = ds_collocated_nearest.dims['time'],0\n",
    "ds_tem = ds_collocated_nearest.copy(deep=True)\n",
    "duu, duv1, duv2, dlat, dlon, dut = [],[],[],[],[],np.empty((),dtype='datetime64')\n",
    "while index <= ilen-2:\n",
    "    index += 1\n",
    "    if np.isnan(ds_collocated_nearest.u[index]):\n",
    "        continue\n",
    "    if np.isnan(ds_tem.u[index]):\n",
    "        continue\n",
    "   # print(index, ilen)\n",
    "    iend = index + 730\n",
    "    if iend > ilen-1:\n",
    "        iend = ilen-1\n",
    "    ds_tem_subset = ds_tem.u[index:iend]\n",
    "    ds_tem_subset2 = ds_tem.v[index:iend]\n",
    "    ds_usv_subset2ucur = ds_usv_subset.vel_east_30m[index:iend]\n",
    "    ds_usv_subset2vcur = ds_usv_subset.vel_north_30m[index:iend]\n",
    "    ds_usv_subset2lat = ds_usv_subset.lat[index:iend]\n",
    "    ds_usv_subset2lon = ds_usv_subset.lon[index:iend]\n",
    "    ds_usv_subset2time = ds_usv_subset.time[index:iend]\n",
    "    cond = ((ds_tem_subset==ds_collocated_nearest.u[index]) & (ds_tem_subset2==ds_collocated_nearest.v[index]))\n",
    "    notcond = np.logical_not(cond)\n",
    "    #cond = ((ds_tem.analysed_sst==ds_collocated_nearest.analysed_sst[index]))\n",
    "    #notcond = np.logical_not(cond)\n",
    "    masked = ds_tem_subset.where(cond)\n",
    "    if masked.sum().data==0:  #don't do if data not found\n",
    "        continue\n",
    "    masked_usvucur = ds_usv_subset2ucur.where(cond,drop=True)\n",
    "    masked_usvvcur = ds_usv_subset2vcur.where(cond,drop=True)\n",
    "    masked_usvlat = ds_usv_subset2lat.where(cond,drop=True)\n",
    "    masked_usvlon = ds_usv_subset2lon.where(cond,drop=True)\n",
    "    masked_usvtime = ds_usv_subset2time.where(cond,drop=True)\n",
    "    duu=np.append(duu,masked_usvucur.mean().data)\n",
    "    duv1=np.append(duv1,masked_usvvcur.mean().data)\n",
    "    dlat=np.append(dlat,masked_usvlat.mean().data)\n",
    "    dlon=np.append(dlon,masked_usvlon.mean().data)\n",
    "    tdif = masked_usvtime[-1].data-masked_usvtime[0].data\n",
    "    mtime=masked_usvtime[0].data+np.timedelta64(tdif/2,'ns')\n",
    "#    if mtime>dut.max():\n",
    "#        print(index,dut.shape[0],masked_usvtime[0].data,masked_usvtime[-1].data-masked_usvtime[0].data)\n",
    "    dut=np.append(dut,mtime)\n",
    "    ds_tem.u[index:iend]=ds_tem.u.where(notcond)\n",
    "    ds_tem.v[index:iend]=ds_tem.v.where(notcond)\n",
    "dut2 = dut[1:]  #remove first data point which is a repeat from what array defined       \n",
    "ds_new=xr.Dataset(data_vars={'vel_east': ('time',duu),'vel_north':('time',duv1),\n",
    "                             'lon': ('time',dlon),\n",
    "                             'lat': ('time',dlat)},\n",
    "                  coords={'time':dut2})\n",
    "ds_new.to_netcdf('F:/data/cruise_data/saildrone/baja-2018/oscar_downsampled_usv_data2.nc')"
   ]
  },
  {
   "cell_type": "markdown",
   "metadata": {},
   "source": [
    "# redo the collocation\n",
    "Now, redo the collocation, using 'linear' interpolation using the averaged data.  This will interpolate the data temporally onto the USV sampling which has been averaged to the satellite data grid points"
   ]
  },
  {
   "cell_type": "code",
   "execution_count": 10,
   "metadata": {},
   "outputs": [
    {
     "data": {
      "text/plain": [
       "<xarray.Dataset>\n",
       "Dimensions:  (time: 162)\n",
       "Coordinates:\n",
       "    depth    float32 15.0\n",
       "    lat      (time) float64 37.58 37.32 37.38 36.97 ... 37.3 37.45 37.55 37.64\n",
       "    lon      (time) float64 -122.7 -122.8 -122.9 -122.7 ... -123.1 -122.9 -122.8\n",
       "  * time     (time) datetime64[ns] 2018-04-12 ... 2018-06-10T17:55:00\n",
       "Data variables:\n",
       "    u        (time) float64 0.02423 0.04211 0.04228 ... -0.05069 -0.0574\n",
       "    v        (time) float64 0.003738 -0.0401 -0.04799 ... -0.02103 -0.03263\n",
       "    um       (time) float64 0.02423 0.04211 0.04228 ... -0.05069 -0.0574\n",
       "    vm       (time) float64 0.003738 -0.0401 -0.04799 ... -0.02103 -0.03263\n",
       "Attributes:\n",
       "    VARIABLE:       Ocean Surface Currents\n",
       "    DATATYPE:       1/72 YEAR Interval\n",
       "    DATASUBTYPE:    unfiltered\n",
       "    GEORANGE:       20 to 420 -80 to 80\n",
       "    PERIOD:         Jan.01,2018 to Dec.26,2018\n",
       "    year:           2018\n",
       "    description:    OSCAR Third Degree Sea Surface Velocity\n",
       "    CREATION_DATE:  03:39 30-Jan-2019\n",
       "    version:        2009.0\n",
       "    source:         Gary Lagerloef, ESR (lager@esr.org) and Kathleen Dohan, E...\n",
       "    contact:        Kathleen Dohan (kdohan@esr.org) or John T. Gunn (gunn@esr...\n",
       "    company:        Earth & Space Research, Seattle, WA\n",
       "    reference:      Bonjean F. and G.S.E. Lagerloef, 2002 ,Diagnostic model a...\n",
       "    note1:          Maximum Mask velocity is the geostrophic component at all...\n",
       "    note2:          Longitude extends from 20 E to 420 E to avoid a break in ..."
      ]
     },
     "execution_count": 10,
     "metadata": {},
     "output_type": "execute_result"
    }
   ],
   "source": [
    "ds_collocated_averaged = subset.interp(lat=ds_new.lat,lon=ds_new.lon,time=ds_new.time,method='linear')\n",
    "ds_collocated_averaged"
   ]
  },
  {
   "cell_type": "code",
   "execution_count": 38,
   "metadata": {},
   "outputs": [],
   "source": [
    "ds_collocated_averaged.to_netcdf('F:/data/cruise_data/saildrone/baja-2018/oscar_downsampled_collocated_usv_data3.nc')\n"
   ]
  },
  {
   "cell_type": "code",
   "execution_count": 42,
   "metadata": {},
   "outputs": [
    {
     "name": "stdout",
     "output_type": "stream",
     "text": [
      "mean,std dif speed [array(0.11182869), array(0.11352103)]\n",
      "mean,std dir [array(-0.40261571), array(62.62654293), 162]\n",
      "[array(0.11182869), array(0.08802241), 0.4459301398989154, array(0.11352103), 0.09906482143580654, array(0.12003823), 152]\n",
      "[array(-0.40261571), array(1.83418634), 0.343404240006346, array(62.62654293), 43.999699068779684, array(45.96577433), 152]\n"
     ]
    }
   ],
   "source": [
    "ds_collocated_averaged['spd']=np.sqrt(ds_collocated_averaged.u**2+ds_collocated_averaged.v**2)\n",
    "ds_new['spd'] = np.sqrt(ds_new.vel_east**2+ds_new.vel_north**2)\n",
    "ds_collocated_averaged['dir']=np.arctan2(ds_collocated_averaged.v,ds_collocated_averaged.u)*180./np.pi\n",
    "ds_new['dir'] = np.arctan2(ds_new.vel_north,ds_new.vel_east)*180./np.pi\n",
    "\n",
    "usv_spd = ds_new.spd\n",
    "sat_spd = ds_collocated_averaged.spd\n",
    "usv_dir = ds_new.dir\n",
    "sat_dir = ds_collocated_averaged.dir\n",
    "dif_spd,dif_dir = usv_spd - sat_spd, usv_dir - sat_dir\n",
    "cond,cond2 = (dif_dir > 180),(dif_dir < -180)\n",
    "cond,cond2 = (dif_dir > 180),(dif_dir < -180)\n",
    "dif_dir[cond]-=360\n",
    "dif_dir[cond2]+=360\n",
    "print('mean,std dif speed',[dif_spd.mean().data,dif_spd.std().data])\n",
    "print('mean,std dir',[dif_dir.mean().data,dif_dir.std().data,dif_spd.shape[0]])\n",
    "\n",
    "usv_spd = ds_new.spd\n",
    "sat_spd = ds_collocated_averaged.spd\n",
    "usv_dir = ds_new.dir\n",
    "sat_dir = ds_collocated_averaged.dir\n",
    "dif_spd,dif_dir = usv_spd - sat_spd, usv_dir - sat_dir\n",
    "cond,cond2 = (dif_dir > 180),(dif_dir < -180)\n",
    "cond,cond2 = (dif_dir > 180),(dif_dir < -180)\n",
    "dif_dir[cond]-=360\n",
    "dif_dir[cond2]+=360\n",
    "\n",
    "cond = (np.isfinite(usv_spd) & np.isfinite(sat_spd))\n",
    "usv_spd = usv_spd[cond]\n",
    "sat_spd = sat_spd[cond]\n",
    "usv_dir = usv_dir[cond]\n",
    "sat_dir = sat_dir[cond]\n",
    "\n",
    "sdif = dif_spd.dropna('time')\n",
    "sdifcor = np.corrcoef(sat_spd,usv_spd)[0,1]\n",
    "std_robust = np.nanmedian(np.abs(sdif - np.nanmedian(sdif))) * 1.482602218505602\n",
    "ilen = sdif.shape[0]\n",
    "print([sdif.mean().data,sdif.median().data,sdifcor,sdif.std().data,std_robust,\n",
    "                    np.abs(sdif).mean().data,sdif.shape[0]])\n",
    "sdif = dif_dir.dropna('time')\n",
    "sdifcor = np.corrcoef(sat_dir,usv_dir)[0,1]\n",
    "std_robust = np.nanmedian(np.abs(sdif - np.nanmedian(sdif))) * 1.482602218505602\n",
    "ilen = sdif.shape[0]\n",
    "print([sdif.mean().data,sdif.median().data,sdifcor,sdif.std().data,std_robust,\n",
    "                    np.abs(sdif).mean().data,sdif.shape[0]])\n"
   ]
  },
  {
   "cell_type": "code",
   "execution_count": 43,
   "metadata": {},
   "outputs": [
    {
     "data": {
      "text/plain": [
       "<xarray.Dataset>\n",
       "Dimensions:    (time: 162)\n",
       "Coordinates:\n",
       "  * time       (time) datetime64[ns] 2018-04-12 ... 2018-06-10T17:55:00\n",
       "Data variables:\n",
       "    vel_east   (time) float64 0.04564 0.1427 0.05204 ... 0.06883 -0.01579\n",
       "    vel_north  (time) float64 0.02064 -0.09476 -0.01621 ... -0.1755 -0.09313\n",
       "    lon        (time) float64 -122.7 -122.8 -122.9 ... -123.1 -122.9 -122.8\n",
       "    lat        (time) float64 37.58 37.32 37.38 36.97 ... 37.3 37.45 37.55 37.64\n",
       "    spd        (time) float64 0.05008 0.1713 0.05451 ... 0.3585 0.1885 0.09446\n",
       "    dir        (time) float64 24.33 -33.59 -17.31 ... -85.86 -68.58 -99.62"
      ]
     },
     "execution_count": 43,
     "metadata": {},
     "output_type": "execute_result"
    }
   ],
   "source": [
    "ds_new"
   ]
  },
  {
   "cell_type": "code",
   "execution_count": 47,
   "metadata": {},
   "outputs": [
    {
     "name": "stdout",
     "output_type": "stream",
     "text": [
      "0.16125791974845208 0.06255530115918748 0.4459301398989154 8.539846478765322e-09 0.02642801320604377\n"
     ]
    },
    {
     "data": {
      "image/png": "[encoded data removed]",
      "text/plain": [
       "<Figure size 432x288 with 1 Axes>"
      ]
     },
     "metadata": {
      "needs_background": "light"
     },
     "output_type": "display_data"
    }
   ],
   "source": [
    "\n",
    "# Learn about API authentication here: https://plot.ly/python/getting-started\n",
    "# Find your api_key here: https://plot.ly/settings/api\n",
    "# MatPlotlib\n",
    "import matplotlib.pyplot as plt\n",
    "from matplotlib import pylab\n",
    "# Scientific libraries\n",
    "from numpy import arange,array,ones\n",
    "from scipy import stats\n",
    "\n",
    "usv_spd = ds_new.spd\n",
    "sat_spd = ds_collocated_averaged.spd\n",
    "usv_dir = ds_new.dir\n",
    "sat_dir = ds_collocated_averaged.dir\n",
    "dif_spd,dif_dir = usv_spd - sat_spd, usv_dir - sat_dir\n",
    "cond,cond2 = (dif_dir > 180),(dif_dir < -180)\n",
    "cond,cond2 = (dif_dir > 180),(dif_dir < -180)\n",
    "dif_dir[cond]-=360\n",
    "dif_dir[cond2]+=360\n",
    "\n",
    "usv_ucur = ds_new.vel_east\n",
    "usv_vcur = ds_new.vel_north\n",
    "sat_ucur = ds_collocated_averaged.u\n",
    "sat_vcur = ds_collocated_averaged.v\n",
    "usv_spd  = np.sqrt(usv_ucur**2 + usv_vcur**2)\n",
    "sat_spd  = np.sqrt(sat_ucur**2 + sat_vcur**2)\n",
    "\n",
    "cond = (np.isfinite(usv_spd) & np.isfinite(sat_spd))\n",
    "usv_spd = usv_spd[cond]\n",
    "sat_spd = sat_spd[cond]\n",
    "usv_dir = usv_dir[cond]\n",
    "sat_dir = sat_dir[cond]\n",
    "\n",
    "xi = usv_spd.data\n",
    "A = array([ xi, ones(sat_spd.shape[0])])\n",
    "y = sat_spd.data\n",
    "# Generated linear fit\n",
    "slope, intercept, r_value, p_value, std_err = stats.linregress(xi,y)\n",
    "line = slope*xi+intercept\n",
    "plt.plot(xi,y,'o', xi, line)\n",
    "plt.ylim(-.1,1),plt.xlim(-.1,1)\n",
    "plt.grid()\n",
    "plt.xlabel('USV speed')\n",
    "plt.ylabel('OSCAR speed')\n",
    "print(slope,intercept,r_value,p_value,std_err)\n",
    "\n",
    "fig_fname='F:/data/cruise_data/saildrone/baja-2018/figs/oscar_usv_big_spd.png'\n",
    "plt.savefig(fig_fname, transparent=False, format='png')\n",
    "\n",
    "#pylab.title('Linear Fit with Matplotlib')\n",
    "#ax = plt.gca()\n",
    "#ax.set_axis_bgcolor((0.898, 0.898, 0.898))\n",
    "#fig = plt.gcf()\n",
    "#py.plot_mpl(fig, filename='linear-Fit-with-matplotlib')\n",
    "\n"
   ]
  },
  {
   "cell_type": "code",
   "execution_count": 46,
   "metadata": {},
   "outputs": [
    {
     "name": "stdout",
     "output_type": "stream",
     "text": [
      "0.27658743543252745 -0.0011923887293564675 0.6666748494328402 1.2526145088554306e-20 0.025418329264844764\n",
      "0.25503904326658766 -0.026807894258679858 0.5685313728861343 3.2225116457853236e-14 0.030334901843883065\n",
      "0.17560735742603198 0.060752692787064695 0.4827181530373511 3.9579624327693986e-10 0.026188531117316994\n"
     ]
    },
    {
     "data": {
      "image/png": "[encoded data removed]",
      "text/plain": [
       "<Figure size 432x288 with 3 Axes>"
      ]
     },
     "metadata": {
      "needs_background": "light"
     },
     "output_type": "display_data"
    }
   ],
   "source": [
    "usv_ucur = ds_new.vel_east\n",
    "usv_vcur = ds_new.vel_north\n",
    "sat_ucur = ds_collocated_averaged.u\n",
    "sat_vcur = ds_collocated_averaged.v\n",
    "\n",
    "cond = (np.isfinite(usv_ucur) & np.isfinite(sat_ucur) & ( usv_vcur<.2))\n",
    "usv_ucur = usv_ucur[cond]\n",
    "sat_ucur = sat_ucur[cond]\n",
    "usv_vcur = usv_vcur[cond]\n",
    "sat_vcur = sat_vcur[cond]\n",
    "\n",
    "xi = usv_ucur.data\n",
    "A = array([ xi, ones(usv_ucur.shape[0])])\n",
    "y = sat_ucur.data\n",
    "# Generated linear fit\n",
    "slope, intercept, r_value, p_value, std_err = stats.linregress(xi,y)\n",
    "line = slope*xi+intercept\n",
    "plt.subplot(231)\n",
    "plt.plot(xi,y,'o', xi, line)\n",
    "plt.ylim(-.5,.5),plt.xlim(-.5,.5)\n",
    "plt.grid()\n",
    "plt.xlabel('USV east speed')\n",
    "plt.ylabel('SAT east speed')\n",
    "print(slope,intercept,r_value,p_value,std_err)\n",
    "xi = usv_vcur.data\n",
    "A = array([ xi, ones(usv_vcur.shape[0])])\n",
    "y = sat_vcur.data\n",
    "# Generated linear fit\n",
    "slope, intercept, r_value, p_value, std_err = stats.linregress(xi,y)\n",
    "line = slope*xi+intercept\n",
    "plt.subplot(232)\n",
    "plt.plot(xi,y,'o', xi, line)\n",
    "plt.xlabel('USV north speed')\n",
    "plt.ylabel('SAT north speed')\n",
    "print(slope,intercept,r_value,p_value,std_err)\n",
    "plt.ylim(-.5,.5),plt.xlim(-.5,.5)\n",
    "plt.grid()\n",
    "xi = np.sqrt(usv_vcur.data**2 + usv_ucur.data**2)\n",
    "A = array([ xi, ones(usv_vcur.shape[0])])\n",
    "y = np.sqrt(sat_vcur.data**2+sat_ucur.data**2)\n",
    "# Generated linear fit\n",
    "slope, intercept, r_value, p_value, std_err = stats.linregress(xi,y)\n",
    "line = slope*xi+intercept\n",
    "plt.subplot(233)\n",
    "plt.plot(xi,y,'o', xi, line)\n",
    "plt.ylim(-.1,.75),plt.xlim(-.1,.75)\n",
    "plt.grid()\n",
    "plt.xlabel('USV speed')\n",
    "plt.ylabel('SAT speed')\n",
    "print(slope,intercept,r_value,p_value,std_err)\n",
    "fig_fname='F:/data/cruise_data/saildrone/baja-2018/figs/sat_current_U_V_speed.png'\n",
    "plt.savefig(fig_fname, transparent=False, format='png')\n"
   ]
  },
  {
   "cell_type": "code",
   "execution_count": 34,
   "metadata": {},
   "outputs": [
    {
     "data": {
      "image/png": "[encoded data removed]",
      "text/plain": [
       "<Figure size 360x288 with 1 Axes>"
      ]
     },
     "metadata": {
      "needs_background": "light"
     },
     "output_type": "display_data"
    }
   ],
   "source": [
    "fig, ax = plt.subplots(figsize=(5,4))\n",
    "ax.plot(usv_spd,usv_spd - sat_spd,'.')\n",
    "ax.grid(True)\n",
    "ax.set_xlabel('USV current speed (ms$^{-1}$)')\n",
    "ax.set_ylabel('USV - Sat current speed (ms$^{-1}$)')\n",
    "fig_fname='F:/data/cruise_data/saildrone/baja-2018/figs/sat_current_USV_minus_Sat_fnct_USV.png'\n",
    "fig.savefig(fig_fname, transparent=False, format='png')\n"
   ]
  },
  {
   "cell_type": "code",
   "execution_count": 33,
   "metadata": {},
   "outputs": [
    {
     "data": {
      "image/png": "[encoded data removed]",
      "text/plain": [
       "<Figure size 360x288 with 1 Axes>"
      ]
     },
     "metadata": {
      "needs_background": "light"
     },
     "output_type": "display_data"
    }
   ],
   "source": [
    "fig, ax = plt.subplots(figsize=(5,4))\n",
    "ax.plot(usv_spd,usv_dir - sat_dir,'.')\n",
    "ax.set_xlabel('USV current speed (ms$^{-1}$)')\n",
    "ax.set_ylabel('USV - Sat current direction (deg)')\n",
    "fig_fname='F:/data/cruise_data/saildrone/baja-2018/figs/sat_current_both_bias.png'\n",
    "fig.savefig(fig_fname, transparent=False, format='png')\n"
   ]
  },
  {
   "cell_type": "code",
   "execution_count": 29,
   "metadata": {},
   "outputs": [
    {
     "name": "stderr",
     "output_type": "stream",
     "text": [
      "C:\\Users\\gentemann\\Miniconda3\\envs\\satenv\\lib\\site-packages\\xarray\\core\\nanops.py:159: RuntimeWarning: Mean of empty slice\n",
      "  return np.nanmean(a, axis=axis, dtype=dtype)\n"
     ]
    },
    {
     "data": {
      "image/png": "[encoded data removed]",
      "text/plain": [
       "<Figure size 432x288 with 1 Axes>"
      ]
     },
     "metadata": {
      "needs_background": "light"
     },
     "output_type": "display_data"
    }
   ],
   "source": [
    "ds_usv_subset['cur_spd']=np.sqrt(ds_usv_subset.vel_east**2+ds_usv_subset.vel_north**2)\n",
    "ds_usv_6hr=ds_usv_subset.resample(time='6H').mean()\n",
    "ds_usv_6hr['cur_spd']=np.sqrt(ds_usv_6hr.vel_east**2+ds_usv_6hr.vel_north**2)\n",
    "\n",
    "\n",
    "plt.plot(ds_collocated_averaged.time[cond],sat_spd,'.-')\n",
    "plt.plot(ds_collocated_averaged.time[cond],usv_spd,'.-')\n",
    "plt.plot(ds_usv_6hr.time,ds_usv_6hr.cur_spd)\n",
    "plt.legend({'OSCAR','USV','USV-ave'})\n",
    "fig_fname='F:/data/cruise_data/saildrone/baja-2018/figs/sat_current_timeseries_bias.png'\n",
    "fig.savefig(fig_fname, transparent=False, format='png')\n"
   ]
  },
  {
   "cell_type": "code",
   "execution_count": 30,
   "metadata": {},
   "outputs": [
    {
     "data": {
      "text/plain": [
       "[<matplotlib.lines.Line2D at 0x23501380128>]"
      ]
     },
     "execution_count": 30,
     "metadata": {},
     "output_type": "execute_result"
    },
    {
     "data": {
      "image/png": "[encoded data removed]",
      "text/plain": [
       "<Figure size 432x288 with 1 Axes>"
      ]
     },
     "metadata": {
      "needs_background": "light"
     },
     "output_type": "display_data"
    }
   ],
   "source": [
    "ds_usv.spd_30m.sel(time=slice('2018-05-05','2018-05-09')).plot()\n"
   ]
  }
 ],
 "metadata": {
  "kernelspec": {
   "display_name": "Python 3",
   "language": "python",
   "name": "python3"
  },
  "language_info": {
   "codemirror_mode": {
    "name": "ipython",
    "version": 3
   },
   "file_extension": ".py",
   "mimetype": "text/x-python",
   "name": "python",
   "nbconvert_exporter": "python",
   "pygments_lexer": "ipython3",
   "version": "3.7.1"
  }
 },
 "nbformat": 4,
 "nbformat_minor": 1
}
