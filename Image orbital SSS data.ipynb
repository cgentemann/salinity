{
 "cells": [
  {
   "cell_type": "markdown",
   "metadata": {},
   "source": [
    "# This is the in situ and SSS collocation code. \n"
   ]
  },
  {
   "cell_type": "code",
   "execution_count": 2,
   "metadata": {},
   "outputs": [],
   "source": [
    "import os\n",
    "import numpy as np\n",
    "import matplotlib.pyplot as plt\n",
    "import datetime as dt\n",
    "import xarray as xr\n",
    "import scipy\n",
    "from glob import glob\n",
    "import cartopy.crs as ccrs\n",
    "from pyresample.geometry import AreaDefinition\n",
    "from pyresample import image, geometry, load_area, save_quicklook, SwathDefinition\n",
    "from pyresample.kd_tree import resample_nearest\n"
   ]
  },
  {
   "cell_type": "markdown",
   "metadata": {},
   "source": [
    "# Read in USV data\n",
    "Read in the Saildrone USV file either from a local disc or using OpenDAP.\n",
    "\n"
   ]
  },
  {
   "cell_type": "code",
   "execution_count": 147,
   "metadata": {},
   "outputs": [
    {
     "data": {
      "text/plain": [
       "<xarray.Dataset>\n",
       "Dimensions:               (time: 85980)\n",
       "Coordinates:\n",
       "    trajectory            float32 1002.0\n",
       "  * time                  (time) datetime64[ns] 2018-04-12T02:00:00 ... 2018-06-10T18:59:00\n",
       "    lat                   (time) float64 37.51 37.51 37.51 ... 37.68 37.68 37.68\n",
       "    lon                   (time) float64 -122.8 -122.8 -122.8 ... -122.7 -122.7\n",
       "Data variables:\n",
       "    SOG                   (time) float64 ...\n",
       "    COG                   (time) float64 ...\n",
       "    HDG                   (time) float64 ...\n",
       "    HDG_WING              (time) float64 ...\n",
       "    ROLL                  (time) float64 ...\n",
       "    PITCH                 (time) float64 ...\n",
       "    WING_ANGLE            (time) float64 ...\n",
       "    BARO_PRES_MEAN        (time) float64 ...\n",
       "    BARO_PRES_STDDEV      (time) float64 ...\n",
       "    TEMP_AIR_MEAN         (time) float64 ...\n",
       "    TEMP_AIR_STDDEV       (time) float64 ...\n",
       "    RH_MEAN               (time) float64 ...\n",
       "    RH_STDDEV             (time) float64 ...\n",
       "    TEMP_IR_UNCOR_MEAN    (time) float64 ...\n",
       "    TEMP_IR_UNCOR_STDDEV  (time) float64 ...\n",
       "    UWND_MEAN             (time) float64 9.31 nan nan nan ... nan nan nan nan\n",
       "    UWND_STDDEV           (time) float64 ...\n",
       "    VWND_MEAN             (time) float64 -6.38 nan nan nan ... nan nan nan nan\n",
       "    VWND_STDDEV           (time) float64 ...\n",
       "    WWND_MEAN             (time) float64 ...\n",
       "    WWND_STDDEV           (time) float64 ...\n",
       "    GUST_WND_MEAN         (time) float64 ...\n",
       "    GUST_WND_STDDEV       (time) float64 ...\n",
       "    TEMP_CTD_MEAN         (time) float64 ...\n",
       "    TEMP_CTD_STDDEV       (time) float64 ...\n",
       "    COND_MEAN             (time) float64 ...\n",
       "    COND_STDDEV           (time) float64 ...\n",
       "    SAL_MEAN              (time) float64 ...\n",
       "    SAL_STDDEV            (time) float64 ...\n",
       "    O2_CONC_UNCOR_MEAN    (time) float64 ...\n",
       "    O2_CONC_UNCOR_STDDEV  (time) float64 ...\n",
       "    O2_SAT_MEAN           (time) float64 ...\n",
       "    O2_SAT_STDDEV         (time) float64 ...\n",
       "    TEMP_O2_MEAN          (time) float64 ...\n",
       "    TEMP_O2_STDDEV        (time) float64 ...\n",
       "    CHLOR_MEAN            (time) float64 ...\n",
       "    CHLOR_STDDEV          (time) float64 ...\n",
       "    CDOM_MEAN             (time) float64 ...\n",
       "    CDOM_STDDEV           (time) float64 ...\n",
       "    BKSCT_RED_MEAN        (time) float64 ...\n",
       "    BKSCT_RED_STDDEV      (time) float64 ...\n",
       "    wind_speed            (time) float64 11.29 nan nan nan ... nan nan nan nan\n",
       "    wind_dir              (time) float64 -34.42 nan nan nan ... nan nan nan nan\n",
       "Attributes:\n",
       "    title:                     Baja 2018 Near-Real-Time Mission Data\n",
       "    ncei_template_version:     NCEI_NetCDF_Trajectory_Template_v2.0\n",
       "    Conventions:               CF-1.6, ACDD-1.3\n",
       "    netcdf_version:            4.4.1.1\n",
       "    featureType:               trajectory\n",
       "    cdm_data_type:             Trajectory\n",
       "    standard_name_vocabulary:  CF Standard Name Table v58\n",
       "    description:               Saildrone NetCDF Format\n",
       "    creator_name:              Saildrone\n",
       "    platform:                  Saildrone\n",
       "    institution:               Saildrone\n",
       "    creator_email:             support@saildrone.com\n",
       "    creator_url:               http://saildrone.com/\n",
       "    date_created:              2018-08-29T21:02:49.774718Z\n",
       "    interval:                  60.0\n",
       "    time_coverage_resolution:  PT1M\n",
       "    time_coverage_start:       2018-04-11T18:00:00.000000Z\n",
       "    time_coverage_end:         2018-06-11T05:59:59.000000Z\n",
       "    time_coverage_duration:    P60DT11H59M59S\n",
       "    data_mode:                 realtime\n",
       "    drone_id:                  1002\n",
       "    id:                        3860\n",
       "    naming_authority:          com.saildrone\n",
       "    uuid:                      b98a9a81-d9f0-4751-aad6-8ea5b8cea963\n",
       "    geospatial_lat_min:        28.0176832\n",
       "    geospatial_lat_max:        37.8174912\n",
       "    geospatial_lat_units:      degrees_north\n",
       "    geospatial_lon_min:        -125.55297279999999\n",
       "    geospatial_lon_max:        -115.5226624\n",
       "    geospatial_lon_units:      degrees_east\n",
       "    area:                      Baja California Coast\n",
       "    project:                   baja_2018\n",
       "    product_version:           1\n",
       "    summary:                   The Saildrone unmanned surface vehicle (USV) c..."
      ]
     },
     "execution_count": 147,
     "metadata": {},
     "output_type": "execute_result"
    }
   ],
   "source": [
    "#filename_usv='f:/data/cruise_data/saildrone/baja-2018/saildrone-gen_4-baja_2018-sd1002-20180411T180000-20180611T055959-1_minutes-v1.nc'\n",
    "filename_usv='f:/data/cruise_data/saildrone/baja-2018/saildrone-gen_4-baja_2018-sd1002-20180411T180000-20180611T055959-1_minutes-v1.nc'\n",
    "ds_usv = xr.open_dataset(filename_usv)\n",
    "ds_usv.close()\n",
    "ds_usv = ds_usv.isel(trajectory=0).swap_dims({'obs':'time'}).rename({'longitude':'lon','latitude':'lat'})\n",
    "ds_usv = ds_usv.sel(time=slice('2018-04-12T02','2018-06-10T18')) #get rid of last part and first part where USV being towed\n",
    "ds_usv['lon'] = ds_usv.lon.interpolate_na(dim='time',method='linear') #there are 6 nan values\n",
    "ds_usv['lat'] = ds_usv.lat.interpolate_na(dim='time',method='linear')\n",
    "ds_usv['wind_speed']=np.sqrt(ds_usv.UWND_MEAN**2+ds_usv.VWND_MEAN**2)\n",
    "ds_usv['wind_dir']=np.arctan2(ds_usv.VWND_MEAN,ds_usv.UWND_MEAN)*180/np.pi\n",
    "ds_usv"
   ]
  },
  {
   "cell_type": "code",
   "execution_count": 51,
   "metadata": {},
   "outputs": [
    {
     "data": {
      "image/png": "[encoded data removed]",
      "text/plain": [
       "<Figure size 432x288 with 2 Axes>"
      ]
     },
     "metadata": {
      "needs_background": "light"
     },
     "output_type": "display_data"
    }
   ],
   "source": [
    "ax = plt.axes(projection=ccrs.PlateCarree())\n",
    "cs1 = ax.scatter(ds_usv.lon, ds_usv.lat, s=3.0, c=ds_usv.SAL_MEAN, edgecolor='none', cmap='jet',vmin=33,vmax=34.35)\n",
    "ax.coastlines()\n",
    "x1,x2,y1,y2 = -128,-112,25,40\n",
    "ax.set_xlim(x1,x2)\n",
    "ax.set_ylim(y1,y2)\n",
    "ax.set_xticks(np.arange(x1,x2,4))\n",
    "ax.set_yticks(np.arange(y1,y2,5))\n",
    "cax = plt.colorbar(cs1)\n",
    "cax.set_label('Salinity (psu)')\n",
    "fig_fname = 'C:/Users/gentemann/Google Drive/f_drive/docs/projects/SSS/figures/baja_location.png'\n",
    "plt.savefig(fig_fname, transparent=False, format='png')"
   ]
  }
 ],
 "metadata": {
  "kernelspec": {
   "display_name": "Python 3 (ipykernel)",
   "language": "python",
   "name": "python3"
  },
  "language_info": {
   "codemirror_mode": {
    "name": "ipython",
    "version": 3
   },
   "file_extension": ".py",
   "mimetype": "text/x-python",
   "name": "python",
   "nbconvert_exporter": "python",
   "pygments_lexer": "ipython3",
   "version": "3.8.5"
  }
 },
 "nbformat": 4,
 "nbformat_minor": 1
}
