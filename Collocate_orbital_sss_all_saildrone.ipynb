{
 "cells": [
  {
   "cell_type": "code",
   "execution_count": null,
   "metadata": {
    "scrolled": true
   },
   "outputs": [],
   "source": [
    "import sys\n",
    "import numpy as np\n",
    "import matplotlib.pyplot as plt\n",
    "import datetime as dt\n",
    "import xarray as xr\n",
    "import cartopy.crs as ccrs\n",
    "from pyresample.geometry import AreaDefinition\n",
    "from pyresample.geometry import GridDefinition\n",
    "from pyresample import image, geometry, load_area, save_quicklook, SwathDefinition, area_def2basemap\n",
    "from pyresample.kd_tree import resample_nearest\n",
    "from scipy import spatial\n",
    "sys.path.append('../saildrone/subroutines/')\n",
    "from read_routines import read_all_usv,read_one_usv, add_coll_vars_ds_rss, add_coll_vars_ds_jpl,get_filelist_l2p,get_orbital_data_l2p\n",
    "import warnings\n",
    "warnings.simplefilter('ignore') # filter some warning messages\n",
    "from glob import glob\n",
    "\n",
    "ds = xr.open_dataset('f:/data/sat_data/distance_to_land_25km.nc').rename({'i2':'lon','j2':'lat'})\n",
    "ds['lat'],ds['lon']=np.arange(-89.875,89.876,.25),np.arange(-179.875,179.876,.25)#np.arange(.125,359.876,.25)\n",
    "#ds.coords['lon'] = (ds.coords['lon'] + 180) % 360 - 180\n",
    "#ds = ds.sortby(ds.lon)\n",
    "ds_land=ds\n",
    "plt.rcParams['figure.figsize'] = (15,5)\n",
    "ds_land.dist_land.plot()"
   ]
  },
  {
   "cell_type": "markdown",
   "metadata": {},
   "source": [
    "# Read in All Saildrone cruises downloaded from https://data.saildrone.com/data/sets\n",
    "- 2017 onwards, note that earlier data is going to lack insruments and be poorer data quality in general\n",
    "- For this code I want to develop a routine that reads in all the different datasets and creates a standardized set\n",
    "- It may work best to first read each of the files individually into a dictionary \n",
    "- then go through each dataset finding all variable names\n",
    "- I decided to put all SST into TEMP_CTD_MEAN and same for Salinity so there is a single variable name\n",
    "- this still preserves all the dataset information"
   ]
  },
  {
   "cell_type": "code",
   "execution_count": null,
   "metadata": {},
   "outputs": [],
   "source": [
    "dir_data = 'C:/Users/gentemann/Google Drive/public/ALL_Saildrone_Data/' #'f:/data/cruise_data/saildrone/saildrone_data/'\n",
    "dir_data_pattern = 'C:/Users/gentemann/Google Drive/public/ALL_Saildrone_Data/*.nc' \n",
    "#dir_data 'f:/data/cruise_data/saildrone/saildrone_data/'\n",
    "#dir_data_pattern = 'f:/data/cruise_data/saildrone/saildrone_data/*.nc'\n",
    "\n",
    "#get list of all filenames in directory\n",
    "files = [x for x in glob(dir_data_pattern)]\n",
    "print('number of file:',len(files))\n",
    "for ifile,file in enumerate(files):\n",
    "    print(ifile,file)\n"
   ]
  },
  {
   "cell_type": "markdown",
   "metadata": {},
   "source": [
    "## An example showing how the using matplotlib maps orbital data quickly and easily\n"
   ]
  },
  {
   "cell_type": "code",
   "execution_count": null,
   "metadata": {},
   "outputs": [],
   "source": [
    "#ds_tem = xr.open_dataset('C:/Users/gentemann/Google Drive/public/2019_saildrone/saildrone_arctic_sd1037_2019.nc')\n",
    "#ds_tem2 = xr.open_dataset('f:/data/cruise_data/saildrone/2019_arctic/post_mission/saildrone-gen_5-arctic_misst_2019-sd1037-20190514T230000-20191011T183000-1_minutes-v1.1575487464625.nc')\n",
    "#ds_tem = ds_tem.isel(row=slice(60,-1))\n",
    "#ds_tem2 = ds_tem2.isel(obs=slice(60*24,-1))\n",
    "#print(ds_tem.time[0].data,ds_tem.time[-1].data)\n",
    "#print(ds_tem2.time[0,0].data,ds_tem2.time[0,-1].data)\n",
    "#ds\n",
    "#ds_usv"
   ]
  },
  {
   "cell_type": "code",
   "execution_count": null,
   "metadata": {},
   "outputs": [],
   "source": [
    "adir = 'C:/Users/gentemann/Google Drive/public/ALL_Saildrone_Data/'\n",
    "ds_usv = xr.open_dataset(files[4]).rename({'latitude':'lat','longitude':'lon'})\n",
    "#file = 'F:/data/sat_data/smap/SSS/L2/JPL/V4.3/2016/002/SMAP_L2B_SSS_04909_20160102T044855_R16010_V4.3.h5'\n",
    "file = 'F:/data/sat_data/smap/SSS/L2/RSS/V3/40km/2018/115/RSS_SMAP_SSS_L2C_40km_r17250_20180425T004136_2018115_FNL_V03.0.nc'\n",
    "ds = xr.open_dataset(file)\n",
    "ds.close()\n",
    "x = ds.cellon.data\n",
    "y = ds.cellat.data\n",
    "z = ds.sss_smap.data\n",
    "ax = plt.axes(projection=ccrs.PlateCarree())\n",
    "cs1 = ax.scatter(x, y, s=1.0, c=z, edgecolor='none', cmap='jet')\n",
    "minlon,maxlon,minlat,maxlat = ds_usv.lon.min().data,ds_usv.lon.max().data,ds_usv.lat.min().data,ds_usv.lat.max().data\n",
    "ax.plot([minlon,maxlon,maxlon,minlon,minlon],[minlat,minlat,maxlat,maxlat,minlat])\n",
    "#ax.plot(ds.cellon[jj,ii],ds.cellat[jj,ii,0],'b*')\n",
    "#ax.plot(ds_usv.lon[1000],ds_usv.lat[1000],'ro')\n",
    "ax.plot(ds_usv.lon,ds_usv.lat,'ro')\n",
    "ax.coastlines()\n",
    "ax.set_xlim(-130,-110)\n",
    "ax.set_ylim(25,40)"
   ]
  },
  {
   "cell_type": "markdown",
   "metadata": {},
   "source": [
    "# test read in a file to look at dimension names"
   ]
  },
  {
   "cell_type": "code",
   "execution_count": null,
   "metadata": {},
   "outputs": [],
   "source": [
    "#file = 'F:/data/sat_data/smap/SSS/L2/JPL/V4.3/2016/002/SMAP_L2B_SSS_04909_20160102T044855_R16010_V4.3.h5'\n",
    "file = 'F:/data/sat_data/smap/SSS/L2/RSS/V4/SCI/2018/115/RSS_SMAP_SSS_L2C_r17250_20180425T004136_2018115_FNL_V04.0.nc'\n",
    "ds = xr.open_dataset(file,decode_cf=False)\n",
    "ds.close()\n",
    "\n",
    "ii=0\n",
    "plt.rcParams['figure.figsize'] = (15.0,6.0)\n",
    "ds2 = ds.where((ds.cellon>-180)&(ds.sss_smap>0))\n",
    "ax = plt.subplot(221,projection=ccrs.PlateCarree(central_longitude=0))\n",
    "cs1=ax.scatter(ds2.cellon[:,:,ii],ds2.cellat[:,:,ii],c=ds2.sss_smap[:,:,ii],vmin=30,vmax=36,edgecolor='none', cmap='jet')\n",
    "ax.coastlines()\n",
    "cax = plt.colorbar(cs1,shrink=.3)\n",
    "ax = plt.subplot(222,projection=ccrs.PlateCarree(central_longitude=0))\n",
    "cs1=ax.scatter(ds2.cellon[:,:,ii],ds2.cellat[:,:,ii],c=ds2.iqc_flag[:,:,ii],vmin=0,vmax=32000,edgecolor='none', cmap='jet')\n",
    "ax.coastlines()\n",
    "cax = plt.colorbar(cs1,shrink=.3)\n",
    "ii=1\n",
    "ds2 = ds.where((ds.cellon>-180)&(ds.sss_smap>0))\n",
    "ax = plt.subplot(223,projection=ccrs.PlateCarree(central_longitude=0))\n",
    "cs1=ax.scatter(ds2.cellon[:,:,ii],ds2.cellat[:,:,ii],c=ds2.sss_smap[:,:,ii],vmin=30,vmax=36,edgecolor='none', cmap='jet')\n",
    "ax.coastlines()\n",
    "cax = plt.colorbar(cs1,shrink=.3)\n",
    "ax = plt.subplot(224,projection=ccrs.PlateCarree(central_longitude=0))\n",
    "cs1=ax.scatter(ds2.cellon[:,:,ii],ds2.cellat[:,:,ii],c=ds2.iqc_flag[:,:,ii],vmin=0,vmax=32000,edgecolor='none', cmap='jet')\n",
    "ax.coastlines()\n",
    "cax = plt.colorbar(cs1,shrink=.3)\n",
    "#print(ds)\n",
    "fig_fname = 'C:/Users/gentemann/Google Drive/f_drive/docs/projects/SSS/figures/RSS_r17250.png'\n",
    "plt.savefig(fig_fname, transparent=False, format='png')"
   ]
  },
  {
   "cell_type": "code",
   "execution_count": null,
   "metadata": {},
   "outputs": [],
   "source": [
    "file = 'F:/data/sat_data/smap/SSS/L2/JPL/V5.0/2018/115/SMAP_L2B_SSS_17250_20180425T004224_R17000_V5.0.h5'\n",
    "ds = xr.open_dataset(file,decode_cf=False)\n",
    "ds.close()\n",
    "plt.rcParams['figure.figsize'] = (15.0,10.0)\n",
    "ds2 = ds.where((ds.lon>-180)&(ds.smap_sss>0))\n",
    "ax = plt.subplot(121,projection=ccrs.PlateCarree(central_longitude=0))\n",
    "cs1=ax.scatter(ds2.lon,ds2.lat,c=ds2.smap_sss,vmin=30,vmax=36,edgecolor='none', cmap='jet')\n",
    "#cs1=ax.scatter(ds2.lon,ds2.lat,c=ds2.quality_flag,vmin=0,vmax=512,edgecolor='none', cmap='jet')\n",
    "ax.coastlines()\n",
    "cax = plt.colorbar(cs1,shrink=.3)\n",
    "ax = plt.subplot(122,projection=ccrs.PlateCarree(central_longitude=0))\n",
    "cs1=ax.scatter(ds2.lon,ds2.lat,c=ds2.quality_flag,vmin=0,vmax=512,edgecolor='none', cmap='jet')\n",
    "ax.coastlines()\n",
    "cax = plt.colorbar(cs1,shrink=.3)\n",
    "#print(ds)\n",
    "fig_fname = 'C:/Users/gentemann/Google Drive/f_drive/docs/projects/SSS/figures/JPLv5_r17250.png'\n",
    "plt.savefig(fig_fname, transparent=False, format='png')"
   ]
  },
  {
   "cell_type": "code",
   "execution_count": null,
   "metadata": {},
   "outputs": [],
   "source": [
    "ds"
   ]
  },
  {
   "cell_type": "code",
   "execution_count": null,
   "metadata": {},
   "outputs": [],
   "source": [
    "ds.iqc_flag[100,1440,0].data"
   ]
  },
  {
   "cell_type": "code",
   "execution_count": null,
   "metadata": {},
   "outputs": [],
   "source": [
    "def check_bit(flag, bit=0):\n",
    "    #https://zonca.dev/2020/03/raise-check-flag-numpy.html\n",
    "    return np.bitwise_and(flag, int(2**bit)) > 0\n",
    "tem = check_bit(ds.iqc_flag,0)"
   ]
  },
  {
   "cell_type": "code",
   "execution_count": null,
   "metadata": {},
   "outputs": [],
   "source": [
    "tem = check_bit(ds.iqc_flag,15)\n",
    "tem[:,:,0].plot()"
   ]
  },
  {
   "cell_type": "code",
   "execution_count": null,
   "metadata": {},
   "outputs": [],
   "source": [
    "file = 'F:/data/sat_data/smap/SSS/L2/JPL/V4.3/2018/115/SMAP_L2B_SSS_17250_20180425T004224_R16010_V4.3.h5'\n",
    "ds = xr.open_dataset(file,decode_cf=False)\n",
    "ds.close()\n",
    "plt.rcParams['figure.figsize'] = (15.0,10.0)\n",
    "ds2 = ds.where((ds.lon>-180)&(ds.smap_sss>0))\n",
    "ax = plt.subplot(121,projection=ccrs.PlateCarree(central_longitude=0))\n",
    "cs1=ax.scatter(ds2.lon,ds2.lat,c=ds2.smap_sss,vmin=30,vmax=36,edgecolor='none', cmap='jet')\n",
    "#cs1=ax.scatter(ds2.lon,ds2.lat,c=ds2.quality_flag,vmin=0,vmax=512,edgecolor='none', cmap='jet')\n",
    "ax.coastlines()\n",
    "cax = plt.colorbar(cs1,shrink=.3)\n",
    "ax = plt.subplot(122,projection=ccrs.PlateCarree(central_longitude=0))\n",
    "cs1=ax.scatter(ds2.lon,ds2.lat,c=ds2.quality_flag,vmin=0,vmax=512,edgecolor='none', cmap='jet')\n",
    "ax.coastlines()\n",
    "cax = plt.colorbar(cs1,shrink=.3)\n",
    "fig_fname = 'C:/Users/gentemann/Google Drive/f_drive/docs/projects/SSS/figures/JPLv43_r17250.png'\n",
    "plt.savefig(fig_fname, transparent=False, format='png')\n",
    "#print(ds)"
   ]
  },
  {
   "cell_type": "markdown",
   "metadata": {},
   "source": [
    "# What lon range for satellite & insitu? are we going 0-360 or -180 to 180?"
   ]
  },
  {
   "cell_type": "code",
   "execution_count": null,
   "metadata": {},
   "outputs": [],
   "source": [
    "print(ds.cellon.min().data,ds.cellon.max().data)\n",
    "print(ds_usv.lon.min().data,ds_usv.lon.max().data)"
   ]
  },
  {
   "cell_type": "markdown",
   "metadata": {},
   "source": [
    "## First let's figure out what orbital files actually have data in our area of interest.  To do this, use the pyresample software\n",
    "\n",
    "- read in the in situ data\n",
    "- calculate the in situ min/max dates to know what files to check\n",
    "\n",
    "Now we have our time of interest\n",
    "\n",
    "- loop through the satellite data\n",
    "- calculate the in situ min/max lat/lon on the same day to define a small box of interest\n",
    "- use pyresample to map the data onto a predefined 0.1 deg resolution spatial grid\n",
    "- subset the gridded map to the area of interest\n",
    "- see if there is any valid data in that area\n",
    "- if there is any valid data, go to next step\n",
    "\n",
    "## Use the fast search kdtree which is part of pyresample software, but I think maybe comes originally from sci-kit-learn.\n",
    "\n",
    "- read in the in situ data\n",
    "- read in a single orbit of satellite data\n",
    "- kdtree can't handle it when lat/lon are set to nan.  I frankly have no idea why there is orbital data for both the JPL and RSS products that have nan for the geolocation.  That isn't normal.  But, okay, let's deal with it.  \n",
    "- stack the dataset scanline and cell positions into a new variable 'z'\n",
    "- drop all variables from the dataset when the longitude is nan\n",
    "- set up the tree\n",
    "- loop through the orbital data\n",
    "- only save a match if it is less than 0.25 deg distance AND time is less than any previous match\n",
    "- save the satellite indices & some basic data onto the USV grid\n",
    "\n",
    "\n"
   ]
  },
  {
   "cell_type": "code",
   "execution_count": null,
   "metadata": {},
   "outputs": [],
   "source": [
    "def get_time_start_end(isat,ds):\n",
    "    if isat==0:\n",
    "        orbit_time = np.datetime64(ds.attrs['time_coverage_start'])-np.timedelta64(24,'h') #changed to 24 hr for sss\n",
    "        orbit_time2 = np.datetime64(ds.attrs['time_coverage_end'])+np.timedelta64(24,'h')  \n",
    "    if isat==1:\n",
    "        orbit_time = ds.time[0].data-np.timedelta64(12,'h')\n",
    "        orbit_time2 = ds.time[-1].data+np.timedelta64(12,'h')        \n",
    "    return orbit_time,orbit_time2\n",
    "\n",
    "area_def = load_area('areas.cfg', 'pc_world')\n",
    "rlon=np.arange(-180,180,.1)\n",
    "rlat=np.arange(90,-90,-.1)\n"
   ]
  },
  {
   "cell_type": "code",
   "execution_count": null,
   "metadata": {},
   "outputs": [],
   "source": [
    "files"
   ]
  },
  {
   "cell_type": "code",
   "execution_count": null,
   "metadata": {},
   "outputs": [],
   "source": [
    "for iname in range(33,len(files)):  #set number of cruise to process\n",
    "    \n",
    "    #if ((iname<13) or (iname>15)):\n",
    "    #    continue\n",
    "    \n",
    "    for isat in range(2):\n",
    "        \n",
    "        ds_usv,name_usv = read_one_usv(files[iname])\n",
    "\n",
    "        if isat==0:\n",
    "            fileout = 'F:/data/cruise_data/saildrone/sss/sss_collocations_orbital/'+name_usv+'rssv04.0_orbital.nc'\n",
    "            ds_usv = add_coll_vars_ds_rss(ds_usv)\n",
    "        if isat==1:\n",
    "            fileout = 'F:/data/cruise_data/saildrone/sss/sss_collocations_orbital/'+name_usv+'jplv05.0_orbital.nc'   \n",
    "            ds_usv = add_coll_vars_ds_jpl(ds_usv)\n",
    "\n",
    "        #if path.exists(fileout):\n",
    "        #    continue\n",
    "\n",
    "        #search usv data\n",
    "        minday,maxday = ds_usv.time[0],ds_usv.time[-1]\n",
    "        usv_day = minday\n",
    "        print(iname,name_usv)\n",
    "        print(minday.data,maxday.data)\n",
    "        while usv_day<=maxday:\n",
    "            print(usv_day.data,maxday.data)\n",
    "            ds_day = ds_usv.sel(time=slice(usv_day-np.timedelta64(1,'D'),usv_day+np.timedelta64(1,'D')))\n",
    "            ilen = ds_day.time.size\n",
    "            if ilen<1:   #don't run on days without any data\n",
    "                usv_day += np.timedelta64(1,'D')\n",
    "                continue\n",
    "            minlon,maxlon,minlat,maxlat = ds_day.lon.min().data,ds_day.lon.max().data,ds_day.lat.min().data,ds_day.lat.max().data\n",
    "            filelist = get_filelist_l2p(isat, usv_day)\n",
    "            x,y,z = [],[],[]\n",
    "            for ifile,file in enumerate(filelist):\n",
    "                ds = xr.open_dataset(file)\n",
    "                ds.close()  \n",
    "                #print('****************')\n",
    "                #print(file)\n",
    "                if isat==0:  #change RSS data to conform with JPL definitions\n",
    "                    ds = ds.isel(look=0)\n",
    "                    ds = ds.rename({'iqc_flag':'quality_flag','cellon':'lon','cellat':'lat','sss_smap':'smap_sss','sss_smap_40km':'smap_sss_40km','ydim_grid':'phony_dim_0','xdim_grid':'phony_dim_1'})\n",
    "                    ds['lon']=np.mod(ds.lon+180,360)-180  \n",
    "                if isat==1:  #change RSS data to conform with JPL definitions\n",
    "                    ds = ds.rename({'row_time':'time','ice_concentration':'fice'})\n",
    "\n",
    "    #first do a quick check using resample to project the orbit onto a grid \n",
    "    #and quickly see if there is any data in the cruise area on that day\n",
    "    #if there is, then continue to collocation\n",
    "\n",
    "                x = ds['lon'].fillna(-89).data \n",
    "                y = ds['lat'].fillna(-89).data \n",
    "                z = ds['smap_sss'].data \n",
    "                lons,lats,data = x,y,z \n",
    "                swath_def = SwathDefinition(lons, lats)\n",
    "\n",
    "                # Resample swath to a fixed 0.01 x 0.01 grid, represented by the variable grid_def:\n",
    "                # https://stackoverflow.com/questions/58065055/floor-and-ceil-with-number-of-decimals\n",
    "                #changed to be just the region of the usv cruise to make grid even smaller (hopefully)\n",
    "                #when working with global orbital data, work with usv BUT\n",
    "                #when working with granules use ds instead of ds_usv so you just do granule region\n",
    "                grid_def_lon_min, grid_def_lon_max = np.round(ds_day.lon.min().data - 0.5 * 10**(-2), 2), np.round(ds_day.lon.max().data + 0.5 * 10**(-2), 2)\n",
    "                grid_def_lat_min, grid_def_lat_max = np.round(ds_day.lat.min().data - 0.5 * 10**(-2), 2), np.round(ds_day.lat.max().data + 0.5 * 10**(-2), 2)\n",
    "                grid_def_lons, grid_def_lats = np.arange(grid_def_lon_min,grid_def_lon_max+0.1,0.1), np.arange(grid_def_lat_max,grid_def_lat_min-0.1,-0.1)\n",
    "                grid_mesh_lons,grid_mesh_lats = np.meshgrid(grid_def_lons,grid_def_lats)\n",
    "\n",
    "                # Since we have the lon and lat values for the area, we define a grid instead of an area:\n",
    "                # https://pyresample.readthedocs.io/en/latest/geo_def.html#griddefinition\n",
    "                grid_def = GridDefinition(lons=grid_mesh_lons,lats=grid_mesh_lats)\n",
    "\n",
    "                result1 = resample_nearest(swath_def, data, grid_def, radius_of_influence=20000, fill_value=None)\n",
    "                da = xr.DataArray(result1,name='sss',coords={'lat':grid_def_lats,'lon':grid_def_lons},dims=('lat','lon'))\n",
    "\n",
    "                numdata = np.isfinite(da).sum()\n",
    "                if numdata<1:\n",
    "                    continue\n",
    "\n",
    "                #stack xarray dataset then drop lon == nan\n",
    "                ds2 = ds.stack(z=('phony_dim_0', 'phony_dim_1')).reset_index('z')\n",
    "                #drop nan\n",
    "                ds_drop = ds2.where(np.isfinite(ds2.lon),drop=True)\n",
    "                lats = ds_drop.lat.data\n",
    "                lons = ds_drop.lon.data\n",
    "                inputdata = list(zip(lons.ravel(), lats.ravel()))\n",
    "                tree = spatial.KDTree(inputdata)\n",
    "\n",
    "                orbit_time, orbit_time2 = get_time_start_end(isat,ds)\n",
    "\n",
    "                cond = (ds_usv.time.data>orbit_time) & (ds_usv.time.data<orbit_time2)\n",
    "                item = np.argwhere(cond)\n",
    "                if item.sum()<1:  #no data within 12 hr of orbit\n",
    "                    continue\n",
    "                for iusv_index in range(int(item[0]),int(item[-1])):\n",
    "                    pts = np.array([ds_usv.lon[iusv_index], ds_usv.lat[iusv_index]]) #pts = np.array([ds_usv.lon[iusv]+360\n",
    "                    tree.query(pts,k=1)\n",
    "                    i = tree.query(pts)[1]\n",
    "                    rdist = tree.query(pts)[0]                   \n",
    "                    if rdist>.25:    #don't use matchups more than 25 km away\n",
    "                        continue\n",
    "                    #use .where to find the original indices of the matched data point\n",
    "                    #find by matching sss and lat, just randomly chosen variables, you could use any\n",
    "                    result = np.where((ds.smap_sss == ds_drop.smap_sss[i].data) & (ds.lat == ds_drop.lat[i].data))\n",
    "                    listOfCoordinates = list(zip(result[0], result[1]))\n",
    "                    if len(listOfCoordinates)==0:\n",
    "                        continue\n",
    "                    ii, jj = listOfCoordinates[0][0],listOfCoordinates[0][1]\n",
    "                    if isat==0:\n",
    "                        deltaTa = ((ds_usv.time[iusv_index]-ds.time[ii,jj]).data)/ np.timedelta64(1,'m')\n",
    "                    if isat==1:\n",
    "                        deltaTa = ((ds_usv.time[iusv_index]-ds.time[ii]).data)/ np.timedelta64(1,'m')\n",
    "                    if np.abs(deltaTa)<np.abs(ds_usv.deltaT[iusv_index].data):\n",
    "                        ds_usv.deltaT[iusv_index]=deltaTa\n",
    "                        ds_usv.smap_SSS[iusv_index]=ds.smap_sss[ii,jj]\n",
    "                        if isat==0:\n",
    "                            ds_usv.smap_SSS_40km[iusv_index]=ds.smap_sss_40km[ii,jj]\n",
    "                            ds_usv.smap_fland[iusv_index]=ds.fland[ii,jj]\n",
    "                            ds_usv.smap_rev_number[iusv_index]=int(ds.attrs['orbit_number'])\n",
    "                        else:\n",
    "                            ds_usv.smap_rev_number[iusv_index]=int(ds.attrs['REVNO'])\n",
    "                        ds_usv.smap_iqc_flag[iusv_index]=ds.quality_flag[ii,jj].astype('int') #test int\n",
    "                        ds_usv.smap_name[iusv_index]=str(file)\n",
    "                        ds_usv.smap_fice[iusv_index]=ds.fice[ii,jj]\n",
    "                        ds_usv.smap_dist[iusv_index]=rdist\n",
    "                        ds_usv.smap_ydim[iusv_index]=ii\n",
    "                        ds_usv.smap_xdim[iusv_index]=jj\n",
    "            usv_day += np.timedelta64(1,'D')\n",
    "\n",
    "        #add distance to land\n",
    "        ds_usv['dist_land']=ds_land.dist_land.interp(lat=ds_usv.lat,lon=ds_usv.lon).drop({'lat','lon'})\n",
    "        lnd_att={'long_name':'distance to nearest land','units':'km'}\n",
    "        ds_usv['dist_land'].attrs=lnd_att    \n",
    "\n",
    "        ds_usv.deltaT.attrs={'long_name':'time difference between saildrone and satellite','units':'minutes'}\n",
    "        ds_usv.smap_SSS.attrs=ds.smap_sss.attrs\n",
    "        if isat==0:\n",
    "            ds_usv.smap_SSS_40km.attrs=ds.smap_sss_40km.attrs\n",
    "            ds_usv.smap_fland.attrs=ds.fland.attrs\n",
    "        ds_usv.smap_iqc_flag.attrs=ds.quality_flag.attrs\n",
    "        ds_usv.smap_fice.attrs=ds.fice.attrs\n",
    "\n",
    "\n",
    "        ds_usv.to_netcdf(fileout)\n"
   ]
  },
  {
   "cell_type": "code",
   "execution_count": null,
   "metadata": {},
   "outputs": [],
   "source": [
    "for iname in range(1):  #set number of cruise to process\n",
    "    for isat in range(1):\n",
    "        ds_usv,name_usv = read_one_usv(files[iname])\n",
    "        ds_usv = add_coll_vars_ds_rss(ds_usv)\n"
   ]
  },
  {
   "cell_type": "code",
   "execution_count": null,
   "metadata": {},
   "outputs": [],
   "source": [
    "ds_usv.smap_iqc_flag.min()"
   ]
  },
  {
   "cell_type": "code",
   "execution_count": null,
   "metadata": {},
   "outputs": [],
   "source": [
    "ds.quality_flag[ii,jj].astype('int')"
   ]
  },
  {
   "cell_type": "code",
   "execution_count": null,
   "metadata": {},
   "outputs": [],
   "source": [
    "#test collocation\n",
    "import os\n",
    "from glob import glob\n",
    "import xarray as xr\n",
    "dir_data_pattern = 'F:/data/cruise_data/saildrone/sss/sss_collocations_orbital/*.nc' \n",
    "files = glob(dir_data_pattern)\n",
    "ds = xr.open_dataset(files[0])\n",
    "ds.close\n",
    "ds1 = xr.open_dataset(files[1])\n",
    "ds1.close\n",
    "ds"
   ]
  },
  {
   "cell_type": "code",
   "execution_count": null,
   "metadata": {},
   "outputs": [],
   "source": [
    "ds.smap_iqc_flag.plot()\n",
    "(ds1.smap_iqc_flag/36000*500).plot()"
   ]
  },
  {
   "cell_type": "code",
   "execution_count": null,
   "metadata": {},
   "outputs": [],
   "source": [
    "ds.smap_SSS.plot()\n",
    "ds.SAL_CTD_MEAN.plot()\n",
    "ds1.smap_SSS.plot()"
   ]
  },
  {
   "cell_type": "code",
   "execution_count": null,
   "metadata": {},
   "outputs": [],
   "source": []
  },
  {
   "cell_type": "code",
   "execution_count": null,
   "metadata": {},
   "outputs": [],
   "source": [
    "isat=0\n",
    "file = 'F:/data/sat_data/smap/SSS/L2/RSS/V4/SCI/2018/115/RSS_SMAP_SSS_L2C_r17250_20180425T004136_2018115_FNL_V04.0.nc'\n",
    "ds = xr.open_dataset(file,decode_cf=False)\n",
    "if isat==0:  #change RSS data to conform with JPL definitions\n",
    "    ds = ds.isel(look=0)\n",
    "    ds = ds.rename({'iqc_flag':'quality_flag','cellon':'lon','cellat':'lat','sss_smap':'smap_sss','sss_smap_40km':'smap_sss_40km','ydim_grid':'phony_dim_0','xdim_grid':'phony_dim_1'})\n",
    "    ds['lon']=np.mod(ds.lon+180,360)-180  \n",
    "if isat==1:  #change RSS data to conform with JPL definitions\n",
    "    ds = ds.rename({'row_time':'time','ice_concentration':'fice'})\n",
    "ds_usv = xr.open_dataset('F:/data/cruise_data/saildrone/sss/old/sss_collocations_orbital/saildrone_tpos_sd1005_2017jplv04.3_orbital.nc')\n",
    "#ds_usv = xr.open_dataset('F:/data/cruise_data/saildrone/sss/old/sss_collocations_orbital/saildrone_tpos_sd1005_2017rssv04.0_orbital.nc')\n",
    "ds2=ds_usv\n",
    "ax = plt.axes(projection=ccrs.PlateCarree(central_longitude=0))\n",
    "cs1=ax.scatter(ds2.lon,ds2.lat,c=ds2.smap_iqc_flag,vmin=0,vmax=512,edgecolor='none', cmap='jet')\n",
    "ax.coastlines()\n",
    "cax = plt.colorbar(cs1)"
   ]
  },
  {
   "cell_type": "code",
   "execution_count": null,
   "metadata": {},
   "outputs": [],
   "source": []
  }
 ],
 "metadata": {
  "kernelspec": {
   "display_name": "Python 3",
   "language": "python",
   "name": "python3"
  },
  "language_info": {
   "codemirror_mode": {
    "name": "ipython",
    "version": 3
   },
   "file_extension": ".py",
   "mimetype": "text/x-python",
   "name": "python",
   "nbconvert_exporter": "python",
   "pygments_lexer": "ipython3",
   "version": "3.7.10"
  }
 },
 "nbformat": 4,
 "nbformat_minor": 4
}
