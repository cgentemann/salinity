{
 "cells": [
  {
   "cell_type": "code",
   "execution_count": null,
   "id": "f171334f-3ac5-4a13-80fa-14c853dc0af5",
   "metadata": {},
   "outputs": [],
   "source": [
    "import sys\n",
    "import numpy as np\n",
    "import matplotlib.pyplot as plt\n",
    "import datetime as dt\n",
    "import xarray as xr\n",
    "import cartopy.crs as ccrs\n",
    "from scipy import spatial\n",
    "#sys.path.append('/home/jovyan/shared/users/cgentemann/notebooks/salinity/subroutines/')\n",
    "#from read_routines import read_all_usv, read_one_usv, add_coll_vars\n",
    "import warnings\n",
    "warnings.simplefilter('ignore') # filter some warning messages\n",
    "from glob import glob\n",
    "\n",
    "\n",
    "# these libraries help reading cloud data\n",
    "import fsspec \n",
    "import s3fs\n",
    "import requests\n",
    "import os\n",
    "\n",
    "warnings.simplefilter(\"ignore\")  # filter some warning messages\n",
    "xr.set_options(display_style=\"html\",keep_attrs=True)  # display dataset nicely\n"
   ]
  },
  {
   "cell_type": "code",
   "execution_count": null,
   "id": "86a32e77-2331-4d2e-aaca-51cf0a45d206",
   "metadata": {},
   "outputs": [],
   "source": [
    "dir_data_pattern = '/home/jovyan/data/sss_collocations_8day_nearest_norepeat/'\n",
    "dir_out =         '/home/jovyan/data/sss_collocations_8day_nearest_norepeat_mur/'\n",
    "files = glob(dir_data_pattern+'*.nc')\n",
    "for ifile,file in enumerate(files):\n",
    "    ds = xr.open_dataset(file)\n",
    "    ds.close()\n",
    "    if any(v=='ob' for v in ds.dims.keys()):\n",
    "        ds = ds.swap_dims({'ob':'time'})\n",
    "    #remove any duplicates in time, keep only first value\n",
    "    _, index = np.unique(ds['time'], return_index=True)\n",
    "    ds=ds.isel(time=index)\n",
    "    name = file[57:-3]\n",
    "    name = name.replace(\" \", \"_\")\n",
    "    name = name.replace(\"/\", \"_\")\n",
    "    if ifile==0:\n",
    "        data_dict = {name:ds}\n",
    "    else:\n",
    "        data_dict[name]=ds\n",
    "    print(ifile,name)"
   ]
  },
  {
   "cell_type": "code",
   "execution_count": null,
   "id": "0f3220d6-d5a6-4579-ad26-24d858432b96",
   "metadata": {},
   "outputs": [],
   "source": [
    "for iname,name in enumerate(data_dict):\n",
    "    fout = dir_out+name+'_20211116.nc'\n",
    "    ds_usv = xr.open_dataset(fout)\n",
    "    ds_usv.close()\n",
    "    val = ds_usv.analysed_sst.mean().data\n",
    "    if np.isnan(val):\n",
    "        print(iname,val)\n",
    "        break\n",
    "    #plt.show()\n",
    "    #plt.clf()"
   ]
  },
  {
   "cell_type": "code",
   "execution_count": null,
   "id": "6dba4c8c-a7ed-4bb8-9c61-ca288e5f739b",
   "metadata": {},
   "outputs": [],
   "source": []
  }
 ],
 "metadata": {
  "kernelspec": {
   "display_name": "Python [conda env:pangeo]",
   "language": "python",
   "name": "conda-env-pangeo-py"
  },
  "language_info": {
   "codemirror_mode": {
    "name": "ipython",
    "version": 3
   },
   "file_extension": ".py",
   "mimetype": "text/x-python",
   "name": "python",
   "nbconvert_exporter": "python",
   "pygments_lexer": "ipython3",
   "version": "3.9.7"
  }
 },
 "nbformat": 4,
 "nbformat_minor": 5
}
