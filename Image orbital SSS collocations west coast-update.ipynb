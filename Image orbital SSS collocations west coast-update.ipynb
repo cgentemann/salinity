{
 "cells": [
  {
   "cell_type": "markdown",
   "metadata": {},
   "source": [
    "# This code images the orbital collocations between saildrone and SMAP for both RSS and JPL \n",
    "-there are 13 saildrone cruises\n"
   ]
  },
  {
   "cell_type": "code",
   "execution_count": null,
   "metadata": {},
   "outputs": [],
   "source": [
    "import os\n",
    "import numpy as np\n",
    "import cmocean\n",
    "import matplotlib.pyplot as plt\n",
    "import datetime as dt\n",
    "import xarray as xr\n",
    "import scipy\n",
    "from glob import glob\n",
    "import cartopy.crs as ccrs\n",
    "from pyresample.geometry import AreaDefinition\n",
    "from pyresample import image, geometry, load_area, save_quicklook, SwathDefinition\n",
    "from pyresample.kd_tree import resample_nearest\n",
    "import sys\n",
    "sys.path.append('../saildrone/subroutines/')\n",
    "from read_routines import read_one_usv, add_coll_vars,get_filelist_l2p,get_orbital_data_l2p\n",
    "import warnings\n",
    "warnings.simplefilter('ignore') # filter some warning messages\n"
   ]
  },
  {
   "cell_type": "markdown",
   "metadata": {},
   "source": [
    "# Read in USV data\n",
    "Read in the Saildrone USV file either from a local disc or using OpenDAP.\n",
    "\n"
   ]
  },
  {
   "cell_type": "code",
   "execution_count": null,
   "metadata": {},
   "outputs": [],
   "source": [
    "#dir_data = 'f:/data/cruise_data/saildrone/saildrone_data/'\n",
    "#dir_data_pattern = 'f:/data/cruise_data/saildrone/saildrone_data/*west*.nc' \n",
    "dir_data = 'G:/My Drive/Public/ALL_Saildrone_Data/'\n",
    "dir_data_pattern = 'G:/My Drive/Public/ALL_Saildrone_Data/*west*.nc' \n",
    "\n",
    "#get list of all filenames in directory\n",
    "files = glob(dir_data_pattern)\n",
    "print('number of file:',len(files))\n",
    "for ifile,file in enumerate(files):\n",
    "    print(ifile,file)"
   ]
  },
  {
   "cell_type": "code",
   "execution_count": null,
   "metadata": {},
   "outputs": [],
   "source": [
    "iname=0\n",
    "ds_usv=[]\n",
    "for file in files:\n",
    "    ds = read_one_usv(file)\n",
    "    ds_usv.append(ds[0])\n",
    "ds_usv=xr.concat(ds_usv,dim='trajectory')\n",
    "ds_usv['wind_speed']=np.sqrt(ds_usv.UWND_MEAN**2+ds_usv.VWND_MEAN**2)\n",
    "ds_usv['wind_dir']=np.arctan2(ds_usv.VWND_MEAN,ds_usv.UWND_MEAN)*180/np.pi\n",
    "ds_usv"
   ]
  },
  {
   "cell_type": "code",
   "execution_count": null,
   "metadata": {},
   "outputs": [],
   "source": [
    "bins=np.arange(31,34,.1)\n",
    "nn=[]\n",
    "for i in range(len(ds_usv.trajectory)):\n",
    "    ds=ds_usv.isel(trajectory=i)\n",
    "    n, bins2, patches = plt.hist(x=ds.SAL_CTD_MEAN, bins=bins)\n",
    "    nn.append(n)\n",
    "nn2= np.sum(nn,axis=0)"
   ]
  },
  {
   "cell_type": "code",
   "execution_count": null,
   "metadata": {},
   "outputs": [],
   "source": [
    "plt.rcParams['figure.figsize'] = (6.0, 6.0)\n",
    "plt.rcParams.update({'font.size': 12})\n",
    "plt.bar(bins[:-1],nn2,width=.09)\n",
    "plt.xlabel('SSS (psu)')\n",
    "plt.ylabel('Num. obs')\n",
    "fig_fname = 'G:/Shared drives/NASA_SSS/figs/west_coast/west_coast_all_cruises_hist.png'\n",
    "plt.savefig(fig_fname, transparent=False, format='png')"
   ]
  },
  {
   "cell_type": "code",
   "execution_count": null,
   "metadata": {},
   "outputs": [],
   "source": [
    "bins=np.arange(7.5,24,.1)\n",
    "nn=[]\n",
    "for i in range(len(ds_usv.trajectory)):\n",
    "    ds=ds_usv.isel(trajectory=i)\n",
    "    n, bins2, patches = plt.hist(x=ds.TEMP_CTD_MEAN, bins=bins)\n",
    "    nn.append(n)\n",
    "nn2= np.sum(nn,axis=0)"
   ]
  },
  {
   "cell_type": "code",
   "execution_count": null,
   "metadata": {},
   "outputs": [],
   "source": [
    "plt.rcParams['figure.figsize'] = (6.0, 6.0)\n",
    "plt.rcParams.update({'font.size': 12})\n",
    "plt.bar(bins[:-1],nn2,width=.09)\n",
    "plt.xlabel('SST (psu)')\n",
    "plt.ylabel('Num. obs')\n",
    "fig_fname = 'G:/Shared drives/NASA_SSS/figs/west_coast/west_coast_all_cruises_hist_sst.png'\n",
    "plt.savefig(fig_fname, transparent=False, format='png')"
   ]
  },
  {
   "cell_type": "markdown",
   "metadata": {},
   "source": [
    "# image salinity for all 13 cruises"
   ]
  },
  {
   "cell_type": "code",
   "execution_count": null,
   "metadata": {},
   "outputs": [],
   "source": [
    "plt.rcParams['figure.figsize'] = (15.0, 15.0)\n",
    "plt.rcParams.update({'font.size': 16})\n",
    "#ax = plt.axes()\n",
    "fig, (ax1, ax2) = plt.subplots(1,2, subplot_kw={'projection': ccrs.PlateCarree()})\n",
    "for i in range(len(ds_usv.trajectory)):\n",
    "    ds=ds_usv.isel(trajectory=i)\n",
    "    cs1 = ax1.scatter(ds.lon, ds.lat, s=3.0, \n",
    "                     c=ds.SAL_CTD_MEAN, edgecolor='none', cmap=cmocean.cm.haline,vmin=32,vmax=33.5)\n",
    "    cs2 = ax2.scatter(ds.lon, ds.lat, s=3.0, \n",
    "                     c=ds.TEMP_CTD_MEAN, edgecolor='none', cmap=cmocean.cm.thermal,vmin=9,vmax=22)\n",
    "ax1.coastlines()#,cs1.set_fontsize(12),\n",
    "x1,x2,y1,y2 = -130,-116,31,52\n",
    "ax1.set_xlim(x1,x2),ax1.set_ylim(y1,y2)\n",
    "ax1.set_xticks(np.arange(x1,x2,4)),ax1.set_yticks(np.arange(y1,y2,5))\n",
    "\n",
    "ax2.coastlines()#,cs2.set_fontsize(12)\n",
    "ax2.set_xlim(x1,x2),ax2.set_ylim(y1,y2)\n",
    "ax2.set_xticks(np.arange(x1,x2,4)),ax2.set_yticks(np.arange(y1,y2,5))\n",
    "\n",
    "cax = plt.colorbar(cs1,ax=ax1, anchor=(0, 0.5), shrink=0.56)\n",
    "cax.set_label('Salinity (psu)',fontsize=12)\n",
    "cax2 = plt.colorbar(cs2,ax=ax2, anchor=(0, 0.5), shrink=0.56)\n",
    "cax2.set_label('SST (C)',fontsize=12)\n",
    "fig_fname = 'G:/Shared drives/NASA_SSS/figs/west_coast/west_coast_all_cruises_sss_sst.png'\n",
    "plt.savefig(fig_fname, transparent=False, format='png')"
   ]
  },
  {
   "cell_type": "markdown",
   "metadata": {},
   "source": [
    "this figure show all the salinity data from the west coast cruises. Salinity is higher from about cape mendocino down towards baja. upwelling results in cool (SST) salty (SSS) water near the coasts and this is seen by the higher salinity values near land."
   ]
  },
  {
   "cell_type": "code",
   "execution_count": null,
   "metadata": {},
   "outputs": [],
   "source": [
    "plt.rcParams['figure.figsize'] = (15.0, 5.0)\n",
    "plt.rcParams.update({'font.size': 16})\n",
    "import cmocean\n",
    "for i in range(len(ds_usv.trajectory)):\n",
    "    ds=ds_usv.isel(trajectory=i)\n",
    "    #ax = plt.axes(projection=ccrs.PlateCarree())\n",
    "    plt.plot(ds.time,ds.lat)\n",
    "    plt.plot([np.datetime64('2019-06-19'),np.datetime64('2019-08-05')],[35,35],'r',linewidth=10) #DATA OUTAGE\n",
    "plt.ylabel('Latitude')\n",
    "plt.xlabel('Time')\n",
    "fig_fname = 'C:/Users/gentemann/Google Drive/f_drive/docs/projects/SSS/figures/west_coast_all_cruises_timeseries.png'\n",
    "plt.savefig(fig_fname, transparent=False, format='png')"
   ]
  },
  {
   "cell_type": "markdown",
   "metadata": {},
   "source": [
    "This figure shows the times and latitudes that saildrone cruises collected data. The red bar is when SMAP was offline and not returning data.  The Summer/Fall 2018 saildrone cruises sampled the entire coast, from Baja to Canada with 5 saildrones. The Summer 2019 cruises had 6 saildrone vehicle and while the SMAP data failure will not result in any data for about 1/2 of the cruise, the latter half of the cruise still covers the entire US coast."
   ]
  },
  {
   "cell_type": "markdown",
   "metadata": {},
   "source": [
    "# Now read in the collocated Saildrone - SMAP data"
   ]
  },
  {
   "cell_type": "code",
   "execution_count": null,
   "metadata": {},
   "outputs": [],
   "source": [
    "dir_data = 'F:/data/cruise_data/saildrone/sss/sss_collocations_orbital_norepeat/' #'f:/data/cruise_data/saildrone/saildrone_data/'\n",
    "dir_data_patternJ = 'F:/data/cruise_data/saildrone/sss/sss_collocations_orbital_norepeat/*west*JPL*.nc' \n",
    "dir_data_patternR = 'F:/data/cruise_data/saildrone/sss/sss_collocations_orbital_norepeat/*west*RSS*.nc' \n",
    "\n",
    "#get list of all filenames in directory\n",
    "cfilesJ = glob(dir_data_patternJ)\n",
    "cfilesR = glob(dir_data_patternR)\n",
    "print('number of file:',len(cfilesJ))\n",
    "print('number of file:',len(cfilesR))\n",
    "for ifile,file in enumerate(cfilesJ):\n",
    "    print(ifile,file)"
   ]
  },
  {
   "cell_type": "code",
   "execution_count": null,
   "metadata": {},
   "outputs": [],
   "source": [
    "ds2=[]\n",
    "for i in range(len(cfilesJ)):\n",
    "    print(i,cfilesJ[i])\n",
    "    ds = xr.open_dataset(cfilesJ[i])\n",
    "    ds2.append(ds)\n",
    "ds_colJ = xr.concat(ds2,dim='trajectory')\n",
    "ds2=[]\n",
    "for i in range(len(cfilesR)):\n",
    "    ds = xr.open_dataset(cfilesR[i])\n",
    "    ds2.append(ds)\n",
    "ds_colR = xr.concat(ds2,dim='trajectory')\n",
    "ds_colR['wind_speed']=np.sqrt(ds_colR.UWND_MEAN**2+ds_colR.VWND_MEAN**2)\n",
    "ds_colJ['wind_speed']=np.sqrt(ds_colJ.UWND_MEAN**2+ds_colJ.VWND_MEAN**2)\n"
   ]
  },
  {
   "cell_type": "code",
   "execution_count": null,
   "metadata": {},
   "outputs": [],
   "source": [
    "ds_colJ"
   ]
  },
  {
   "cell_type": "code",
   "execution_count": null,
   "metadata": {},
   "outputs": [],
   "source": [
    "ds_colR"
   ]
  },
  {
   "cell_type": "code",
   "execution_count": null,
   "metadata": {},
   "outputs": [],
   "source": [
    "plt.rcParams['figure.figsize'] = (15.0, 5.0)\n",
    "plt.rcParams.update({'font.size': 16})\n",
    "import cmocean\n",
    "for i in range(len(ds_usv.trajectory)):\n",
    "    ds=ds_colJ.isel(trajectory=i)\n",
    "    if i==0:\n",
    "        plt.plot(ds.time,ds.lat,'.',color='b',linewidth=3,label='JPL')\n",
    "    else:\n",
    "        plt.plot(ds.time,ds.lat,'.',color='b',linewidth=3)        \n",
    "    ds=ds_colR.isel(trajectory=i)\n",
    "    if i==0:\n",
    "        plt.plot(ds.time,ds.lat,'.',color='m',label='RSS')\n",
    "    else:\n",
    "        plt.plot(ds.time,ds.lat,'.',color='m')\n",
    "    plt.plot([np.datetime64('2019-06-19'),np.datetime64('2019-07-23')],[35,35],'r',linewidth=10) #DATA OUTAGE\n",
    "plt.ylabel('Latitude')\n",
    "plt.xlabel('Time')\n",
    "plt.legend()\n",
    "fig_fname = 'C:/Users/gentemann/Google Drive/f_drive/docs/projects/SSS/figures/west_coast_coll_cruises_timeseriesJPL.png'\n",
    "plt.savefig(fig_fname, transparent=False, format='png')"
   ]
  },
  {
   "cell_type": "markdown",
   "metadata": {},
   "source": [
    "this figure shows the saildrone/SMAP collocations for both the JPL and RSS data by latitude and time. There are lots of collocations for the 2018 cruises and some for 2019, with a large gap during the SMAP data failure."
   ]
  },
  {
   "cell_type": "markdown",
   "metadata": {},
   "source": [
    "#Plot the collocations"
   ]
  },
  {
   "cell_type": "code",
   "execution_count": null,
   "metadata": {},
   "outputs": [],
   "source": [
    "for i in range(13):\n",
    "    ds=ds_colJ.isel(trajectory=i)\n",
    "    ax = plt.subplot(121,projection=ccrs.PlateCarree())\n",
    "    cs1 = ax.scatter(ds.lon, ds.lat, s=3.0, c=ds.dist_land, edgecolor='none', cmap='jet',vmin=0,vmax=300)\n",
    "ax.coastlines()\n",
    "#cs1.set_fontsize(16)\n",
    "x1,x2,y1,y2 = -130,-116,31,52\n",
    "ax.set_xlim(x1,x2)\n",
    "ax.set_ylim(y1,y2)\n",
    "ax.set_xticks(np.arange(x1,x2,4))\n",
    "ax.set_yticks(np.arange(y1,y2,5))\n",
    "cax = plt.colorbar(cs1)\n",
    "cax.set_label('Distance from Land (km)',fontsize=16)\n",
    "for i in range(13):\n",
    "    ds=ds_colR.isel(trajectory=i)\n",
    "    ax = plt.subplot(122,projection=ccrs.PlateCarree())\n",
    "    cs1 = ax.scatter(ds.lon, ds.lat, s=3.0, c=ds.dist_land, edgecolor='none', cmap='jet',vmin=0,vmax=300)\n",
    "ax.coastlines()\n",
    "#cs1.set_fontsize(16)\n",
    "x1,x2,y1,y2 = -130,-116,31,52\n",
    "ax.set_xlim(x1,x2)\n",
    "ax.set_ylim(y1,y2)\n",
    "ax.set_xticks(np.arange(x1,x2,4))\n",
    "ax.set_yticks(np.arange(y1,y2,5))\n",
    "cax = plt.colorbar(cs1)\n",
    "cax.set_label('Distance from Land (km)',fontsize=16)\n",
    "fig_fname = 'C:/Users/gentemann/Google Drive/f_drive/docs/projects/SSS/figures/west_coast_collocations_distance.png'\n",
    "plt.savefig(fig_fname, transparent=False, format='png')"
   ]
  },
  {
   "cell_type": "markdown",
   "metadata": {},
   "source": [
    "This figure shows distance from land which we added to the collocation files.  You can see that it is working correctly. The largest distance saildrone goes is ~300km from land. This is for all collocations, both JPL and RSS, without any masking or flagging exclusion of collocations."
   ]
  },
  {
   "cell_type": "code",
   "execution_count": null,
   "metadata": {},
   "outputs": [],
   "source": [
    "for i in range(13):\n",
    "    ds=ds_colJ.isel(trajectory=i)\n",
    "    ax = plt.subplot(121,projection=ccrs.PlateCarree())\n",
    "    cs1 = ax.scatter(ds.lon, ds.lat, s=3.0, c=ds.smap_iqc_flag, edgecolor='none', cmap='jet',vmin=0,vmax=500)\n",
    "plt.text(-129,45,'JPL')\n",
    "ax.coastlines()\n",
    "#cs1.set_fontsize(16)\n",
    "x1,x2,y1,y2 = -130,-116,31,52\n",
    "ax.set_xlim(x1,x2)\n",
    "ax.set_ylim(y1,y2)\n",
    "ax.set_xticks(np.arange(x1,x2,4))\n",
    "ax.set_yticks(np.arange(y1,y2,5))\n",
    "cax = plt.colorbar(cs1)\n",
    "cax.set_label('QC value',fontsize=16)\n",
    "for i in range(13):\n",
    "    ds=ds_colR.isel(trajectory=i)\n",
    "    ax = plt.subplot(122,projection=ccrs.PlateCarree())\n",
    "    cs1 = ax.scatter(ds.lon, ds.lat, s=3.0, c=ds.smap_iqc_flag, edgecolor='none', cmap='jet',vmin=0,vmax=20000)\n",
    "plt.text(-129,45,'RSS')\n",
    "ax.coastlines()\n",
    "#cs1.set_fontsize(16)\n",
    "x1,x2,y1,y2 = -130,-116,31,52\n",
    "ax.set_xlim(x1,x2)\n",
    "ax.set_ylim(y1,y2)\n",
    "ax.set_xticks(np.arange(x1,x2,4))\n",
    "ax.set_yticks(np.arange(y1,y2,5))\n",
    "cax = plt.colorbar(cs1)\n",
    "cax.set_label('QC value',fontsize=16)\n",
    "fig_fname = 'C:/Users/gentemann/Google Drive/f_drive/docs/projects/SSS/figures/west_coast_collocations_qc.png'\n",
    "plt.savefig(fig_fname, transparent=False, format='png')"
   ]
  },
  {
   "cell_type": "markdown",
   "metadata": {},
   "source": [
    "- JPL on left, near land flagged, \n",
    "- RSS on right, all dat flagged as light-land-contami - and some rain flags"
   ]
  },
  {
   "cell_type": "code",
   "execution_count": null,
   "metadata": {},
   "outputs": [],
   "source": [
    "for i in range(13):\n",
    "    ds=ds_colJ.isel(trajectory=i)\n",
    "    #ds = ds.where( (ds.smap_iqc_flag<1))\n",
    "    ax = plt.subplot(121)\n",
    "    plt.scatter(ds.dist_land,ds.SAL_CTD_MEAN-ds.smap_SSS,s=2,c=ds.smap_iqc_flag,cmap='jet')\n",
    "    plt.text(200,3,'JPL',fontsize=20)\n",
    "    plt.xlim(0,325),plt.ylim(-5,5)\n",
    "for i in range(13):\n",
    "    ds=ds_colR.isel(trajectory=i)\n",
    "    ds = ds.where((ds.SAL_CTD_MEAN>26) & (ds.smap_iqc_flag<10000))\n",
    "    ax = plt.subplot(122)\n",
    "    plt.scatter(ds.dist_land,ds.SAL_CTD_MEAN-ds.smap_SSS,s=2,c=ds.smap_iqc_flag,cmap='jet')\n",
    "    plt.text(200,3,'RSS',fontsize=20)\n",
    "    plt.xlim(0,325),plt.ylim(-5,5)\n",
    "fig_fname = 'C:/Users/gentemann/Google Drive/f_drive/docs/projects/SSS/figures/west_coast_collocations_distance_land.png'\n",
    "plt.savefig(fig_fname, transparent=False, format='png')"
   ]
  },
  {
   "cell_type": "code",
   "execution_count": null,
   "metadata": {},
   "outputs": [],
   "source": [
    "plt.rcParams['figure.figsize'] = (15.0,10.0)\n",
    "plt.rcParams.update({'font.size': 16})\n",
    "for i in range(13):\n",
    "    ds = ds_colJ.isel(trajectory=i)\n",
    "    ds = ds.where((ds.dist_land>100) & (ds.SAL_CTD_MEAN>26) & (ds.smap_iqc_flag<1)) #removes near land\n",
    "    dif = ds.SAL_CTD_MEAN-ds.smap_SSS\n",
    "    plt.subplot(2,1,1)\n",
    "    cc=plt.scatter(ds.SAL_CTD_MEAN,dif,c=ds.wind_speed,vmin=0,vmax=10)\n",
    "cb=plt.colorbar(label='Wind Speed (m s$^{-1}$)')\n",
    "plt.axhline(0)\n",
    "plt.text(28,2.5,'JPL - distance to land>100 and qc_flag==0',fontsize=22)\n",
    "plt.xlim(27,34),plt.ylim(-5,3),plt.ylabel('$\\Delta$Salinity (USV - SMAP) (psu)')\n",
    "for i in range(13):\n",
    "    ds = ds_colR.isel(trajectory=i)\n",
    "    ds = ds.where((ds.dist_land>100) & (ds.smap_iqc_flag<10000)) #leaves in light land cont\n",
    "    dif = ds.SAL_CTD_MEAN-ds.smap_SSS\n",
    "    plt.subplot(2,1,2)\n",
    "    plt.axhline(0)\n",
    "    plt.scatter(ds.SAL_CTD_MEAN,dif,c=ds.wind_speed,vmin=0,vmax=10)\n",
    "plt.text(28,2.5,'RSS - distance to land>100 and qc_flag<10000',fontsize=22)\n",
    "plt.xlim(27,34),plt.ylim(-5,3),plt.ylabel('$\\Delta$Salinity (USV - SMAP) (psu)'),plt.xlabel('USV Salinity (psu)')\n",
    "cb=plt.colorbar(label='Wind Speed (m s$^{-1}$)')\n",
    "fig_fname = 'C:/Users/gentemann/Google Drive/f_drive/docs/projects/SSS/figures/west_coast_collocations_sal_scatter.png'\n",
    "plt.savefig(fig_fname, transparent=False, format='png')"
   ]
  },
  {
   "cell_type": "markdown",
   "metadata": {},
   "source": [
    "The figure above shows the scatter plot for salinity difference versus salinity. The color of the lines indicates wind speed. A slight salty bias is seen in the JPL data and a slightly larger scatter."
   ]
  },
  {
   "cell_type": "code",
   "execution_count": null,
   "metadata": {},
   "outputs": [],
   "source": [
    "plt.rcParams['figure.figsize'] = (15.0,8.0)\n",
    "plt.rcParams.update({'font.size': 16})\n",
    "\n",
    "for i in range(13):\n",
    "    ds=ds_colJ.isel(trajectory=i)\n",
    "    ds = ds.where((ds.smap_iqc_flag<1))\n",
    "#    ds = ds.where((ds.dist_land>25) & (ds.SAL_CTD_MEAN>26) & (ds.smap_iqc_flag<1))\n",
    "    ax = plt.subplot(121,projection=ccrs.PlateCarree())\n",
    "    cs1 = ax.scatter(ds.lon, ds.lat, s=15.0, c=ds.SAL_CTD_MEAN-ds.smap_SSS, edgecolor='none', cmap='RdBu',vmin=-5,vmax=5)\n",
    "ax.coastlines()\n",
    "#cs1.set_fontsize(16)\n",
    "x1,x2,y1,y2 = -130,-116,31,52\n",
    "ax.set_xlim(x1,x2)\n",
    "ax.set_ylim(y1,y2)\n",
    "ax.set_xticks(np.arange(x1,x2,4))\n",
    "ax.set_yticks(np.arange(y1,y2,5))\n",
    "\n",
    "for i in range(13):\n",
    "    ds=ds_colR.isel(trajectory=i)\n",
    "    ds = ds.where((ds.smap_iqc_flag<10000))\n",
    "    ax = plt.subplot(122,projection=ccrs.PlateCarree())\n",
    "    cs1 = ax.scatter(ds.lon, ds.lat, s=15.0, c=ds.SAL_CTD_MEAN-ds.smap_SSS, edgecolor='none', cmap='RdBu',vmin=-5,vmax=5)\n",
    "ax.coastlines()\n",
    "#cs1.set_fontsize(16)\n",
    "x1,x2,y1,y2 = -130,-116,31,52\n",
    "ax.set_xlim(x1,x2)\n",
    "ax.set_ylim(y1,y2)\n",
    "ax.set_xticks(np.arange(x1,x2,4))\n",
    "ax.set_yticks(np.arange(y1,y2,5))\n",
    "\n",
    "cax = plt.colorbar(cs1)\n",
    "cax.set_label('$\\Delta$SSS$_{USV-SMAP}$',fontsize=16)\n",
    "fig_fname = 'C:/Users/gentemann/Google Drive/f_drive/docs/projects/SSS/figures/west_coast_collocations_sal_dif.png'\n",
    "plt.savefig(fig_fname, transparent=False, format='png')"
   ]
  },
  {
   "cell_type": "code",
   "execution_count": null,
   "metadata": {},
   "outputs": [],
   "source": [
    "print('USV-SMAP, all data with qc_flags used')\n",
    "ds=ds_colJ.where((ds_colJ.smap_iqc_flag<1))\n",
    "ds['dif_sal']=ds.SAL_CTD_MEAN-ds.smap_SSS\n",
    "print('JPL',ds.dif_sal.mean().data,ds.dif_sal.std().data,(ds.dif_sal/ds.dif_sal).sum().data)\n",
    "ds=ds_colR.where( (ds_colR.smap_iqc_flag<10000))\n",
    "ds['dif_sal']=ds.SAL_CTD_MEAN-ds.smap_SSS\n",
    "print('RSS',ds.dif_sal.mean().data,ds.dif_sal.std().data,(ds.dif_sal/ds.dif_sal).sum().data)\n",
    "\n",
    "print('   ')\n",
    "print('USV-SMAP all data with qc_flags used plus distance to land>100')\n",
    "ds=ds_colJ.where((ds_colJ.dist_land>100)  & (ds_colJ.smap_iqc_flag<1))\n",
    "ds['dif_sal']=ds.SAL_CTD_MEAN-ds.smap_SSS\n",
    "print('JPL',ds.dif_sal.mean().data,ds.dif_sal.std().data,(ds.dif_sal/ds.dif_sal).sum().data)\n",
    "ds=ds_colR.where((ds_colR.dist_land>100) & (ds_colR.smap_iqc_flag<10000))\n",
    "ds['dif_sal']=ds.SAL_CTD_MEAN-ds.smap_SSS\n",
    "print('RSS',ds.dif_sal.mean().data,ds.dif_sal.std().data,(ds.dif_sal/ds.dif_sal).sum().data)\n",
    "\n",
    "print('   ')\n",
    "print('USV-SMAP all data with qc_flags used plus distance to land>150')\n",
    "ds=ds_colJ.where((ds_colJ.dist_land>150)  & (ds_colJ.smap_iqc_flag<1))\n",
    "ds['dif_sal']=ds.SAL_CTD_MEAN-ds.smap_SSS\n",
    "print('JPL',ds.dif_sal.mean().data,ds.dif_sal.std().data,(ds.dif_sal/ds.dif_sal).sum().data)\n",
    "ds=ds_colR.where((ds_colR.dist_land>150) & (ds_colR.smap_iqc_flag<10000))\n",
    "ds['dif_sal']=ds.SAL_CTD_MEAN-ds.smap_SSS\n",
    "print('RSS',ds.dif_sal.mean().data,ds.dif_sal.std().data,(ds.dif_sal/ds.dif_sal).sum().data)\n"
   ]
  },
  {
   "cell_type": "code",
   "execution_count": null,
   "metadata": {},
   "outputs": [],
   "source": []
  },
  {
   "cell_type": "code",
   "execution_count": null,
   "metadata": {},
   "outputs": [],
   "source": [
    "#for i in range(13):\n",
    "#    ds=ds_colJ.isel(trajectory=i)\n",
    "#    ds = ds.where(ds.dist_land>30)\n",
    "#    ax = plt.axes(projection=ccrs.PlateCarree())\n",
    "#    cs1 = ax.scatter(ds.lon, ds.lat, s=3.0, c=ds.dist_land, edgecolor='none', cmap='jet',vmin=0,vmax=300)\n",
    "#ax.coastlines()\n",
    "#cs1.set_fontsize(16)\n",
    "#x1,x2,y1,y2 = -130,-116,31,52\n",
    "#ax.set_xlim(x1,x2)\n",
    "#ax.set_ylim(y1,y2)\n",
    "#ax.set_xticks(np.arange(x1,x2,4))\n",
    "#ax.set_yticks(np.arange(y1,y2,5))\n",
    "#cax = plt.colorbar(cs1)\n",
    "#cax.set_label('Distance from Land (km)',fontsize=16)\n",
    "#fig_fname = 'C:/Users/gentemann/Google Drive/f_drive/docs/projects/SSS/figures/west_coast_collocations_distanceJPL.png'\n",
    "#plt.savefig(fig_fname, transparent=False, format='png')\n",
    "\n",
    "\n",
    "\n"
   ]
  }
 ],
 "metadata": {
  "kernelspec": {
   "display_name": "Python 3 (ipykernel)",
   "language": "python",
   "name": "python3"
  },
  "language_info": {
   "codemirror_mode": {
    "name": "ipython",
    "version": 3
   },
   "file_extension": ".py",
   "mimetype": "text/x-python",
   "name": "python",
   "nbconvert_exporter": "python",
   "pygments_lexer": "ipython3",
   "version": "3.8.5"
  }
 },
 "nbformat": 4,
 "nbformat_minor": 1
}
