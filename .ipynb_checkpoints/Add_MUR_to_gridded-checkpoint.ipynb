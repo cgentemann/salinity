{
 "cells": [
  {
   "cell_type": "code",
   "execution_count": null,
   "id": "4eb3fb41-af1e-4ddb-8a3b-f4a045e5e8a0",
   "metadata": {},
   "outputs": [],
   "source": [
    "import sys\n",
    "import numpy as np\n",
    "import matplotlib.pyplot as plt\n",
    "import datetime as dt\n",
    "import xarray as xr\n",
    "import cartopy.crs as ccrs\n",
    "from pyresample.geometry import AreaDefinition\n",
    "from pyresample.geometry import GridDefinition\n",
    "from pyresample import image, geometry, load_area, save_quicklook, SwathDefinition, area_def2basemap\n",
    "from pyresample.kd_tree import resample_nearest\n",
    "#from scipy import spatial\n",
    "sys.path.append('../saildrone/subroutines/')\n",
    "from read_routines import read_all_usv, read_one_usv, add_coll_vars,get_filelist_l2p,get_orbital_data_l2p\n",
    "import warnings\n",
    "warnings.simplefilter('ignore') # filter some warning messages\n",
    "from glob import glob\n",
    "\n",
    "plt.rcParams['figure.figsize'] = (15,5)"
   ]
  },
  {
   "cell_type": "code",
   "execution_count": null,
   "id": "b70ab71f-404e-4646-92f7-3c9223cdd3ef",
   "metadata": {},
   "outputs": [],
   "source": [
    "dir_data_pattern = 'C:/Users/gentemann/Google Drive/public/ALL_Saildrone_Data/*.nc'\n",
    "dir_in = 'F:/data/cruise_data/saildrone/sss/sss_collocations_8day_linear/'\n",
    "dir_in2 = 'F:/data/cruise_data/saildrone/sss/sss_collocations_8day_nearest_norepeat/'\n",
    "\n",
    "dir_out = 'F:/data/cruise_data/saildrone/sss/sss_sst_collocations_8day_linear/'\n",
    "dir_out2 = 'F:/data/cruise_data/saildrone/sss/sss_sst_collocations_8day_nearest_norepeat/'\n",
    "\n",
    "#data_dict = read_all_usv(dir_data_pattern)\n"
   ]
  },
  {
   "cell_type": "code",
   "execution_count": null,
   "id": "2ac78ab8-7079-4dbf-b0f9-36abeefca783",
   "metadata": {},
   "outputs": [],
   "source": [
    "#list all input files\n",
    "files = glob(dir_in+'*.nc')\n",
    "#files"
   ]
  },
  {
   "cell_type": "code",
   "execution_count": null,
   "id": "89d0f49b-7988-4554-826c-a731acba99bd",
   "metadata": {},
   "outputs": [],
   "source": [
    "with xr.open_dataset(files[0]) as ds:\n",
    "    ds.load()\n",
    "ds"
   ]
  },
  {
   "cell_type": "code",
   "execution_count": null,
   "id": "6cb6b629-5ca1-4e6d-9205-6525ff75edfa",
   "metadata": {},
   "outputs": [],
   "source": [
    "https://opendap.earthdata.nasa.gov/providers/POCLOUD/collections/GHRSST%20Level%204%20MUR%20Global%20Foundation%20Sea%20Surface%20Temperature%20Analysis%20(v4.1)/granules/20190101090000-JPL-L4_GHRSST-SSTfnd-MUR-GLOB-v02.0-fv04.1'"
   ]
  },
  {
   "cell_type": "code",
   "execution_count": null,
   "id": "e15fbc94-9a54-4e89-a255-b257e4ff5f70",
   "metadata": {},
   "outputs": [],
   "source": [
    "for i in range(len(ds.time)):\n",
    "    print(ds.time[i].data)"
   ]
  },
  {
   "cell_type": "code",
   "execution_count": null,
   "id": "6e4d88d4-4f4a-42c4-8ebe-bb5b42e8d405",
   "metadata": {},
   "outputs": [],
   "source": []
  },
  {
   "cell_type": "code",
   "execution_count": null,
   "id": "9cb88fc9-0503-44d1-ab05-cb024304bba5",
   "metadata": {},
   "outputs": [],
   "source": []
  }
 ],
 "metadata": {
  "kernelspec": {
   "display_name": "Python 3",
   "language": "python",
   "name": "python3"
  },
  "language_info": {
   "codemirror_mode": {
    "name": "ipython",
    "version": 3
   },
   "file_extension": ".py",
   "mimetype": "text/x-python",
   "name": "python",
   "nbconvert_exporter": "python",
   "pygments_lexer": "ipython3",
   "version": "3.7.10"
  }
 },
 "nbformat": 4,
 "nbformat_minor": 5
}
