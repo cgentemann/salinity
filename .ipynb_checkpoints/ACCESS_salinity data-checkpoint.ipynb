{
 "cells": [
  {
   "cell_type": "code",
   "execution_count": 4,
   "metadata": {},
   "outputs": [],
   "source": [
    "import os\n",
    "import numpy as np\n",
    "import matplotlib.pyplot as plt\n",
    "import datetime as dt\n",
    "import xarray as xr\n",
    "import scipy\n",
    "from glob import glob\n",
    "import cartopy.crs as ccrs\n",
    "from pyresample.geometry import AreaDefinition\n",
    "from pyresample import image, geometry, load_area, save_quicklook, SwathDefinition\n",
    "from pyresample.kd_tree import resample_nearest\n",
    "import pandas as pd\n",
    "from pandas import ExcelWriter\n",
    "from pandas import ExcelFile\n",
    "\n"
   ]
  },
  {
   "cell_type": "markdown",
   "metadata": {},
   "source": [
    "## read in netcdf access data"
   ]
  },
  {
   "cell_type": "code",
   "execution_count": 8,
   "metadata": {},
   "outputs": [
    {
     "data": {
      "text/plain": [
       "<xarray.Dataset>\n",
       "Dimensions:         (time: 151030)\n",
       "Coordinates:\n",
       "  * time            (time) datetime64[ns] 2011-05-03T08:02:00 ... 2015-06-14T11:51:00\n",
       "Data variables:\n",
       "    cruise          (time) |S4 b'1101' b'1101' b'1101' ... b'1505' b'1505'\n",
       "    ctd_index       (time) int16 1 1 1 1 1 1 1 1 ... 246 246 246 246 246 246 246\n",
       "    ctd_no          (time) int16 32767 32767 32767 32767 32767 ... 6 6 6 6 6\n",
       "    station         (time) int16 473 473 473 473 473 473 ... 154 154 154 154 154\n",
       "    lon             (time) float32 -124.106 -124.106 ... -123.19917 -123.19917\n",
       "    lat             (time) float32 39.834167 39.834167 ... 37.6605 37.6605\n",
       "    depth           (time) int16 2 4 6 8 10 12 14 ... 498 500 502 504 506 508\n",
       "    temperature     (time) float32 9.8669 9.8627 9.8572 ... 6.2409 6.2327 6.2257\n",
       "    salinity        (time) float32 33.016 33.0333 33.0427 ... 34.2127 34.213\n",
       "    density         (time) float32 25.4252 25.4394 25.4477 ... 26.9066 26.9077\n",
       "    dyn_hgt         (time) float32 nan nan nan nan ... 0.86 0.8626 0.8644 0.8664\n",
       "    irradiance      (time) float32 0.1451 0.1437 0.1435 0.1429 ... 0.0 0.0 0.0\n",
       "    fluor_volt      (time) float32 0.3019 0.3237 0.316 ... 0.1958 0.1953 0.1953\n",
       "    transmissivity  (time) float32 95.85 95.77 95.81 95.92 ... 84.58 84.6 84.56\n",
       "    chlorophyll     (time) float32 0.9158218 1.0413681 0.9288796 ... 0.0 0.0 0.0\n",
       "    oxygen_volt     (time) float32 2.457 2.4489 2.4358 ... 0.6417 0.641 0.6414\n",
       "    oxygen          (time) float32 5.278 5.275 5.248 5.227 ... 0.443 0.448 0.457\n",
       "Attributes:\n",
       "    id:       rockfish_casts_2011"
      ]
     },
     "execution_count": 8,
     "metadata": {},
     "output_type": "execute_result"
    }
   ],
   "source": [
    "filename = 'F:/data/cruise_data/access/rockfish_casts_2011.nc'\n",
    "ds = xr.open_dataset(filename)\n",
    "ds = ds.swap_dims({'row':'time'})\n",
    "ds = ds.rename({'latitude':'lat','longitude':'lon'})\n",
    "ds_access1 = ds.copy(deep=True)\n",
    "filename = 'F:/data/cruise_data/access/rockfish_casts_2015.nc'\n",
    "ds = xr.open_dataset(filename)\n",
    "ds = ds.swap_dims({'row':'time'})\n",
    "ds = ds.rename({'latitude':'lat','longitude':'lon'})\n",
    "ds_access2 = ds.copy(deep=True)\n",
    "ds_access = xr.concat((ds_access1,ds_access2),dim='time')\n",
    "ds_access"
   ]
  },
  {
   "cell_type": "markdown",
   "metadata": {},
   "source": [
    "## read in excel file\n",
    "    "
   ]
  },
  {
   "cell_type": "code",
   "execution_count": 11,
   "metadata": {},
   "outputs": [
    {
     "name": "stderr",
     "output_type": "stream",
     "text": [
      "C:\\Users\\gentemann\\Miniconda3\\envs\\satenv\\lib\\site-packages\\pandas\\util\\_decorators.py:188: FutureWarning: The `sheetname` keyword is deprecated, use `sheet_name` instead\n",
      "  return func(*args, **kwargs)\n"
     ]
    },
    {
     "data": {
      "text/plain": [
       "<xarray.Dataset>\n",
       "Dimensions:           (index: 146340)\n",
       "Coordinates:\n",
       "  * index             (index) int64 0 1 2 3 4 ... 146336 146337 146338 146339\n",
       "Data variables:\n",
       "    ID_Date           (index) object '20100518-CB3_P09-C-10a' ... '20180928-4-E-31'\n",
       "    Cruise            (index) object 'ACC1005' 'ACC1005' ... 'ACC1809' 'ACC1809'\n",
       "    Date              (index) datetime64[ns] 2010-05-18 ... 2018-09-28\n",
       "    Line              (index) object 'CB3_P09' 'CB3_P09' 'CB3_P09' ... 4 4 4\n",
       "    Station           (index) object 'C' 'C' 'C' 'C' 'C' ... 'E' 'E' 'E' 'E' 'E'\n",
       "    CTD_Cast          (index) object '10a' '10a' '10a' '10a' ... 31 31 31 31\n",
       "    Latitude          (index) float64 38.02 38.02 38.02 ... 37.89 37.89 37.89\n",
       "    Longitude         (index) float64 -123.4 -123.4 -123.4 ... -123.1 -123.1\n",
       "    Bottom            (index) int64 -52 -52 -52 -52 -52 ... -85 -85 -85 -85 -85\n",
       "    Depth             (index) int64 -2 -3 -4 -5 -6 -7 ... -81 -82 -83 -84 -85\n",
       "    Pressure          (index) float64 2.923 4.384 5.845 ... 121.3 122.8 124.2\n",
       "    Temperature       (index) float64 10.77 10.44 10.2 ... 9.742 9.735 9.732\n",
       "    Conductivity      (index) float64 3.696 3.671 3.655 ... 3.677 3.677 3.676\n",
       "    Fluorescence      (index) float64 1.837 1.972 2.709 ... 0.0678 0.0825 0.0962\n",
       "    Backscatterance   (index) float64 0.6458 0.6729 0.6744 ... 0.8483 0.916\n",
       "    Oxygen raw        (index) float64 2.303 2.237 2.159 ... 1.119 1.118 1.118\n",
       "    Dissolved oxygen  (index) float64 7.827 7.743 7.208 ... 2.693 2.692 2.692\n",
       "    % saturation      (index) float64 87.15 85.62 79.33 ... 29.46 29.44 29.44\n",
       "    Sigma-t           (index) float64 25.36 25.45 25.55 25.6 ... 26.1 26.1 26.1\n",
       "    Salinity          (index) float64 33.13 33.18 33.25 ... 33.86 33.86 33.86"
      ]
     },
     "execution_count": 11,
     "metadata": {},
     "output_type": "execute_result"
    }
   ],
   "source": [
    "filename = 'F:/data/cruise_data/access/CTD_casts_ALL_NASA_update_010819.xlsx'\n",
    "df = pd.read_excel(filename, sheet_name='data')\n",
    "ds = df.to_xarray()\n",
    "ds"
   ]
  },
  {
   "cell_type": "markdown",
   "metadata": {},
   "source": [
    "## only take shallowest depth and then changes dims to time"
   ]
  },
  {
   "cell_type": "code",
   "execution_count": 20,
   "metadata": {},
   "outputs": [
    {
     "data": {
      "text/plain": [
       "<xarray.Dataset>\n",
       "Dimensions:           (time: 1156)\n",
       "Coordinates:\n",
       "  * time              (time) datetime64[ns] 2010-05-18 2010-05-18 ... 2018-09-28\n",
       "    index             (time) int64 0 51 242 443 ... 145970 146079 146172 146256\n",
       "Data variables:\n",
       "    ID_Date           (time) object '20100518-CB3_P09-C-10a' ... '20180928-4-E-31'\n",
       "    Cruise            (time) object 'ACC1005' 'ACC1005' ... 'ACC1809' 'ACC1809'\n",
       "    Line              (time) object 'CB3_P09' 'CB3_P09' 'CB6_P09' ... 4 4 4\n",
       "    Station           (time) object 'C' 'W' 'W' 'E' 'E' ... 'M' 'ME' 'EX' 'E'\n",
       "    CTD_Cast          (time) object '10a' '11a' '12a' '13a' ... 28 29 30 31\n",
       "    Latitude          (time) float64 38.02 38.02 38.12 ... 37.89 37.89 37.89\n",
       "    Longitude         (time) float64 -123.4 -123.5 -123.6 ... -123.2 -123.1\n",
       "    Bottom            (time) float64 -52.0 -192.0 -202.0 ... -94.0 -85.0 -85.0\n",
       "    Depth             (time) float64 -2.0 -2.0 -2.0 -2.0 ... -2.0 -2.0 -2.0 -2.0\n",
       "    Pressure          (time) float64 2.923 2.923 2.922 ... 2.922 2.923 2.923\n",
       "    Temperature       (time) float64 10.77 11.35 12.22 ... 12.97 12.55 12.92\n",
       "    Conductivity      (time) float64 3.696 3.739 3.805 3.8 ... 3.924 3.885 3.937\n",
       "    Fluorescence      (time) float64 1.837 3.232 4.542 ... 1.457 8.587 4.169\n",
       "    Backscatterance   (time) float64 0.6458 0.7294 0.6026 ... 0.5347 0.6129\n",
       "    Oxygen raw        (time) float64 2.303 2.488 2.529 ... 2.643 2.884 3.611\n",
       "    Dissolved oxygen  (time) float64 7.827 8.377 8.947 ... 8.716 9.674 12.4\n",
       "    % saturation      (time) float64 87.15 94.37 102.6 ... 101.8 112.0 144.9\n",
       "    Sigma-t           (time) float64 25.36 25.19 24.93 ... 25.15 25.23 25.28\n",
       "    Salinity          (time) float64 33.13 33.04 32.91 ... 33.38 33.39 33.55"
      ]
     },
     "execution_count": 20,
     "metadata": {},
     "output_type": "execute_result"
    }
   ],
   "source": [
    "subset = ds.where(ds.Depth==-2,drop=True)\n",
    "subset = subset.swap_dims({'index':'Date'}).rename({'Date':'time'})\n",
    "subset"
   ]
  },
  {
   "cell_type": "code",
   "execution_count": null,
   "metadata": {},
   "outputs": [
    {
     "data": {
      "text/plain": [
       "<matplotlib.collections.PathCollection at 0x222fa981588>"
      ]
     },
     "execution_count": 23,
     "metadata": {},
     "output_type": "execute_result"
    }
   ],
   "source": [
    "plt.scatter(ds.Date.dt.year+ds.Date.dt.dayofyear/365,ds.Depth,c=ds.Salinity)"
   ]
  },
  {
   "cell_type": "code",
   "execution_count": null,
   "metadata": {},
   "outputs": [],
   "source": []
  },
  {
   "cell_type": "code",
   "execution_count": 20,
   "metadata": {},
   "outputs": [],
   "source": []
  },
  {
   "cell_type": "code",
   "execution_count": 22,
   "metadata": {},
   "outputs": [
    {
     "name": "stderr",
     "output_type": "stream",
     "text": [
      "C:\\Users\\gentemann\\Miniconda3\\envs\\satenv\\lib\\site-packages\\pandas\\plotting\\_converter.py:129: FutureWarning: Using an implicitly registered datetime converter for a matplotlib plotting method. The converter was registered by pandas on import. Future versions of pandas will require you to explicitly register matplotlib converters.\n",
      "\n",
      "To register the converters:\n",
      "\t>>> from pandas.plotting import register_matplotlib_converters\n",
      "\t>>> register_matplotlib_converters()\n",
      "  warnings.warn(msg, FutureWarning)\n"
     ]
    },
    {
     "data": {
      "text/plain": [
       "[<matplotlib.lines.Line2D at 0x222fa398240>]"
      ]
     },
     "execution_count": 22,
     "metadata": {},
     "output_type": "execute_result"
    },
    {
     "data": {
      "image/png": "[encoded data removed]",
      "text/plain": [
       "<Figure size 432x288 with 1 Axes>"
      ]
     },
     "metadata": {
      "needs_background": "light"
     },
     "output_type": "display_data"
    }
   ],
   "source": [
    "subset.time.dt.dayofyear.plot()"
   ]
  },
  {
   "cell_type": "code",
   "execution_count": null,
   "metadata": {},
   "outputs": [],
   "source": []
  }
 ],
 "metadata": {
  "kernelspec": {
   "display_name": "Python 3",
   "language": "python",
   "name": "python3"
  },
  "language_info": {
   "codemirror_mode": {
    "name": "ipython",
    "version": 3
   },
   "file_extension": ".py",
   "mimetype": "text/x-python",
   "name": "python",
   "nbconvert_exporter": "python",
   "pygments_lexer": "ipython3",
   "version": "3.7.1"
  }
 },
 "nbformat": 4,
 "nbformat_minor": 2
}
