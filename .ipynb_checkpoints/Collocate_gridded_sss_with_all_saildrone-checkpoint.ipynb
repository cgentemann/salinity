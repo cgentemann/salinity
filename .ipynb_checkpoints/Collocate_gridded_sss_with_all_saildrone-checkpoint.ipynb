{
 "cells": [
  {
   "cell_type": "code",
   "execution_count": 120,
   "metadata": {},
   "outputs": [],
   "source": [
    "import sys\n",
    "import numpy as np\n",
    "import matplotlib.pyplot as plt\n",
    "import datetime as dt\n",
    "import xarray as xr\n",
    "import cartopy.crs as ccrs\n",
    "from pyresample.geometry import AreaDefinition\n",
    "from pyresample.geometry import GridDefinition\n",
    "from pyresample import image, geometry, load_area, save_quicklook, SwathDefinition, area_def2basemap\n",
    "from pyresample.kd_tree import resample_nearest\n",
    "#from scipy import spatial\n",
    "sys.path.append('../saildrone/subroutines/')\n",
    "from read_routines import read_all_usv, read_one_usv, add_coll_vars,get_filelist_l2p,get_orbital_data_l2p\n",
    "import warnings\n",
    "warnings.simplefilter('ignore') # filter some warning messages\n",
    "from glob import glob"
   ]
  },
  {
   "cell_type": "markdown",
   "metadata": {},
   "source": [
    "# Read in All Saildrone cruises downloaded from https://data.saildrone.com/data/sets\n",
    "- 2017 onwards, note that earlier data is going to lack insruments and be poorer data quality in general\n",
    "- For this code I want to develop a routine that reads in all the different datasets and creates a standardized set\n",
    "- It may work best to first read each of the files individually into a dictionary \n",
    "- then go through each dataset finding all variable names\n",
    "- I decided to put all SST into TEMP_CTD_MEAN and same for Salinity so there is a single variable name\n",
    "- this still preserves all the dataset information"
   ]
  },
  {
   "cell_type": "code",
   "execution_count": 121,
   "metadata": {},
   "outputs": [
    {
     "name": "stdout",
     "output_type": "stream",
     "text": [
      "number of file: 2\n"
     ]
    }
   ],
   "source": [
    "dir_data = 'C:/Users/gentemann/Google Drive/public/2019_saildrone/' #'f:/data/cruise_data/saildrone/saildrone_data/'\n",
    "dir_data_pattern = 'C:/Users/gentemann/Google Drive/public/ALL_Saildrone_Data/Arctic/saildrone_usv_data/*.nc' \n",
    "\n",
    "dir_out = 'F:/data/cruise_data/saildrone/sss/sss_collocations_8day/'\n",
    "dir_out2 = 'F:/data/cruise_data/saildrone/sss/sss_collocations_8day_nearest/'\n",
    "\n",
    "data_dict = read_all_usv(dir_data_pattern)\n",
    "#data_dict = add_coll_vars(data_dict)\n"
   ]
  },
  {
   "cell_type": "markdown",
   "metadata": {},
   "source": [
    "# Check on lat/lon range, names, etc."
   ]
  },
  {
   "cell_type": "code",
   "execution_count": 122,
   "metadata": {},
   "outputs": [],
   "source": [
    "#RSS test open\n",
    "#file = 'F:/data/sat_data/smap/SSS/L3/RSS/V4/8day_running/SCI/2016/001/RSS_smap_SSS_L3_8day_running_2016_005_FNL_v04.0.nc'\n",
    "#ds = xr.open_dataset(file)\n",
    "#ds.coords['lon'] = (ds.coords['lon'] + 180) % 360 - 180\n",
    "#ds = ds.sortby(ds.lon)\n",
    "#ds.close()  \n"
   ]
  },
  {
   "cell_type": "markdown",
   "metadata": {},
   "source": [
    "# Collocate SMAP RSS 8day"
   ]
  },
  {
   "cell_type": "code",
   "execution_count": 123,
   "metadata": {},
   "outputs": [
    {
     "name": "stdout",
     "output_type": "stream",
     "text": [
      "number of file: 1863\n"
     ]
    }
   ],
   "source": [
    "#RSS\n",
    "#get list of all filenames in directory\n",
    "adir = 'F:/data/sat_data/smap/SSS/L3/RSS/V4/8day_running/SCI/**/**/*.nc'\n",
    "files = [x for x in glob(adir)]\n",
    "print('number of file:',len(files))\n",
    "\n",
    "ds = xr.open_mfdataset(files,combine='nested',concat_dim='time')\n",
    "ds.coords['lon'] = (ds.coords['lon'] + 180) % 360 - 180\n",
    "ds = ds.sortby(ds.lon)\n",
    "ds.close()  \n"
   ]
  },
  {
   "cell_type": "code",
   "execution_count": 124,
   "metadata": {},
   "outputs": [],
   "source": [
    "#RSS doesn't produce empty files when the satellite is missing data & this causes all sorts of problems\n",
    "#this code creates empty data and puts it in the place of missing data files\n",
    "ds_sat = ds\n",
    "ds_sat2=[]\n",
    "empty = ds_sat.isel(time=0)\n",
    "for var in empty:\n",
    "    empty[var]=empty[var]*np.nan\n",
    "for i,t in enumerate(ds_sat.time):\n",
    "    if i<len(ds_sat.time)-1:\n",
    "        tdif = int((ds_sat.isel(time=i+1).time.data-ds_sat.isel(time=i).time.data)/np.timedelta64(1,'D'))\n",
    "        ds_sat2.append(ds_sat.isel(time=i))\n",
    "        for inc in range(tdif-1):\n",
    "            dy = ds_sat.isel(time=i).time.data+np.timedelta64(inc+1,'D')\n",
    "            empty = empty.assign_coords(time=dy) #empty['time']=dy\n",
    "            ds_sat2.append(empty)\n",
    "ds_sat2 = xr.concat(ds_sat2,dim='time')\n",
    "ds = ds_sat2"
   ]
  },
  {
   "cell_type": "markdown",
   "metadata": {},
   "source": [
    "# Collocate using .interp linear interpolation"
   ]
  },
  {
   "cell_type": "code",
   "execution_count": 125,
   "metadata": {},
   "outputs": [
    {
     "name": "stdout",
     "output_type": "stream",
     "text": [
      "0\n",
      "2019-05-06T23:00:00.000000000 2019-10-19T18:30:00.000000000\n",
      "1\n",
      "2019-05-06T23:00:00.000000000 2019-10-19T18:30:00.000000000\n",
      "Wall time: 1min 35s\n"
     ]
    }
   ],
   "source": [
    "%%time\n",
    "for iname,name in enumerate(data_dict):\n",
    "    print(iname)\n",
    "    ds_usv = data_dict[name].copy(deep=True)\n",
    "    ds_usv['lat'] = ds_usv.lat.interpolate_na(dim='time',method='linear').ffill(dim='time').bfill(dim='time')\n",
    "    ds_usv['lon'] = ds_usv.lon.interpolate_na(dim='time',method='linear').ffill(dim='time').bfill(dim='time')\n",
    "    tem = ds_usv.lat.ffill(dim='time')\n",
    "    tem = ds_usv.lat.bfill(dim='time')\n",
    "    t1,t2=ds_usv.time.min().data-np.timedelta64(8,'D'),ds_usv.time.max().data+np.timedelta64(8,'D')\n",
    "    x1,x2=ds_usv.lon.min().data,ds_usv.lon.max().data\n",
    "    y1,y2=ds_usv.lat.min().data,ds_usv.lat.max().data\n",
    "    print(t1,t2)\n",
    "    ds_sat = ds.sel(time=slice(t1,t2),lat=slice(y1,y2),lon=slice(x1,x2)).load()   \n",
    "    ds_interp = ds_sat.interp(time=ds_usv.time,lat=ds_usv.lat,lon=ds_usv.lon,method='linear')#.interp(method='nearest')\n",
    "\n",
    "    #add saildrone data to interpolated sat data\n",
    "    ds_interp = ds_interp.reset_coords(names={'lat','lon'})\n",
    "    for var in ds_interp:\n",
    "        ds_usv['sat_'+var]=ds_interp[var]\n",
    "    #output\n",
    "    fout = dir_out+name+'_RSS8dy_20210413.nc'\n",
    "    ds_usv.to_netcdf(fout)\n",
    "    "
   ]
  },
  {
   "cell_type": "code",
   "execution_count": 126,
   "metadata": {},
   "outputs": [
    {
     "data": {
      "text/plain": [
       "[<matplotlib.lines.Line2D at 0x2255b56dbc8>]"
      ]
     },
     "execution_count": 126,
     "metadata": {},
     "output_type": "execute_result"
    },
    {
     "data": {
      "image/png": "[encoded data removed]",
      "text/plain": [
       "<Figure size 432x288 with 1 Axes>"
      ]
     },
     "metadata": {
      "needs_background": "light"
     },
     "output_type": "display_data"
    }
   ],
   "source": [
    "plt.plot(ds_usv.time.dt.dayofyear,ds_usv.sat_sss_smap)"
   ]
  },
  {
   "cell_type": "markdown",
   "metadata": {},
   "source": [
    "# Collocate using .interp nearest neighbor interpolation"
   ]
  },
  {
   "cell_type": "code",
   "execution_count": 127,
   "metadata": {},
   "outputs": [
    {
     "name": "stdout",
     "output_type": "stream",
     "text": [
      "0\n",
      "2019-05-06T23:00:00.000000000 2019-10-19T18:30:00.000000000\n",
      "1\n",
      "2019-05-06T23:00:00.000000000 2019-10-19T18:30:00.000000000\n",
      "Wall time: 1min 14s\n"
     ]
    }
   ],
   "source": [
    "%%time\n",
    "for iname,name in enumerate(data_dict):\n",
    "    print(iname)\n",
    "    ds_usv = data_dict[name].copy(deep=True)\n",
    "    ds_usv['lat'] = ds_usv.lat.interpolate_na(dim='time',method='linear').ffill(dim='time').bfill(dim='time')\n",
    "    ds_usv['lon'] = ds_usv.lon.interpolate_na(dim='time',method='linear').ffill(dim='time').bfill(dim='time')\n",
    "    tem = ds_usv.lat.ffill(dim='time')\n",
    "    tem = ds_usv.lat.bfill(dim='time')\n",
    "    t1,t2=ds_usv.time.min().data-np.timedelta64(8,'D'),ds_usv.time.max().data+np.timedelta64(8,'D')\n",
    "    x1,x2=ds_usv.lon.min().data,ds_usv.lon.max().data\n",
    "    y1,y2=ds_usv.lat.min().data,ds_usv.lat.max().data\n",
    "    print(t1,t2)\n",
    "    ds_sat = ds.sel(time=slice(t1,t2),lat=slice(y1,y2),lon=slice(x1,x2)).load()   \n",
    "    ds_interp = ds_sat.interp(time=ds_usv.time,lat=ds_usv.lat,lon=ds_usv.lon,method='nearest')#.interp(method='nearest')\n",
    "\n",
    "    #add saildrone data to interpolated sat data\n",
    "    ds_interp = ds_interp.reset_coords(names={'lat','lon'})\n",
    "    ds_interp['sat_time']=ds_interp.time\n",
    "    for var in ds_interp:\n",
    "        ds_usv['sat_'+var]=ds_interp[var]\n",
    "    #output\n",
    "    fout = dir_out2+name+'_RSS8dy_20210413.nc'\n",
    "    ds_usv.to_netcdf(fout)"
   ]
  },
  {
   "cell_type": "code",
   "execution_count": 128,
   "metadata": {},
   "outputs": [
    {
     "data": {
      "text/plain": [
       "[<matplotlib.lines.Line2D at 0x2255b3fb748>]"
      ]
     },
     "execution_count": 128,
     "metadata": {},
     "output_type": "execute_result"
    },
    {
     "data": {
      "image/png": "[encoded data removed]",
      "text/plain": [
       "<Figure size 432x288 with 1 Axes>"
      ]
     },
     "metadata": {
      "needs_background": "light"
     },
     "output_type": "display_data"
    }
   ],
   "source": [
    "plt.plot(ds_usv.time.dt.dayofyear,ds_usv.sat_sss_smap)"
   ]
  },
  {
   "cell_type": "code",
   "execution_count": 82,
   "metadata": {},
   "outputs": [],
   "source": []
  },
  {
   "cell_type": "markdown",
   "metadata": {},
   "source": [
    "# Collocation SMAP JPL 8day"
   ]
  },
  {
   "cell_type": "code",
   "execution_count": null,
   "metadata": {},
   "outputs": [],
   "source": [
    "#JPL\n",
    "adir = 'F:/data/sat_data/smap/SSS/L3/JPL/V4.3/8day_running/**/**/*4.3.nc'\n",
    "files = [x for x in glob(adir)]\n",
    "print('number of file:',len(files))\n",
    "\n",
    "ds = xr.open_mfdataset(files,combine='nested',concat_dim='time')\n",
    "ds = ds.rename({'latitude':'lat','longitude':'lon'})\n",
    "ds = ds.sortby(ds.lat)\n",
    "ds.close()  \n",
    "ds"
   ]
  },
  {
   "cell_type": "code",
   "execution_count": null,
   "metadata": {},
   "outputs": [],
   "source": [
    "%%time\n",
    "for iname,name in enumerate(data_dict):\n",
    "    print(iname)\n",
    "    ds_usv = data_dict[name].copy(deep=True)\n",
    "    ds_usv['lat'] = ds_usv.lat.interpolate_na(dim='time',method='linear').ffill(dim='time').bfill(dim='time')\n",
    "    ds_usv['lon'] = ds_usv.lon.interpolate_na(dim='time',method='linear').ffill(dim='time').bfill(dim='time')\n",
    "    tem = ds_usv.lat.ffill(dim='time')\n",
    "    tem = ds_usv.lat.bfill(dim='time')\n",
    "    t1,t2=ds_usv.time.min().data-np.timedelta64(8,'D'),ds_usv.time.max().data+np.timedelta64(8,'D')\n",
    "    x1,x2=ds_usv.lon.min().data,ds_usv.lon.max().data\n",
    "    y1,y2=ds_usv.lat.min().data,ds_usv.lat.max().data\n",
    "    print(t1,t2)\n",
    "    ds_sat = ds.sel(time=slice(t1,t2),lat=slice(y1,y2),lon=slice(x1,x2)).load()   \n",
    "    ds_interp = ds_sat.interp(time=ds_usv.time,lat=ds_usv.lat,lon=ds_usv.lon,method='linear')#.interp(method='nearest')\n",
    "    #add saildrone data to interpolated sat data\n",
    "    ds_interp = ds_interp.reset_coords(names={'lat','lon'})\n",
    "    for var in ds_interp:\n",
    "        ds_usv['sat_'+var]=ds_interp[var]\n",
    "    \n",
    "    fout = dir_out+name+'_JPL8dy'+'.nc'\n",
    "    ds_usv.to_netcdf(fout)"
   ]
  },
  {
   "cell_type": "code",
   "execution_count": null,
   "metadata": {},
   "outputs": [],
   "source": [
    "%%time\n",
    "for iname,name in enumerate(data_dict):\n",
    "    print(iname)\n",
    "    ds_usv = data_dict[name].copy(deep=True)\n",
    "    ds_usv['lat'] = ds_usv.lat.interpolate_na(dim='time',method='linear').ffill(dim='time').bfill(dim='time')\n",
    "    ds_usv['lon'] = ds_usv.lon.interpolate_na(dim='time',method='linear').ffill(dim='time').bfill(dim='time')\n",
    "    tem = ds_usv.lat.ffill(dim='time')\n",
    "    tem = ds_usv.lat.bfill(dim='time')\n",
    "    t1,t2=ds_usv.time.min().data-np.timedelta64(8,'D'),ds_usv.time.max().data+np.timedelta64(8,'D')\n",
    "    x1,x2=ds_usv.lon.min().data,ds_usv.lon.max().data\n",
    "    y1,y2=ds_usv.lat.min().data,ds_usv.lat.max().data\n",
    "    print(t1,t2)\n",
    "    ds_sat = ds.sel(time=slice(t1,t2),lat=slice(y1,y2),lon=slice(x1,x2)).load()   \n",
    "    ds_interp = ds_sat.interp(time=ds_usv.time,lat=ds_usv.lat,lon=ds_usv.lon,method='nearest')#.interp(method='nearest')\n",
    "    #add saildrone data to interpolated sat data\n",
    "    ds_interp = ds_interp.reset_coords(names={'lat','lon'})\n",
    "    for var in ds_interp:\n",
    "        ds_usv['sat_'+var]=ds_interp[var]\n",
    "    fout = dir_out2+name+'_JPL8dy'+'.nc'\n",
    "    ds_usv.to_netcdf(fout)"
   ]
  },
  {
   "cell_type": "markdown",
   "metadata": {},
   "source": [
    "# remove repeats"
   ]
  },
  {
   "cell_type": "code",
   "execution_count": 134,
   "metadata": {},
   "outputs": [
    {
     "data": {
      "text/plain": [
       "['F:/data/cruise_data/saildrone/sss/sss_collocations_8day_nearest\\\\saildrone-gen_5-arctic_misst_2019-sd1036-20190514T230000-20191011T183000-1_minutes-v1.1575336154680_RSS8dy_20210413.nc',\n",
       " 'F:/data/cruise_data/saildrone/sss/sss_collocations_8day_nearest\\\\saildrone-gen_5-arctic_misst_2019-sd1037-20190514T230000-20191011T183000-1_minutes-v1.1575487464625_RSS8dy_20210413.nc']"
      ]
     },
     "execution_count": 134,
     "metadata": {},
     "output_type": "execute_result"
    }
   ],
   "source": [
    "#saildrone-gen_5-arctic_misst_2019-sd1037-20190514T230000-20191011T183000-1_minutes-v1.1575487464625_RSS8dy_20210413.nc\n",
    "\n",
    "data_dir = 'F:/data/cruise_data/saildrone/sss/sss_collocations_8day_nearest/saildrone-gen_5-arctic*RSS8dy_*'\n",
    "data_dir_out = 'F:/data/cruise_data/saildrone/sss/sss_collocations_8day_nearest_norepeat/'\n",
    "filenames = [x for x in glob(data_dir+'*.nc')]\n",
    "filenames"
   ]
  },
  {
   "cell_type": "code",
   "execution_count": 135,
   "metadata": {},
   "outputs": [
    {
     "name": "stdout",
     "output_type": "stream",
     "text": [
      "0 2\n",
      "1 2\n"
     ]
    }
   ],
   "source": [
    "loc=['lat','lon']\n",
    "for iname,name in enumerate(filenames):\n",
    "    print(iname,len(filenames))\n",
    "    i = name.find('\\\\')\n",
    "    fout = data_dir_out + name[i+1:-3]+'norep_20210413.nc' \n",
    "    ds = xr.open_dataset(name)\n",
    "    ds.close()\n",
    "    if 'RSS' in name:  \n",
    "        ds_tem2 = ds.where((ds.sat_sss_smap<50) & (ds.sat_sss_smap>1),drop=True)    \n",
    "        isv=0\n",
    "        while len(ds_tem2.time)>1:\n",
    "            i=0\n",
    "            cond = ((ds_tem2.sat_sss_smap==ds_tem2.sat_sss_smap[i]) \n",
    "                    & (ds_tem2.sat_sss_smap_uncertainty==ds_tem2.sat_sss_smap_uncertainty[i]) \n",
    "                    & (ds_tem2.sat_sss_smap_40km==ds_tem2.sat_sss_smap_40km[i]))\n",
    "            subset = ds_tem2.where(cond,drop=True)  #repeat obs\n",
    "            ds_mn = subset.mean(keep_attrs=True,skipna=True)\n",
    "            ds_mn['time'] = subset.time.mean()\n",
    "            ds_mn = ds_mn.assign_coords({'ob':isv})\n",
    "            if isv==0:\n",
    "                ds_mn2 = ds_mn\n",
    "            else:\n",
    "                ds_mn2 = xr.concat([ds_mn2,ds_mn],dim='ob')\n",
    "            isv = isv+1\n",
    "            ds_tem2 = ds_tem2.where(~cond,drop=True)  #data with repeat obs removed\n",
    "    else:\n",
    "        ds_tem2 = ds.where((ds.sat_smap_sss<50) & (ds.sat_smap_sss>1),drop=True)    \n",
    "        isv=0\n",
    "        while len(ds_tem2.time)>1:\n",
    "            i=0\n",
    "            cond = ((ds_tem2.sat_smap_sss==ds_tem2.sat_smap_sss[i]) \n",
    "                    & (ds_tem2.sat_anc_sst==ds_tem2.sat_anc_sst[i]) \n",
    "                    & (ds_tem2.sat_anc_sss==ds_tem2.sat_anc_sss[i]))\n",
    "            subset = ds_tem2.where(cond,drop=True)  #repeat obs\n",
    "            ds_mn = subset.mean(keep_attrs=True,skipna=True)\n",
    "            ds_mn['time'] = subset.time.mean()\n",
    "            ds_mn = ds_mn.assign_coords({'ob':isv})\n",
    "            if isv==0:\n",
    "                ds_mn2 = ds_mn\n",
    "            else:\n",
    "                ds_mn2 = xr.concat([ds_mn2,ds_mn],dim='ob')\n",
    "            isv = isv+1\n",
    "            ds_tem2 = ds_tem2.where(~cond,drop=True)  #data with repeat obs removed\n",
    "    ds_mn2.to_netcdf(fout)"
   ]
  },
  {
   "cell_type": "code",
   "execution_count": 144,
   "metadata": {},
   "outputs": [
    {
     "data": {
      "text/plain": [
       "'F:/data/cruise_data/saildrone/sss/sss_collocations_8day_nearest_norepeat/saildrone-gen_5-arctic_misst_2019-sd1037-20190514T230000-20191011T183000-1_minutes-v1.1575487464625_RSS8dy_20210413norep_20210413.nc'"
      ]
     },
     "execution_count": 144,
     "metadata": {},
     "output_type": "execute_result"
    }
   ],
   "source": [
    "fout"
   ]
  },
  {
   "cell_type": "code",
   "execution_count": 170,
   "metadata": {},
   "outputs": [],
   "source": [
    "#tem_dir = 'F:/data/cruise_data/saildrone/sss/sss_collocations_8day_nearest_norepeat/'\n",
    "#f1= 'saildrone-gen_5-arctic_misst_2019-sd1036-20190514T230000-20191011T183000-1_minutes-v1.1575336154680_RSS8dy_20210413norep.nc'\n",
    "#f2='saildrone-gen_5-arctic_misst_2019-sd1036-20190514T230000-20191011T183000-1_minutes-v1.1575336154680_RSS8dynorep.nc'\n",
    "#fout2 = tem_dir+f1\n",
    "#fout2 = fout\n",
    "fout2 = 'F:/data/cruise_data/saildrone/sss/sss_collocations_8day_nearest_norepeat/saildrone-gen_5-arctic_misst_2019-sd1037-20190514T230000-20191011T183000-1_minutes-v1.1575487464625_RSS8dy_20210413norep_20210413.nc'\n",
    "fout3 = 'F:/data/cruise_data/saildrone/sss/sss_collocations_8day_nearest_norepeat/saildrone-gen_5-arctic_misst_2019-sd1037-20190514T230000-20191011T183000-1_minutes-v1.1575487464625_RSS8dynorep.nc'\n",
    "ds_mn2 = xr.open_dataset(fout2)\n",
    "ds_mn2.close()\n",
    "#fout3 = tem_dir+f2\n",
    "ds_mn3 = xr.open_dataset(fout3)\n",
    "ds_mn3.close()"
   ]
  },
  {
   "cell_type": "code",
   "execution_count": 172,
   "metadata": {},
   "outputs": [
    {
     "name": "stdout",
     "output_type": "stream",
     "text": [
      "-0.006747996521190169 0.8707087719636237 596\n",
      "-0.029530275105128304 0.8916563311095027 643\n"
     ]
    }
   ],
   "source": [
    "tdif = ds_mn2.sat_sss_smap-ds_mn2.SAL_CTD_MEAN\n",
    "tdif = tdif.where(abs(tdif)<10,drop=True)\n",
    "print(tdif.mean().data,tdif.std().data,len(tdif))\n",
    "tdif = ds_mn3.sat_sss_smap-ds_mn3.SAL_CTD_MEAN\n",
    "tdif = tdif.where(abs(tdif)<10,drop=True)\n",
    "print(tdif.mean().data,tdif.std().data,len(tdif))"
   ]
  },
  {
   "cell_type": "markdown",
   "metadata": {},
   "source": [
    "# TESTING"
   ]
  },
  {
   "cell_type": "code",
   "execution_count": null,
   "metadata": {},
   "outputs": [],
   "source": [
    "fname = 'F:/data/cruise_data/saildrone/sss/sss_collocations_8day_nearest/saildrone-gen_5-arctic_misst_2019-sd1036-20190514T230000-20191011T183000-1_minutes-v1.1575336154680_JPL8dy.nc'\n",
    "ds_tem = xr.open_dataset(fname)\n",
    "plt.plot(ds_tem.lon,ds.lat)"
   ]
  },
  {
   "cell_type": "code",
   "execution_count": null,
   "metadata": {},
   "outputs": [],
   "source": [
    "#fix remove RSS data from JPL collocation\n",
    "ds = ds.drop({'sat_nobs','sat_nobs_40km','sat_sss_smap','sat_sss_smap_uncertainty','sat_sss_smap_40km','sat_sss_ref','sat_gland','sat_fland','sat_gice','sat_surtep'})"
   ]
  },
  {
   "cell_type": "code",
   "execution_count": null,
   "metadata": {},
   "outputs": [],
   "source": [
    "ds_interp"
   ]
  },
  {
   "cell_type": "code",
   "execution_count": null,
   "metadata": {},
   "outputs": [],
   "source": [
    "ds_usv"
   ]
  },
  {
   "cell_type": "code",
   "execution_count": null,
   "metadata": {},
   "outputs": [],
   "source": [
    "plt.plot(ds_usv.time,ds_usv.SAL_CTD_MEAN,'b')\n",
    "plt.plot(ds_usv.time,ds_usv.sat_smap_sss,'r.')"
   ]
  },
  {
   "cell_type": "code",
   "execution_count": null,
   "metadata": {},
   "outputs": [],
   "source": [
    "tem = ds.sel(time='2019-08-01',lat=slice(30,55),lon=slice(-130,-110))\n",
    "plt.pcolormesh(tem.lon,tem.lat,tem.smap_sss[0,:,:])\n",
    "plt.plot(ds_usv.lon,ds_usv.lat)"
   ]
  },
  {
   "cell_type": "code",
   "execution_count": null,
   "metadata": {},
   "outputs": [],
   "source": [
    "import xarray as xr\n",
    "file = 'F:/data/cruise_data/saildrone/sss/sss_collocations_8day_nearest/saildrone-gen_5-atomic_eurec4a_2020-sd1026-20200117T000000-20200302T235959-1_minutes-v1.1589306725934_JPL8dy.nc'\n",
    "ds = xr.open_dataset(file)\n",
    "ds"
   ]
  },
  {
   "cell_type": "code",
   "execution_count": null,
   "metadata": {},
   "outputs": [],
   "source": []
  },
  {
   "cell_type": "code",
   "execution_count": null,
   "metadata": {},
   "outputs": [],
   "source": [
    "#for name in data_dict:\n",
    "#    print(name)\n",
    "ds2 = data_dict['saildrone-gen_5-atomic_eurec4a_2020-sd1026-20200117T000000-20200302T235959-1_minutes-v1.1589306725934']\n",
    "ds2"
   ]
  },
  {
   "cell_type": "code",
   "execution_count": null,
   "metadata": {},
   "outputs": [],
   "source": [
    "dir_list = ['F:/data/cruise_data/saildrone/sss/sss_collocations_8day/',\n",
    "        'F:/data/cruise_data/saildrone/sss/sss_collocations_8day_nearest/',\n",
    "        'F:/data/cruise_data/saildrone/sss/sss_collocations_8day_nearest_norepeat/']\n",
    "files = glob(dir_list[0]+'*.nc')\n",
    "file = files[2]\n",
    "#if 'JPL' in file:\n",
    "print(file)\n",
    "ds = xr.open_dataset(file)\n",
    "ds.close()\n",
    "#ds = ds.drop({'sat_nobs','sat_nobs_40km','sat_sss_smap','sat_sss_smap_uncertainty','sat_sss_smap_40km','sat_sss_ref','sat_gland','sat_fland','sat_gice','sat_surtep' })\n",
    "print(ds)\n",
    "#ds.to_netcdf(file)"
   ]
  },
  {
   "cell_type": "code",
   "execution_count": null,
   "metadata": {},
   "outputs": [],
   "source": [
    "ds"
   ]
  },
  {
   "cell_type": "code",
   "execution_count": null,
   "metadata": {},
   "outputs": [],
   "source": []
  }
 ],
 "metadata": {
  "kernelspec": {
   "display_name": "Python 3",
   "language": "python",
   "name": "python3"
  },
  "language_info": {
   "codemirror_mode": {
    "name": "ipython",
    "version": 3
   },
   "file_extension": ".py",
   "mimetype": "text/x-python",
   "name": "python",
   "nbconvert_exporter": "python",
   "pygments_lexer": "ipython3",
   "version": "3.7.9"
  }
 },
 "nbformat": 4,
 "nbformat_minor": 4
}
