{
 "cells": [
  {
   "cell_type": "code",
   "execution_count": 1,
   "metadata": {},
   "outputs": [],
   "source": [
    "import sys\n",
    "import numpy as np\n",
    "import matplotlib.pyplot as plt\n",
    "import xarray as xr\n",
    "sys.path.append('../saildrone/subroutines/')\n",
    "import warnings\n",
    "warnings.simplefilter('ignore') # filter some warning messages\n",
    "from glob import glob\n"
   ]
  },
  {
   "cell_type": "markdown",
   "metadata": {},
   "source": [
    "# read in collocated files"
   ]
  },
  {
   "cell_type": "code",
   "execution_count": 2,
   "metadata": {},
   "outputs": [
    {
     "data": {
      "text/plain": [
       "['F:/data/cruise_data/saildrone/sss/sss_collocations\\\\PMEL_Arctic_2015_sd126-ALL-1_min-v1jplv04.3_filesave4.nc',\n",
       " 'F:/data/cruise_data/saildrone/sss/sss_collocations\\\\PMEL_Arctic_2015_sd126-ALL-1_min-v1rssv04.0_filesave4.nc',\n",
       " 'F:/data/cruise_data/saildrone/sss/sss_collocations\\\\PMEL_Arctic_2015_sd128-ALL-1_min-v1jplv04.3_filesave4.nc',\n",
       " 'F:/data/cruise_data/saildrone/sss/sss_collocations\\\\PMEL_Arctic_2015_sd128-ALL-1_min-v1rssv04.0_filesave4.nc',\n",
       " 'F:/data/cruise_data/saildrone/sss/sss_collocations\\\\PMEL_Arctic_2016_sd126-ALL-1_min-v1jplv04.3_filesave4.nc',\n",
       " 'F:/data/cruise_data/saildrone/sss/sss_collocations\\\\PMEL_Arctic_2016_sd126-ALL-1_min-v1rssv04.0_filesave4.nc',\n",
       " 'F:/data/cruise_data/saildrone/sss/sss_collocations\\\\PMEL_Arctic_2016_sd128-ALL-1_min-v1jplv04.3_filesave4.nc',\n",
       " 'F:/data/cruise_data/saildrone/sss/sss_collocations\\\\PMEL_Arctic_2016_sd128-ALL-1_min-v1rssv04.0_filesave4.nc',\n",
       " 'F:/data/cruise_data/saildrone/sss/sss_collocations\\\\saildrone-gen_4-baja_2018-sd1002-20180411T180000-20180611T055959-1_minutes-v1jplv04.3_filesave4.nc',\n",
       " 'F:/data/cruise_data/saildrone/sss/sss_collocations\\\\saildrone-gen_4-baja_2018-sd1002-20180411T180000-20180611T055959-1_minutes-v1rssv04.0_filesave4.nc',\n",
       " 'F:/data/cruise_data/saildrone/sss/sss_collocations\\\\saildrone-gen_4-shark-2018-sd1001-20180315T000000-20180529T235959-1_minutes-v1.1581626958976jplv04.3_filesave4.nc',\n",
       " 'F:/data/cruise_data/saildrone/sss/sss_collocations\\\\saildrone-gen_4-shark-2018-sd1001-20180315T000000-20180529T235959-1_minutes-v1.1581626958976rssv04.0_filesave4.nc',\n",
       " 'F:/data/cruise_data/saildrone/sss/sss_collocations\\\\saildrone-gen_4-shark-2018-sd1004-20180315T000000-20180617T235959-1_minutes-v1.1581627077777jplv04.3_filesave4.nc',\n",
       " 'F:/data/cruise_data/saildrone/sss/sss_collocations\\\\saildrone-gen_4-shark-2018-sd1004-20180315T000000-20180617T235959-1_minutes-v1.1581627077777rssv04.0_filesave4.nc',\n",
       " 'F:/data/cruise_data/saildrone/sss/sss_collocations\\\\saildrone-gen_5-1021_atlantic-sd1021-20190525T000000-20191021T235959-1_minutes-v1.1571806429446_(1)jplv04.3_filesave4.nc',\n",
       " 'F:/data/cruise_data/saildrone/sss/sss_collocations\\\\saildrone-gen_5-1021_atlantic-sd1021-20190525T000000-20191021T235959-1_minutes-v1.1571806429446_(1)rssv04.0_filesave4.nc',\n",
       " 'F:/data/cruise_data/saildrone/sss/sss_collocations\\\\saildrone-gen_5-antarctica_circumnavigation_2019-sd1020-20190119T040000-20190803T043000-1_minutes-v1.1564884498845jplv04.3_filesave4.nc',\n",
       " 'F:/data/cruise_data/saildrone/sss/sss_collocations\\\\saildrone-gen_5-antarctica_circumnavigation_2019-sd1020-20190119T040000-20190803T043000-1_minutes-v1.1564884498845rssv04.0_filesave4.nc',\n",
       " 'F:/data/cruise_data/saildrone/sss/sss_collocations\\\\saildrone-gen_5-arctic_misst_2019-sd1036-20190514T230000-20191011T183000-1_minutes-v1.1575336154680jplv04.3_filesave4.nc',\n",
       " 'F:/data/cruise_data/saildrone/sss/sss_collocations\\\\saildrone-gen_5-arctic_misst_2019-sd1036-20190514T230000-20191011T183000-1_minutes-v1.1575336154680rssv04.0_filesave4.nc',\n",
       " 'F:/data/cruise_data/saildrone/sss/sss_collocations\\\\saildrone-gen_5-arctic_misst_2019-sd1037-20190514T230000-20191011T183000-1_minutes-v1.1575487464625jplv04.3_filesave4.nc',\n",
       " 'F:/data/cruise_data/saildrone/sss/sss_collocations\\\\saildrone-gen_5-arctic_misst_2019-sd1037-20190514T230000-20191011T183000-1_minutes-v1.1575487464625rssv04.0_filesave4.nc',\n",
       " 'F:/data/cruise_data/saildrone/sss/sss_collocations\\\\saildrone-gen_5-atlantic_to_med_2019_to_2020-sd1030-20191018T101200-20200717T134559-1_minutes-v1.1595626086288jplv04.3_filesave4.nc',\n",
       " 'F:/data/cruise_data/saildrone/sss/sss_collocations\\\\saildrone-gen_5-atlantic_to_med_2019_to_2020-sd1030-20191018T101200-20200717T134559-1_minutes-v1.1595626086288rssv04.0_filesave4.nc',\n",
       " 'F:/data/cruise_data/saildrone/sss/sss_collocations\\\\saildrone-gen_5-atlantic_to_med_2019_to_2020-sd1053-20191018T110000-20200717T134559-1_minutes-v1.1595634214633jplv04.3_filesave4.nc',\n",
       " 'F:/data/cruise_data/saildrone/sss/sss_collocations\\\\saildrone-gen_5-atlantic_to_med_2019_to_2020-sd1053-20191018T110000-20200717T134559-1_minutes-v1.1595634214633rssv04.0_filesave4.nc',\n",
       " 'F:/data/cruise_data/saildrone/sss/sss_collocations\\\\saildrone-gen_5-atomic_eurec4a_2020-sd1026-20200117T000000-20200302T235959-1_minutes-v1.1589306725934jplv04.3_filesave4.nc',\n",
       " 'F:/data/cruise_data/saildrone/sss/sss_collocations\\\\saildrone-gen_5-atomic_eurec4a_2020-sd1026-20200117T000000-20200302T235959-1_minutes-v1.1589306725934rssv04.0_filesave4.nc',\n",
       " 'F:/data/cruise_data/saildrone/sss/sss_collocations\\\\saildrone-gen_5-atomic_eurec4a_2020-sd1060-20200117T000000-20200302T235959-1_minutes-v1.1589306886594jplv04.3_filesave4.nc',\n",
       " 'F:/data/cruise_data/saildrone/sss/sss_collocations\\\\saildrone-gen_5-atomic_eurec4a_2020-sd1060-20200117T000000-20200302T235959-1_minutes-v1.1589306886594rssv04.0_filesave4.nc',\n",
       " 'F:/data/cruise_data/saildrone/sss/sss_collocations\\\\saildrone-gen_5-atomic_eurec4a_2020-sd1061-20200117T000000-20200302T235959-1_minutes-v1.1589307121602jplv04.3_filesave4.nc',\n",
       " 'F:/data/cruise_data/saildrone/sss/sss_collocations\\\\saildrone-gen_5-atomic_eurec4a_2020-sd1061-20200117T000000-20200302T235959-1_minutes-v1.1589307121602rssv04.0_filesave4.nc',\n",
       " 'F:/data/cruise_data/saildrone/sss/sss_collocations\\\\saildrone_arctic_2017_sd1001jplv04.3_filesave4.nc',\n",
       " 'F:/data/cruise_data/saildrone/sss/sss_collocations\\\\saildrone_arctic_2017_sd1001rssv04.0_filesave4.nc',\n",
       " 'F:/data/cruise_data/saildrone/sss/sss_collocations\\\\saildrone_arctic_2017_sd1002jplv04.3_filesave4.nc',\n",
       " 'F:/data/cruise_data/saildrone/sss/sss_collocations\\\\saildrone_arctic_2017_sd1002rssv04.0_filesave4.nc',\n",
       " 'F:/data/cruise_data/saildrone/sss/sss_collocations\\\\saildrone_arctic_2017_sd1003jplv04.3_filesave4.nc',\n",
       " 'F:/data/cruise_data/saildrone/sss/sss_collocations\\\\saildrone_arctic_2017_sd1003rssv04.0_filesave4.nc',\n",
       " 'F:/data/cruise_data/saildrone/sss/sss_collocations\\\\saildrone_arctic_sd1033_2019jplv04.3_filesave4.nc',\n",
       " 'F:/data/cruise_data/saildrone/sss/sss_collocations\\\\saildrone_arctic_sd1033_2019rssv04.0_filesave4.nc',\n",
       " 'F:/data/cruise_data/saildrone/sss/sss_collocations\\\\saildrone_arctic_sd1034_2019jplv04.3_filesave4.nc',\n",
       " 'F:/data/cruise_data/saildrone/sss/sss_collocations\\\\saildrone_arctic_sd1034_2019rssv04.0_filesave4.nc',\n",
       " 'F:/data/cruise_data/saildrone/sss/sss_collocations\\\\saildrone_arctic_sd1035_2019jplv04.3_filesave4.nc',\n",
       " 'F:/data/cruise_data/saildrone/sss/sss_collocations\\\\saildrone_arctic_sd1035_2019rssv04.0_filesave4.nc',\n",
       " 'F:/data/cruise_data/saildrone/sss/sss_collocations\\\\saildrone_arctic_sd1041_2019jplv04.3_filesave4.nc',\n",
       " 'F:/data/cruise_data/saildrone/sss/sss_collocations\\\\saildrone_arctic_sd1041_2019rssv04.0_filesave4.nc',\n",
       " 'F:/data/cruise_data/saildrone/sss/sss_collocations\\\\saildrone_tpos_sd1005_2017jplv04.3_filesave4.nc',\n",
       " 'F:/data/cruise_data/saildrone/sss/sss_collocations\\\\saildrone_tpos_sd1005_2017rssv04.0_filesave4.nc',\n",
       " 'F:/data/cruise_data/saildrone/sss/sss_collocations\\\\saildrone_tpos_sd1005_2018jplv04.3_filesave4.nc',\n",
       " 'F:/data/cruise_data/saildrone/sss/sss_collocations\\\\saildrone_tpos_sd1005_2018rssv04.0_filesave4.nc',\n",
       " 'F:/data/cruise_data/saildrone/sss/sss_collocations\\\\saildrone_tpos_sd1006_2017jplv04.3_filesave4.nc',\n",
       " 'F:/data/cruise_data/saildrone/sss/sss_collocations\\\\saildrone_tpos_sd1006_2017rssv04.0_filesave4.nc',\n",
       " 'F:/data/cruise_data/saildrone/sss/sss_collocations\\\\saildrone_tpos_sd1006_2018jplv04.3_filesave4.nc',\n",
       " 'F:/data/cruise_data/saildrone/sss/sss_collocations\\\\saildrone_tpos_sd1006_2018rssv04.0_filesave4.nc',\n",
       " 'F:/data/cruise_data/saildrone/sss/sss_collocations\\\\saildrone_tpos_sd1029_2018jplv04.3_filesave4.nc',\n",
       " 'F:/data/cruise_data/saildrone/sss/sss_collocations\\\\saildrone_tpos_sd1029_2018rssv04.0_filesave4.nc',\n",
       " 'F:/data/cruise_data/saildrone/sss/sss_collocations\\\\saildrone_tpos_sd1030_2018jplv04.3_filesave4.nc',\n",
       " 'F:/data/cruise_data/saildrone/sss/sss_collocations\\\\saildrone_tpos_sd1030_2018rssv04.0_filesave4.nc',\n",
       " 'F:/data/cruise_data/saildrone/sss/sss_collocations\\\\saildrone_tpos_sd1066_2019jplv04.3_filesave4.nc',\n",
       " 'F:/data/cruise_data/saildrone/sss/sss_collocations\\\\saildrone_tpos_sd1066_2019rssv04.0_filesave4.nc',\n",
       " 'F:/data/cruise_data/saildrone/sss/sss_collocations\\\\saildrone_tpos_sd1067_2019jplv04.3_filesave4.nc',\n",
       " 'F:/data/cruise_data/saildrone/sss/sss_collocations\\\\saildrone_tpos_sd1067_2019rssv04.0_filesave4.nc',\n",
       " 'F:/data/cruise_data/saildrone/sss/sss_collocations\\\\saildrone_tpos_sd1068_2019jplv04.3_filesave4.nc',\n",
       " 'F:/data/cruise_data/saildrone/sss/sss_collocations\\\\saildrone_tpos_sd1068_2019rssv04.0_filesave4.nc',\n",
       " 'F:/data/cruise_data/saildrone/sss/sss_collocations\\\\saildrone_tpos_sd1069_2019jplv04.3_filesave4.nc',\n",
       " 'F:/data/cruise_data/saildrone/sss/sss_collocations\\\\saildrone_tpos_sd1069_2019rssv04.0_filesave4.nc',\n",
       " 'F:/data/cruise_data/saildrone/sss/sss_collocations\\\\saildrone_west_coast_survey_2018_sd1024jplv04.3_filesave4.nc',\n",
       " 'F:/data/cruise_data/saildrone/sss/sss_collocations\\\\saildrone_west_coast_survey_2018_sd1024rssv04.0_filesave4.nc',\n",
       " 'F:/data/cruise_data/saildrone/sss/sss_collocations\\\\saildrone_west_coast_survey_2018_sd1025jplv04.3_filesave4.nc',\n",
       " 'F:/data/cruise_data/saildrone/sss/sss_collocations\\\\saildrone_west_coast_survey_2018_sd1025rssv04.0_filesave4.nc',\n",
       " 'F:/data/cruise_data/saildrone/sss/sss_collocations\\\\saildrone_west_coast_survey_2018_sd1026jplv04.3_filesave4.nc',\n",
       " 'F:/data/cruise_data/saildrone/sss/sss_collocations\\\\saildrone_west_coast_survey_2018_sd1026rssv04.0_filesave4.nc',\n",
       " 'F:/data/cruise_data/saildrone/sss/sss_collocations\\\\saildrone_west_coast_survey_2018_sd1027jplv04.3_filesave4.nc',\n",
       " 'F:/data/cruise_data/saildrone/sss/sss_collocations\\\\saildrone_west_coast_survey_2018_sd1027rssv04.0_filesave4.nc',\n",
       " 'F:/data/cruise_data/saildrone/sss/sss_collocations\\\\saildrone_west_coast_survey_2018_sd1028jplv04.3_filesave4.nc',\n",
       " 'F:/data/cruise_data/saildrone/sss/sss_collocations\\\\saildrone_west_coast_survey_2018_sd1028rssv04.0_filesave4.nc',\n",
       " 'F:/data/cruise_data/saildrone/sss/sss_collocations\\\\saildrone_west_coast_survey_2019_sd1038jplv04.3_filesave4.nc',\n",
       " 'F:/data/cruise_data/saildrone/sss/sss_collocations\\\\saildrone_west_coast_survey_2019_sd1038rssv04.0_filesave4.nc',\n",
       " 'F:/data/cruise_data/saildrone/sss/sss_collocations\\\\saildrone_west_coast_survey_2019_sd1039jplv04.3_filesave4.nc',\n",
       " 'F:/data/cruise_data/saildrone/sss/sss_collocations\\\\saildrone_west_coast_survey_2019_sd1039rssv04.0_filesave4.nc',\n",
       " 'F:/data/cruise_data/saildrone/sss/sss_collocations\\\\saildrone_west_coast_survey_2019_sd1040jplv04.3_filesave4.nc',\n",
       " 'F:/data/cruise_data/saildrone/sss/sss_collocations\\\\saildrone_west_coast_survey_2019_sd1040rssv04.0_filesave4.nc',\n",
       " 'F:/data/cruise_data/saildrone/sss/sss_collocations\\\\saildrone_west_coast_survey_2019_sd1043jplv04.3_filesave4.nc',\n",
       " 'F:/data/cruise_data/saildrone/sss/sss_collocations\\\\saildrone_west_coast_survey_2019_sd1043rssv04.0_filesave4.nc',\n",
       " 'F:/data/cruise_data/saildrone/sss/sss_collocations\\\\saildrone_west_coast_survey_2019_sd1044jplv04.3_filesave4.nc',\n",
       " 'F:/data/cruise_data/saildrone/sss/sss_collocations\\\\saildrone_west_coast_survey_2019_sd1044rssv04.0_filesave4.nc',\n",
       " 'F:/data/cruise_data/saildrone/sss/sss_collocations\\\\saildrone_west_coast_survey_2019_sd1045jplv04.3_filesave4.nc',\n",
       " 'F:/data/cruise_data/saildrone/sss/sss_collocations\\\\saildrone_west_coast_survey_2019_sd1045rssv04.0_filesave4.nc',\n",
       " 'F:/data/cruise_data/saildrone/sss/sss_collocations\\\\saildrone_west_coast_survey_2019_sd1046jplv04.3_filesave4.nc',\n",
       " 'F:/data/cruise_data/saildrone/sss/sss_collocations\\\\saildrone_west_coast_survey_2019_sd1046rssv04.0_filesave4.nc',\n",
       " 'F:/data/cruise_data/saildrone/sss/sss_collocations\\\\saildrone_west_coast_survey_2019_sd1047jplv04.3_filesave4.nc',\n",
       " 'F:/data/cruise_data/saildrone/sss/sss_collocations\\\\saildrone_west_coast_survey_2019_sd1047rssv04.0_filesave4.nc']"
      ]
     },
     "execution_count": 2,
     "metadata": {},
     "output_type": "execute_result"
    }
   ],
   "source": [
    "data_dir = 'F:/data/cruise_data/saildrone/sss/sss_collocations/'\n",
    "data_dir_out = 'F:/data/cruise_data/saildrone/sss/sss_collocations_norepeat/'\n",
    "filenames = [x for x in glob(data_dir+'*.nc')]\n",
    "filenames"
   ]
  },
  {
   "cell_type": "code",
   "execution_count": null,
   "metadata": {},
   "outputs": [],
   "source": [
    "loc=['lat','lon']\n",
    "for iname,name in enumerate(filenames):\n",
    "    i = name.find('\\\\')\n",
    "    fout = data_dir_out + name[i+1:-3]+'norep.nc' \n",
    "    ds = xr.open_dataset(name)\n",
    "    ds.close()\n",
    "    \n",
    "    #if lat/lon in coordinates rather than variables move to variables\n",
    "    for cor in ds.coords:\n",
    "        if cor in loc:\n",
    "            ds = ds.reset_coords(cor)\n",
    "    \n"
   ]
  },
  {
   "cell_type": "code",
   "execution_count": null,
   "metadata": {},
   "outputs": [],
   "source": []
  },
  {
   "cell_type": "code",
   "execution_count": null,
   "metadata": {},
   "outputs": [],
   "source": []
  },
  {
   "cell_type": "code",
   "execution_count": null,
   "metadata": {},
   "outputs": [],
   "source": []
  },
  {
   "cell_type": "code",
   "execution_count": null,
   "metadata": {},
   "outputs": [],
   "source": []
  },
  {
   "cell_type": "code",
   "execution_count": null,
   "metadata": {},
   "outputs": [],
   "source": []
  },
  {
   "cell_type": "code",
   "execution_count": null,
   "metadata": {},
   "outputs": [],
   "source": []
  }
 ],
 "metadata": {
  "kernelspec": {
   "display_name": "Python 3",
   "language": "python",
   "name": "python3"
  },
  "language_info": {
   "codemirror_mode": {
    "name": "ipython",
    "version": 3
   },
   "file_extension": ".py",
   "mimetype": "text/x-python",
   "name": "python",
   "nbconvert_exporter": "python",
   "pygments_lexer": "ipython3",
   "version": "3.8.3"
  }
 },
 "nbformat": 4,
 "nbformat_minor": 4
}
