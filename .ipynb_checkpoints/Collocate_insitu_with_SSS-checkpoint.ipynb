{
 "cells": [
  {
   "cell_type": "markdown",
   "metadata": {},
   "source": [
    "# This is the in situ and SSS collocation code. \n"
   ]
  },
  {
   "cell_type": "code",
   "execution_count": 1,
   "metadata": {},
   "outputs": [],
   "source": [
    "import os\n",
    "import numpy as np\n",
    "import matplotlib.pyplot as plt\n",
    "import datetime as dt\n",
    "import xarray as xr\n",
    "import scipy\n",
    "from glob import glob\n",
    "import cartopy.crs as ccrs\n",
    "from pyresample.geometry import AreaDefinition\n",
    "from pyresample import image, geometry, load_area, save_quicklook, SwathDefinition\n",
    "from pyresample.kd_tree import resample_nearest\n",
    "from math import radians, cos, sin, asin, sqrt\n",
    "from scipy import spatial\n"
   ]
  },
  {
   "cell_type": "markdown",
   "metadata": {},
   "source": [
    "# Read in USV data\n",
    "Read in the Saildrone USV file either from a local disc or using OpenDAP.\n",
    "\n"
   ]
  },
  {
   "cell_type": "code",
   "execution_count": 2,
   "metadata": {},
   "outputs": [],
   "source": [
    "#filename_usv='f:/data/cruise_data/saildrone/baja-2018/saildrone-gen_4-baja_2018-sd1002-20180411T180000-20180611T055959-1_minutes-v1.nc'\n",
    "def read_usv():\n",
    "    filename_usv='f:/data/cruise_data/saildrone/baja-2018/saildrone-gen_4-baja_2018-sd1002-20180411T180000-20180611T055959-1_minutes-v1.nc'\n",
    "    ds_usv = xr.open_dataset(filename_usv)\n",
    "    ds_usv.close()\n",
    "    ds_usv = ds_usv.isel(trajectory=0).swap_dims({'obs':'time'}).rename({'longitude':'lon','latitude':'lat'})\n",
    "    ds_usv = ds_usv.sel(time=slice('2018-04-12T02','2018-06-10T18')) #get rid of last part and first part where USV being towed\n",
    "    ds_usv['lon'] = ds_usv.lon.interpolate_na(dim='time',method='linear') #there are 6 nan values\n",
    "    ds_usv['lat'] = ds_usv.lat.interpolate_na(dim='time',method='linear')\n",
    "    ds_usv['wind_speed']=np.sqrt(ds_usv.UWND_MEAN**2+ds_usv.VWND_MEAN**2)\n",
    "    ds_usv['wind_dir']=np.arctan2(ds_usv.VWND_MEAN,ds_usv.UWND_MEAN)*180/np.pi\n",
    "\n",
    "#add room to write collocated data information\n",
    "    ilen = ds_usv.time.shape[0]\n",
    "    ds_usv['deltaT']=xr.DataArray(np.ones(ilen)*999999,coords={'time':ds_usv.time},dims=('time'))\n",
    "    ds_usv['smap_SSS']=xr.DataArray(np.ones(ilen)*999999,coords={'time':ds_usv.time},dims=('time'))\n",
    "    ds_usv['smap_name']=xr.DataArray(np.empty(ilen,dtype=str),coords={'time':ds_usv.time},dims=('time'))\n",
    "    ds_usv['smap_ydim']=xr.DataArray(np.ones(ilen)*999999,coords={'time':ds_usv.time},dims=('time'))\n",
    "    ds_usv['smap_xdim']=xr.DataArray(np.ones(ilen)*999999,coords={'time':ds_usv.time},dims=('time'))\n",
    "    ds_usv['smap_iqc_flag']=xr.DataArray(np.ones(ilen)*999999,coords={'time':ds_usv.time},dims=('time'))\n",
    "\n",
    "    return ds_usv"
   ]
  },
  {
   "cell_type": "markdown",
   "metadata": {},
   "source": [
    "## Here is the search code first step.  Narrow down what orbital files to search in"
   ]
  },
  {
   "cell_type": "code",
   "execution_count": 3,
   "metadata": {
    "scrolled": true
   },
   "outputs": [
    {
     "name": "stdout",
     "output_type": "stream",
     "text": [
      "2018-04-12T02:00:00.000000000 2018-06-10T18:59:00.000000000\n",
      "2018-04-13 2018-04-14 1441\n"
     ]
    },
    {
     "name": "stderr",
     "output_type": "stream",
     "text": [
      "C:\\Users\\gentemann\\Miniconda3\\envs\\satenv\\lib\\site-packages\\ipykernel_launcher.py:39: RuntimeWarning: invalid value encountered in remainder\n",
      "C:\\Users\\gentemann\\Miniconda3\\envs\\satenv\\lib\\site-packages\\pyresample\\kd_tree.py:411: RuntimeWarning: invalid value encountered in greater_equal\n",
      "  (source_lats <= 90) & (source_lats >= -90))\n",
      "C:\\Users\\gentemann\\Miniconda3\\envs\\satenv\\lib\\site-packages\\pyresample\\kd_tree.py:411: RuntimeWarning: invalid value encountered in less_equal\n",
      "  (source_lats <= 90) & (source_lats >= -90))\n",
      "C:\\Users\\gentemann\\Miniconda3\\envs\\satenv\\lib\\site-packages\\pyresample\\data_reduce.py:304: RuntimeWarning: invalid value encountered in greater_equal\n",
      "  valid_lats = (lats >= lat_min_buffered) * (lats <= lat_max_buffered)\n",
      "C:\\Users\\gentemann\\Miniconda3\\envs\\satenv\\lib\\site-packages\\pyresample\\data_reduce.py:304: RuntimeWarning: invalid value encountered in less_equal\n",
      "  valid_lats = (lats >= lat_min_buffered) * (lats <= lat_max_buffered)\n",
      "C:\\Users\\gentemann\\Miniconda3\\envs\\satenv\\lib\\site-packages\\pyresample\\data_reduce.py:308: RuntimeWarning: invalid value encountered in greater_equal\n",
      "  valid_lons = (lons >= lon_min_buffered) * \\\n",
      "C:\\Users\\gentemann\\Miniconda3\\envs\\satenv\\lib\\site-packages\\pyresample\\data_reduce.py:309: RuntimeWarning: invalid value encountered in less_equal\n",
      "  (lons <= lon_max_buffered)\n"
     ]
    },
    {
     "name": "stdout",
     "output_type": "stream",
     "text": [
      "2018-04-14 2018-04-15 1441\n"
     ]
    },
    {
     "name": "stderr",
     "output_type": "stream",
     "text": [
      "C:\\Users\\gentemann\\Miniconda3\\envs\\satenv\\lib\\site-packages\\ipykernel_launcher.py:39: RuntimeWarning: invalid value encountered in remainder\n",
      "C:\\Users\\gentemann\\Miniconda3\\envs\\satenv\\lib\\site-packages\\pyresample\\kd_tree.py:411: RuntimeWarning: invalid value encountered in greater_equal\n",
      "  (source_lats <= 90) & (source_lats >= -90))\n",
      "C:\\Users\\gentemann\\Miniconda3\\envs\\satenv\\lib\\site-packages\\pyresample\\kd_tree.py:411: RuntimeWarning: invalid value encountered in less_equal\n",
      "  (source_lats <= 90) & (source_lats >= -90))\n",
      "C:\\Users\\gentemann\\Miniconda3\\envs\\satenv\\lib\\site-packages\\pyresample\\data_reduce.py:304: RuntimeWarning: invalid value encountered in greater_equal\n",
      "  valid_lats = (lats >= lat_min_buffered) * (lats <= lat_max_buffered)\n",
      "C:\\Users\\gentemann\\Miniconda3\\envs\\satenv\\lib\\site-packages\\pyresample\\data_reduce.py:304: RuntimeWarning: invalid value encountered in less_equal\n",
      "  valid_lats = (lats >= lat_min_buffered) * (lats <= lat_max_buffered)\n",
      "C:\\Users\\gentemann\\Miniconda3\\envs\\satenv\\lib\\site-packages\\pyresample\\data_reduce.py:308: RuntimeWarning: invalid value encountered in greater_equal\n",
      "  valid_lons = (lons >= lon_min_buffered) * \\\n",
      "C:\\Users\\gentemann\\Miniconda3\\envs\\satenv\\lib\\site-packages\\pyresample\\data_reduce.py:309: RuntimeWarning: invalid value encountered in less_equal\n",
      "  (lons <= lon_max_buffered)\n"
     ]
    },
    {
     "name": "stdout",
     "output_type": "stream",
     "text": [
      "2018-04-15 2018-04-16 1441\n"
     ]
    },
    {
     "name": "stderr",
     "output_type": "stream",
     "text": [
      "C:\\Users\\gentemann\\Miniconda3\\envs\\satenv\\lib\\site-packages\\ipykernel_launcher.py:39: RuntimeWarning: invalid value encountered in remainder\n",
      "C:\\Users\\gentemann\\Miniconda3\\envs\\satenv\\lib\\site-packages\\pyresample\\kd_tree.py:411: RuntimeWarning: invalid value encountered in greater_equal\n",
      "  (source_lats <= 90) & (source_lats >= -90))\n",
      "C:\\Users\\gentemann\\Miniconda3\\envs\\satenv\\lib\\site-packages\\pyresample\\kd_tree.py:411: RuntimeWarning: invalid value encountered in less_equal\n",
      "  (source_lats <= 90) & (source_lats >= -90))\n",
      "C:\\Users\\gentemann\\Miniconda3\\envs\\satenv\\lib\\site-packages\\pyresample\\data_reduce.py:304: RuntimeWarning: invalid value encountered in greater_equal\n",
      "  valid_lats = (lats >= lat_min_buffered) * (lats <= lat_max_buffered)\n",
      "C:\\Users\\gentemann\\Miniconda3\\envs\\satenv\\lib\\site-packages\\pyresample\\data_reduce.py:304: RuntimeWarning: invalid value encountered in less_equal\n",
      "  valid_lats = (lats >= lat_min_buffered) * (lats <= lat_max_buffered)\n",
      "C:\\Users\\gentemann\\Miniconda3\\envs\\satenv\\lib\\site-packages\\pyresample\\data_reduce.py:308: RuntimeWarning: invalid value encountered in greater_equal\n",
      "  valid_lons = (lons >= lon_min_buffered) * \\\n",
      "C:\\Users\\gentemann\\Miniconda3\\envs\\satenv\\lib\\site-packages\\pyresample\\data_reduce.py:309: RuntimeWarning: invalid value encountered in less_equal\n",
      "  (lons <= lon_max_buffered)\n"
     ]
    },
    {
     "name": "stdout",
     "output_type": "stream",
     "text": [
      "2018-04-16 2018-04-17 1441\n"
     ]
    },
    {
     "name": "stderr",
     "output_type": "stream",
     "text": [
      "C:\\Users\\gentemann\\Miniconda3\\envs\\satenv\\lib\\site-packages\\ipykernel_launcher.py:39: RuntimeWarning: invalid value encountered in remainder\n",
      "C:\\Users\\gentemann\\Miniconda3\\envs\\satenv\\lib\\site-packages\\pyresample\\kd_tree.py:411: RuntimeWarning: invalid value encountered in greater_equal\n",
      "  (source_lats <= 90) & (source_lats >= -90))\n",
      "C:\\Users\\gentemann\\Miniconda3\\envs\\satenv\\lib\\site-packages\\pyresample\\kd_tree.py:411: RuntimeWarning: invalid value encountered in less_equal\n",
      "  (source_lats <= 90) & (source_lats >= -90))\n",
      "C:\\Users\\gentemann\\Miniconda3\\envs\\satenv\\lib\\site-packages\\pyresample\\data_reduce.py:304: RuntimeWarning: invalid value encountered in greater_equal\n",
      "  valid_lats = (lats >= lat_min_buffered) * (lats <= lat_max_buffered)\n",
      "C:\\Users\\gentemann\\Miniconda3\\envs\\satenv\\lib\\site-packages\\pyresample\\data_reduce.py:304: RuntimeWarning: invalid value encountered in less_equal\n",
      "  valid_lats = (lats >= lat_min_buffered) * (lats <= lat_max_buffered)\n",
      "C:\\Users\\gentemann\\Miniconda3\\envs\\satenv\\lib\\site-packages\\pyresample\\data_reduce.py:308: RuntimeWarning: invalid value encountered in greater_equal\n",
      "  valid_lons = (lons >= lon_min_buffered) * \\\n",
      "C:\\Users\\gentemann\\Miniconda3\\envs\\satenv\\lib\\site-packages\\pyresample\\data_reduce.py:309: RuntimeWarning: invalid value encountered in less_equal\n",
      "  (lons <= lon_max_buffered)\n"
     ]
    },
    {
     "name": "stdout",
     "output_type": "stream",
     "text": [
      "2018-04-17 2018-04-18 1441\n"
     ]
    },
    {
     "name": "stderr",
     "output_type": "stream",
     "text": [
      "C:\\Users\\gentemann\\Miniconda3\\envs\\satenv\\lib\\site-packages\\ipykernel_launcher.py:39: RuntimeWarning: invalid value encountered in remainder\n",
      "C:\\Users\\gentemann\\Miniconda3\\envs\\satenv\\lib\\site-packages\\pyresample\\kd_tree.py:411: RuntimeWarning: invalid value encountered in greater_equal\n",
      "  (source_lats <= 90) & (source_lats >= -90))\n",
      "C:\\Users\\gentemann\\Miniconda3\\envs\\satenv\\lib\\site-packages\\pyresample\\kd_tree.py:411: RuntimeWarning: invalid value encountered in less_equal\n",
      "  (source_lats <= 90) & (source_lats >= -90))\n",
      "C:\\Users\\gentemann\\Miniconda3\\envs\\satenv\\lib\\site-packages\\pyresample\\data_reduce.py:304: RuntimeWarning: invalid value encountered in greater_equal\n",
      "  valid_lats = (lats >= lat_min_buffered) * (lats <= lat_max_buffered)\n",
      "C:\\Users\\gentemann\\Miniconda3\\envs\\satenv\\lib\\site-packages\\pyresample\\data_reduce.py:304: RuntimeWarning: invalid value encountered in less_equal\n",
      "  valid_lats = (lats >= lat_min_buffered) * (lats <= lat_max_buffered)\n",
      "C:\\Users\\gentemann\\Miniconda3\\envs\\satenv\\lib\\site-packages\\pyresample\\data_reduce.py:308: RuntimeWarning: invalid value encountered in greater_equal\n",
      "  valid_lons = (lons >= lon_min_buffered) * \\\n",
      "C:\\Users\\gentemann\\Miniconda3\\envs\\satenv\\lib\\site-packages\\pyresample\\data_reduce.py:309: RuntimeWarning: invalid value encountered in less_equal\n",
      "  (lons <= lon_max_buffered)\n"
     ]
    },
    {
     "name": "stdout",
     "output_type": "stream",
     "text": [
      "2018-04-18 2018-04-19 1441\n"
     ]
    },
    {
     "name": "stderr",
     "output_type": "stream",
     "text": [
      "C:\\Users\\gentemann\\Miniconda3\\envs\\satenv\\lib\\site-packages\\ipykernel_launcher.py:39: RuntimeWarning: invalid value encountered in remainder\n",
      "C:\\Users\\gentemann\\Miniconda3\\envs\\satenv\\lib\\site-packages\\pyresample\\kd_tree.py:411: RuntimeWarning: invalid value encountered in greater_equal\n",
      "  (source_lats <= 90) & (source_lats >= -90))\n",
      "C:\\Users\\gentemann\\Miniconda3\\envs\\satenv\\lib\\site-packages\\pyresample\\kd_tree.py:411: RuntimeWarning: invalid value encountered in less_equal\n",
      "  (source_lats <= 90) & (source_lats >= -90))\n",
      "C:\\Users\\gentemann\\Miniconda3\\envs\\satenv\\lib\\site-packages\\pyresample\\data_reduce.py:304: RuntimeWarning: invalid value encountered in greater_equal\n",
      "  valid_lats = (lats >= lat_min_buffered) * (lats <= lat_max_buffered)\n",
      "C:\\Users\\gentemann\\Miniconda3\\envs\\satenv\\lib\\site-packages\\pyresample\\data_reduce.py:304: RuntimeWarning: invalid value encountered in less_equal\n",
      "  valid_lats = (lats >= lat_min_buffered) * (lats <= lat_max_buffered)\n",
      "C:\\Users\\gentemann\\Miniconda3\\envs\\satenv\\lib\\site-packages\\pyresample\\data_reduce.py:308: RuntimeWarning: invalid value encountered in greater_equal\n",
      "  valid_lons = (lons >= lon_min_buffered) * \\\n",
      "C:\\Users\\gentemann\\Miniconda3\\envs\\satenv\\lib\\site-packages\\pyresample\\data_reduce.py:309: RuntimeWarning: invalid value encountered in less_equal\n",
      "  (lons <= lon_max_buffered)\n"
     ]
    },
    {
     "name": "stdout",
     "output_type": "stream",
     "text": [
      "2018-04-19 2018-04-20 1441\n"
     ]
    },
    {
     "name": "stderr",
     "output_type": "stream",
     "text": [
      "C:\\Users\\gentemann\\Miniconda3\\envs\\satenv\\lib\\site-packages\\ipykernel_launcher.py:39: RuntimeWarning: invalid value encountered in remainder\n",
      "C:\\Users\\gentemann\\Miniconda3\\envs\\satenv\\lib\\site-packages\\pyresample\\kd_tree.py:411: RuntimeWarning: invalid value encountered in greater_equal\n",
      "  (source_lats <= 90) & (source_lats >= -90))\n",
      "C:\\Users\\gentemann\\Miniconda3\\envs\\satenv\\lib\\site-packages\\pyresample\\kd_tree.py:411: RuntimeWarning: invalid value encountered in less_equal\n",
      "  (source_lats <= 90) & (source_lats >= -90))\n",
      "C:\\Users\\gentemann\\Miniconda3\\envs\\satenv\\lib\\site-packages\\pyresample\\data_reduce.py:304: RuntimeWarning: invalid value encountered in greater_equal\n",
      "  valid_lats = (lats >= lat_min_buffered) * (lats <= lat_max_buffered)\n",
      "C:\\Users\\gentemann\\Miniconda3\\envs\\satenv\\lib\\site-packages\\pyresample\\data_reduce.py:304: RuntimeWarning: invalid value encountered in less_equal\n",
      "  valid_lats = (lats >= lat_min_buffered) * (lats <= lat_max_buffered)\n",
      "C:\\Users\\gentemann\\Miniconda3\\envs\\satenv\\lib\\site-packages\\pyresample\\data_reduce.py:308: RuntimeWarning: invalid value encountered in greater_equal\n",
      "  valid_lons = (lons >= lon_min_buffered) * \\\n",
      "C:\\Users\\gentemann\\Miniconda3\\envs\\satenv\\lib\\site-packages\\pyresample\\data_reduce.py:309: RuntimeWarning: invalid value encountered in less_equal\n",
      "  (lons <= lon_max_buffered)\n"
     ]
    },
    {
     "name": "stdout",
     "output_type": "stream",
     "text": [
      "2018-04-20 2018-04-21 1441\n"
     ]
    },
    {
     "name": "stderr",
     "output_type": "stream",
     "text": [
      "C:\\Users\\gentemann\\Miniconda3\\envs\\satenv\\lib\\site-packages\\ipykernel_launcher.py:39: RuntimeWarning: invalid value encountered in remainder\n",
      "C:\\Users\\gentemann\\Miniconda3\\envs\\satenv\\lib\\site-packages\\pyresample\\kd_tree.py:411: RuntimeWarning: invalid value encountered in greater_equal\n",
      "  (source_lats <= 90) & (source_lats >= -90))\n",
      "C:\\Users\\gentemann\\Miniconda3\\envs\\satenv\\lib\\site-packages\\pyresample\\kd_tree.py:411: RuntimeWarning: invalid value encountered in less_equal\n",
      "  (source_lats <= 90) & (source_lats >= -90))\n",
      "C:\\Users\\gentemann\\Miniconda3\\envs\\satenv\\lib\\site-packages\\pyresample\\data_reduce.py:304: RuntimeWarning: invalid value encountered in greater_equal\n",
      "  valid_lats = (lats >= lat_min_buffered) * (lats <= lat_max_buffered)\n",
      "C:\\Users\\gentemann\\Miniconda3\\envs\\satenv\\lib\\site-packages\\pyresample\\data_reduce.py:304: RuntimeWarning: invalid value encountered in less_equal\n",
      "  valid_lats = (lats >= lat_min_buffered) * (lats <= lat_max_buffered)\n",
      "C:\\Users\\gentemann\\Miniconda3\\envs\\satenv\\lib\\site-packages\\pyresample\\data_reduce.py:308: RuntimeWarning: invalid value encountered in greater_equal\n",
      "  valid_lons = (lons >= lon_min_buffered) * \\\n",
      "C:\\Users\\gentemann\\Miniconda3\\envs\\satenv\\lib\\site-packages\\pyresample\\data_reduce.py:309: RuntimeWarning: invalid value encountered in less_equal\n",
      "  (lons <= lon_max_buffered)\n"
     ]
    },
    {
     "name": "stdout",
     "output_type": "stream",
     "text": [
      "2018-04-21 2018-04-22 1441\n"
     ]
    },
    {
     "name": "stderr",
     "output_type": "stream",
     "text": [
      "C:\\Users\\gentemann\\Miniconda3\\envs\\satenv\\lib\\site-packages\\ipykernel_launcher.py:39: RuntimeWarning: invalid value encountered in remainder\n",
      "C:\\Users\\gentemann\\Miniconda3\\envs\\satenv\\lib\\site-packages\\pyresample\\kd_tree.py:411: RuntimeWarning: invalid value encountered in greater_equal\n",
      "  (source_lats <= 90) & (source_lats >= -90))\n",
      "C:\\Users\\gentemann\\Miniconda3\\envs\\satenv\\lib\\site-packages\\pyresample\\kd_tree.py:411: RuntimeWarning: invalid value encountered in less_equal\n",
      "  (source_lats <= 90) & (source_lats >= -90))\n",
      "C:\\Users\\gentemann\\Miniconda3\\envs\\satenv\\lib\\site-packages\\pyresample\\data_reduce.py:304: RuntimeWarning: invalid value encountered in greater_equal\n",
      "  valid_lats = (lats >= lat_min_buffered) * (lats <= lat_max_buffered)\n",
      "C:\\Users\\gentemann\\Miniconda3\\envs\\satenv\\lib\\site-packages\\pyresample\\data_reduce.py:304: RuntimeWarning: invalid value encountered in less_equal\n",
      "  valid_lats = (lats >= lat_min_buffered) * (lats <= lat_max_buffered)\n",
      "C:\\Users\\gentemann\\Miniconda3\\envs\\satenv\\lib\\site-packages\\pyresample\\data_reduce.py:308: RuntimeWarning: invalid value encountered in greater_equal\n",
      "  valid_lons = (lons >= lon_min_buffered) * \\\n",
      "C:\\Users\\gentemann\\Miniconda3\\envs\\satenv\\lib\\site-packages\\pyresample\\data_reduce.py:309: RuntimeWarning: invalid value encountered in less_equal\n",
      "  (lons <= lon_max_buffered)\n"
     ]
    },
    {
     "name": "stdout",
     "output_type": "stream",
     "text": [
      "2018-04-22 2018-04-23 1441\n"
     ]
    },
    {
     "name": "stderr",
     "output_type": "stream",
     "text": [
      "C:\\Users\\gentemann\\Miniconda3\\envs\\satenv\\lib\\site-packages\\ipykernel_launcher.py:39: RuntimeWarning: invalid value encountered in remainder\n",
      "C:\\Users\\gentemann\\Miniconda3\\envs\\satenv\\lib\\site-packages\\pyresample\\kd_tree.py:411: RuntimeWarning: invalid value encountered in greater_equal\n",
      "  (source_lats <= 90) & (source_lats >= -90))\n",
      "C:\\Users\\gentemann\\Miniconda3\\envs\\satenv\\lib\\site-packages\\pyresample\\kd_tree.py:411: RuntimeWarning: invalid value encountered in less_equal\n",
      "  (source_lats <= 90) & (source_lats >= -90))\n",
      "C:\\Users\\gentemann\\Miniconda3\\envs\\satenv\\lib\\site-packages\\pyresample\\data_reduce.py:304: RuntimeWarning: invalid value encountered in greater_equal\n",
      "  valid_lats = (lats >= lat_min_buffered) * (lats <= lat_max_buffered)\n",
      "C:\\Users\\gentemann\\Miniconda3\\envs\\satenv\\lib\\site-packages\\pyresample\\data_reduce.py:304: RuntimeWarning: invalid value encountered in less_equal\n",
      "  valid_lats = (lats >= lat_min_buffered) * (lats <= lat_max_buffered)\n",
      "C:\\Users\\gentemann\\Miniconda3\\envs\\satenv\\lib\\site-packages\\pyresample\\data_reduce.py:308: RuntimeWarning: invalid value encountered in greater_equal\n",
      "  valid_lons = (lons >= lon_min_buffered) * \\\n",
      "C:\\Users\\gentemann\\Miniconda3\\envs\\satenv\\lib\\site-packages\\pyresample\\data_reduce.py:309: RuntimeWarning: invalid value encountered in less_equal\n",
      "  (lons <= lon_max_buffered)\n"
     ]
    },
    {
     "name": "stdout",
     "output_type": "stream",
     "text": [
      "2018-04-23 2018-04-24 1441\n"
     ]
    },
    {
     "name": "stderr",
     "output_type": "stream",
     "text": [
      "C:\\Users\\gentemann\\Miniconda3\\envs\\satenv\\lib\\site-packages\\ipykernel_launcher.py:39: RuntimeWarning: invalid value encountered in remainder\n",
      "C:\\Users\\gentemann\\Miniconda3\\envs\\satenv\\lib\\site-packages\\pyresample\\kd_tree.py:411: RuntimeWarning: invalid value encountered in greater_equal\n",
      "  (source_lats <= 90) & (source_lats >= -90))\n",
      "C:\\Users\\gentemann\\Miniconda3\\envs\\satenv\\lib\\site-packages\\pyresample\\kd_tree.py:411: RuntimeWarning: invalid value encountered in less_equal\n",
      "  (source_lats <= 90) & (source_lats >= -90))\n",
      "C:\\Users\\gentemann\\Miniconda3\\envs\\satenv\\lib\\site-packages\\pyresample\\data_reduce.py:304: RuntimeWarning: invalid value encountered in greater_equal\n",
      "  valid_lats = (lats >= lat_min_buffered) * (lats <= lat_max_buffered)\n",
      "C:\\Users\\gentemann\\Miniconda3\\envs\\satenv\\lib\\site-packages\\pyresample\\data_reduce.py:304: RuntimeWarning: invalid value encountered in less_equal\n",
      "  valid_lats = (lats >= lat_min_buffered) * (lats <= lat_max_buffered)\n",
      "C:\\Users\\gentemann\\Miniconda3\\envs\\satenv\\lib\\site-packages\\pyresample\\data_reduce.py:308: RuntimeWarning: invalid value encountered in greater_equal\n",
      "  valid_lons = (lons >= lon_min_buffered) * \\\n",
      "C:\\Users\\gentemann\\Miniconda3\\envs\\satenv\\lib\\site-packages\\pyresample\\data_reduce.py:309: RuntimeWarning: invalid value encountered in less_equal\n",
      "  (lons <= lon_max_buffered)\n"
     ]
    },
    {
     "name": "stdout",
     "output_type": "stream",
     "text": [
      "2018-04-24 2018-04-25 1441\n"
     ]
    },
    {
     "name": "stderr",
     "output_type": "stream",
     "text": [
      "C:\\Users\\gentemann\\Miniconda3\\envs\\satenv\\lib\\site-packages\\ipykernel_launcher.py:39: RuntimeWarning: invalid value encountered in remainder\n",
      "C:\\Users\\gentemann\\Miniconda3\\envs\\satenv\\lib\\site-packages\\pyresample\\kd_tree.py:411: RuntimeWarning: invalid value encountered in greater_equal\n",
      "  (source_lats <= 90) & (source_lats >= -90))\n",
      "C:\\Users\\gentemann\\Miniconda3\\envs\\satenv\\lib\\site-packages\\pyresample\\kd_tree.py:411: RuntimeWarning: invalid value encountered in less_equal\n",
      "  (source_lats <= 90) & (source_lats >= -90))\n",
      "C:\\Users\\gentemann\\Miniconda3\\envs\\satenv\\lib\\site-packages\\pyresample\\data_reduce.py:304: RuntimeWarning: invalid value encountered in greater_equal\n",
      "  valid_lats = (lats >= lat_min_buffered) * (lats <= lat_max_buffered)\n",
      "C:\\Users\\gentemann\\Miniconda3\\envs\\satenv\\lib\\site-packages\\pyresample\\data_reduce.py:304: RuntimeWarning: invalid value encountered in less_equal\n",
      "  valid_lats = (lats >= lat_min_buffered) * (lats <= lat_max_buffered)\n",
      "C:\\Users\\gentemann\\Miniconda3\\envs\\satenv\\lib\\site-packages\\pyresample\\data_reduce.py:308: RuntimeWarning: invalid value encountered in greater_equal\n",
      "  valid_lons = (lons >= lon_min_buffered) * \\\n",
      "C:\\Users\\gentemann\\Miniconda3\\envs\\satenv\\lib\\site-packages\\pyresample\\data_reduce.py:309: RuntimeWarning: invalid value encountered in less_equal\n",
      "  (lons <= lon_max_buffered)\n"
     ]
    },
    {
     "name": "stdout",
     "output_type": "stream",
     "text": [
      "2018-04-25 2018-04-26 1441\n"
     ]
    },
    {
     "name": "stderr",
     "output_type": "stream",
     "text": [
      "C:\\Users\\gentemann\\Miniconda3\\envs\\satenv\\lib\\site-packages\\ipykernel_launcher.py:39: RuntimeWarning: invalid value encountered in remainder\n",
      "C:\\Users\\gentemann\\Miniconda3\\envs\\satenv\\lib\\site-packages\\pyresample\\kd_tree.py:411: RuntimeWarning: invalid value encountered in greater_equal\n",
      "  (source_lats <= 90) & (source_lats >= -90))\n",
      "C:\\Users\\gentemann\\Miniconda3\\envs\\satenv\\lib\\site-packages\\pyresample\\kd_tree.py:411: RuntimeWarning: invalid value encountered in less_equal\n",
      "  (source_lats <= 90) & (source_lats >= -90))\n",
      "C:\\Users\\gentemann\\Miniconda3\\envs\\satenv\\lib\\site-packages\\pyresample\\data_reduce.py:304: RuntimeWarning: invalid value encountered in greater_equal\n",
      "  valid_lats = (lats >= lat_min_buffered) * (lats <= lat_max_buffered)\n",
      "C:\\Users\\gentemann\\Miniconda3\\envs\\satenv\\lib\\site-packages\\pyresample\\data_reduce.py:304: RuntimeWarning: invalid value encountered in less_equal\n",
      "  valid_lats = (lats >= lat_min_buffered) * (lats <= lat_max_buffered)\n",
      "C:\\Users\\gentemann\\Miniconda3\\envs\\satenv\\lib\\site-packages\\pyresample\\data_reduce.py:308: RuntimeWarning: invalid value encountered in greater_equal\n",
      "  valid_lons = (lons >= lon_min_buffered) * \\\n",
      "C:\\Users\\gentemann\\Miniconda3\\envs\\satenv\\lib\\site-packages\\pyresample\\data_reduce.py:309: RuntimeWarning: invalid value encountered in less_equal\n",
      "  (lons <= lon_max_buffered)\n"
     ]
    },
    {
     "name": "stdout",
     "output_type": "stream",
     "text": [
      "2018-04-26 2018-04-27 1441\n"
     ]
    },
    {
     "name": "stderr",
     "output_type": "stream",
     "text": [
      "C:\\Users\\gentemann\\Miniconda3\\envs\\satenv\\lib\\site-packages\\ipykernel_launcher.py:39: RuntimeWarning: invalid value encountered in remainder\n",
      "C:\\Users\\gentemann\\Miniconda3\\envs\\satenv\\lib\\site-packages\\pyresample\\kd_tree.py:411: RuntimeWarning: invalid value encountered in greater_equal\n",
      "  (source_lats <= 90) & (source_lats >= -90))\n",
      "C:\\Users\\gentemann\\Miniconda3\\envs\\satenv\\lib\\site-packages\\pyresample\\kd_tree.py:411: RuntimeWarning: invalid value encountered in less_equal\n",
      "  (source_lats <= 90) & (source_lats >= -90))\n",
      "C:\\Users\\gentemann\\Miniconda3\\envs\\satenv\\lib\\site-packages\\pyresample\\data_reduce.py:304: RuntimeWarning: invalid value encountered in greater_equal\n",
      "  valid_lats = (lats >= lat_min_buffered) * (lats <= lat_max_buffered)\n",
      "C:\\Users\\gentemann\\Miniconda3\\envs\\satenv\\lib\\site-packages\\pyresample\\data_reduce.py:304: RuntimeWarning: invalid value encountered in less_equal\n",
      "  valid_lats = (lats >= lat_min_buffered) * (lats <= lat_max_buffered)\n",
      "C:\\Users\\gentemann\\Miniconda3\\envs\\satenv\\lib\\site-packages\\pyresample\\data_reduce.py:308: RuntimeWarning: invalid value encountered in greater_equal\n",
      "  valid_lons = (lons >= lon_min_buffered) * \\\n",
      "C:\\Users\\gentemann\\Miniconda3\\envs\\satenv\\lib\\site-packages\\pyresample\\data_reduce.py:309: RuntimeWarning: invalid value encountered in less_equal\n",
      "  (lons <= lon_max_buffered)\n"
     ]
    },
    {
     "name": "stdout",
     "output_type": "stream",
     "text": [
      "2018-04-27 2018-04-28 1441\n"
     ]
    },
    {
     "name": "stderr",
     "output_type": "stream",
     "text": [
      "C:\\Users\\gentemann\\Miniconda3\\envs\\satenv\\lib\\site-packages\\ipykernel_launcher.py:39: RuntimeWarning: invalid value encountered in remainder\n",
      "C:\\Users\\gentemann\\Miniconda3\\envs\\satenv\\lib\\site-packages\\pyresample\\kd_tree.py:411: RuntimeWarning: invalid value encountered in greater_equal\n",
      "  (source_lats <= 90) & (source_lats >= -90))\n",
      "C:\\Users\\gentemann\\Miniconda3\\envs\\satenv\\lib\\site-packages\\pyresample\\kd_tree.py:411: RuntimeWarning: invalid value encountered in less_equal\n",
      "  (source_lats <= 90) & (source_lats >= -90))\n",
      "C:\\Users\\gentemann\\Miniconda3\\envs\\satenv\\lib\\site-packages\\pyresample\\data_reduce.py:304: RuntimeWarning: invalid value encountered in greater_equal\n",
      "  valid_lats = (lats >= lat_min_buffered) * (lats <= lat_max_buffered)\n",
      "C:\\Users\\gentemann\\Miniconda3\\envs\\satenv\\lib\\site-packages\\pyresample\\data_reduce.py:304: RuntimeWarning: invalid value encountered in less_equal\n",
      "  valid_lats = (lats >= lat_min_buffered) * (lats <= lat_max_buffered)\n",
      "C:\\Users\\gentemann\\Miniconda3\\envs\\satenv\\lib\\site-packages\\pyresample\\data_reduce.py:308: RuntimeWarning: invalid value encountered in greater_equal\n",
      "  valid_lons = (lons >= lon_min_buffered) * \\\n",
      "C:\\Users\\gentemann\\Miniconda3\\envs\\satenv\\lib\\site-packages\\pyresample\\data_reduce.py:309: RuntimeWarning: invalid value encountered in less_equal\n",
      "  (lons <= lon_max_buffered)\n"
     ]
    },
    {
     "name": "stdout",
     "output_type": "stream",
     "text": [
      "2018-04-28 2018-04-29 1441\n"
     ]
    },
    {
     "name": "stderr",
     "output_type": "stream",
     "text": [
      "C:\\Users\\gentemann\\Miniconda3\\envs\\satenv\\lib\\site-packages\\ipykernel_launcher.py:39: RuntimeWarning: invalid value encountered in remainder\n",
      "C:\\Users\\gentemann\\Miniconda3\\envs\\satenv\\lib\\site-packages\\pyresample\\kd_tree.py:411: RuntimeWarning: invalid value encountered in greater_equal\n",
      "  (source_lats <= 90) & (source_lats >= -90))\n",
      "C:\\Users\\gentemann\\Miniconda3\\envs\\satenv\\lib\\site-packages\\pyresample\\kd_tree.py:411: RuntimeWarning: invalid value encountered in less_equal\n",
      "  (source_lats <= 90) & (source_lats >= -90))\n",
      "C:\\Users\\gentemann\\Miniconda3\\envs\\satenv\\lib\\site-packages\\pyresample\\data_reduce.py:304: RuntimeWarning: invalid value encountered in greater_equal\n",
      "  valid_lats = (lats >= lat_min_buffered) * (lats <= lat_max_buffered)\n",
      "C:\\Users\\gentemann\\Miniconda3\\envs\\satenv\\lib\\site-packages\\pyresample\\data_reduce.py:304: RuntimeWarning: invalid value encountered in less_equal\n",
      "  valid_lats = (lats >= lat_min_buffered) * (lats <= lat_max_buffered)\n",
      "C:\\Users\\gentemann\\Miniconda3\\envs\\satenv\\lib\\site-packages\\pyresample\\data_reduce.py:308: RuntimeWarning: invalid value encountered in greater_equal\n",
      "  valid_lons = (lons >= lon_min_buffered) * \\\n",
      "C:\\Users\\gentemann\\Miniconda3\\envs\\satenv\\lib\\site-packages\\pyresample\\data_reduce.py:309: RuntimeWarning: invalid value encountered in less_equal\n",
      "  (lons <= lon_max_buffered)\n"
     ]
    },
    {
     "name": "stdout",
     "output_type": "stream",
     "text": [
      "2018-04-29 2018-04-30 1441\n"
     ]
    },
    {
     "name": "stderr",
     "output_type": "stream",
     "text": [
      "C:\\Users\\gentemann\\Miniconda3\\envs\\satenv\\lib\\site-packages\\ipykernel_launcher.py:39: RuntimeWarning: invalid value encountered in remainder\n",
      "C:\\Users\\gentemann\\Miniconda3\\envs\\satenv\\lib\\site-packages\\pyresample\\kd_tree.py:411: RuntimeWarning: invalid value encountered in greater_equal\n",
      "  (source_lats <= 90) & (source_lats >= -90))\n",
      "C:\\Users\\gentemann\\Miniconda3\\envs\\satenv\\lib\\site-packages\\pyresample\\kd_tree.py:411: RuntimeWarning: invalid value encountered in less_equal\n",
      "  (source_lats <= 90) & (source_lats >= -90))\n",
      "C:\\Users\\gentemann\\Miniconda3\\envs\\satenv\\lib\\site-packages\\pyresample\\data_reduce.py:304: RuntimeWarning: invalid value encountered in greater_equal\n",
      "  valid_lats = (lats >= lat_min_buffered) * (lats <= lat_max_buffered)\n",
      "C:\\Users\\gentemann\\Miniconda3\\envs\\satenv\\lib\\site-packages\\pyresample\\data_reduce.py:304: RuntimeWarning: invalid value encountered in less_equal\n",
      "  valid_lats = (lats >= lat_min_buffered) * (lats <= lat_max_buffered)\n",
      "C:\\Users\\gentemann\\Miniconda3\\envs\\satenv\\lib\\site-packages\\pyresample\\data_reduce.py:308: RuntimeWarning: invalid value encountered in greater_equal\n",
      "  valid_lons = (lons >= lon_min_buffered) * \\\n",
      "C:\\Users\\gentemann\\Miniconda3\\envs\\satenv\\lib\\site-packages\\pyresample\\data_reduce.py:309: RuntimeWarning: invalid value encountered in less_equal\n",
      "  (lons <= lon_max_buffered)\n"
     ]
    },
    {
     "name": "stdout",
     "output_type": "stream",
     "text": [
      "2018-04-30 2018-05-01 1441\n"
     ]
    },
    {
     "name": "stderr",
     "output_type": "stream",
     "text": [
      "C:\\Users\\gentemann\\Miniconda3\\envs\\satenv\\lib\\site-packages\\ipykernel_launcher.py:39: RuntimeWarning: invalid value encountered in remainder\n",
      "C:\\Users\\gentemann\\Miniconda3\\envs\\satenv\\lib\\site-packages\\pyresample\\kd_tree.py:411: RuntimeWarning: invalid value encountered in greater_equal\n",
      "  (source_lats <= 90) & (source_lats >= -90))\n",
      "C:\\Users\\gentemann\\Miniconda3\\envs\\satenv\\lib\\site-packages\\pyresample\\kd_tree.py:411: RuntimeWarning: invalid value encountered in less_equal\n",
      "  (source_lats <= 90) & (source_lats >= -90))\n",
      "C:\\Users\\gentemann\\Miniconda3\\envs\\satenv\\lib\\site-packages\\pyresample\\data_reduce.py:304: RuntimeWarning: invalid value encountered in greater_equal\n",
      "  valid_lats = (lats >= lat_min_buffered) * (lats <= lat_max_buffered)\n",
      "C:\\Users\\gentemann\\Miniconda3\\envs\\satenv\\lib\\site-packages\\pyresample\\data_reduce.py:304: RuntimeWarning: invalid value encountered in less_equal\n",
      "  valid_lats = (lats >= lat_min_buffered) * (lats <= lat_max_buffered)\n",
      "C:\\Users\\gentemann\\Miniconda3\\envs\\satenv\\lib\\site-packages\\pyresample\\data_reduce.py:308: RuntimeWarning: invalid value encountered in greater_equal\n",
      "  valid_lons = (lons >= lon_min_buffered) * \\\n",
      "C:\\Users\\gentemann\\Miniconda3\\envs\\satenv\\lib\\site-packages\\pyresample\\data_reduce.py:309: RuntimeWarning: invalid value encountered in less_equal\n",
      "  (lons <= lon_max_buffered)\n"
     ]
    },
    {
     "name": "stdout",
     "output_type": "stream",
     "text": [
      "2018-05-01 2018-05-02 1441\n"
     ]
    },
    {
     "name": "stderr",
     "output_type": "stream",
     "text": [
      "C:\\Users\\gentemann\\Miniconda3\\envs\\satenv\\lib\\site-packages\\ipykernel_launcher.py:39: RuntimeWarning: invalid value encountered in remainder\n",
      "C:\\Users\\gentemann\\Miniconda3\\envs\\satenv\\lib\\site-packages\\pyresample\\kd_tree.py:411: RuntimeWarning: invalid value encountered in greater_equal\n",
      "  (source_lats <= 90) & (source_lats >= -90))\n",
      "C:\\Users\\gentemann\\Miniconda3\\envs\\satenv\\lib\\site-packages\\pyresample\\kd_tree.py:411: RuntimeWarning: invalid value encountered in less_equal\n",
      "  (source_lats <= 90) & (source_lats >= -90))\n",
      "C:\\Users\\gentemann\\Miniconda3\\envs\\satenv\\lib\\site-packages\\pyresample\\data_reduce.py:304: RuntimeWarning: invalid value encountered in greater_equal\n",
      "  valid_lats = (lats >= lat_min_buffered) * (lats <= lat_max_buffered)\n",
      "C:\\Users\\gentemann\\Miniconda3\\envs\\satenv\\lib\\site-packages\\pyresample\\data_reduce.py:304: RuntimeWarning: invalid value encountered in less_equal\n",
      "  valid_lats = (lats >= lat_min_buffered) * (lats <= lat_max_buffered)\n",
      "C:\\Users\\gentemann\\Miniconda3\\envs\\satenv\\lib\\site-packages\\pyresample\\data_reduce.py:308: RuntimeWarning: invalid value encountered in greater_equal\n",
      "  valid_lons = (lons >= lon_min_buffered) * \\\n",
      "C:\\Users\\gentemann\\Miniconda3\\envs\\satenv\\lib\\site-packages\\pyresample\\data_reduce.py:309: RuntimeWarning: invalid value encountered in less_equal\n",
      "  (lons <= lon_max_buffered)\n"
     ]
    },
    {
     "name": "stdout",
     "output_type": "stream",
     "text": [
      "2018-05-02 2018-05-03 1441\n"
     ]
    },
    {
     "name": "stderr",
     "output_type": "stream",
     "text": [
      "C:\\Users\\gentemann\\Miniconda3\\envs\\satenv\\lib\\site-packages\\ipykernel_launcher.py:39: RuntimeWarning: invalid value encountered in remainder\n",
      "C:\\Users\\gentemann\\Miniconda3\\envs\\satenv\\lib\\site-packages\\pyresample\\kd_tree.py:411: RuntimeWarning: invalid value encountered in greater_equal\n",
      "  (source_lats <= 90) & (source_lats >= -90))\n",
      "C:\\Users\\gentemann\\Miniconda3\\envs\\satenv\\lib\\site-packages\\pyresample\\kd_tree.py:411: RuntimeWarning: invalid value encountered in less_equal\n",
      "  (source_lats <= 90) & (source_lats >= -90))\n",
      "C:\\Users\\gentemann\\Miniconda3\\envs\\satenv\\lib\\site-packages\\pyresample\\data_reduce.py:304: RuntimeWarning: invalid value encountered in greater_equal\n",
      "  valid_lats = (lats >= lat_min_buffered) * (lats <= lat_max_buffered)\n",
      "C:\\Users\\gentemann\\Miniconda3\\envs\\satenv\\lib\\site-packages\\pyresample\\data_reduce.py:304: RuntimeWarning: invalid value encountered in less_equal\n",
      "  valid_lats = (lats >= lat_min_buffered) * (lats <= lat_max_buffered)\n",
      "C:\\Users\\gentemann\\Miniconda3\\envs\\satenv\\lib\\site-packages\\pyresample\\data_reduce.py:308: RuntimeWarning: invalid value encountered in greater_equal\n",
      "  valid_lons = (lons >= lon_min_buffered) * \\\n",
      "C:\\Users\\gentemann\\Miniconda3\\envs\\satenv\\lib\\site-packages\\pyresample\\data_reduce.py:309: RuntimeWarning: invalid value encountered in less_equal\n",
      "  (lons <= lon_max_buffered)\n"
     ]
    },
    {
     "name": "stdout",
     "output_type": "stream",
     "text": [
      "2018-05-03 2018-05-04 1441\n"
     ]
    },
    {
     "name": "stderr",
     "output_type": "stream",
     "text": [
      "C:\\Users\\gentemann\\Miniconda3\\envs\\satenv\\lib\\site-packages\\ipykernel_launcher.py:39: RuntimeWarning: invalid value encountered in remainder\n",
      "C:\\Users\\gentemann\\Miniconda3\\envs\\satenv\\lib\\site-packages\\pyresample\\kd_tree.py:411: RuntimeWarning: invalid value encountered in greater_equal\n",
      "  (source_lats <= 90) & (source_lats >= -90))\n",
      "C:\\Users\\gentemann\\Miniconda3\\envs\\satenv\\lib\\site-packages\\pyresample\\kd_tree.py:411: RuntimeWarning: invalid value encountered in less_equal\n",
      "  (source_lats <= 90) & (source_lats >= -90))\n",
      "C:\\Users\\gentemann\\Miniconda3\\envs\\satenv\\lib\\site-packages\\pyresample\\data_reduce.py:304: RuntimeWarning: invalid value encountered in greater_equal\n",
      "  valid_lats = (lats >= lat_min_buffered) * (lats <= lat_max_buffered)\n",
      "C:\\Users\\gentemann\\Miniconda3\\envs\\satenv\\lib\\site-packages\\pyresample\\data_reduce.py:304: RuntimeWarning: invalid value encountered in less_equal\n",
      "  valid_lats = (lats >= lat_min_buffered) * (lats <= lat_max_buffered)\n",
      "C:\\Users\\gentemann\\Miniconda3\\envs\\satenv\\lib\\site-packages\\pyresample\\data_reduce.py:308: RuntimeWarning: invalid value encountered in greater_equal\n",
      "  valid_lons = (lons >= lon_min_buffered) * \\\n",
      "C:\\Users\\gentemann\\Miniconda3\\envs\\satenv\\lib\\site-packages\\pyresample\\data_reduce.py:309: RuntimeWarning: invalid value encountered in less_equal\n",
      "  (lons <= lon_max_buffered)\n"
     ]
    },
    {
     "name": "stdout",
     "output_type": "stream",
     "text": [
      "2018-05-04 2018-05-05 1441\n"
     ]
    },
    {
     "name": "stderr",
     "output_type": "stream",
     "text": [
      "C:\\Users\\gentemann\\Miniconda3\\envs\\satenv\\lib\\site-packages\\ipykernel_launcher.py:39: RuntimeWarning: invalid value encountered in remainder\n",
      "C:\\Users\\gentemann\\Miniconda3\\envs\\satenv\\lib\\site-packages\\pyresample\\kd_tree.py:411: RuntimeWarning: invalid value encountered in greater_equal\n",
      "  (source_lats <= 90) & (source_lats >= -90))\n",
      "C:\\Users\\gentemann\\Miniconda3\\envs\\satenv\\lib\\site-packages\\pyresample\\kd_tree.py:411: RuntimeWarning: invalid value encountered in less_equal\n",
      "  (source_lats <= 90) & (source_lats >= -90))\n",
      "C:\\Users\\gentemann\\Miniconda3\\envs\\satenv\\lib\\site-packages\\pyresample\\data_reduce.py:304: RuntimeWarning: invalid value encountered in greater_equal\n",
      "  valid_lats = (lats >= lat_min_buffered) * (lats <= lat_max_buffered)\n",
      "C:\\Users\\gentemann\\Miniconda3\\envs\\satenv\\lib\\site-packages\\pyresample\\data_reduce.py:304: RuntimeWarning: invalid value encountered in less_equal\n",
      "  valid_lats = (lats >= lat_min_buffered) * (lats <= lat_max_buffered)\n",
      "C:\\Users\\gentemann\\Miniconda3\\envs\\satenv\\lib\\site-packages\\pyresample\\data_reduce.py:308: RuntimeWarning: invalid value encountered in greater_equal\n",
      "  valid_lons = (lons >= lon_min_buffered) * \\\n",
      "C:\\Users\\gentemann\\Miniconda3\\envs\\satenv\\lib\\site-packages\\pyresample\\data_reduce.py:309: RuntimeWarning: invalid value encountered in less_equal\n",
      "  (lons <= lon_max_buffered)\n"
     ]
    },
    {
     "name": "stdout",
     "output_type": "stream",
     "text": [
      "2018-05-05 2018-05-06 1441\n"
     ]
    },
    {
     "name": "stderr",
     "output_type": "stream",
     "text": [
      "C:\\Users\\gentemann\\Miniconda3\\envs\\satenv\\lib\\site-packages\\ipykernel_launcher.py:39: RuntimeWarning: invalid value encountered in remainder\n",
      "C:\\Users\\gentemann\\Miniconda3\\envs\\satenv\\lib\\site-packages\\pyresample\\kd_tree.py:411: RuntimeWarning: invalid value encountered in greater_equal\n",
      "  (source_lats <= 90) & (source_lats >= -90))\n",
      "C:\\Users\\gentemann\\Miniconda3\\envs\\satenv\\lib\\site-packages\\pyresample\\kd_tree.py:411: RuntimeWarning: invalid value encountered in less_equal\n",
      "  (source_lats <= 90) & (source_lats >= -90))\n",
      "C:\\Users\\gentemann\\Miniconda3\\envs\\satenv\\lib\\site-packages\\pyresample\\data_reduce.py:304: RuntimeWarning: invalid value encountered in greater_equal\n",
      "  valid_lats = (lats >= lat_min_buffered) * (lats <= lat_max_buffered)\n",
      "C:\\Users\\gentemann\\Miniconda3\\envs\\satenv\\lib\\site-packages\\pyresample\\data_reduce.py:304: RuntimeWarning: invalid value encountered in less_equal\n",
      "  valid_lats = (lats >= lat_min_buffered) * (lats <= lat_max_buffered)\n",
      "C:\\Users\\gentemann\\Miniconda3\\envs\\satenv\\lib\\site-packages\\pyresample\\data_reduce.py:308: RuntimeWarning: invalid value encountered in greater_equal\n",
      "  valid_lons = (lons >= lon_min_buffered) * \\\n",
      "C:\\Users\\gentemann\\Miniconda3\\envs\\satenv\\lib\\site-packages\\pyresample\\data_reduce.py:309: RuntimeWarning: invalid value encountered in less_equal\n",
      "  (lons <= lon_max_buffered)\n"
     ]
    },
    {
     "name": "stdout",
     "output_type": "stream",
     "text": [
      "2018-05-06 2018-05-07 1441\n"
     ]
    },
    {
     "name": "stderr",
     "output_type": "stream",
     "text": [
      "C:\\Users\\gentemann\\Miniconda3\\envs\\satenv\\lib\\site-packages\\ipykernel_launcher.py:39: RuntimeWarning: invalid value encountered in remainder\n",
      "C:\\Users\\gentemann\\Miniconda3\\envs\\satenv\\lib\\site-packages\\pyresample\\kd_tree.py:411: RuntimeWarning: invalid value encountered in greater_equal\n",
      "  (source_lats <= 90) & (source_lats >= -90))\n",
      "C:\\Users\\gentemann\\Miniconda3\\envs\\satenv\\lib\\site-packages\\pyresample\\kd_tree.py:411: RuntimeWarning: invalid value encountered in less_equal\n",
      "  (source_lats <= 90) & (source_lats >= -90))\n",
      "C:\\Users\\gentemann\\Miniconda3\\envs\\satenv\\lib\\site-packages\\pyresample\\data_reduce.py:304: RuntimeWarning: invalid value encountered in greater_equal\n",
      "  valid_lats = (lats >= lat_min_buffered) * (lats <= lat_max_buffered)\n",
      "C:\\Users\\gentemann\\Miniconda3\\envs\\satenv\\lib\\site-packages\\pyresample\\data_reduce.py:304: RuntimeWarning: invalid value encountered in less_equal\n",
      "  valid_lats = (lats >= lat_min_buffered) * (lats <= lat_max_buffered)\n",
      "C:\\Users\\gentemann\\Miniconda3\\envs\\satenv\\lib\\site-packages\\pyresample\\data_reduce.py:308: RuntimeWarning: invalid value encountered in greater_equal\n",
      "  valid_lons = (lons >= lon_min_buffered) * \\\n",
      "C:\\Users\\gentemann\\Miniconda3\\envs\\satenv\\lib\\site-packages\\pyresample\\data_reduce.py:309: RuntimeWarning: invalid value encountered in less_equal\n",
      "  (lons <= lon_max_buffered)\n"
     ]
    },
    {
     "name": "stdout",
     "output_type": "stream",
     "text": [
      "2018-05-07 2018-05-08 1441\n"
     ]
    },
    {
     "name": "stderr",
     "output_type": "stream",
     "text": [
      "C:\\Users\\gentemann\\Miniconda3\\envs\\satenv\\lib\\site-packages\\ipykernel_launcher.py:39: RuntimeWarning: invalid value encountered in remainder\n",
      "C:\\Users\\gentemann\\Miniconda3\\envs\\satenv\\lib\\site-packages\\pyresample\\kd_tree.py:411: RuntimeWarning: invalid value encountered in greater_equal\n",
      "  (source_lats <= 90) & (source_lats >= -90))\n",
      "C:\\Users\\gentemann\\Miniconda3\\envs\\satenv\\lib\\site-packages\\pyresample\\kd_tree.py:411: RuntimeWarning: invalid value encountered in less_equal\n",
      "  (source_lats <= 90) & (source_lats >= -90))\n",
      "C:\\Users\\gentemann\\Miniconda3\\envs\\satenv\\lib\\site-packages\\pyresample\\data_reduce.py:304: RuntimeWarning: invalid value encountered in greater_equal\n",
      "  valid_lats = (lats >= lat_min_buffered) * (lats <= lat_max_buffered)\n",
      "C:\\Users\\gentemann\\Miniconda3\\envs\\satenv\\lib\\site-packages\\pyresample\\data_reduce.py:304: RuntimeWarning: invalid value encountered in less_equal\n",
      "  valid_lats = (lats >= lat_min_buffered) * (lats <= lat_max_buffered)\n",
      "C:\\Users\\gentemann\\Miniconda3\\envs\\satenv\\lib\\site-packages\\pyresample\\data_reduce.py:308: RuntimeWarning: invalid value encountered in greater_equal\n",
      "  valid_lons = (lons >= lon_min_buffered) * \\\n",
      "C:\\Users\\gentemann\\Miniconda3\\envs\\satenv\\lib\\site-packages\\pyresample\\data_reduce.py:309: RuntimeWarning: invalid value encountered in less_equal\n",
      "  (lons <= lon_max_buffered)\n"
     ]
    },
    {
     "name": "stdout",
     "output_type": "stream",
     "text": [
      "2018-05-08 2018-05-09 1441\n"
     ]
    },
    {
     "name": "stderr",
     "output_type": "stream",
     "text": [
      "C:\\Users\\gentemann\\Miniconda3\\envs\\satenv\\lib\\site-packages\\ipykernel_launcher.py:39: RuntimeWarning: invalid value encountered in remainder\n",
      "C:\\Users\\gentemann\\Miniconda3\\envs\\satenv\\lib\\site-packages\\pyresample\\kd_tree.py:411: RuntimeWarning: invalid value encountered in greater_equal\n",
      "  (source_lats <= 90) & (source_lats >= -90))\n",
      "C:\\Users\\gentemann\\Miniconda3\\envs\\satenv\\lib\\site-packages\\pyresample\\kd_tree.py:411: RuntimeWarning: invalid value encountered in less_equal\n",
      "  (source_lats <= 90) & (source_lats >= -90))\n",
      "C:\\Users\\gentemann\\Miniconda3\\envs\\satenv\\lib\\site-packages\\pyresample\\data_reduce.py:304: RuntimeWarning: invalid value encountered in greater_equal\n",
      "  valid_lats = (lats >= lat_min_buffered) * (lats <= lat_max_buffered)\n",
      "C:\\Users\\gentemann\\Miniconda3\\envs\\satenv\\lib\\site-packages\\pyresample\\data_reduce.py:304: RuntimeWarning: invalid value encountered in less_equal\n",
      "  valid_lats = (lats >= lat_min_buffered) * (lats <= lat_max_buffered)\n",
      "C:\\Users\\gentemann\\Miniconda3\\envs\\satenv\\lib\\site-packages\\pyresample\\data_reduce.py:308: RuntimeWarning: invalid value encountered in greater_equal\n",
      "  valid_lons = (lons >= lon_min_buffered) * \\\n",
      "C:\\Users\\gentemann\\Miniconda3\\envs\\satenv\\lib\\site-packages\\pyresample\\data_reduce.py:309: RuntimeWarning: invalid value encountered in less_equal\n",
      "  (lons <= lon_max_buffered)\n"
     ]
    },
    {
     "name": "stdout",
     "output_type": "stream",
     "text": [
      "2018-05-09 2018-05-10 1441\n"
     ]
    },
    {
     "name": "stderr",
     "output_type": "stream",
     "text": [
      "C:\\Users\\gentemann\\Miniconda3\\envs\\satenv\\lib\\site-packages\\ipykernel_launcher.py:39: RuntimeWarning: invalid value encountered in remainder\n",
      "C:\\Users\\gentemann\\Miniconda3\\envs\\satenv\\lib\\site-packages\\pyresample\\kd_tree.py:411: RuntimeWarning: invalid value encountered in greater_equal\n",
      "  (source_lats <= 90) & (source_lats >= -90))\n",
      "C:\\Users\\gentemann\\Miniconda3\\envs\\satenv\\lib\\site-packages\\pyresample\\kd_tree.py:411: RuntimeWarning: invalid value encountered in less_equal\n",
      "  (source_lats <= 90) & (source_lats >= -90))\n",
      "C:\\Users\\gentemann\\Miniconda3\\envs\\satenv\\lib\\site-packages\\pyresample\\data_reduce.py:304: RuntimeWarning: invalid value encountered in greater_equal\n",
      "  valid_lats = (lats >= lat_min_buffered) * (lats <= lat_max_buffered)\n",
      "C:\\Users\\gentemann\\Miniconda3\\envs\\satenv\\lib\\site-packages\\pyresample\\data_reduce.py:304: RuntimeWarning: invalid value encountered in less_equal\n",
      "  valid_lats = (lats >= lat_min_buffered) * (lats <= lat_max_buffered)\n",
      "C:\\Users\\gentemann\\Miniconda3\\envs\\satenv\\lib\\site-packages\\pyresample\\data_reduce.py:308: RuntimeWarning: invalid value encountered in greater_equal\n",
      "  valid_lons = (lons >= lon_min_buffered) * \\\n",
      "C:\\Users\\gentemann\\Miniconda3\\envs\\satenv\\lib\\site-packages\\pyresample\\data_reduce.py:309: RuntimeWarning: invalid value encountered in less_equal\n",
      "  (lons <= lon_max_buffered)\n"
     ]
    },
    {
     "name": "stdout",
     "output_type": "stream",
     "text": [
      "2018-05-10 2018-05-11 1441\n"
     ]
    },
    {
     "name": "stderr",
     "output_type": "stream",
     "text": [
      "C:\\Users\\gentemann\\Miniconda3\\envs\\satenv\\lib\\site-packages\\ipykernel_launcher.py:39: RuntimeWarning: invalid value encountered in remainder\n",
      "C:\\Users\\gentemann\\Miniconda3\\envs\\satenv\\lib\\site-packages\\pyresample\\kd_tree.py:411: RuntimeWarning: invalid value encountered in greater_equal\n",
      "  (source_lats <= 90) & (source_lats >= -90))\n",
      "C:\\Users\\gentemann\\Miniconda3\\envs\\satenv\\lib\\site-packages\\pyresample\\kd_tree.py:411: RuntimeWarning: invalid value encountered in less_equal\n",
      "  (source_lats <= 90) & (source_lats >= -90))\n",
      "C:\\Users\\gentemann\\Miniconda3\\envs\\satenv\\lib\\site-packages\\pyresample\\data_reduce.py:304: RuntimeWarning: invalid value encountered in greater_equal\n",
      "  valid_lats = (lats >= lat_min_buffered) * (lats <= lat_max_buffered)\n",
      "C:\\Users\\gentemann\\Miniconda3\\envs\\satenv\\lib\\site-packages\\pyresample\\data_reduce.py:304: RuntimeWarning: invalid value encountered in less_equal\n",
      "  valid_lats = (lats >= lat_min_buffered) * (lats <= lat_max_buffered)\n",
      "C:\\Users\\gentemann\\Miniconda3\\envs\\satenv\\lib\\site-packages\\pyresample\\data_reduce.py:308: RuntimeWarning: invalid value encountered in greater_equal\n",
      "  valid_lons = (lons >= lon_min_buffered) * \\\n",
      "C:\\Users\\gentemann\\Miniconda3\\envs\\satenv\\lib\\site-packages\\pyresample\\data_reduce.py:309: RuntimeWarning: invalid value encountered in less_equal\n",
      "  (lons <= lon_max_buffered)\n"
     ]
    },
    {
     "name": "stdout",
     "output_type": "stream",
     "text": [
      "2018-05-11 2018-05-12 1441\n"
     ]
    },
    {
     "name": "stderr",
     "output_type": "stream",
     "text": [
      "C:\\Users\\gentemann\\Miniconda3\\envs\\satenv\\lib\\site-packages\\ipykernel_launcher.py:39: RuntimeWarning: invalid value encountered in remainder\n",
      "C:\\Users\\gentemann\\Miniconda3\\envs\\satenv\\lib\\site-packages\\pyresample\\kd_tree.py:411: RuntimeWarning: invalid value encountered in greater_equal\n",
      "  (source_lats <= 90) & (source_lats >= -90))\n",
      "C:\\Users\\gentemann\\Miniconda3\\envs\\satenv\\lib\\site-packages\\pyresample\\kd_tree.py:411: RuntimeWarning: invalid value encountered in less_equal\n",
      "  (source_lats <= 90) & (source_lats >= -90))\n",
      "C:\\Users\\gentemann\\Miniconda3\\envs\\satenv\\lib\\site-packages\\pyresample\\data_reduce.py:304: RuntimeWarning: invalid value encountered in greater_equal\n",
      "  valid_lats = (lats >= lat_min_buffered) * (lats <= lat_max_buffered)\n",
      "C:\\Users\\gentemann\\Miniconda3\\envs\\satenv\\lib\\site-packages\\pyresample\\data_reduce.py:304: RuntimeWarning: invalid value encountered in less_equal\n",
      "  valid_lats = (lats >= lat_min_buffered) * (lats <= lat_max_buffered)\n",
      "C:\\Users\\gentemann\\Miniconda3\\envs\\satenv\\lib\\site-packages\\pyresample\\data_reduce.py:308: RuntimeWarning: invalid value encountered in greater_equal\n",
      "  valid_lons = (lons >= lon_min_buffered) * \\\n",
      "C:\\Users\\gentemann\\Miniconda3\\envs\\satenv\\lib\\site-packages\\pyresample\\data_reduce.py:309: RuntimeWarning: invalid value encountered in less_equal\n",
      "  (lons <= lon_max_buffered)\n"
     ]
    },
    {
     "name": "stdout",
     "output_type": "stream",
     "text": [
      "2018-05-12 2018-05-13 1441\n"
     ]
    },
    {
     "name": "stderr",
     "output_type": "stream",
     "text": [
      "C:\\Users\\gentemann\\Miniconda3\\envs\\satenv\\lib\\site-packages\\ipykernel_launcher.py:39: RuntimeWarning: invalid value encountered in remainder\n",
      "C:\\Users\\gentemann\\Miniconda3\\envs\\satenv\\lib\\site-packages\\pyresample\\kd_tree.py:411: RuntimeWarning: invalid value encountered in greater_equal\n",
      "  (source_lats <= 90) & (source_lats >= -90))\n",
      "C:\\Users\\gentemann\\Miniconda3\\envs\\satenv\\lib\\site-packages\\pyresample\\kd_tree.py:411: RuntimeWarning: invalid value encountered in less_equal\n",
      "  (source_lats <= 90) & (source_lats >= -90))\n",
      "C:\\Users\\gentemann\\Miniconda3\\envs\\satenv\\lib\\site-packages\\pyresample\\data_reduce.py:304: RuntimeWarning: invalid value encountered in greater_equal\n",
      "  valid_lats = (lats >= lat_min_buffered) * (lats <= lat_max_buffered)\n",
      "C:\\Users\\gentemann\\Miniconda3\\envs\\satenv\\lib\\site-packages\\pyresample\\data_reduce.py:304: RuntimeWarning: invalid value encountered in less_equal\n",
      "  valid_lats = (lats >= lat_min_buffered) * (lats <= lat_max_buffered)\n",
      "C:\\Users\\gentemann\\Miniconda3\\envs\\satenv\\lib\\site-packages\\pyresample\\data_reduce.py:308: RuntimeWarning: invalid value encountered in greater_equal\n",
      "  valid_lons = (lons >= lon_min_buffered) * \\\n",
      "C:\\Users\\gentemann\\Miniconda3\\envs\\satenv\\lib\\site-packages\\pyresample\\data_reduce.py:309: RuntimeWarning: invalid value encountered in less_equal\n",
      "  (lons <= lon_max_buffered)\n"
     ]
    },
    {
     "name": "stdout",
     "output_type": "stream",
     "text": [
      "2018-05-13 2018-05-14 1441\n"
     ]
    },
    {
     "name": "stderr",
     "output_type": "stream",
     "text": [
      "C:\\Users\\gentemann\\Miniconda3\\envs\\satenv\\lib\\site-packages\\ipykernel_launcher.py:39: RuntimeWarning: invalid value encountered in remainder\n",
      "C:\\Users\\gentemann\\Miniconda3\\envs\\satenv\\lib\\site-packages\\pyresample\\kd_tree.py:411: RuntimeWarning: invalid value encountered in greater_equal\n",
      "  (source_lats <= 90) & (source_lats >= -90))\n",
      "C:\\Users\\gentemann\\Miniconda3\\envs\\satenv\\lib\\site-packages\\pyresample\\kd_tree.py:411: RuntimeWarning: invalid value encountered in less_equal\n",
      "  (source_lats <= 90) & (source_lats >= -90))\n",
      "C:\\Users\\gentemann\\Miniconda3\\envs\\satenv\\lib\\site-packages\\pyresample\\data_reduce.py:304: RuntimeWarning: invalid value encountered in greater_equal\n",
      "  valid_lats = (lats >= lat_min_buffered) * (lats <= lat_max_buffered)\n",
      "C:\\Users\\gentemann\\Miniconda3\\envs\\satenv\\lib\\site-packages\\pyresample\\data_reduce.py:304: RuntimeWarning: invalid value encountered in less_equal\n",
      "  valid_lats = (lats >= lat_min_buffered) * (lats <= lat_max_buffered)\n",
      "C:\\Users\\gentemann\\Miniconda3\\envs\\satenv\\lib\\site-packages\\pyresample\\data_reduce.py:308: RuntimeWarning: invalid value encountered in greater_equal\n",
      "  valid_lons = (lons >= lon_min_buffered) * \\\n",
      "C:\\Users\\gentemann\\Miniconda3\\envs\\satenv\\lib\\site-packages\\pyresample\\data_reduce.py:309: RuntimeWarning: invalid value encountered in less_equal\n",
      "  (lons <= lon_max_buffered)\n"
     ]
    },
    {
     "name": "stdout",
     "output_type": "stream",
     "text": [
      "2018-05-14 2018-05-15 1441\n"
     ]
    },
    {
     "name": "stderr",
     "output_type": "stream",
     "text": [
      "C:\\Users\\gentemann\\Miniconda3\\envs\\satenv\\lib\\site-packages\\ipykernel_launcher.py:39: RuntimeWarning: invalid value encountered in remainder\n",
      "C:\\Users\\gentemann\\Miniconda3\\envs\\satenv\\lib\\site-packages\\pyresample\\kd_tree.py:411: RuntimeWarning: invalid value encountered in greater_equal\n",
      "  (source_lats <= 90) & (source_lats >= -90))\n",
      "C:\\Users\\gentemann\\Miniconda3\\envs\\satenv\\lib\\site-packages\\pyresample\\kd_tree.py:411: RuntimeWarning: invalid value encountered in less_equal\n",
      "  (source_lats <= 90) & (source_lats >= -90))\n",
      "C:\\Users\\gentemann\\Miniconda3\\envs\\satenv\\lib\\site-packages\\pyresample\\data_reduce.py:304: RuntimeWarning: invalid value encountered in greater_equal\n",
      "  valid_lats = (lats >= lat_min_buffered) * (lats <= lat_max_buffered)\n",
      "C:\\Users\\gentemann\\Miniconda3\\envs\\satenv\\lib\\site-packages\\pyresample\\data_reduce.py:304: RuntimeWarning: invalid value encountered in less_equal\n",
      "  valid_lats = (lats >= lat_min_buffered) * (lats <= lat_max_buffered)\n",
      "C:\\Users\\gentemann\\Miniconda3\\envs\\satenv\\lib\\site-packages\\pyresample\\data_reduce.py:308: RuntimeWarning: invalid value encountered in greater_equal\n",
      "  valid_lons = (lons >= lon_min_buffered) * \\\n",
      "C:\\Users\\gentemann\\Miniconda3\\envs\\satenv\\lib\\site-packages\\pyresample\\data_reduce.py:309: RuntimeWarning: invalid value encountered in less_equal\n",
      "  (lons <= lon_max_buffered)\n"
     ]
    },
    {
     "name": "stdout",
     "output_type": "stream",
     "text": [
      "2018-05-15 2018-05-16 1441\n"
     ]
    },
    {
     "name": "stderr",
     "output_type": "stream",
     "text": [
      "C:\\Users\\gentemann\\Miniconda3\\envs\\satenv\\lib\\site-packages\\ipykernel_launcher.py:39: RuntimeWarning: invalid value encountered in remainder\n",
      "C:\\Users\\gentemann\\Miniconda3\\envs\\satenv\\lib\\site-packages\\pyresample\\kd_tree.py:411: RuntimeWarning: invalid value encountered in greater_equal\n",
      "  (source_lats <= 90) & (source_lats >= -90))\n",
      "C:\\Users\\gentemann\\Miniconda3\\envs\\satenv\\lib\\site-packages\\pyresample\\kd_tree.py:411: RuntimeWarning: invalid value encountered in less_equal\n",
      "  (source_lats <= 90) & (source_lats >= -90))\n",
      "C:\\Users\\gentemann\\Miniconda3\\envs\\satenv\\lib\\site-packages\\pyresample\\data_reduce.py:304: RuntimeWarning: invalid value encountered in greater_equal\n",
      "  valid_lats = (lats >= lat_min_buffered) * (lats <= lat_max_buffered)\n",
      "C:\\Users\\gentemann\\Miniconda3\\envs\\satenv\\lib\\site-packages\\pyresample\\data_reduce.py:304: RuntimeWarning: invalid value encountered in less_equal\n",
      "  valid_lats = (lats >= lat_min_buffered) * (lats <= lat_max_buffered)\n",
      "C:\\Users\\gentemann\\Miniconda3\\envs\\satenv\\lib\\site-packages\\pyresample\\data_reduce.py:308: RuntimeWarning: invalid value encountered in greater_equal\n",
      "  valid_lons = (lons >= lon_min_buffered) * \\\n",
      "C:\\Users\\gentemann\\Miniconda3\\envs\\satenv\\lib\\site-packages\\pyresample\\data_reduce.py:309: RuntimeWarning: invalid value encountered in less_equal\n",
      "  (lons <= lon_max_buffered)\n"
     ]
    },
    {
     "name": "stdout",
     "output_type": "stream",
     "text": [
      "2018-05-16 2018-05-17 1441\n"
     ]
    },
    {
     "name": "stderr",
     "output_type": "stream",
     "text": [
      "C:\\Users\\gentemann\\Miniconda3\\envs\\satenv\\lib\\site-packages\\ipykernel_launcher.py:39: RuntimeWarning: invalid value encountered in remainder\n",
      "C:\\Users\\gentemann\\Miniconda3\\envs\\satenv\\lib\\site-packages\\pyresample\\kd_tree.py:411: RuntimeWarning: invalid value encountered in greater_equal\n",
      "  (source_lats <= 90) & (source_lats >= -90))\n",
      "C:\\Users\\gentemann\\Miniconda3\\envs\\satenv\\lib\\site-packages\\pyresample\\kd_tree.py:411: RuntimeWarning: invalid value encountered in less_equal\n",
      "  (source_lats <= 90) & (source_lats >= -90))\n",
      "C:\\Users\\gentemann\\Miniconda3\\envs\\satenv\\lib\\site-packages\\pyresample\\data_reduce.py:304: RuntimeWarning: invalid value encountered in greater_equal\n",
      "  valid_lats = (lats >= lat_min_buffered) * (lats <= lat_max_buffered)\n",
      "C:\\Users\\gentemann\\Miniconda3\\envs\\satenv\\lib\\site-packages\\pyresample\\data_reduce.py:304: RuntimeWarning: invalid value encountered in less_equal\n",
      "  valid_lats = (lats >= lat_min_buffered) * (lats <= lat_max_buffered)\n",
      "C:\\Users\\gentemann\\Miniconda3\\envs\\satenv\\lib\\site-packages\\pyresample\\data_reduce.py:308: RuntimeWarning: invalid value encountered in greater_equal\n",
      "  valid_lons = (lons >= lon_min_buffered) * \\\n",
      "C:\\Users\\gentemann\\Miniconda3\\envs\\satenv\\lib\\site-packages\\pyresample\\data_reduce.py:309: RuntimeWarning: invalid value encountered in less_equal\n",
      "  (lons <= lon_max_buffered)\n"
     ]
    },
    {
     "name": "stdout",
     "output_type": "stream",
     "text": [
      "2018-05-17 2018-05-18 1441\n"
     ]
    },
    {
     "name": "stderr",
     "output_type": "stream",
     "text": [
      "C:\\Users\\gentemann\\Miniconda3\\envs\\satenv\\lib\\site-packages\\ipykernel_launcher.py:39: RuntimeWarning: invalid value encountered in remainder\n",
      "C:\\Users\\gentemann\\Miniconda3\\envs\\satenv\\lib\\site-packages\\pyresample\\kd_tree.py:411: RuntimeWarning: invalid value encountered in greater_equal\n",
      "  (source_lats <= 90) & (source_lats >= -90))\n",
      "C:\\Users\\gentemann\\Miniconda3\\envs\\satenv\\lib\\site-packages\\pyresample\\kd_tree.py:411: RuntimeWarning: invalid value encountered in less_equal\n",
      "  (source_lats <= 90) & (source_lats >= -90))\n",
      "C:\\Users\\gentemann\\Miniconda3\\envs\\satenv\\lib\\site-packages\\pyresample\\data_reduce.py:304: RuntimeWarning: invalid value encountered in greater_equal\n",
      "  valid_lats = (lats >= lat_min_buffered) * (lats <= lat_max_buffered)\n",
      "C:\\Users\\gentemann\\Miniconda3\\envs\\satenv\\lib\\site-packages\\pyresample\\data_reduce.py:304: RuntimeWarning: invalid value encountered in less_equal\n",
      "  valid_lats = (lats >= lat_min_buffered) * (lats <= lat_max_buffered)\n",
      "C:\\Users\\gentemann\\Miniconda3\\envs\\satenv\\lib\\site-packages\\pyresample\\data_reduce.py:308: RuntimeWarning: invalid value encountered in greater_equal\n",
      "  valid_lons = (lons >= lon_min_buffered) * \\\n",
      "C:\\Users\\gentemann\\Miniconda3\\envs\\satenv\\lib\\site-packages\\pyresample\\data_reduce.py:309: RuntimeWarning: invalid value encountered in less_equal\n",
      "  (lons <= lon_max_buffered)\n"
     ]
    },
    {
     "name": "stdout",
     "output_type": "stream",
     "text": [
      "2018-05-18 2018-05-19 1441\n"
     ]
    },
    {
     "name": "stderr",
     "output_type": "stream",
     "text": [
      "C:\\Users\\gentemann\\Miniconda3\\envs\\satenv\\lib\\site-packages\\ipykernel_launcher.py:39: RuntimeWarning: invalid value encountered in remainder\n",
      "C:\\Users\\gentemann\\Miniconda3\\envs\\satenv\\lib\\site-packages\\pyresample\\kd_tree.py:411: RuntimeWarning: invalid value encountered in greater_equal\n",
      "  (source_lats <= 90) & (source_lats >= -90))\n",
      "C:\\Users\\gentemann\\Miniconda3\\envs\\satenv\\lib\\site-packages\\pyresample\\kd_tree.py:411: RuntimeWarning: invalid value encountered in less_equal\n",
      "  (source_lats <= 90) & (source_lats >= -90))\n",
      "C:\\Users\\gentemann\\Miniconda3\\envs\\satenv\\lib\\site-packages\\pyresample\\data_reduce.py:304: RuntimeWarning: invalid value encountered in greater_equal\n",
      "  valid_lats = (lats >= lat_min_buffered) * (lats <= lat_max_buffered)\n",
      "C:\\Users\\gentemann\\Miniconda3\\envs\\satenv\\lib\\site-packages\\pyresample\\data_reduce.py:304: RuntimeWarning: invalid value encountered in less_equal\n",
      "  valid_lats = (lats >= lat_min_buffered) * (lats <= lat_max_buffered)\n",
      "C:\\Users\\gentemann\\Miniconda3\\envs\\satenv\\lib\\site-packages\\pyresample\\data_reduce.py:308: RuntimeWarning: invalid value encountered in greater_equal\n",
      "  valid_lons = (lons >= lon_min_buffered) * \\\n",
      "C:\\Users\\gentemann\\Miniconda3\\envs\\satenv\\lib\\site-packages\\pyresample\\data_reduce.py:309: RuntimeWarning: invalid value encountered in less_equal\n",
      "  (lons <= lon_max_buffered)\n"
     ]
    },
    {
     "name": "stdout",
     "output_type": "stream",
     "text": [
      "2018-05-19 2018-05-20 1441\n"
     ]
    },
    {
     "name": "stderr",
     "output_type": "stream",
     "text": [
      "C:\\Users\\gentemann\\Miniconda3\\envs\\satenv\\lib\\site-packages\\ipykernel_launcher.py:39: RuntimeWarning: invalid value encountered in remainder\n",
      "C:\\Users\\gentemann\\Miniconda3\\envs\\satenv\\lib\\site-packages\\pyresample\\kd_tree.py:411: RuntimeWarning: invalid value encountered in greater_equal\n",
      "  (source_lats <= 90) & (source_lats >= -90))\n",
      "C:\\Users\\gentemann\\Miniconda3\\envs\\satenv\\lib\\site-packages\\pyresample\\kd_tree.py:411: RuntimeWarning: invalid value encountered in less_equal\n",
      "  (source_lats <= 90) & (source_lats >= -90))\n",
      "C:\\Users\\gentemann\\Miniconda3\\envs\\satenv\\lib\\site-packages\\pyresample\\data_reduce.py:304: RuntimeWarning: invalid value encountered in greater_equal\n",
      "  valid_lats = (lats >= lat_min_buffered) * (lats <= lat_max_buffered)\n",
      "C:\\Users\\gentemann\\Miniconda3\\envs\\satenv\\lib\\site-packages\\pyresample\\data_reduce.py:304: RuntimeWarning: invalid value encountered in less_equal\n",
      "  valid_lats = (lats >= lat_min_buffered) * (lats <= lat_max_buffered)\n",
      "C:\\Users\\gentemann\\Miniconda3\\envs\\satenv\\lib\\site-packages\\pyresample\\data_reduce.py:308: RuntimeWarning: invalid value encountered in greater_equal\n",
      "  valid_lons = (lons >= lon_min_buffered) * \\\n",
      "C:\\Users\\gentemann\\Miniconda3\\envs\\satenv\\lib\\site-packages\\pyresample\\data_reduce.py:309: RuntimeWarning: invalid value encountered in less_equal\n",
      "  (lons <= lon_max_buffered)\n"
     ]
    },
    {
     "name": "stdout",
     "output_type": "stream",
     "text": [
      "2018-05-20 2018-05-21 1441\n"
     ]
    },
    {
     "name": "stderr",
     "output_type": "stream",
     "text": [
      "C:\\Users\\gentemann\\Miniconda3\\envs\\satenv\\lib\\site-packages\\ipykernel_launcher.py:39: RuntimeWarning: invalid value encountered in remainder\n",
      "C:\\Users\\gentemann\\Miniconda3\\envs\\satenv\\lib\\site-packages\\pyresample\\kd_tree.py:411: RuntimeWarning: invalid value encountered in greater_equal\n",
      "  (source_lats <= 90) & (source_lats >= -90))\n",
      "C:\\Users\\gentemann\\Miniconda3\\envs\\satenv\\lib\\site-packages\\pyresample\\kd_tree.py:411: RuntimeWarning: invalid value encountered in less_equal\n",
      "  (source_lats <= 90) & (source_lats >= -90))\n",
      "C:\\Users\\gentemann\\Miniconda3\\envs\\satenv\\lib\\site-packages\\pyresample\\data_reduce.py:304: RuntimeWarning: invalid value encountered in greater_equal\n",
      "  valid_lats = (lats >= lat_min_buffered) * (lats <= lat_max_buffered)\n",
      "C:\\Users\\gentemann\\Miniconda3\\envs\\satenv\\lib\\site-packages\\pyresample\\data_reduce.py:304: RuntimeWarning: invalid value encountered in less_equal\n",
      "  valid_lats = (lats >= lat_min_buffered) * (lats <= lat_max_buffered)\n",
      "C:\\Users\\gentemann\\Miniconda3\\envs\\satenv\\lib\\site-packages\\pyresample\\data_reduce.py:308: RuntimeWarning: invalid value encountered in greater_equal\n",
      "  valid_lons = (lons >= lon_min_buffered) * \\\n",
      "C:\\Users\\gentemann\\Miniconda3\\envs\\satenv\\lib\\site-packages\\pyresample\\data_reduce.py:309: RuntimeWarning: invalid value encountered in less_equal\n",
      "  (lons <= lon_max_buffered)\n"
     ]
    },
    {
     "name": "stdout",
     "output_type": "stream",
     "text": [
      "2018-05-21 2018-05-22 1441\n"
     ]
    },
    {
     "name": "stderr",
     "output_type": "stream",
     "text": [
      "C:\\Users\\gentemann\\Miniconda3\\envs\\satenv\\lib\\site-packages\\ipykernel_launcher.py:39: RuntimeWarning: invalid value encountered in remainder\n",
      "C:\\Users\\gentemann\\Miniconda3\\envs\\satenv\\lib\\site-packages\\pyresample\\kd_tree.py:411: RuntimeWarning: invalid value encountered in greater_equal\n",
      "  (source_lats <= 90) & (source_lats >= -90))\n",
      "C:\\Users\\gentemann\\Miniconda3\\envs\\satenv\\lib\\site-packages\\pyresample\\kd_tree.py:411: RuntimeWarning: invalid value encountered in less_equal\n",
      "  (source_lats <= 90) & (source_lats >= -90))\n",
      "C:\\Users\\gentemann\\Miniconda3\\envs\\satenv\\lib\\site-packages\\pyresample\\data_reduce.py:304: RuntimeWarning: invalid value encountered in greater_equal\n",
      "  valid_lats = (lats >= lat_min_buffered) * (lats <= lat_max_buffered)\n",
      "C:\\Users\\gentemann\\Miniconda3\\envs\\satenv\\lib\\site-packages\\pyresample\\data_reduce.py:304: RuntimeWarning: invalid value encountered in less_equal\n",
      "  valid_lats = (lats >= lat_min_buffered) * (lats <= lat_max_buffered)\n",
      "C:\\Users\\gentemann\\Miniconda3\\envs\\satenv\\lib\\site-packages\\pyresample\\data_reduce.py:308: RuntimeWarning: invalid value encountered in greater_equal\n",
      "  valid_lons = (lons >= lon_min_buffered) * \\\n",
      "C:\\Users\\gentemann\\Miniconda3\\envs\\satenv\\lib\\site-packages\\pyresample\\data_reduce.py:309: RuntimeWarning: invalid value encountered in less_equal\n",
      "  (lons <= lon_max_buffered)\n"
     ]
    },
    {
     "name": "stdout",
     "output_type": "stream",
     "text": [
      "2018-05-22 2018-05-23 1441\n"
     ]
    },
    {
     "name": "stderr",
     "output_type": "stream",
     "text": [
      "C:\\Users\\gentemann\\Miniconda3\\envs\\satenv\\lib\\site-packages\\ipykernel_launcher.py:39: RuntimeWarning: invalid value encountered in remainder\n",
      "C:\\Users\\gentemann\\Miniconda3\\envs\\satenv\\lib\\site-packages\\pyresample\\kd_tree.py:411: RuntimeWarning: invalid value encountered in greater_equal\n",
      "  (source_lats <= 90) & (source_lats >= -90))\n",
      "C:\\Users\\gentemann\\Miniconda3\\envs\\satenv\\lib\\site-packages\\pyresample\\kd_tree.py:411: RuntimeWarning: invalid value encountered in less_equal\n",
      "  (source_lats <= 90) & (source_lats >= -90))\n",
      "C:\\Users\\gentemann\\Miniconda3\\envs\\satenv\\lib\\site-packages\\pyresample\\data_reduce.py:304: RuntimeWarning: invalid value encountered in greater_equal\n",
      "  valid_lats = (lats >= lat_min_buffered) * (lats <= lat_max_buffered)\n",
      "C:\\Users\\gentemann\\Miniconda3\\envs\\satenv\\lib\\site-packages\\pyresample\\data_reduce.py:304: RuntimeWarning: invalid value encountered in less_equal\n",
      "  valid_lats = (lats >= lat_min_buffered) * (lats <= lat_max_buffered)\n",
      "C:\\Users\\gentemann\\Miniconda3\\envs\\satenv\\lib\\site-packages\\pyresample\\data_reduce.py:308: RuntimeWarning: invalid value encountered in greater_equal\n",
      "  valid_lons = (lons >= lon_min_buffered) * \\\n",
      "C:\\Users\\gentemann\\Miniconda3\\envs\\satenv\\lib\\site-packages\\pyresample\\data_reduce.py:309: RuntimeWarning: invalid value encountered in less_equal\n",
      "  (lons <= lon_max_buffered)\n"
     ]
    },
    {
     "name": "stdout",
     "output_type": "stream",
     "text": [
      "2018-05-23 2018-05-24 1441\n"
     ]
    },
    {
     "name": "stderr",
     "output_type": "stream",
     "text": [
      "C:\\Users\\gentemann\\Miniconda3\\envs\\satenv\\lib\\site-packages\\ipykernel_launcher.py:39: RuntimeWarning: invalid value encountered in remainder\n",
      "C:\\Users\\gentemann\\Miniconda3\\envs\\satenv\\lib\\site-packages\\pyresample\\kd_tree.py:411: RuntimeWarning: invalid value encountered in greater_equal\n",
      "  (source_lats <= 90) & (source_lats >= -90))\n",
      "C:\\Users\\gentemann\\Miniconda3\\envs\\satenv\\lib\\site-packages\\pyresample\\kd_tree.py:411: RuntimeWarning: invalid value encountered in less_equal\n",
      "  (source_lats <= 90) & (source_lats >= -90))\n",
      "C:\\Users\\gentemann\\Miniconda3\\envs\\satenv\\lib\\site-packages\\pyresample\\data_reduce.py:304: RuntimeWarning: invalid value encountered in greater_equal\n",
      "  valid_lats = (lats >= lat_min_buffered) * (lats <= lat_max_buffered)\n",
      "C:\\Users\\gentemann\\Miniconda3\\envs\\satenv\\lib\\site-packages\\pyresample\\data_reduce.py:304: RuntimeWarning: invalid value encountered in less_equal\n",
      "  valid_lats = (lats >= lat_min_buffered) * (lats <= lat_max_buffered)\n",
      "C:\\Users\\gentemann\\Miniconda3\\envs\\satenv\\lib\\site-packages\\pyresample\\data_reduce.py:308: RuntimeWarning: invalid value encountered in greater_equal\n",
      "  valid_lons = (lons >= lon_min_buffered) * \\\n",
      "C:\\Users\\gentemann\\Miniconda3\\envs\\satenv\\lib\\site-packages\\pyresample\\data_reduce.py:309: RuntimeWarning: invalid value encountered in less_equal\n",
      "  (lons <= lon_max_buffered)\n"
     ]
    },
    {
     "name": "stdout",
     "output_type": "stream",
     "text": [
      "2018-05-24 2018-05-25 1441\n"
     ]
    },
    {
     "name": "stderr",
     "output_type": "stream",
     "text": [
      "C:\\Users\\gentemann\\Miniconda3\\envs\\satenv\\lib\\site-packages\\ipykernel_launcher.py:39: RuntimeWarning: invalid value encountered in remainder\n",
      "C:\\Users\\gentemann\\Miniconda3\\envs\\satenv\\lib\\site-packages\\pyresample\\kd_tree.py:411: RuntimeWarning: invalid value encountered in greater_equal\n",
      "  (source_lats <= 90) & (source_lats >= -90))\n",
      "C:\\Users\\gentemann\\Miniconda3\\envs\\satenv\\lib\\site-packages\\pyresample\\kd_tree.py:411: RuntimeWarning: invalid value encountered in less_equal\n",
      "  (source_lats <= 90) & (source_lats >= -90))\n",
      "C:\\Users\\gentemann\\Miniconda3\\envs\\satenv\\lib\\site-packages\\pyresample\\data_reduce.py:304: RuntimeWarning: invalid value encountered in greater_equal\n",
      "  valid_lats = (lats >= lat_min_buffered) * (lats <= lat_max_buffered)\n",
      "C:\\Users\\gentemann\\Miniconda3\\envs\\satenv\\lib\\site-packages\\pyresample\\data_reduce.py:304: RuntimeWarning: invalid value encountered in less_equal\n",
      "  valid_lats = (lats >= lat_min_buffered) * (lats <= lat_max_buffered)\n",
      "C:\\Users\\gentemann\\Miniconda3\\envs\\satenv\\lib\\site-packages\\pyresample\\data_reduce.py:308: RuntimeWarning: invalid value encountered in greater_equal\n",
      "  valid_lons = (lons >= lon_min_buffered) * \\\n",
      "C:\\Users\\gentemann\\Miniconda3\\envs\\satenv\\lib\\site-packages\\pyresample\\data_reduce.py:309: RuntimeWarning: invalid value encountered in less_equal\n",
      "  (lons <= lon_max_buffered)\n"
     ]
    },
    {
     "name": "stdout",
     "output_type": "stream",
     "text": [
      "2018-05-25 2018-05-26 1441\n"
     ]
    },
    {
     "name": "stderr",
     "output_type": "stream",
     "text": [
      "C:\\Users\\gentemann\\Miniconda3\\envs\\satenv\\lib\\site-packages\\ipykernel_launcher.py:39: RuntimeWarning: invalid value encountered in remainder\n",
      "C:\\Users\\gentemann\\Miniconda3\\envs\\satenv\\lib\\site-packages\\pyresample\\kd_tree.py:411: RuntimeWarning: invalid value encountered in greater_equal\n",
      "  (source_lats <= 90) & (source_lats >= -90))\n",
      "C:\\Users\\gentemann\\Miniconda3\\envs\\satenv\\lib\\site-packages\\pyresample\\kd_tree.py:411: RuntimeWarning: invalid value encountered in less_equal\n",
      "  (source_lats <= 90) & (source_lats >= -90))\n",
      "C:\\Users\\gentemann\\Miniconda3\\envs\\satenv\\lib\\site-packages\\pyresample\\data_reduce.py:304: RuntimeWarning: invalid value encountered in greater_equal\n",
      "  valid_lats = (lats >= lat_min_buffered) * (lats <= lat_max_buffered)\n",
      "C:\\Users\\gentemann\\Miniconda3\\envs\\satenv\\lib\\site-packages\\pyresample\\data_reduce.py:304: RuntimeWarning: invalid value encountered in less_equal\n",
      "  valid_lats = (lats >= lat_min_buffered) * (lats <= lat_max_buffered)\n",
      "C:\\Users\\gentemann\\Miniconda3\\envs\\satenv\\lib\\site-packages\\pyresample\\data_reduce.py:308: RuntimeWarning: invalid value encountered in greater_equal\n",
      "  valid_lons = (lons >= lon_min_buffered) * \\\n",
      "C:\\Users\\gentemann\\Miniconda3\\envs\\satenv\\lib\\site-packages\\pyresample\\data_reduce.py:309: RuntimeWarning: invalid value encountered in less_equal\n",
      "  (lons <= lon_max_buffered)\n"
     ]
    },
    {
     "name": "stdout",
     "output_type": "stream",
     "text": [
      "2018-05-26 2018-05-27 1441\n"
     ]
    },
    {
     "name": "stderr",
     "output_type": "stream",
     "text": [
      "C:\\Users\\gentemann\\Miniconda3\\envs\\satenv\\lib\\site-packages\\ipykernel_launcher.py:39: RuntimeWarning: invalid value encountered in remainder\n",
      "C:\\Users\\gentemann\\Miniconda3\\envs\\satenv\\lib\\site-packages\\pyresample\\kd_tree.py:411: RuntimeWarning: invalid value encountered in greater_equal\n",
      "  (source_lats <= 90) & (source_lats >= -90))\n",
      "C:\\Users\\gentemann\\Miniconda3\\envs\\satenv\\lib\\site-packages\\pyresample\\kd_tree.py:411: RuntimeWarning: invalid value encountered in less_equal\n",
      "  (source_lats <= 90) & (source_lats >= -90))\n",
      "C:\\Users\\gentemann\\Miniconda3\\envs\\satenv\\lib\\site-packages\\pyresample\\data_reduce.py:304: RuntimeWarning: invalid value encountered in greater_equal\n",
      "  valid_lats = (lats >= lat_min_buffered) * (lats <= lat_max_buffered)\n",
      "C:\\Users\\gentemann\\Miniconda3\\envs\\satenv\\lib\\site-packages\\pyresample\\data_reduce.py:304: RuntimeWarning: invalid value encountered in less_equal\n",
      "  valid_lats = (lats >= lat_min_buffered) * (lats <= lat_max_buffered)\n",
      "C:\\Users\\gentemann\\Miniconda3\\envs\\satenv\\lib\\site-packages\\pyresample\\data_reduce.py:308: RuntimeWarning: invalid value encountered in greater_equal\n",
      "  valid_lons = (lons >= lon_min_buffered) * \\\n",
      "C:\\Users\\gentemann\\Miniconda3\\envs\\satenv\\lib\\site-packages\\pyresample\\data_reduce.py:309: RuntimeWarning: invalid value encountered in less_equal\n",
      "  (lons <= lon_max_buffered)\n"
     ]
    },
    {
     "name": "stdout",
     "output_type": "stream",
     "text": [
      "2018-05-27 2018-05-28 1441\n"
     ]
    },
    {
     "name": "stderr",
     "output_type": "stream",
     "text": [
      "C:\\Users\\gentemann\\Miniconda3\\envs\\satenv\\lib\\site-packages\\ipykernel_launcher.py:39: RuntimeWarning: invalid value encountered in remainder\n",
      "C:\\Users\\gentemann\\Miniconda3\\envs\\satenv\\lib\\site-packages\\pyresample\\kd_tree.py:411: RuntimeWarning: invalid value encountered in greater_equal\n",
      "  (source_lats <= 90) & (source_lats >= -90))\n",
      "C:\\Users\\gentemann\\Miniconda3\\envs\\satenv\\lib\\site-packages\\pyresample\\kd_tree.py:411: RuntimeWarning: invalid value encountered in less_equal\n",
      "  (source_lats <= 90) & (source_lats >= -90))\n",
      "C:\\Users\\gentemann\\Miniconda3\\envs\\satenv\\lib\\site-packages\\pyresample\\data_reduce.py:304: RuntimeWarning: invalid value encountered in greater_equal\n",
      "  valid_lats = (lats >= lat_min_buffered) * (lats <= lat_max_buffered)\n",
      "C:\\Users\\gentemann\\Miniconda3\\envs\\satenv\\lib\\site-packages\\pyresample\\data_reduce.py:304: RuntimeWarning: invalid value encountered in less_equal\n",
      "  valid_lats = (lats >= lat_min_buffered) * (lats <= lat_max_buffered)\n",
      "C:\\Users\\gentemann\\Miniconda3\\envs\\satenv\\lib\\site-packages\\pyresample\\data_reduce.py:308: RuntimeWarning: invalid value encountered in greater_equal\n",
      "  valid_lons = (lons >= lon_min_buffered) * \\\n",
      "C:\\Users\\gentemann\\Miniconda3\\envs\\satenv\\lib\\site-packages\\pyresample\\data_reduce.py:309: RuntimeWarning: invalid value encountered in less_equal\n",
      "  (lons <= lon_max_buffered)\n"
     ]
    },
    {
     "name": "stdout",
     "output_type": "stream",
     "text": [
      "2018-05-28 2018-05-29 1441\n"
     ]
    },
    {
     "name": "stderr",
     "output_type": "stream",
     "text": [
      "C:\\Users\\gentemann\\Miniconda3\\envs\\satenv\\lib\\site-packages\\ipykernel_launcher.py:39: RuntimeWarning: invalid value encountered in remainder\n",
      "C:\\Users\\gentemann\\Miniconda3\\envs\\satenv\\lib\\site-packages\\pyresample\\kd_tree.py:411: RuntimeWarning: invalid value encountered in greater_equal\n",
      "  (source_lats <= 90) & (source_lats >= -90))\n",
      "C:\\Users\\gentemann\\Miniconda3\\envs\\satenv\\lib\\site-packages\\pyresample\\kd_tree.py:411: RuntimeWarning: invalid value encountered in less_equal\n",
      "  (source_lats <= 90) & (source_lats >= -90))\n",
      "C:\\Users\\gentemann\\Miniconda3\\envs\\satenv\\lib\\site-packages\\pyresample\\data_reduce.py:304: RuntimeWarning: invalid value encountered in greater_equal\n",
      "  valid_lats = (lats >= lat_min_buffered) * (lats <= lat_max_buffered)\n",
      "C:\\Users\\gentemann\\Miniconda3\\envs\\satenv\\lib\\site-packages\\pyresample\\data_reduce.py:304: RuntimeWarning: invalid value encountered in less_equal\n",
      "  valid_lats = (lats >= lat_min_buffered) * (lats <= lat_max_buffered)\n",
      "C:\\Users\\gentemann\\Miniconda3\\envs\\satenv\\lib\\site-packages\\pyresample\\data_reduce.py:308: RuntimeWarning: invalid value encountered in greater_equal\n",
      "  valid_lons = (lons >= lon_min_buffered) * \\\n",
      "C:\\Users\\gentemann\\Miniconda3\\envs\\satenv\\lib\\site-packages\\pyresample\\data_reduce.py:309: RuntimeWarning: invalid value encountered in less_equal\n",
      "  (lons <= lon_max_buffered)\n"
     ]
    },
    {
     "name": "stdout",
     "output_type": "stream",
     "text": [
      "2018-05-29 2018-05-30 1441\n"
     ]
    },
    {
     "name": "stderr",
     "output_type": "stream",
     "text": [
      "C:\\Users\\gentemann\\Miniconda3\\envs\\satenv\\lib\\site-packages\\ipykernel_launcher.py:39: RuntimeWarning: invalid value encountered in remainder\n",
      "C:\\Users\\gentemann\\Miniconda3\\envs\\satenv\\lib\\site-packages\\pyresample\\kd_tree.py:411: RuntimeWarning: invalid value encountered in greater_equal\n",
      "  (source_lats <= 90) & (source_lats >= -90))\n",
      "C:\\Users\\gentemann\\Miniconda3\\envs\\satenv\\lib\\site-packages\\pyresample\\kd_tree.py:411: RuntimeWarning: invalid value encountered in less_equal\n",
      "  (source_lats <= 90) & (source_lats >= -90))\n",
      "C:\\Users\\gentemann\\Miniconda3\\envs\\satenv\\lib\\site-packages\\pyresample\\data_reduce.py:304: RuntimeWarning: invalid value encountered in greater_equal\n",
      "  valid_lats = (lats >= lat_min_buffered) * (lats <= lat_max_buffered)\n",
      "C:\\Users\\gentemann\\Miniconda3\\envs\\satenv\\lib\\site-packages\\pyresample\\data_reduce.py:304: RuntimeWarning: invalid value encountered in less_equal\n",
      "  valid_lats = (lats >= lat_min_buffered) * (lats <= lat_max_buffered)\n",
      "C:\\Users\\gentemann\\Miniconda3\\envs\\satenv\\lib\\site-packages\\pyresample\\data_reduce.py:308: RuntimeWarning: invalid value encountered in greater_equal\n",
      "  valid_lons = (lons >= lon_min_buffered) * \\\n",
      "C:\\Users\\gentemann\\Miniconda3\\envs\\satenv\\lib\\site-packages\\pyresample\\data_reduce.py:309: RuntimeWarning: invalid value encountered in less_equal\n",
      "  (lons <= lon_max_buffered)\n"
     ]
    },
    {
     "name": "stdout",
     "output_type": "stream",
     "text": [
      "2018-05-30 2018-05-31 1441\n"
     ]
    },
    {
     "name": "stderr",
     "output_type": "stream",
     "text": [
      "C:\\Users\\gentemann\\Miniconda3\\envs\\satenv\\lib\\site-packages\\ipykernel_launcher.py:39: RuntimeWarning: invalid value encountered in remainder\n",
      "C:\\Users\\gentemann\\Miniconda3\\envs\\satenv\\lib\\site-packages\\pyresample\\kd_tree.py:411: RuntimeWarning: invalid value encountered in greater_equal\n",
      "  (source_lats <= 90) & (source_lats >= -90))\n",
      "C:\\Users\\gentemann\\Miniconda3\\envs\\satenv\\lib\\site-packages\\pyresample\\kd_tree.py:411: RuntimeWarning: invalid value encountered in less_equal\n",
      "  (source_lats <= 90) & (source_lats >= -90))\n",
      "C:\\Users\\gentemann\\Miniconda3\\envs\\satenv\\lib\\site-packages\\pyresample\\data_reduce.py:304: RuntimeWarning: invalid value encountered in greater_equal\n",
      "  valid_lats = (lats >= lat_min_buffered) * (lats <= lat_max_buffered)\n",
      "C:\\Users\\gentemann\\Miniconda3\\envs\\satenv\\lib\\site-packages\\pyresample\\data_reduce.py:304: RuntimeWarning: invalid value encountered in less_equal\n",
      "  valid_lats = (lats >= lat_min_buffered) * (lats <= lat_max_buffered)\n",
      "C:\\Users\\gentemann\\Miniconda3\\envs\\satenv\\lib\\site-packages\\pyresample\\data_reduce.py:308: RuntimeWarning: invalid value encountered in greater_equal\n",
      "  valid_lons = (lons >= lon_min_buffered) * \\\n",
      "C:\\Users\\gentemann\\Miniconda3\\envs\\satenv\\lib\\site-packages\\pyresample\\data_reduce.py:309: RuntimeWarning: invalid value encountered in less_equal\n",
      "  (lons <= lon_max_buffered)\n"
     ]
    },
    {
     "name": "stdout",
     "output_type": "stream",
     "text": [
      "2018-05-31 2018-06-01 1441\n"
     ]
    },
    {
     "name": "stderr",
     "output_type": "stream",
     "text": [
      "C:\\Users\\gentemann\\Miniconda3\\envs\\satenv\\lib\\site-packages\\ipykernel_launcher.py:39: RuntimeWarning: invalid value encountered in remainder\n",
      "C:\\Users\\gentemann\\Miniconda3\\envs\\satenv\\lib\\site-packages\\pyresample\\kd_tree.py:411: RuntimeWarning: invalid value encountered in greater_equal\n",
      "  (source_lats <= 90) & (source_lats >= -90))\n",
      "C:\\Users\\gentemann\\Miniconda3\\envs\\satenv\\lib\\site-packages\\pyresample\\kd_tree.py:411: RuntimeWarning: invalid value encountered in less_equal\n",
      "  (source_lats <= 90) & (source_lats >= -90))\n",
      "C:\\Users\\gentemann\\Miniconda3\\envs\\satenv\\lib\\site-packages\\pyresample\\data_reduce.py:304: RuntimeWarning: invalid value encountered in greater_equal\n",
      "  valid_lats = (lats >= lat_min_buffered) * (lats <= lat_max_buffered)\n",
      "C:\\Users\\gentemann\\Miniconda3\\envs\\satenv\\lib\\site-packages\\pyresample\\data_reduce.py:304: RuntimeWarning: invalid value encountered in less_equal\n",
      "  valid_lats = (lats >= lat_min_buffered) * (lats <= lat_max_buffered)\n",
      "C:\\Users\\gentemann\\Miniconda3\\envs\\satenv\\lib\\site-packages\\pyresample\\data_reduce.py:308: RuntimeWarning: invalid value encountered in greater_equal\n",
      "  valid_lons = (lons >= lon_min_buffered) * \\\n",
      "C:\\Users\\gentemann\\Miniconda3\\envs\\satenv\\lib\\site-packages\\pyresample\\data_reduce.py:309: RuntimeWarning: invalid value encountered in less_equal\n",
      "  (lons <= lon_max_buffered)\n"
     ]
    },
    {
     "name": "stdout",
     "output_type": "stream",
     "text": [
      "2018-06-01 2018-06-02 1441\n"
     ]
    },
    {
     "name": "stderr",
     "output_type": "stream",
     "text": [
      "C:\\Users\\gentemann\\Miniconda3\\envs\\satenv\\lib\\site-packages\\ipykernel_launcher.py:39: RuntimeWarning: invalid value encountered in remainder\n",
      "C:\\Users\\gentemann\\Miniconda3\\envs\\satenv\\lib\\site-packages\\pyresample\\kd_tree.py:411: RuntimeWarning: invalid value encountered in greater_equal\n",
      "  (source_lats <= 90) & (source_lats >= -90))\n",
      "C:\\Users\\gentemann\\Miniconda3\\envs\\satenv\\lib\\site-packages\\pyresample\\kd_tree.py:411: RuntimeWarning: invalid value encountered in less_equal\n",
      "  (source_lats <= 90) & (source_lats >= -90))\n",
      "C:\\Users\\gentemann\\Miniconda3\\envs\\satenv\\lib\\site-packages\\pyresample\\data_reduce.py:304: RuntimeWarning: invalid value encountered in greater_equal\n",
      "  valid_lats = (lats >= lat_min_buffered) * (lats <= lat_max_buffered)\n",
      "C:\\Users\\gentemann\\Miniconda3\\envs\\satenv\\lib\\site-packages\\pyresample\\data_reduce.py:304: RuntimeWarning: invalid value encountered in less_equal\n",
      "  valid_lats = (lats >= lat_min_buffered) * (lats <= lat_max_buffered)\n",
      "C:\\Users\\gentemann\\Miniconda3\\envs\\satenv\\lib\\site-packages\\pyresample\\data_reduce.py:308: RuntimeWarning: invalid value encountered in greater_equal\n",
      "  valid_lons = (lons >= lon_min_buffered) * \\\n",
      "C:\\Users\\gentemann\\Miniconda3\\envs\\satenv\\lib\\site-packages\\pyresample\\data_reduce.py:309: RuntimeWarning: invalid value encountered in less_equal\n",
      "  (lons <= lon_max_buffered)\n"
     ]
    },
    {
     "name": "stdout",
     "output_type": "stream",
     "text": [
      "2018-06-02 2018-06-03 1441\n"
     ]
    },
    {
     "name": "stderr",
     "output_type": "stream",
     "text": [
      "C:\\Users\\gentemann\\Miniconda3\\envs\\satenv\\lib\\site-packages\\ipykernel_launcher.py:39: RuntimeWarning: invalid value encountered in remainder\n",
      "C:\\Users\\gentemann\\Miniconda3\\envs\\satenv\\lib\\site-packages\\pyresample\\kd_tree.py:411: RuntimeWarning: invalid value encountered in greater_equal\n",
      "  (source_lats <= 90) & (source_lats >= -90))\n",
      "C:\\Users\\gentemann\\Miniconda3\\envs\\satenv\\lib\\site-packages\\pyresample\\kd_tree.py:411: RuntimeWarning: invalid value encountered in less_equal\n",
      "  (source_lats <= 90) & (source_lats >= -90))\n",
      "C:\\Users\\gentemann\\Miniconda3\\envs\\satenv\\lib\\site-packages\\pyresample\\data_reduce.py:304: RuntimeWarning: invalid value encountered in greater_equal\n",
      "  valid_lats = (lats >= lat_min_buffered) * (lats <= lat_max_buffered)\n",
      "C:\\Users\\gentemann\\Miniconda3\\envs\\satenv\\lib\\site-packages\\pyresample\\data_reduce.py:304: RuntimeWarning: invalid value encountered in less_equal\n",
      "  valid_lats = (lats >= lat_min_buffered) * (lats <= lat_max_buffered)\n",
      "C:\\Users\\gentemann\\Miniconda3\\envs\\satenv\\lib\\site-packages\\pyresample\\data_reduce.py:308: RuntimeWarning: invalid value encountered in greater_equal\n",
      "  valid_lons = (lons >= lon_min_buffered) * \\\n",
      "C:\\Users\\gentemann\\Miniconda3\\envs\\satenv\\lib\\site-packages\\pyresample\\data_reduce.py:309: RuntimeWarning: invalid value encountered in less_equal\n",
      "  (lons <= lon_max_buffered)\n"
     ]
    },
    {
     "name": "stdout",
     "output_type": "stream",
     "text": [
      "2018-06-03 2018-06-04 1441\n"
     ]
    },
    {
     "name": "stderr",
     "output_type": "stream",
     "text": [
      "C:\\Users\\gentemann\\Miniconda3\\envs\\satenv\\lib\\site-packages\\ipykernel_launcher.py:39: RuntimeWarning: invalid value encountered in remainder\n",
      "C:\\Users\\gentemann\\Miniconda3\\envs\\satenv\\lib\\site-packages\\pyresample\\kd_tree.py:411: RuntimeWarning: invalid value encountered in greater_equal\n",
      "  (source_lats <= 90) & (source_lats >= -90))\n",
      "C:\\Users\\gentemann\\Miniconda3\\envs\\satenv\\lib\\site-packages\\pyresample\\kd_tree.py:411: RuntimeWarning: invalid value encountered in less_equal\n",
      "  (source_lats <= 90) & (source_lats >= -90))\n",
      "C:\\Users\\gentemann\\Miniconda3\\envs\\satenv\\lib\\site-packages\\pyresample\\data_reduce.py:304: RuntimeWarning: invalid value encountered in greater_equal\n",
      "  valid_lats = (lats >= lat_min_buffered) * (lats <= lat_max_buffered)\n",
      "C:\\Users\\gentemann\\Miniconda3\\envs\\satenv\\lib\\site-packages\\pyresample\\data_reduce.py:304: RuntimeWarning: invalid value encountered in less_equal\n",
      "  valid_lats = (lats >= lat_min_buffered) * (lats <= lat_max_buffered)\n",
      "C:\\Users\\gentemann\\Miniconda3\\envs\\satenv\\lib\\site-packages\\pyresample\\data_reduce.py:308: RuntimeWarning: invalid value encountered in greater_equal\n",
      "  valid_lons = (lons >= lon_min_buffered) * \\\n",
      "C:\\Users\\gentemann\\Miniconda3\\envs\\satenv\\lib\\site-packages\\pyresample\\data_reduce.py:309: RuntimeWarning: invalid value encountered in less_equal\n",
      "  (lons <= lon_max_buffered)\n"
     ]
    },
    {
     "name": "stdout",
     "output_type": "stream",
     "text": [
      "2018-06-04 2018-06-05 1441\n"
     ]
    },
    {
     "name": "stderr",
     "output_type": "stream",
     "text": [
      "C:\\Users\\gentemann\\Miniconda3\\envs\\satenv\\lib\\site-packages\\ipykernel_launcher.py:39: RuntimeWarning: invalid value encountered in remainder\n",
      "C:\\Users\\gentemann\\Miniconda3\\envs\\satenv\\lib\\site-packages\\pyresample\\kd_tree.py:411: RuntimeWarning: invalid value encountered in greater_equal\n",
      "  (source_lats <= 90) & (source_lats >= -90))\n",
      "C:\\Users\\gentemann\\Miniconda3\\envs\\satenv\\lib\\site-packages\\pyresample\\kd_tree.py:411: RuntimeWarning: invalid value encountered in less_equal\n",
      "  (source_lats <= 90) & (source_lats >= -90))\n",
      "C:\\Users\\gentemann\\Miniconda3\\envs\\satenv\\lib\\site-packages\\pyresample\\data_reduce.py:304: RuntimeWarning: invalid value encountered in greater_equal\n",
      "  valid_lats = (lats >= lat_min_buffered) * (lats <= lat_max_buffered)\n",
      "C:\\Users\\gentemann\\Miniconda3\\envs\\satenv\\lib\\site-packages\\pyresample\\data_reduce.py:304: RuntimeWarning: invalid value encountered in less_equal\n",
      "  valid_lats = (lats >= lat_min_buffered) * (lats <= lat_max_buffered)\n",
      "C:\\Users\\gentemann\\Miniconda3\\envs\\satenv\\lib\\site-packages\\pyresample\\data_reduce.py:308: RuntimeWarning: invalid value encountered in greater_equal\n",
      "  valid_lons = (lons >= lon_min_buffered) * \\\n",
      "C:\\Users\\gentemann\\Miniconda3\\envs\\satenv\\lib\\site-packages\\pyresample\\data_reduce.py:309: RuntimeWarning: invalid value encountered in less_equal\n",
      "  (lons <= lon_max_buffered)\n"
     ]
    },
    {
     "name": "stdout",
     "output_type": "stream",
     "text": [
      "2018-06-05 2018-06-06 1441\n"
     ]
    },
    {
     "name": "stderr",
     "output_type": "stream",
     "text": [
      "C:\\Users\\gentemann\\Miniconda3\\envs\\satenv\\lib\\site-packages\\ipykernel_launcher.py:39: RuntimeWarning: invalid value encountered in remainder\n",
      "C:\\Users\\gentemann\\Miniconda3\\envs\\satenv\\lib\\site-packages\\pyresample\\kd_tree.py:411: RuntimeWarning: invalid value encountered in greater_equal\n",
      "  (source_lats <= 90) & (source_lats >= -90))\n",
      "C:\\Users\\gentemann\\Miniconda3\\envs\\satenv\\lib\\site-packages\\pyresample\\kd_tree.py:411: RuntimeWarning: invalid value encountered in less_equal\n",
      "  (source_lats <= 90) & (source_lats >= -90))\n",
      "C:\\Users\\gentemann\\Miniconda3\\envs\\satenv\\lib\\site-packages\\pyresample\\data_reduce.py:304: RuntimeWarning: invalid value encountered in greater_equal\n",
      "  valid_lats = (lats >= lat_min_buffered) * (lats <= lat_max_buffered)\n",
      "C:\\Users\\gentemann\\Miniconda3\\envs\\satenv\\lib\\site-packages\\pyresample\\data_reduce.py:304: RuntimeWarning: invalid value encountered in less_equal\n",
      "  valid_lats = (lats >= lat_min_buffered) * (lats <= lat_max_buffered)\n",
      "C:\\Users\\gentemann\\Miniconda3\\envs\\satenv\\lib\\site-packages\\pyresample\\data_reduce.py:308: RuntimeWarning: invalid value encountered in greater_equal\n",
      "  valid_lons = (lons >= lon_min_buffered) * \\\n",
      "C:\\Users\\gentemann\\Miniconda3\\envs\\satenv\\lib\\site-packages\\pyresample\\data_reduce.py:309: RuntimeWarning: invalid value encountered in less_equal\n",
      "  (lons <= lon_max_buffered)\n"
     ]
    },
    {
     "name": "stdout",
     "output_type": "stream",
     "text": [
      "2018-06-06 2018-06-07 1441\n"
     ]
    },
    {
     "name": "stderr",
     "output_type": "stream",
     "text": [
      "C:\\Users\\gentemann\\Miniconda3\\envs\\satenv\\lib\\site-packages\\ipykernel_launcher.py:39: RuntimeWarning: invalid value encountered in remainder\n",
      "C:\\Users\\gentemann\\Miniconda3\\envs\\satenv\\lib\\site-packages\\pyresample\\kd_tree.py:411: RuntimeWarning: invalid value encountered in greater_equal\n",
      "  (source_lats <= 90) & (source_lats >= -90))\n",
      "C:\\Users\\gentemann\\Miniconda3\\envs\\satenv\\lib\\site-packages\\pyresample\\kd_tree.py:411: RuntimeWarning: invalid value encountered in less_equal\n",
      "  (source_lats <= 90) & (source_lats >= -90))\n",
      "C:\\Users\\gentemann\\Miniconda3\\envs\\satenv\\lib\\site-packages\\pyresample\\data_reduce.py:304: RuntimeWarning: invalid value encountered in greater_equal\n",
      "  valid_lats = (lats >= lat_min_buffered) * (lats <= lat_max_buffered)\n",
      "C:\\Users\\gentemann\\Miniconda3\\envs\\satenv\\lib\\site-packages\\pyresample\\data_reduce.py:304: RuntimeWarning: invalid value encountered in less_equal\n",
      "  valid_lats = (lats >= lat_min_buffered) * (lats <= lat_max_buffered)\n",
      "C:\\Users\\gentemann\\Miniconda3\\envs\\satenv\\lib\\site-packages\\pyresample\\data_reduce.py:308: RuntimeWarning: invalid value encountered in greater_equal\n",
      "  valid_lons = (lons >= lon_min_buffered) * \\\n",
      "C:\\Users\\gentemann\\Miniconda3\\envs\\satenv\\lib\\site-packages\\pyresample\\data_reduce.py:309: RuntimeWarning: invalid value encountered in less_equal\n",
      "  (lons <= lon_max_buffered)\n"
     ]
    },
    {
     "name": "stdout",
     "output_type": "stream",
     "text": [
      "2018-06-07 2018-06-08 1441\n"
     ]
    },
    {
     "name": "stderr",
     "output_type": "stream",
     "text": [
      "C:\\Users\\gentemann\\Miniconda3\\envs\\satenv\\lib\\site-packages\\ipykernel_launcher.py:39: RuntimeWarning: invalid value encountered in remainder\n",
      "C:\\Users\\gentemann\\Miniconda3\\envs\\satenv\\lib\\site-packages\\pyresample\\kd_tree.py:411: RuntimeWarning: invalid value encountered in greater_equal\n",
      "  (source_lats <= 90) & (source_lats >= -90))\n",
      "C:\\Users\\gentemann\\Miniconda3\\envs\\satenv\\lib\\site-packages\\pyresample\\kd_tree.py:411: RuntimeWarning: invalid value encountered in less_equal\n",
      "  (source_lats <= 90) & (source_lats >= -90))\n",
      "C:\\Users\\gentemann\\Miniconda3\\envs\\satenv\\lib\\site-packages\\pyresample\\data_reduce.py:304: RuntimeWarning: invalid value encountered in greater_equal\n",
      "  valid_lats = (lats >= lat_min_buffered) * (lats <= lat_max_buffered)\n",
      "C:\\Users\\gentemann\\Miniconda3\\envs\\satenv\\lib\\site-packages\\pyresample\\data_reduce.py:304: RuntimeWarning: invalid value encountered in less_equal\n",
      "  valid_lats = (lats >= lat_min_buffered) * (lats <= lat_max_buffered)\n",
      "C:\\Users\\gentemann\\Miniconda3\\envs\\satenv\\lib\\site-packages\\pyresample\\data_reduce.py:308: RuntimeWarning: invalid value encountered in greater_equal\n",
      "  valid_lons = (lons >= lon_min_buffered) * \\\n",
      "C:\\Users\\gentemann\\Miniconda3\\envs\\satenv\\lib\\site-packages\\pyresample\\data_reduce.py:309: RuntimeWarning: invalid value encountered in less_equal\n",
      "  (lons <= lon_max_buffered)\n"
     ]
    },
    {
     "name": "stdout",
     "output_type": "stream",
     "text": [
      "2018-06-08 2018-06-09 1441\n"
     ]
    },
    {
     "name": "stderr",
     "output_type": "stream",
     "text": [
      "C:\\Users\\gentemann\\Miniconda3\\envs\\satenv\\lib\\site-packages\\ipykernel_launcher.py:39: RuntimeWarning: invalid value encountered in remainder\n",
      "C:\\Users\\gentemann\\Miniconda3\\envs\\satenv\\lib\\site-packages\\pyresample\\kd_tree.py:411: RuntimeWarning: invalid value encountered in greater_equal\n",
      "  (source_lats <= 90) & (source_lats >= -90))\n",
      "C:\\Users\\gentemann\\Miniconda3\\envs\\satenv\\lib\\site-packages\\pyresample\\kd_tree.py:411: RuntimeWarning: invalid value encountered in less_equal\n",
      "  (source_lats <= 90) & (source_lats >= -90))\n",
      "C:\\Users\\gentemann\\Miniconda3\\envs\\satenv\\lib\\site-packages\\pyresample\\data_reduce.py:304: RuntimeWarning: invalid value encountered in greater_equal\n",
      "  valid_lats = (lats >= lat_min_buffered) * (lats <= lat_max_buffered)\n",
      "C:\\Users\\gentemann\\Miniconda3\\envs\\satenv\\lib\\site-packages\\pyresample\\data_reduce.py:304: RuntimeWarning: invalid value encountered in less_equal\n",
      "  valid_lats = (lats >= lat_min_buffered) * (lats <= lat_max_buffered)\n",
      "C:\\Users\\gentemann\\Miniconda3\\envs\\satenv\\lib\\site-packages\\pyresample\\data_reduce.py:308: RuntimeWarning: invalid value encountered in greater_equal\n",
      "  valid_lons = (lons >= lon_min_buffered) * \\\n",
      "C:\\Users\\gentemann\\Miniconda3\\envs\\satenv\\lib\\site-packages\\pyresample\\data_reduce.py:309: RuntimeWarning: invalid value encountered in less_equal\n",
      "  (lons <= lon_max_buffered)\n"
     ]
    },
    {
     "name": "stdout",
     "output_type": "stream",
     "text": [
      "2018-06-09 2018-06-10 1441\n"
     ]
    },
    {
     "name": "stderr",
     "output_type": "stream",
     "text": [
      "C:\\Users\\gentemann\\Miniconda3\\envs\\satenv\\lib\\site-packages\\ipykernel_launcher.py:39: RuntimeWarning: invalid value encountered in remainder\n",
      "C:\\Users\\gentemann\\Miniconda3\\envs\\satenv\\lib\\site-packages\\pyresample\\kd_tree.py:411: RuntimeWarning: invalid value encountered in greater_equal\n",
      "  (source_lats <= 90) & (source_lats >= -90))\n",
      "C:\\Users\\gentemann\\Miniconda3\\envs\\satenv\\lib\\site-packages\\pyresample\\kd_tree.py:411: RuntimeWarning: invalid value encountered in less_equal\n",
      "  (source_lats <= 90) & (source_lats >= -90))\n",
      "C:\\Users\\gentemann\\Miniconda3\\envs\\satenv\\lib\\site-packages\\pyresample\\data_reduce.py:304: RuntimeWarning: invalid value encountered in greater_equal\n",
      "  valid_lats = (lats >= lat_min_buffered) * (lats <= lat_max_buffered)\n",
      "C:\\Users\\gentemann\\Miniconda3\\envs\\satenv\\lib\\site-packages\\pyresample\\data_reduce.py:304: RuntimeWarning: invalid value encountered in less_equal\n",
      "  valid_lats = (lats >= lat_min_buffered) * (lats <= lat_max_buffered)\n",
      "C:\\Users\\gentemann\\Miniconda3\\envs\\satenv\\lib\\site-packages\\pyresample\\data_reduce.py:308: RuntimeWarning: invalid value encountered in greater_equal\n",
      "  valid_lons = (lons >= lon_min_buffered) * \\\n",
      "C:\\Users\\gentemann\\Miniconda3\\envs\\satenv\\lib\\site-packages\\pyresample\\data_reduce.py:309: RuntimeWarning: invalid value encountered in less_equal\n",
      "  (lons <= lon_max_buffered)\n"
     ]
    },
    {
     "name": "stdout",
     "output_type": "stream",
     "text": [
      "2018-06-10 2018-06-11 1140\n"
     ]
    },
    {
     "name": "stderr",
     "output_type": "stream",
     "text": [
      "C:\\Users\\gentemann\\Miniconda3\\envs\\satenv\\lib\\site-packages\\ipykernel_launcher.py:39: RuntimeWarning: invalid value encountered in remainder\n",
      "C:\\Users\\gentemann\\Miniconda3\\envs\\satenv\\lib\\site-packages\\pyresample\\kd_tree.py:411: RuntimeWarning: invalid value encountered in greater_equal\n",
      "  (source_lats <= 90) & (source_lats >= -90))\n",
      "C:\\Users\\gentemann\\Miniconda3\\envs\\satenv\\lib\\site-packages\\pyresample\\kd_tree.py:411: RuntimeWarning: invalid value encountered in less_equal\n",
      "  (source_lats <= 90) & (source_lats >= -90))\n",
      "C:\\Users\\gentemann\\Miniconda3\\envs\\satenv\\lib\\site-packages\\pyresample\\data_reduce.py:304: RuntimeWarning: invalid value encountered in greater_equal\n",
      "  valid_lats = (lats >= lat_min_buffered) * (lats <= lat_max_buffered)\n",
      "C:\\Users\\gentemann\\Miniconda3\\envs\\satenv\\lib\\site-packages\\pyresample\\data_reduce.py:304: RuntimeWarning: invalid value encountered in less_equal\n",
      "  valid_lats = (lats >= lat_min_buffered) * (lats <= lat_max_buffered)\n",
      "C:\\Users\\gentemann\\Miniconda3\\envs\\satenv\\lib\\site-packages\\pyresample\\data_reduce.py:308: RuntimeWarning: invalid value encountered in greater_equal\n",
      "  valid_lons = (lons >= lon_min_buffered) * \\\n",
      "C:\\Users\\gentemann\\Miniconda3\\envs\\satenv\\lib\\site-packages\\pyresample\\data_reduce.py:309: RuntimeWarning: invalid value encountered in less_equal\n",
      "  (lons <= lon_max_buffered)\n"
     ]
    },
    {
     "name": "stdout",
     "output_type": "stream",
     "text": [
      "2018-06-11 2018-06-12 0\n"
     ]
    }
   ],
   "source": [
    "#search each day of USV data for min/max lat/lon \n",
    "#read in orbital files for that day and check to see if any valid data in that box\n",
    "\n",
    "#intialize grid\n",
    "area_def = load_area('areas.cfg', 'pc_world')\n",
    "rlon=np.arange(-180,180,.1)\n",
    "rlat=np.arange(90,-90,-.1)\n",
    "\n",
    "#init filelist\n",
    "file_save=[]\n",
    "\n",
    "#search usv data\n",
    "ds_usv = read_usv()\n",
    "minday,maxday = ds_usv.time[0],ds_usv.time[-1]\n",
    "usv_day = minday\n",
    "print(minday.data,maxday.data)\n",
    "while usv_day<=maxday:\n",
    "    usv_day += np.timedelta64(1,'D')\n",
    "    check_day = np.datetime64(str(usv_day.dt.year.data)+'-'+str(usv_day.dt.month.data).zfill(2)+'-'+str(usv_day.dt.day.data).zfill(2))\n",
    "    usv_day1 = usv_day + np.timedelta64(1,'D')\n",
    "    check_day1 = np.datetime64(str(usv_day1.dt.year.data)+'-'+str(usv_day1.dt.month.data).zfill(2)+'-'+str(usv_day1.dt.day.data).zfill(2))\n",
    "    ds_day = ds_usv.sel(time=slice(check_day,check_day1))\n",
    "    ilen = ds_day.time.size\n",
    "    print(check_day,check_day1,ilen)\n",
    "    if ilen<10:\n",
    "        continue\n",
    "    minlon,maxlon,minlat,maxlat = ds_day.lon.min().data,ds_day.lon.max().data,ds_day.lat.min().data,ds_day.lat.max().data\n",
    "#caluclate filelist\n",
    "    filelist = glob('F:/data/sat_data/smap/SSS/L2/RSS/V3/40km/'\n",
    "                    +str(usv_day.dt.year.data)+'/'+str(usv_day.dt.dayofyear.data)+'/*.nc')   \n",
    "    x,y,z = [],[],[]\n",
    "    for file in filelist:\n",
    "        ds = xr.open_dataset(file)\n",
    "        ds.close()\n",
    "        x = ds.cellon[:,:,0].data #np.append(x,ds.cellon[:,:,0].data)\n",
    "        y = ds.cellat[:,:,0].data #np.append(y,ds.cellat[:,:,0].data)\n",
    "        z = ds.sss_smap[:,:,0].data #np.append(z,ds.sss_smap[:,:,0].data)\n",
    "        lons,lats,data = x,y,z \n",
    "        lons = np.mod(lons+180,360)-180\n",
    "        swath_def = SwathDefinition(lons, lats)\n",
    "        result1 = resample_nearest(swath_def, data, area_def, radius_of_influence=20000, fill_value=None)\n",
    "        da = xr.DataArray(result1,name='sss',coords={'lat':rlat,'lon':rlon},dims=('lat','lon'))\n",
    "        subset = da.sel(lat = slice(maxlat,minlat),lon=slice(minlon,maxlon))\n",
    "        num_obs = np.isfinite(subset).sum()\n",
    "        if num_obs>0:\n",
    "            file_save = np.append(file_save,file)\n",
    "df = xr.DataArray(file_save,name='filenames')\n",
    "df.to_netcdf('F:/data/cruise_data/saildrone/sat_collocations/rss40km_filesave.nc')"
   ]
  },
  {
   "cell_type": "code",
   "execution_count": 4,
   "metadata": {},
   "outputs": [],
   "source": [
    "#now read in orbits that have collocated data\n",
    "#subset orbit to region USV has data on that day\n",
    "#need to fill lat/lon nan with value for tree to build\n",
    "#just picked -89 as it is outside usv observation region\n",
    "df = xr.open_dataset('F:/data/cruise_data/saildrone/sat_collocations/rss40km_filesave.nc')\n",
    "for ilook in range(2):\n",
    "    ds_usv = read_usv()\n",
    "    for file2 in df.filenames.data:\n",
    "        file = file2\n",
    "        file.replace('\\\\','/')\n",
    "        ds = xr.open_dataset(file)\n",
    "        ds.close()     \n",
    "        idim = ds.xdim_grid.size\n",
    "        lons = ds.cellon[:,:,ilook].fillna(-89).data #np.append(x,ds.cellon[:,:,0].data)\n",
    "        lats = ds.cellat[:,:,ilook].fillna(-89).data #np.append(y,ds.cellat[:,:,0].data)\n",
    "        inputdata = list(zip(lons.ravel(), lats.ravel()))\n",
    "        tree = spatial.KDTree(inputdata)\n",
    "        orbit_time = ds.time[:,:,0].max().data-np.timedelta64(1,'D')\n",
    "        orbit_time2 = ds.time[:,:,0].max().data+np.timedelta64(1,'D')    \n",
    "        usv_subset = ds_usv.sel(time=slice(orbit_time,orbit_time2))\n",
    "        ilen = ds_usv.time.size\n",
    "        for iusv in range(ilen):\n",
    "            if (ds_usv.time[iusv]<orbit_time) or (ds_usv.time[iusv]>orbit_time2):\n",
    "                continue\n",
    "            pts = np.array([ds_usv.lon[iusv]+360, ds_usv.lat[iusv]])\n",
    "            tree.query(pts,k=1)\n",
    "            i=tree.query(pts)[1]\n",
    "            ii,jj = np.int(np.floor(i/idim)), np.mod(i,idim)\n",
    "            deltaTa = ((ds_usv.time[iusv]-ds.time[ii,jj,ilook]).data)/ np.timedelta64(1,'m')\n",
    "            if np.abs(deltaTa)<np.abs(ds_usv.deltaT[iusv].data):\n",
    "                ds_usv.deltaT[iusv]=deltaTa\n",
    "                ds_usv.smap_SSS[iusv]=ds.sss_smap[ii,jj,ilook]\n",
    "                if ds_usv.smap_SSS[iusv]>45:\n",
    "                    ds_usv.smap_SSS[iusv]=np.nan\n",
    "                ds_usv.smap_iqc_flag[iusv]=ds.iqc_flag[ii,jj,ilook]\n",
    "                ds_usv.smap_name[iusv]=file2\n",
    "                ds_usv.smap_ydim[iusv]=ii\n",
    "                ds_usv.smap_xdim[iusv]=jj\n",
    "    fileout = 'F:/data/cruise_data/saildrone/sat_collocations/rss40km'+str(ilook)+'_usv.nc'\n",
    "    ds_usv.to_netcdf(fileout)"
   ]
  },
  {
   "cell_type": "code",
   "execution_count": 5,
   "metadata": {},
   "outputs": [
    {
     "data": {
      "text/plain": [
       "<matplotlib.collections.QuadMesh at 0x1ab7b94d390>"
      ]
     },
     "execution_count": 5,
     "metadata": {},
     "output_type": "execute_result"
    },
    {
     "data": {
      "image/png": "[encoded data removed]",
      "text/plain": [
       "<Figure size 432x288 with 2 Axes>"
      ]
     },
     "metadata": {
      "needs_background": "light"
     },
     "output_type": "display_data"
    }
   ],
   "source": [
    "#ds.iqc_flag.attrs['flag_meanings']\n",
    "ds.iqc_flag[:,:,0].plot()"
   ]
  },
  {
   "cell_type": "code",
   "execution_count": 6,
   "metadata": {},
   "outputs": [
    {
     "name": "stdout",
     "output_type": "stream",
     "text": [
      "nan nan\n"
     ]
    },
    {
     "name": "stderr",
     "output_type": "stream",
     "text": [
      "C:\\Users\\gentemann\\Miniconda3\\envs\\satenv\\lib\\site-packages\\xarray\\core\\nanops.py:159: RuntimeWarning: Mean of empty slice\n",
      "  return np.nanmean(a, axis=axis, dtype=dtype)\n"
     ]
    }
   ],
   "source": [
    "tem = ds_usv.smap_SSS.where(ds_usv.smap_SSS<45,np.NaN)\n",
    "tem = tem.where(ds_usv.smap_SSS>28,np.NaN)\n",
    "print((tem-ds_usv.SAL_MEAN).mean().data,(tem-ds_usv.SAL_MEAN).std().data)\n"
   ]
  },
  {
   "cell_type": "code",
   "execution_count": 7,
   "metadata": {},
   "outputs": [
    {
     "data": {
      "text/plain": [
       "[<matplotlib.lines.Line2D at 0x1ab0103cb70>]"
      ]
     },
     "execution_count": 7,
     "metadata": {},
     "output_type": "execute_result"
    },
    {
     "data": {
      "image/png": "[encoded data removed]",
      "text/plain": [
       "<Figure size 432x288 with 1 Axes>"
      ]
     },
     "metadata": {
      "needs_background": "light"
     },
     "output_type": "display_data"
    }
   ],
   "source": [
    "#tem = ds_usv.smap_SSS.where(ds_usv.smap_SSS<45,np.NaN)\n",
    "#tem.plot()\n",
    "plt.plot(tem.time,tem)\n",
    "plt.plot(ds_usv.time,ds_usv.SAL_MEAN)"
   ]
  },
  {
   "cell_type": "code",
   "execution_count": 8,
   "metadata": {},
   "outputs": [
    {
     "data": {
      "image/png": "[encoded data removed]",
      "text/plain": [
       "<Figure size 432x288 with 3 Axes>"
      ]
     },
     "metadata": {
      "needs_background": "light"
     },
     "output_type": "display_data"
    }
   ],
   "source": [
    "#plot cruise SSS with coastlines\n",
    "ax = plt.subplot(221,projection=ccrs.PlateCarree())\n",
    "cs1 = ax.scatter(ds_usv.lon, ds_usv.lat, s=3.0, c=ds_usv.SAL_MEAN, edgecolor='none', cmap='jet',vmin=33,vmax=34.35)\n",
    "ax.coastlines()\n",
    "x1,x2,y1,y2 = -128,-112,25,40\n",
    "ax.set_xlim(x1,x2)\n",
    "ax.set_ylim(y1,y2)\n",
    "ax.set_xticks(np.arange(x1,x2,4))\n",
    "ax.set_yticks(np.arange(y1,y2,5))\n",
    "\n",
    "ax = plt.subplot(222,projection=ccrs.PlateCarree())\n",
    "cs1 = ax.scatter(ds_usv.lon, ds_usv.lat, s=3.0, c=ds_usv.smap_SSS, edgecolor='none', cmap='jet',vmin=33,vmax=34.35)\n",
    "ax.coastlines()\n",
    "x1,x2,y1,y2 = -128,-112,25,40\n",
    "ax.set_xlim(x1,x2)\n",
    "ax.set_ylim(y1,y2)\n",
    "ax.set_xticks(np.arange(x1,x2,4))\n",
    "ax.set_yticks(np.arange(y1,y2,5))\n",
    "\n",
    "cax = plt.colorbar(cs1)\n",
    "cax.set_label('Salinity (psu)')\n",
    "fig_fname = 'C:/Users/gentemann/Google Drive/f_drive/docs/projects/SSS/figures/baja_location2.png'\n",
    "plt.savefig(fig_fname, transparent=False, format='png')\n"
   ]
  },
  {
   "cell_type": "code",
   "execution_count": null,
   "metadata": {},
   "outputs": [
    {
     "data": {
      "image/png": "[encoded data removed]",
      "text/plain": [
       "<Figure size 432x288 with 2 Axes>"
      ]
     },
     "metadata": {
      "needs_background": "light"
     },
     "output_type": "display_data"
    }
   ],
   "source": [
    "ds_usv = read_usv()\n",
    "\n",
    "#plot cruise SSS with coastlines\n",
    "ax = plt.axes(projection=ccrs.PlateCarree())\n",
    "cs1 = ax.scatter(ds_usv.lon, ds_usv.lat, s=3.0, c=ds_usv.SAL_MEAN, edgecolor='none', cmap='jet',vmin=33,vmax=34.35)\n",
    "ax.coastlines()\n",
    "x1,x2,y1,y2 = -128,-112,25,40\n",
    "ax.set_xlim(x1,x2)\n",
    "ax.set_ylim(y1,y2)\n",
    "ax.set_xticks(np.arange(x1,x2,4))\n",
    "ax.set_yticks(np.arange(y1,y2,5))\n",
    "cax = plt.colorbar(cs1)\n",
    "cax.set_label('Salinity (psu)')\n",
    "fig_fname = 'C:/Users/gentemann/Google Drive/f_drive/docs/projects/SSS/figures/baja_location.png'\n",
    "plt.savefig(fig_fname, transparent=False, format='png')"
   ]
  },
  {
   "cell_type": "markdown",
   "metadata": {},
   "source": [
    "## now do JPL SSS"
   ]
  },
  {
   "cell_type": "code",
   "execution_count": 4,
   "metadata": {},
   "outputs": [
    {
     "name": "stdout",
     "output_type": "stream",
     "text": [
      "1624\n",
      "2022-12-03T11:58:56.000000000 2022-12-05T11:58:56.000000000\n"
     ]
    }
   ],
   "source": [
    "fname = 'F:/data/sat_data/smap/SSS/L2/JPL/V4.2/2018/352/SMAP_L2B_SSS_20722_20181218T102031_R16020_V4.2.h5'\n",
    "ds = xr.open_dataset(fname)\n",
    "print(ds.phony_dim_1.size)\n",
    "ds\n",
    "orbit_time = ds.row_time.max().data-np.timedelta64(1,'D')\n",
    "orbit_time2 = ds.row_time.max().data+np.timedelta64(1,'D')    \n",
    "print(orbit_time,orbit_time2)"
   ]
  },
  {
   "cell_type": "code",
   "execution_count": null,
   "metadata": {},
   "outputs": [],
   "source": []
  },
  {
   "cell_type": "code",
   "execution_count": null,
   "metadata": {},
   "outputs": [],
   "source": []
  },
  {
   "cell_type": "code",
   "execution_count": null,
   "metadata": {},
   "outputs": [
    {
     "name": "stdout",
     "output_type": "stream",
     "text": [
      "2018-04-12T02:00:00.000000000 2018-06-10T18:59:00.000000000\n",
      "2018-04-13 2018-04-14 1441\n",
      "2018-04-14 2018-04-15 1441\n",
      "2018-04-15 2018-04-16 1441\n",
      "2018-04-16 2018-04-17 1441\n",
      "2018-04-17 2018-04-18 1441\n",
      "2018-04-18 2018-04-19 1441\n",
      "2018-04-19 2018-04-20 1441\n",
      "2018-04-20 2018-04-21 1441\n",
      "2018-04-21 2018-04-22 1441\n",
      "2018-04-22 2018-04-23 1441\n",
      "2018-04-23 2018-04-24 1441\n",
      "2018-04-24 2018-04-25 1441\n",
      "2018-04-25 2018-04-26 1441\n",
      "2018-04-26 2018-04-27 1441\n",
      "2018-04-27 2018-04-28 1441\n",
      "2018-04-28 2018-04-29 1441\n",
      "2018-04-29 2018-04-30 1441\n",
      "2018-04-30 2018-05-01 1441\n",
      "2018-05-01 2018-05-02 1441\n",
      "2018-05-02 2018-05-03 1441\n",
      "2018-05-03 2018-05-04 1441\n",
      "2018-05-04 2018-05-05 1441\n",
      "2018-05-05 2018-05-06 1441\n",
      "2018-05-06 2018-05-07 1441\n",
      "2018-05-07 2018-05-08 1441\n",
      "2018-05-08 2018-05-09 1441\n",
      "2018-05-09 2018-05-10 1441\n",
      "2018-05-10 2018-05-11 1441\n",
      "2018-05-11 2018-05-12 1441\n",
      "2018-05-12 2018-05-13 1441\n",
      "2018-05-13 2018-05-14 1441\n",
      "2018-05-14 2018-05-15 1441\n",
      "2018-05-15 2018-05-16 1441\n",
      "2018-05-16 2018-05-17 1441\n",
      "2018-05-17 2018-05-18 1441\n",
      "2018-05-18 2018-05-19 1441\n",
      "2018-05-19 2018-05-20 1441\n",
      "2018-05-20 2018-05-21 1441\n",
      "2018-05-21 2018-05-22 1441\n",
      "2018-05-22 2018-05-23 1441\n",
      "2018-05-23 2018-05-24 1441\n",
      "2018-05-24 2018-05-25 1441\n",
      "2018-05-25 2018-05-26 1441\n",
      "2018-05-26 2018-05-27 1441\n",
      "2018-05-27 2018-05-28 1441\n",
      "2018-05-28 2018-05-29 1441\n",
      "2018-05-29 2018-05-30 1441\n",
      "2018-05-30 2018-05-31 1441\n",
      "2018-05-31 2018-06-01 1441\n",
      "2018-06-01 2018-06-02 1441\n",
      "2018-06-02 2018-06-03 1441\n",
      "2018-06-03 2018-06-04 1441\n",
      "2018-06-04 2018-06-05 1441\n",
      "2018-06-05 2018-06-06 1441\n",
      "2018-06-06 2018-06-07 1441\n",
      "2018-06-07 2018-06-08 1441\n",
      "2018-06-08 2018-06-09 1441\n",
      "2018-06-09 2018-06-10 1441\n",
      "2018-06-10 2018-06-11 1140\n",
      "2018-06-11 2018-06-12 0\n"
     ]
    }
   ],
   "source": [
    "#search each day of USV data for min/max lat/lon \n",
    "#read in orbital files for that day and check to see if any valid data in that box\n",
    "\n",
    "#intialize grid\n",
    "area_def = load_area('areas.cfg', 'pc_world')\n",
    "rlon=np.arange(-180,180,.1)\n",
    "rlat=np.arange(90,-90,-.1)\n",
    "\n",
    "#init filelist\n",
    "file_save=[]\n",
    "\n",
    "#search usv data\n",
    "ds_usv = read_usv()\n",
    "minday,maxday = ds_usv.time[0],ds_usv.time[-1]\n",
    "#minday,maxday = ds_usv.time[0],ds_usv.time[100]\n",
    "usv_day = minday\n",
    "print(minday.data,maxday.data)\n",
    "while usv_day<=maxday:\n",
    "    usv_day += np.timedelta64(1,'D')\n",
    "    check_day = np.datetime64(str(usv_day.dt.year.data)+'-'+str(usv_day.dt.month.data).zfill(2)+'-'+str(usv_day.dt.day.data).zfill(2))\n",
    "    usv_day1 = usv_day + np.timedelta64(1,'D')\n",
    "    check_day1 = np.datetime64(str(usv_day1.dt.year.data)+'-'+str(usv_day1.dt.month.data).zfill(2)+'-'+str(usv_day1.dt.day.data).zfill(2))\n",
    "    ds_day = ds_usv.sel(time=slice(check_day,check_day1))\n",
    "    ilen = ds_day.time.size\n",
    "    print(check_day,check_day1,ilen)\n",
    "    if ilen<10:\n",
    "        continue\n",
    "    minlon,maxlon,minlat,maxlat = ds_day.lon.min().data,ds_day.lon.max().data,ds_day.lat.min().data,ds_day.lat.max().data\n",
    "#caluclate filelist\n",
    "    filelist = glob('F:/data/sat_data/smap/SSS/L2/JPL/V4.2/'\n",
    "                    +str(usv_day.dt.year.data)+'/'+str(usv_day.dt.dayofyear.data)+'/*.h5')   \n",
    "    x,y,z = [],[],[]\n",
    "    for file in filelist:\n",
    "        ds = xr.open_dataset(file)\n",
    "        ds.close()\n",
    "        lons = ds.lon.fillna(-89).data #np.append(x,ds.cellon[:,:,0].data)\n",
    "        lats = ds.lat.fillna(-89).data #np.append(y,ds.cellat[:,:,0].data)\n",
    "        x = lons #ds.lon.data \n",
    "        y = lats #ds.lat.data \n",
    "        z = ds.smap_sss.data \n",
    "        lons,lats,data = x,y,z \n",
    "     #   lons = np.mod(lons+180,360)-180\n",
    "        swath_def = SwathDefinition(lons, lats)\n",
    "        result1 = resample_nearest(swath_def, data, area_def, radius_of_influence=20000, fill_value=None)\n",
    "        da = xr.DataArray(result1,name='sss',coords={'lat':rlat,'lon':rlon},dims=('lat','lon'))\n",
    "        subset = da.sel(lat = slice(maxlat,minlat),lon=slice(minlon,maxlon))\n",
    "        num_obs = np.isfinite(subset).sum()\n",
    "        if num_obs>0:\n",
    "            file_save = np.append(file_save,file)\n",
    "df = xr.DataArray(file_save,name='filenames')\n",
    "df.to_netcdf('F:/data/cruise_data/saildrone/sat_collocations/jplv4.2_filesave.nc')"
   ]
  },
  {
   "cell_type": "code",
   "execution_count": null,
   "metadata": {},
   "outputs": [],
   "source": [
    "#now read in orbits that have collocated data\n",
    "#subset orbit to region USV has data on that day\n",
    "#need to fill lat/lon nan with value for tree to build\n",
    "#just picked -89 as it is outside usv observation region\n",
    "#updated code to remove need to fill nan with -89, instead I flatten\n",
    "#the array using .stack and then run the tree, then using where to find original indices\n",
    "df = xr.open_dataset('F:/data/cruise_data/saildrone/sat_collocations/jplv4.2_filesave.nc')\n",
    "ds_usv = read_usv()\n",
    "for file2 in df.filenames.data:\n",
    "    file = file2\n",
    "    file.replace('\\\\','/')\n",
    "    ds = xr.open_dataset(file)\n",
    "    ds.close()  \n",
    "    #stack xarray dataset then drop lon == nan\n",
    "    ds2 = ds.stack(z=('phony_dim_0', 'phony_dim_1')).reset_index('z')\n",
    "    #drop nan\n",
    "    ds_drop = ds2.where(np.isfinite(ds2.lon),drop=True)\n",
    "    lats = ds_drop.lat.data\n",
    "    lons = ds_drop.lon.data\n",
    "    inputdata = list(zip(lons.ravel(), lats.ravel()))\n",
    "    tree = spatial.KDTree(inputdata)\n",
    "    orbit_time = ds.row_time.max().data-np.timedelta64(1,'D')\n",
    "    orbit_time2 = ds.row_time.max().data+np.timedelta64(1,'D')    \n",
    "    usv_subset = ds_usv.sel(time=slice(orbit_time,orbit_time2))\n",
    "    ilen = ds_usv.time.size\n",
    "    for iusv in range(ilen):\n",
    "        if (ds_usv.time[iusv]<orbit_time) or (ds_usv.time[iusv]>orbit_time2):\n",
    "            continue\n",
    "        pts = np.array([ds_usv.lon[iusv], ds_usv.lat[iusv]])\n",
    "#        pts = np.array([ds_usv.lon[iusv]+360, ds_usv.lat[iusv]])\n",
    "        tree.query(pts,k=1)\n",
    "        i=tree.query(pts)[1]\n",
    "        #use where to find the original indices of the matched data point \n",
    "        result = np.where((ds.smap_sss == ds_drop.smap_sss[i].data) & (ds.lat == ds_drop.lat[i].data))\n",
    "        listOfCoordinates = list(zip(result[0], result[1]))\n",
    "        if len(listOfCoordinates)==0:\n",
    "            continue\n",
    "        ii, jj = listOfCoordinates[0][0],listOfCoordinates[0][1]\n",
    "        deltaTa = ((ds_usv.time[iusv]-ds.row_time[ii]).data)/ np.timedelta64(1,'m')\n",
    "        if np.abs(deltaTa)<np.abs(ds_usv.deltaT[iusv].data):\n",
    "            ds_usv.deltaT[iusv]=deltaTa\n",
    "            ds_usv.smap_SSS[iusv]=ds.smap_sss[ii,jj]\n",
    "            if ds_usv.smap_SSS[iusv]>45:\n",
    "                ds_usv.smap_SSS[iusv]=np.nan\n",
    "            ds_usv.smap_iqc_flag[iusv]=ds.quality_flag[ii,jj]\n",
    "            ds_usv.smap_name[iusv]=file2\n",
    "            ds_usv.smap_ydim[iusv]=ii\n",
    "            ds_usv.smap_xdim[iusv]=jj\n",
    "fileout = 'F:/data/cruise_data/saildrone/sat_collocations/jplv42_usv.nc'\n",
    "ds_usv.to_netcdf(fileout)"
   ]
  },
  {
   "cell_type": "code",
   "execution_count": 49,
   "metadata": {},
   "outputs": [
    {
     "data": {
      "text/plain": [
       "0"
      ]
     },
     "execution_count": 49,
     "metadata": {},
     "output_type": "execute_result"
    }
   ],
   "source": [
    "len(listOfCoordinates)"
   ]
  },
  {
   "cell_type": "code",
   "execution_count": 40,
   "metadata": {},
   "outputs": [
    {
     "name": "stdout",
     "output_type": "stream",
     "text": [
      "1624\n",
      "2018-05-05T02:32:56.000000000 2018-05-07T02:32:56.000000000\n"
     ]
    }
   ],
   "source": [
    "ds_usv = read_usv()\n",
    "#fname = 'F:/data/sat_data/smap/SSS/L2/JPL/V4.2/2018/352/SMAP_L2B_SSS_20722_20181218T102031_R16020_V4.2.h5'\n",
    "fname = 'F:/data/sat_data/smap/SSS/L2/JPL/V4.2/2018/126/SMAP_L2B_SSS_17411_20180506T005436_R16010_V4.2.h5'\n",
    "ds = xr.open_dataset(fname)\n",
    "print(ds.phony_dim_1.size)\n",
    "ds\n",
    "orbit_time = ds.row_time.max().data-np.timedelta64(1,'D')\n",
    "orbit_time2 = ds.row_time.max().data+np.timedelta64(1,'D')    \n",
    "print(orbit_time,orbit_time2)\n",
    "#stack xarray dataset then drop lon == nan\n",
    "ds2 = ds.stack(z=('phony_dim_0', 'phony_dim_1')).reset_index('z')\n",
    "ds_drop = ds2.where(np.isfinite(ds2.lon),drop=True)\n",
    "lats = ds_drop.lat.data\n",
    "lons = ds_drop.lon.data\n",
    "inputdata = list(zip(lons.ravel(), lats.ravel()))\n",
    "tree = spatial.KDTree(inputdata)\n",
    "orbit_time = ds.row_time.max().data-np.timedelta64(1,'D')\n",
    "orbit_time2 = ds.row_time.max().data+np.timedelta64(1,'D')    \n",
    "usv_subset = ds_usv.sel(time=slice(orbit_time,orbit_time2))\n",
    "iusv=0\n",
    "pts = np.array([ds_usv.lon[iusv], ds_usv.lat[iusv]])\n",
    "tree.query(pts,k=1)\n",
    "i=tree.query(pts)[1]\n",
    "result = np.where((ds.smap_sss == ds_drop.smap_sss[i].data) & (ds.lat == ds_drop.lat[i].data))\n",
    "listOfCoordinates = list(zip(result[0], result[1]))\n",
    "ii, jj = listOfCoordinates[0][0],listOfCoordinates[0][1]\n",
    "\n",
    "\n"
   ]
  },
  {
   "cell_type": "code",
   "execution_count": 30,
   "metadata": {},
   "outputs": [
    {
     "data": {
      "text/plain": [
       "[(23, 579)]"
      ]
     },
     "execution_count": 30,
     "metadata": {},
     "output_type": "execute_result"
    }
   ],
   "source": [
    "ds_drop.smap_sss[i]\n",
    "result = np.where((ds.smap_sss == ds_drop.smap_sss[i].data) & (ds.lat == ds_drop.lat[i].data))\n",
    "listOfCoordinates = list(zip(result[0], result[1]))\n",
    "listOfCoordinates"
   ]
  },
  {
   "cell_type": "code",
   "execution_count": 38,
   "metadata": {},
   "outputs": [
    {
     "data": {
      "text/plain": [
       "23"
      ]
     },
     "execution_count": 38,
     "metadata": {},
     "output_type": "execute_result"
    }
   ],
   "source": [
    "listOfCoordinates[0][0]"
   ]
  },
  {
   "cell_type": "code",
   "execution_count": 39,
   "metadata": {},
   "outputs": [
    {
     "name": "stdout",
     "output_type": "stream",
     "text": [
      "<xarray.DataArray 'smap_sss' ()>\n",
      "array(32.642834, dtype=float32)\n",
      "Coordinates:\n",
      "    lat          float32 37.561005\n",
      "    lon          float32 -122.71838\n",
      "    phony_dim_0  int64 23\n",
      "    phony_dim_1  int64 579\n",
      "Attributes:\n",
      "    long_name:              SMAP sea surface salinity\n",
      "    valid_max:              45.0\n",
      "    valid_min:              0.0\n",
      "    standard_name:          sea_surface_salinity\n",
      "    units:                  1e-3\n",
      "    coverage_content_type:  physicalMeasurement\n",
      "<xarray.DataArray 'smap_sss' ()>\n",
      "array(32.642834, dtype=float32)\n",
      "Coordinates:\n",
      "    lat      float32 37.561005\n",
      "    lon      float32 -122.71838\n",
      "Attributes:\n",
      "    long_name:              SMAP sea surface salinity\n",
      "    valid_max:              45.0\n",
      "    valid_min:              0.0\n",
      "    standard_name:          sea_surface_salinity\n",
      "    units:                  1e-3\n",
      "    coverage_content_type:  physicalMeasurement\n"
     ]
    }
   ],
   "source": [
    "print(ds_drop.smap_sss[i])\n",
    "print(ds.smap_sss[listOfCoordinates[0][0],listOfCoordinates[0][1]])"
   ]
  },
  {
   "cell_type": "code",
   "execution_count": 22,
   "metadata": {},
   "outputs": [
    {
     "data": {
      "text/plain": [
       "<xarray.Dataset>\n",
       "Dimensions:               (phony_dim_2: 4, z: 35635)\n",
       "Coordinates:\n",
       "    lat                   (z) float32 -64.74687 -64.523796 ... -60.84611\n",
       "    lon                   (z) float32 -98.97214 -99.06848 ... 28.98625 28.717411\n",
       "    phony_dim_0           (z) int64 16 16 16 16 16 16 16 ... 59 59 59 59 59 59\n",
       "    phony_dim_1           (z) int64 114 115 116 117 118 ... 1501 1502 1503 1504\n",
       "Dimensions without coordinates: phony_dim_2, z\n",
       "Data variables:\n",
       "    anc_dir               (z) float32 162.48608 161.83038 ... 27.424595\n",
       "    anc_spd               (z) float32 12.019135 11.6442 ... 11.918687 11.850398\n",
       "    anc_sss               (z) float32 33.861 33.871002 ... 33.874 33.871002\n",
       "    anc_sst               (z) float32 273.41397 273.65158 ... 273.2707 273.16394\n",
       "    anc_swh               (z) float32 2.885879 2.843202 ... 3.0648892 3.0565612\n",
       "    antazi_aft            (z) float32 267.50894 267.82367 ... 94.043304 94.57248\n",
       "    antazi_fore           (z) float32 270.47107 nan ... 88.16376 88.98158\n",
       "    azi_aft               (z) float32 -101.67573 -101.308586 ... -59.63097\n",
       "    azi_fore              (z) float32 -98.69861 nan ... -66.14682 -65.1684\n",
       "    ice_concentration     (z) float32 0.0 0.0 0.0 0.0 0.0 ... 0.0 0.0 0.0 0.0\n",
       "    inc_aft               (z) float32 40.073326 40.07295 ... 40.068253 40.069324\n",
       "    inc_fore              (z) float32 40.074608 nan ... 40.0668 40.067425\n",
       "    land_fraction_aft     (z) float32 0.00025708557 0.00021829951 ... 0.0 0.0\n",
       "    land_fraction_fore    (z) float32 0.00027938728 nan ... 0.0 0.0\n",
       "    n_h_aft               (z) float32 4.0 4.0 4.0 5.0 4.0 ... 4.0 4.0 4.0 4.0\n",
       "    n_h_fore              (z) float32 1.0 nan 2.0 1.0 1.0 ... 3.0 2.0 2.0 2.0\n",
       "    n_v_aft               (z) float32 4.0 4.0 4.0 5.0 4.0 ... 4.0 4.0 4.0 4.0\n",
       "    n_v_fore              (z) float32 1.0 nan 2.0 1.0 1.0 ... 3.0 2.0 2.0 2.0\n",
       "    nedt_h_aft            (z) float32 0.41451812 0.39159685 ... 0.37608564\n",
       "    nedt_h_fore           (z) float32 0.8045968 nan ... 0.5319139 0.57584393\n",
       "    nedt_v_aft            (z) float32 0.4308725 0.4462362 ... 0.4160788\n",
       "    nedt_v_fore           (z) float32 0.8992836 nan ... 0.5463686 0.5564075\n",
       "    num_ambiguities       (z) float32 2.0 2.0 2.0 2.0 2.0 ... 2.0 3.0 2.0 3.0\n",
       "    quality_flag          (z) float32 64.0 66.0 64.0 64.0 ... 64.0 64.0 64.0\n",
       "    row_time              (z) datetime64[ns] 2018-05-06T01:01:28 ... 2018-05-06T02:25:44\n",
       "    smap_ambiguity_dir    (phony_dim_2, z) float32 -92.0 156.0 72.0 ... nan nan\n",
       "    smap_ambiguity_spd    (phony_dim_2, z) float32 8.630852 7.3723116 ... nan\n",
       "    smap_high_dir         (z) float32 -92.0 156.0 -106.0 ... 82.0 108.0 84.0\n",
       "    smap_high_dir_smooth  (z) float32 172.42865 171.28738 ... 82.27173 82.549255\n",
       "    smap_high_spd         (z) float32 8.630852 7.3723116 ... 13.805154 12.36071\n",
       "    smap_spd              (z) float32 12.229036 11.428105 ... 11.781505\n",
       "    smap_sss              (z) float32 38.443314 37.331604 ... 30.67875 32.07648\n",
       "    smap_sss_uncertainty  (z) float32 2.6647758 3.089119 ... 2.6614647 2.5961437\n",
       "    tb_h_aft              (z) float32 76.54415 75.85943 ... 77.542046 76.798546\n",
       "    tb_h_bias_adj_aft     (z) float32 -0.01988681 -0.005790394 ... 0.08594911\n",
       "    tb_h_bias_adj_fore    (z) float32 -0.01988681 -0.3607479 ... 0.09831251\n",
       "    tb_h_fore             (z) float32 75.86499 nan ... 76.40579 77.428276\n",
       "    tb_v_aft              (z) float32 114.719376 114.608894 ... 115.399925\n",
       "    tb_v_bias_adj_aft     (z) float32 -0.22842711 -0.21642418 ... -0.053315714\n",
       "    tb_v_bias_adj_fore    (z) float32 -0.22842711 -0.55040294 ... -0.037635315\n",
       "    tb_v_fore             (z) float32 112.81257 nan ... 117.53339 115.82137\n",
       "Attributes:\n",
       "    REVNO:                       17411\n",
       "    REV_START_YEAR:              2018\n",
       "    REV_START_DAY_OF_YEAR:       126\n",
       "    Number of Cross Track Bins:  76\n",
       "    Number of Along Track Bins:  1624\n",
       "    REV_START_TIME:              2018-126T00:54:36.000\n",
       "    REV_STOP_TIME:               2018-126T02:33:03.000\n",
       "    TB_CRID:                     R16010\n",
       "    L1B_TB_LORES_ASC_FILE:       /mirror/opsLOM/PRODUCTS/L1B_TB/004/2018/05/0...\n",
       "    L1B_TB_LORES_DEC_FILE:       /mirror/opsLOM/PRODUCTS/L1B_TB/004/2018/05/0...\n",
       "    Delta TBH Fore Ascending:    4.52836\n",
       "    Delta TBH Aft Ascending:     4.52836\n",
       "    Delta TBV Fore Ascending:    3.077337\n",
       "    Delta TBV Aft Ascending:     3.077337\n",
       "    Delta TBH Fore Decending:    4.52836\n",
       "    Delta TBH Aft Decending:     4.52836\n",
       "    Delta TBV Fore Decending:    3.077337\n",
       "    Delta TBV Aft Decending:     3.077337\n",
       "    QS_ICEMAP_FILE:              /testbed/saline/fore/smap-ancillary/ice/NCEP...\n",
       "    TB_FLAT_MODEL_FILE:          /home/fore/smap-sds/config/dat/LBandTBFlat-v...\n",
       "    TB_ROUGH_MODEL_FILE:         /testbed/saline/fore/winds-salinity/tb-winds...\n",
       "    ANC_U10_FILE:                /testbed/saline/akhayash/matchup/L2B/u10mgfs...\n",
       "    ANC_V10_FILE:                /testbed/saline/akhayash/matchup/L2B/v10mgfs...\n",
       "    ANC_SSS_FILE:                /testbed/saline/akhayash/matchup/L2B/SSS/201...\n",
       "    ANC_SST_FILE:                /testbed/saline/akhayash/matchup/L2B/SST/201...\n",
       "    ANC_SWH_FILE:                /testbed/saline/akhayash/matchup/L2B/SWHfc/2...\n",
       "    CROSSTRACK_RESOLUTION:       25  <km>\n",
       "    ALONGTRACK_RESOLUTION:       25  <km>\n",
       "    Conventions:                 CF-1.6, ACDD-1.3\n",
       "    title:                       SMAP SSS and High Winds on L2B Swath Grid\n",
       "    history:                     DATA_SOURCE_VERSION SMAP L1B TB R16010\n",
       "    date_created:                2018-341T09:34:21.112\n",
       "    institution:                 JPL\n",
       "    processing_level:            L2B\n",
       "    cdm_data_type:               Swath\n",
       "    time_coverage_start:         2018-126T00:54:36.000\n",
       "    time_coverage_end:           2018-126T02:33:03.000\n",
       "    time_coverage_resolution:    00:00:03.639\n",
       "    geospatial_lat_max:          90.0\n",
       "    geospatial_lat_min:          -90.0\n",
       "    geospatial_lon_max:          180.0\n",
       "    geospatial_lon_min:          -180.0\n",
       "    geospatial_lat_units:        degrees_north\n",
       "    geospatial_lon_units:        degrees_east\n",
       "    platform:                    SMAP\n",
       "    sensor:                      SMAP\n",
       "    instrument:                  SMAP Radiometer\n",
       "    project:                     SMAP\n",
       "    product_version:             V4.2\n",
       "    instrument_vocabulary:       GCMD instrument keywords\n",
       "    standard_name_vocabulary:    NetCDF Climate and Forecast (CF) Metadata Co...\n",
       "    keywords_vocabulary:         http://gcmd.gsfc.nasa.gov/Resources/valids/g...\n",
       "    keywords:                    SEA SURFACE SALINITY, SALINITY, SMAP, Jet Pr...\n",
       "    creator_name:                JPL\n",
       "    creator_email:               fore@jpl.nasa.gov\n",
       "    publisher_name:              Alexander G. Fore\n",
       "    publisher_email:             fore@jpl.nasa.gov\n",
       "    contributor_name:            Alexander Fore, Simon Yueh, Wenqing Tang, Ak...\n",
       "    references:                  10.1109/TGRS.2016.2601486, 10.1109/TGRS.2016..."
      ]
     },
     "execution_count": 22,
     "metadata": {},
     "output_type": "execute_result"
    }
   ],
   "source": [
    "#trying to figure out a way to use orbital data with NaN in lat/lons\n",
    "ds2 = ds.stack(z=('phony_dim_0', 'phony_dim_1')).reset_index('z')\n",
    "ds_drop = ds2.where(np.isfinite(ds2.lon),drop=True)\n",
    "ds_drop"
   ]
  },
  {
   "cell_type": "code",
   "execution_count": null,
   "metadata": {},
   "outputs": [],
   "source": [
    "\n",
    "print(ds_usv.deltaT[iusv])\n",
    "print(deltaTa)\n",
    "deltaTa = ((ds_usv.time[iusv]-ds.time[ii,jj,ilook]).data)/ np.timedelta64(1,'m')\n",
    "print(deltaTa)\n",
    "print(np.abs(ds_usv.deltaT[iusv].data/ np.timedelta64(1,'m')))"
   ]
  },
  {
   "cell_type": "code",
   "execution_count": null,
   "metadata": {},
   "outputs": [],
   "source": [
    "ds_usv['deltaT']=np.ones(ilen,dtype=np.timedelta64)*99999*6e10 #np.timedelta64(999999,'m')\n",
    "if np.abs(deltaT)<np.abs(ds_usv.deltaT[iusv].data):\n",
    "    print(deltaT)"
   ]
  },
  {
   "cell_type": "code",
   "execution_count": null,
   "metadata": {},
   "outputs": [],
   "source": [
    "print(deltaT,ds_usv.deltaT[iusv].data)"
   ]
  },
  {
   "cell_type": "code",
   "execution_count": null,
   "metadata": {},
   "outputs": [],
   "source": [
    "ds_usv.sel(time=orbit_time, method='nearest')"
   ]
  },
  {
   "cell_type": "code",
   "execution_count": null,
   "metadata": {},
   "outputs": [],
   "source": [
    "(ds.cellat[:,:,0]-ds.cellat[:,:,1]).plot(vmin=-.1,vmax=.1)"
   ]
  },
  {
   "cell_type": "code",
   "execution_count": null,
   "metadata": {},
   "outputs": [],
   "source": [
    "print(ds2.cellat.data,ds2.cellon.data)\n",
    "print(ds_usv.lat[1000].data,ds_usv.lon[1000].data)"
   ]
  },
  {
   "cell_type": "code",
   "execution_count": null,
   "metadata": {},
   "outputs": [],
   "source": [
    "print(tree.query(pts))\n",
    "print(inputdata[tree.query(pts)[1]])\n",
    "print([ds_usv.lon[1000].data+360, ds_usv.lat[1000].data])\n",
    "print(len(inputdata))"
   ]
  },
  {
   "cell_type": "code",
   "execution_count": null,
   "metadata": {},
   "outputs": [],
   "source": [
    "print(ds_usv.lon[1000].data,ds_usv.lat[1000].data)\n",
    "print(jj,ii, ii*1560+jj)\n",
    "print(ds.cellon[ii,jj,0].data-360,ds.cellat[ii,jj,0].data)\n",
    "print(lons[ii,jj]-360,lats[ii,jj])\n"
   ]
  },
  {
   "cell_type": "code",
   "execution_count": null,
   "metadata": {},
   "outputs": [],
   "source": [
    "ds = xr.open_dataset(file)\n",
    "ds.close()\n",
    "x = ds.cellon[:,:,0].data\n",
    "y = ds.cellat[:,:,0].data\n",
    "z = ds.sss_smap[:,:,0].data\n",
    "ax = plt.axes(projection=ccrs.PlateCarree())\n",
    "cs1 = ax.scatter(x, y, s=1.0, c=z, edgecolor='none', cmap='jet')\n",
    "minlon,maxlon,minlat,maxlat = ds_usv.lon.min().data,ds_usv.lon.max().data,ds_usv.lat.min().data,ds_usv.lat.max().data\n",
    "ax.plot([minlon,maxlon,maxlon,minlon,minlon],[minlat,minlat,maxlat,maxlat,minlat])\n",
    "ax.plot(ds.cellon[jj,ii,0],ds.cellat[jj,ii,0],'b*')\n",
    "ax.plot(ds_usv.lon[1000],ds_usv.lat[1000],'ro')\n",
    "ax.coastlines()\n",
    "ax.set_xlim(-130,-110)\n",
    "ax.set_ylim(25,40)\n"
   ]
  },
  {
   "cell_type": "code",
   "execution_count": null,
   "metadata": {},
   "outputs": [],
   "source": [
    "np.nanmax(ds.cellon)"
   ]
  },
  {
   "cell_type": "code",
   "execution_count": null,
   "metadata": {},
   "outputs": [],
   "source": [
    "minlon,maxlon,minlat,maxlat = ds_usv.lon.min().data,ds_usv.lon.max().data,ds_usv.lat.min().data,ds_usv.lat.max().data\n",
    "print(minlon,maxlon,minlat,maxlat)\n",
    "#cond = (lons>=minlon) & (lons<=maxlon) & (lats>=minlat) & (lats<=maxlat)\n",
    "#meets_condition = (air_day.air > 22) & (air_day.air < 30)\n",
    "#subset = ds.where((lons>=minlon) & (lons<=maxlon) & (lats>=minlat) & (lats<=maxlat),drop=True)\n",
    "subset = ds.where((lons>=minlon) & (lons<=maxlon) & (lats>=minlat) & (lats<=maxlat))\n",
    "print(subset)"
   ]
  },
  {
   "cell_type": "code",
   "execution_count": null,
   "metadata": {},
   "outputs": [],
   "source": []
  },
  {
   "cell_type": "markdown",
   "metadata": {},
   "source": [
    "# Read in ACCESS data"
   ]
  },
  {
   "cell_type": "code",
   "execution_count": null,
   "metadata": {},
   "outputs": [],
   "source": [
    "filename = 'F:/data/cruise_data/access/rockfish_casts_2011.nc'\n",
    "ds = xr.open_dataset(filename)\n",
    "ds = ds.swap_dims({'row':'time'})\n",
    "ds = ds.rename({'latitude':'lat','longitude':'lon'})\n",
    "ds_access1 = ds.copy(deep=True)\n",
    "filename = 'F:/data/cruise_data/access/rockfish_casts_2015.nc'\n",
    "ds = xr.open_dataset(filename)\n",
    "ds = ds.swap_dims({'row':'time'})\n",
    "ds = ds.rename({'latitude':'lat','longitude':'lon'})\n",
    "ds_access2 = ds.copy(deep=True)\n",
    "ds_access = xr.concat((ds_access1,ds_access2),dim='time')"
   ]
  },
  {
   "cell_type": "code",
   "execution_count": null,
   "metadata": {},
   "outputs": [],
   "source": [
    "ds_access"
   ]
  },
  {
   "cell_type": "code",
   "execution_count": null,
   "metadata": {},
   "outputs": [],
   "source": [
    "ds_access.time.dt.month"
   ]
  },
  {
   "cell_type": "code",
   "execution_count": null,
   "metadata": {},
   "outputs": [],
   "source": [
    "plt.plot(ds_access.time.dt.year,ds_access.time.dt.dayofyear,'.')\n",
    "plt.xlabel('Day of Year')\n",
    "plt.ylabel('Year')\n",
    "fig_fname = 'C:/Users/gentemann/Google Drive/f_drive/docs/projects/SSS/figures/access_date.png'\n",
    "plt.savefig(fig_fname, transparent=False, format='png')"
   ]
  },
  {
   "cell_type": "code",
   "execution_count": null,
   "metadata": {},
   "outputs": [],
   "source": [
    "ax = plt.axes(projection=ccrs.PlateCarree())\n",
    "cs1 = ax.scatter(ds_access.lon, ds_access.lat, s=3.0, c=ds_access.salinity, edgecolor='none', cmap='jet',vmin=33,vmax=34.35)\n",
    "ax.coastlines()\n",
    "x1,x2,y1,y2 = -128,-112,30,50\n",
    "ax.set_xlim(x1,x2)\n",
    "ax.set_ylim(y1,y2)\n",
    "ax.set_xticks(np.arange(x1,x2,4))\n",
    "ax.set_yticks(np.arange(y1,y2,5))\n",
    "cax = plt.colorbar(cs1)\n",
    "cax.set_label('Salinity (psu)')\n",
    "fig_fname = 'C:/Users/gentemann/Google Drive/f_drive/docs/projects/SSS/figures/access_location.png'\n",
    "plt.savefig(fig_fname, transparent=False, format='png')"
   ]
  },
  {
   "cell_type": "markdown",
   "metadata": {},
   "source": [
    "# Read in 2018 Saildrone West Coast Survey"
   ]
  },
  {
   "cell_type": "code",
   "execution_count": null,
   "metadata": {},
   "outputs": [],
   "source": [
    "#https://coastwatch.pfeg.noaa.gov/erddap/\n",
    "#url = 'https://coastwatch.pfeg.noaa.gov/erddap/tabledap/saildrone_west_coast_survey_2018.nc'\n",
    "#url = 'https://ferret.pmel.noaa.gov/pmel/erddap/tabledap/saildrone_west_coast_survey_2018.nc'\n",
    "url = 'https://ferret.pmel.noaa.gov/pmel/erddap/tabledap/saildrone_west_coast_survey_2018'\n",
    "#url = 'F:/data/cruise_data/saildrone/2018_wcoast/saildrone_west_coast_survey_2018_f374_2e74_3de8.nc'\n",
    "#url = 'https://ferret.pmel.noaa.gov/pmel/erddap/tabledap/saildrone_west_coast_survey_2018.nc'\n",
    "ds_usv = xr.open_dataset(url)\n",
    "ds_usv.close()\n",
    "ds_usv['lat']=ds_usv['s.latitude']\n",
    "ds_usv['lon']=ds_usv['s.longitude']\n",
    "ds_usv['time']=ds_usv['s.time']\n",
    "ds_usv['trajectory']=ds_usv['s.trajectory']\n",
    "ds_usv['SAL_MEAN']=ds_usv['s.SAL_MEAN']\n",
    "ds_usv['TEMP_CTD_MEAN']=ds_usv['s.TEMP_CTD_MEAN']\n",
    "ds_usv = ds_usv.swap_dims({'s':'time'})\n",
    "#print(ds_usv.time.min().data,ds_usv.time.max().data)\n",
    "#ds_usv.load()\n"
   ]
  },
  {
   "cell_type": "code",
   "execution_count": null,
   "metadata": {},
   "outputs": [],
   "source": [
    "#used this code to figure out where the data goes bad\n",
    "ilen = ds_usv.SAL_MEAN.size\n",
    "print(ilen)\n",
    "tem = np.nan(ilen)\n",
    "for i in range(787066):\n",
    "    if ds_usv.SAL_MEAN[i]>20:\n",
    "        tem[i]=ds_usv.SAL_MEAN[i]\n",
    "tem[i:]=np.nan"
   ]
  },
  {
   "cell_type": "code",
   "execution_count": null,
   "metadata": {},
   "outputs": [],
   "source": [
    "#there is something bad in the data file above 776100 so subset the data to just the good part\n",
    "ds_usv2 = ds_usv.isel(time=slice(None,776100))\n",
    "xlon =  ds_usv2.lon.copy(deep=True)\n",
    "xlat =  ds_usv2.lat.copy(deep=True)\n",
    "salinity = ds_usv2.SAL_MEAN.copy(deep=True)\n",
    "ax = plt.axes(projection=ccrs.PlateCarree())\n",
    "cs1 = ax.scatter(xlon, xlat, s=3.0, c=salinity, edgecolor='none', cmap='jet',vmin=32,vmax=34.35)\n",
    "ax.coastlines()\n",
    "x1,x2,y1,y2 = -130,-114,30,52\n",
    "ax.set_xlim(x1,x2)\n",
    "ax.set_ylim(y1,y2)\n",
    "ax.set_xticks(np.arange(x1,x2,4))\n",
    "ax.set_yticks(np.arange(y1,y2,5))\n",
    "cax = plt.colorbar(cs1)\n",
    "cax.set_label('Salinity (psu)')\n",
    "fig_fname = 'C:/Users/gentemann/Google Drive/f_drive/docs/projects/SSS/figures/wcoast_location2.png'\n",
    "plt.savefig(fig_fname, transparent=False, format='png')\n"
   ]
  },
  {
   "cell_type": "code",
   "execution_count": null,
   "metadata": {},
   "outputs": [],
   "source": [
    "ds_usv2.trajectory[0:5]"
   ]
  },
  {
   "cell_type": "code",
   "execution_count": null,
   "metadata": {},
   "outputs": [],
   "source": [
    "url = 'https://ferret.pmel.noaa.gov/pmel/erddap/tabledap/saildrone_west_coast_survey_2018'\n",
    "#url = 'F:/data/cruise_data/saildrone/2018_wcoast/saildrone_west_coast_survey_2018_f374_2e74_3de8.nc'\n",
    "#url = 'https://ferret.pmel.noaa.gov/pmel/erddap/tabledap/saildrone_west_coast_survey_2018.nc'\n",
    "ds_usv = xr.open_dataset(url)\n",
    "ds_usv.close()\n",
    "ds_usv"
   ]
  },
  {
   "cell_type": "code",
   "execution_count": null,
   "metadata": {},
   "outputs": [],
   "source": [
    "url = 'https://ferret.pmel.noaa.gov/generic/erddap/tabledap/saildrone_arctic_gts'\n",
    "ds_usv = xr.open_dataset(url)\n",
    "ds_usv = xr.open_dataset(url)\n",
    "ds_usv.close()\n",
    "ds_usv['lat']=ds_usv['s.latitude']\n",
    "ds_usv['lon']=ds_usv['s.longitude']\n",
    "ds_usv['time']=ds_usv['s.time']\n",
    "ds_usv['trajectory']=ds_usv['s.trajectory']\n",
    "ds_usv['SAL_MEAN']=ds_usv['s.SAL_MEAN']\n",
    "ds_usv['TEMP_CTD_MEAN']=ds_usv['s.TEMP_CTD_MEAN']\n",
    "#ds_usv = ds_usv.swap_dims({'s':'time'})\n"
   ]
  },
  {
   "cell_type": "code",
   "execution_count": null,
   "metadata": {},
   "outputs": [],
   "source": [
    "ds_usv"
   ]
  },
  {
   "cell_type": "code",
   "execution_count": null,
   "metadata": {},
   "outputs": [],
   "source": [
    "xlon =  ds_usv.lon.copy(deep=True)\n",
    "xlat =  ds_usv.lat.copy(deep=True)\n",
    "salinity = ds_usv.SAL_MEAN.copy(deep=True)\n",
    "ax = plt.axes(projection=ccrs.PlateCarree())\n",
    "cs1 = ax.scatter(xlon, xlat, s=3.0, c=salinity, edgecolor='none', cmap='jet',vmin=32,vmax=34.35)\n",
    "ax.coastlines()\n",
    "x1,x2,y1,y2 = -130,-114,30,52\n",
    "ax.set_xlim(x1,x2)\n",
    "ax.set_ylim(y1,y2)\n",
    "ax.set_xticks(np.arange(x1,x2,4))\n",
    "ax.set_yticks(np.arange(y1,y2,5))\n",
    "cax = plt.colorbar(cs1)\n",
    "cax.set_label('Salinity (psu)')\n",
    "fig_fname = 'C:/Users/gentemann/Google Drive/f_drive/docs/projects/SSS/figures/arctic_location.png'\n",
    "plt.savefig(fig_fname, transparent=False, format='png')"
   ]
  },
  {
   "cell_type": "code",
   "execution_count": null,
   "metadata": {},
   "outputs": [],
   "source": [
    "url = 'F:/data/cruise_data/saildrone/2018_wcoast/saildrone_west_coast_survey_2018_f374_2e74_3de8.nc'\n",
    "ds_usv = xr.open_dataset(url)\n",
    "ds_usv.close()\n",
    "xlon =  ds_usv.longitude.copy(deep=True)\n",
    "xlat =  ds_usv.latitude.copy(deep=True)\n",
    "salinity =  ds_usv.SAL_MEAN.copy(deep=True)\n",
    "ax = plt.axes(projection=ccrs.PlateCarree())\n",
    "cs1 = ax.scatter(xlon, xlat, s=3.0, c=salinity, edgecolor='none', cmap='jet',vmin=32,vmax=34.35)\n",
    "ax.coastlines()\n",
    "x1,x2,y1,y2 = -128,-112,25,40\n",
    "ax.set_xlim(x1,x2)\n",
    "ax.set_ylim(y1,y2)\n",
    "ax.set_xticks(np.arange(x1,x2,4))\n",
    "ax.set_yticks(np.arange(y1,y2,5))\n",
    "cax = plt.colorbar(cs1)\n",
    "cax.set_label('Salinity (psu)')\n",
    "fig_fname = 'C:/Users/gentemann/Google Drive/f_drive/docs/projects/SSS/figures/wcoast_location.png'\n",
    "plt.savefig(fig_fname, transparent=False, format='png')\n"
   ]
  },
  {
   "cell_type": "code",
   "execution_count": null,
   "metadata": {},
   "outputs": [],
   "source": []
  },
  {
   "cell_type": "code",
   "execution_count": null,
   "metadata": {},
   "outputs": [],
   "source": [
    "ds = xr.open_dataset(filelist[8])\n",
    "ds.close()\n",
    "x = ds.cellon[:,:,0].data\n",
    "y = ds.cellat[:,:,0].data\n",
    "z = ds.sss_smap[:,:,0].data\n",
    "ax = plt.axes(projection=ccrs.PlateCarree())\n",
    "cs1 = ax.scatter(x, y, s=1.0, c=z, edgecolor='none', cmap='jet')\n",
    "minlon,maxlon,minlat,maxlat = ds_usv.lon.min().data,ds_usv.lon.max().data,ds_usv.lat.min().data,ds_usv.lat.max().data\n",
    "ax.plot([minlon,maxlon,maxlon,minlon,minlon],[minlat,minlat,maxlat,maxlat,minlat])\n",
    "ax.coastlines()\n"
   ]
  },
  {
   "cell_type": "code",
   "execution_count": null,
   "metadata": {},
   "outputs": [],
   "source": [
    "#create daily data arrays\n",
    "#grid the data and search within the in situ obs to find which filenames are in right region\n"
   ]
  },
  {
   "cell_type": "code",
   "execution_count": null,
   "metadata": {},
   "outputs": [],
   "source": []
  },
  {
   "cell_type": "code",
   "execution_count": null,
   "metadata": {},
   "outputs": [],
   "source": []
  },
  {
   "cell_type": "code",
   "execution_count": null,
   "metadata": {},
   "outputs": [],
   "source": []
  },
  {
   "cell_type": "code",
   "execution_count": null,
   "metadata": {},
   "outputs": [],
   "source": [
    "#create daily data arrays\n",
    "rlon=np.arange(-180,180,.25)\n",
    "rlat=np.arange(90,-90,-.25)\n",
    "area_def = load_area('areas.cfg', 'pc_world')\n",
    "itime=0\n",
    "for ilook in range(1):\n",
    "    x,y,x2,y2 = [],[],[],[]\n",
    "    if itime==1:\n",
    "        z = z2 = np.empty(0, np.int32)\n",
    "    else:\n",
    "        z = z2 = np.empty(0, np.datetime64)    \n",
    "    for file in filelist:\n",
    "        ds = xr.open_dataset(file)\n",
    "        ds.close()\n",
    "        x = np.append(x,ds.cellon[:,:780,ilook].data)\n",
    "        y = np.append(y,ds.cellat[:,:780,ilook].data)\n",
    "        if itime==1:\n",
    "            z = np.append(z,ds.sss_smap[:,:780,ilook].data)\n",
    "        else:\n",
    "            z = np.append(z,ds.time[:,:780,ilook].data)\n",
    "        x2 = np.append(x2,ds.cellon[:,780:,ilook].data)\n",
    "        y2 = np.append(y2,ds.cellat[:,780:,ilook].data)\n",
    "        if itime==1:\n",
    "            z2 = np.append(z2,ds.sss_smap[:,780:,ilook].data)\n",
    "        else:\n",
    "            z2 = np.append(z2,ds.time[:,780:,ilook].data)\n",
    "    lons,lats,data = x,y,z \n",
    "    lons = np.mod(lons+180,360)-180\n",
    "    swath_def = SwathDefinition(lons, lats)\n",
    "    result1 = resample_nearest(swath_def, data, area_def, radius_of_influence=20000, fill_value=None)\n",
    "    lons,lats,data = x2,y2,z2 \n",
    "    lons = np.mod(lons+180,360)-180\n",
    "    swath_def = SwathDefinition(lons, lats)\n",
    "    result2 = resample_nearest(swath_def, data, area_def, radius_of_influence=20000, fill_value=None)\n",
    "    tem = np.stack((result1,result2))\n",
    "    das = xr.DataArray(tem,name='sss1',coords={'iasc':[0,1],'lat':rlat,'lon':rlon},dims=('iasc','lat','lon'))\n",
    "    dat = xr.DataArray(tem,name='time',coords={'iasc':[0,1],'lat':rlat,'lon':rlon},dims=('iasc','lat','lon'))\n",
    "ds_out = xr.Dataset({das,dat})\n"
   ]
  },
  {
   "cell_type": "code",
   "execution_count": null,
   "metadata": {},
   "outputs": [],
   "source": [
    "ds_out = xr.Dataset({das,dat})\n",
    "z=np.empty(0,np.datetime64)\n",
    "print(type(z),type(ds.time[0,0,0].data))\n",
    "z = np.append(z,ds.time[0,0,0].data)"
   ]
  },
  {
   "cell_type": "code",
   "execution_count": null,
   "metadata": {},
   "outputs": [],
   "source": [
    "    da0 = xr.DataArray(result,name='sss0',coords={'lat':rlat,'lon':rlon},dims=('lat','lon'))\n",
    "\n",
    "#iasc=0\n",
    "#da1 = xr.DataArray(result,name='sss1',coords={'lat':rlat,'lon':rlon,'asc':iasc},dims=('lat','lon','asc'))\n"
   ]
  },
  {
   "cell_type": "code",
   "execution_count": null,
   "metadata": {},
   "outputs": [],
   "source": [
    "da1.plot()"
   ]
  },
  {
   "cell_type": "code",
   "execution_count": null,
   "metadata": {},
   "outputs": [],
   "source": [
    "lons = x #ds.cellon[:,:,0].data\n",
    "lons = np.mod(lons+180,360)-180\n",
    "lats = y# ds.cellat[:,:,0].data\n",
    "data = z#ds.sss_smap[:,:,0].data\n",
    "area_def = load_area('areas.cfg', 'pc_world')\n",
    "swath_def = SwathDefinition(lons, lats)\n",
    "result = resample_nearest(swath_def, data, area_def, radius_of_influence=20000, fill_value=None)\n",
    "save_quicklook('sss.png', area_def, result, num_meridians=0, num_parallels=0, label='Salinity (psu)')"
   ]
  },
  {
   "cell_type": "code",
   "execution_count": null,
   "metadata": {},
   "outputs": [],
   "source": [
    "rlon=np.arange(-180,180,.25)\n",
    "rlat=np.arange(90,-90,-.25)\n",
    "da = xr.DataArray(result,name='sss0',coords={'lat':rlat,'lon':rlon},dims=('lat','lon'))"
   ]
  },
  {
   "cell_type": "code",
   "execution_count": null,
   "metadata": {},
   "outputs": [],
   "source": [
    "da.plot()"
   ]
  },
  {
   "cell_type": "code",
   "execution_count": null,
   "metadata": {},
   "outputs": [],
   "source": [
    "plt.contourf(rlon,rlat,result)"
   ]
  },
  {
   "cell_type": "code",
   "execution_count": null,
   "metadata": {},
   "outputs": [],
   "source": [
    "#interpolate onto grid\n",
    "# data coordinates and values\n",
    "idim = ds.cellon.shape[0]\n",
    "jdim = ds.cellon.shape[1]\n",
    "x = ds.cellon[:,:,0].data.reshape(idim*jdim)\n",
    "y = ds.cellat[:,:,0].data.reshape(idim*jdim)\n",
    "z = ds.sss_smap[:,:,0].data.reshape(idim*jdim)\n",
    "\n",
    "mask = np.isfinite(x) & np.isfinite(y)\n",
    "x = x[mask]\n",
    "y = y[mask]\n",
    "z = z[mask]\n",
    "\n",
    "# target grid to interpolate to\n",
    "xi,yi = np.arange(0,360,.5), np.arange(-90,90,.5)\n",
    "xi,yi = np.meshgrid(xi,yi)\n",
    "\n",
    "## set mask\n",
    "#mask = (xi > 0.5) & (xi < 0.6) & (yi > 0.5) & (yi < 0.6)\n",
    "\n",
    "# interpolate\n",
    "zi = griddata((x,y),z,(xi,yi),method='nearest')\n",
    "\n",
    "plt.contourf(xi,yi,zi)"
   ]
  },
  {
   "cell_type": "markdown",
   "metadata": {},
   "source": [
    "In order to use open_mfdataset you need to either provide a path or a list of filenames to input\n",
    "\n",
    "Here we use the USV cruise start and end date to read in all data for that period"
   ]
  },
  {
   "cell_type": "markdown",
   "metadata": {},
   "source": [
    "# Read in SSS L2 data\n",
    "Read in data using open_mfdataset with the option coords='minimal'\n",
    "\n",
    "The dataset is printed out and you can see that rather than straight xarray data array for each of the data variables open_mfdataset using dask arrays"
   ]
  },
  {
   "cell_type": "code",
   "execution_count": null,
   "metadata": {},
   "outputs": [],
   "source": [
    "lon = np.arange(0,360)\n",
    "np.mod(lon+180,360)-180\n",
    "np.mod(lon + 180,360) - 180"
   ]
  },
  {
   "cell_type": "code",
   "execution_count": null,
   "metadata": {},
   "outputs": [],
   "source": [
    "filename = 'f:/data/sat_data/aquarius/Q2011237.L3m_DAY_SCIA_V5.0.RAIN_MASK_SSS_1deg'\n",
    "ds = xr.open_dataset(filename)\n",
    "ds.close()\n",
    "ds.coords['phony_dim_0']=np.arange(90,-90,-1)\n",
    "ds.coords['phony_dim_1']=np.arange(-180,180)\n",
    "ds = ds.rename({'phony_dim_0':'lat','phony_dim_1':'lon'})\n",
    "ds.l3m_data.plot()"
   ]
  },
  {
   "cell_type": "code",
   "execution_count": null,
   "metadata": {
    "scrolled": false
   },
   "outputs": [],
   "source": [
    "#ds_sat = xr.open_mfdataset(filelist,coords='minimal')\n",
    "ds_sat = xr.open_dataset(filelist[0])\n",
    "#ds_sat = ds_sat.isel(depth=0).drop('year').rename({'latitude':'lat'}).rename({'longitude':'lon'})\n",
    "#ds_sat = ds_sat.sortby('lat').sel(lon=slice(20.0,379.00))\n",
    "#ds_sat.coords['lon'] = (ds_sat.coords['lon'] + 180) % 360 - 180\n",
    "#ds_sat = ds_sat.sortby('lon')\n",
    "ds_sat.close()\n",
    "print(ds_sat)  #check units \n",
    "ds_sat"
   ]
  },
  {
   "cell_type": "markdown",
   "metadata": {},
   "source": [
    "\n",
    "1. First let's subset the data to make it smaller to deal with by using the cruise lat/lons\n",
    "\n",
    "\n"
   ]
  },
  {
   "cell_type": "code",
   "execution_count": null,
   "metadata": {},
   "outputs": [],
   "source": [
    "#Step 1 from above\n",
    "subset = ds_sat.sel(lon=slice(ds_usv_subset.lon.min().data,ds_usv_subset.lon.max().data),\n",
    "                    lat=slice(ds_usv_subset.lat.min().data,ds_usv_subset.lat.max().data))\n",
    "\n",
    "#now collocate with usv lat and lons\n",
    "ds_collocated = subset.interp(lat=ds_usv_subset.lat,lon=ds_usv_subset.lon,time=ds_usv_subset.time,method='linear')\n",
    "ds_collocated_nearest = subset.interp(lat=ds_usv_subset.lat,lon=ds_usv_subset.lon,time=ds_usv_subset.time,method='nearest')\n"
   ]
  },
  {
   "cell_type": "markdown",
   "metadata": {},
   "source": [
    "# A larger STD that isn't reflective of uncertainty in the observation\n",
    "The collocation above will result in multiple USV data points matched with a single satellite\n",
    "observation.    The USV is sampling every 1 min and approximately few meters, while the satellite\n",
    "is an average over a footprint that is interpolated onto a daily mean map.  While calculating the mean would results in a valid mean, the STD would be higher and consist of a component that reflects the uncertainty of the USV and the satellite and a component that reflects the natural variability in the region that is sampled by the USV\n",
    "\n",
    "Below we use the 'nearest' collocation results to identify when multiple USV data are collcated to\n",
    "a single satellite observation.\n",
    "This code goes through the data and creates averages of the USV data that match the single CCMP collocated value.\n"
   ]
  },
  {
   "cell_type": "code",
   "execution_count": null,
   "metadata": {
    "scrolled": true
   },
   "outputs": [],
   "source": [
    "ilen,index = ds_collocated_nearest.dims['time'],0\n",
    "ds_tem = ds_collocated_nearest.copy(deep=True)\n",
    "duu, duv1, duv2, dlat, dlon, dut = [],[],[],[],[],np.empty((),dtype='datetime64')\n",
    "while index <= ilen-2:\n",
    "    index += 1\n",
    "    if np.isnan(ds_collocated_nearest.u[index]):\n",
    "        continue\n",
    "    if np.isnan(ds_tem.u[index]):\n",
    "        continue\n",
    "   # print(index, ilen)\n",
    "    iend = index + 730\n",
    "    if iend > ilen-1:\n",
    "        iend = ilen-1\n",
    "    ds_tem_subset = ds_tem.u[index:iend]\n",
    "    ds_tem_subset2 = ds_tem.v[index:iend]\n",
    "    ds_usv_subset2ucur = ds_usv_subset.vel_east_30m[index:iend]\n",
    "    ds_usv_subset2vcur = ds_usv_subset.vel_north_30m[index:iend]\n",
    "    ds_usv_subset2lat = ds_usv_subset.lat[index:iend]\n",
    "    ds_usv_subset2lon = ds_usv_subset.lon[index:iend]\n",
    "    ds_usv_subset2time = ds_usv_subset.time[index:iend]\n",
    "    cond = ((ds_tem_subset==ds_collocated_nearest.u[index]) & (ds_tem_subset2==ds_collocated_nearest.v[index]))\n",
    "    notcond = np.logical_not(cond)\n",
    "    #cond = ((ds_tem.analysed_sst==ds_collocated_nearest.analysed_sst[index]))\n",
    "    #notcond = np.logical_not(cond)\n",
    "    masked = ds_tem_subset.where(cond)\n",
    "    if masked.sum().data==0:  #don't do if data not found\n",
    "        continue\n",
    "    masked_usvucur = ds_usv_subset2ucur.where(cond,drop=True)\n",
    "    masked_usvvcur = ds_usv_subset2vcur.where(cond,drop=True)\n",
    "    masked_usvlat = ds_usv_subset2lat.where(cond,drop=True)\n",
    "    masked_usvlon = ds_usv_subset2lon.where(cond,drop=True)\n",
    "    masked_usvtime = ds_usv_subset2time.where(cond,drop=True)\n",
    "    duu=np.append(duu,masked_usvucur.mean().data)\n",
    "    duv1=np.append(duv1,masked_usvvcur.mean().data)\n",
    "    dlat=np.append(dlat,masked_usvlat.mean().data)\n",
    "    dlon=np.append(dlon,masked_usvlon.mean().data)\n",
    "    tdif = masked_usvtime[-1].data-masked_usvtime[0].data\n",
    "    mtime=masked_usvtime[0].data+np.timedelta64(tdif/2,'ns')\n",
    "#    if mtime>dut.max():\n",
    "#        print(index,dut.shape[0],masked_usvtime[0].data,masked_usvtime[-1].data-masked_usvtime[0].data)\n",
    "    dut=np.append(dut,mtime)\n",
    "    ds_tem.u[index:iend]=ds_tem.u.where(notcond)\n",
    "    ds_tem.v[index:iend]=ds_tem.v.where(notcond)\n",
    "dut2 = dut[1:]  #remove first data point which is a repeat from what array defined       \n",
    "ds_new=xr.Dataset(data_vars={'vel_east': ('time',duu),'vel_north':('time',duv1),\n",
    "                             'lon': ('time',dlon),\n",
    "                             'lat': ('time',dlat)},\n",
    "                  coords={'time':dut2})\n",
    "ds_new.to_netcdf('F:/data/cruise_data/saildrone/baja-2018/oscar_downsampled_usv_data2.nc')"
   ]
  },
  {
   "cell_type": "markdown",
   "metadata": {},
   "source": [
    "# redo the collocation\n",
    "Now, redo the collocation, using 'linear' interpolation using the averaged data.  This will interpolate the data temporally onto the USV sampling which has been averaged to the satellite data grid points"
   ]
  },
  {
   "cell_type": "code",
   "execution_count": null,
   "metadata": {},
   "outputs": [],
   "source": [
    "ds_collocated_averaged = subset.interp(lat=ds_new.lat,lon=ds_new.lon,time=ds_new.time,method='linear')\n",
    "ds_collocated_averaged"
   ]
  },
  {
   "cell_type": "code",
   "execution_count": null,
   "metadata": {},
   "outputs": [],
   "source": [
    "ds_collocated_averaged.to_netcdf('F:/data/cruise_data/saildrone/baja-2018/oscar_downsampled_collocated_usv_data3.nc')\n"
   ]
  },
  {
   "cell_type": "code",
   "execution_count": null,
   "metadata": {},
   "outputs": [],
   "source": [
    "ds_collocated_averaged['spd']=np.sqrt(ds_collocated_averaged.u**2+ds_collocated_averaged.v**2)\n",
    "ds_new['spd'] = np.sqrt(ds_new.vel_east**2+ds_new.vel_north**2)\n",
    "ds_collocated_averaged['dir']=np.arctan2(ds_collocated_averaged.v,ds_collocated_averaged.u)*180./np.pi\n",
    "ds_new['dir'] = np.arctan2(ds_new.vel_north,ds_new.vel_east)*180./np.pi\n",
    "\n",
    "usv_spd = ds_new.spd\n",
    "sat_spd = ds_collocated_averaged.spd\n",
    "usv_dir = ds_new.dir\n",
    "sat_dir = ds_collocated_averaged.dir\n",
    "dif_spd,dif_dir = usv_spd - sat_spd, usv_dir - sat_dir\n",
    "cond,cond2 = (dif_dir > 180),(dif_dir < -180)\n",
    "cond,cond2 = (dif_dir > 180),(dif_dir < -180)\n",
    "dif_dir[cond]-=360\n",
    "dif_dir[cond2]+=360\n",
    "print('mean,std dif speed',[dif_spd.mean().data,dif_spd.std().data])\n",
    "print('mean,std dir',[dif_dir.mean().data,dif_dir.std().data,dif_spd.shape[0]])\n",
    "\n",
    "usv_spd = ds_new.spd\n",
    "sat_spd = ds_collocated_averaged.spd\n",
    "usv_dir = ds_new.dir\n",
    "sat_dir = ds_collocated_averaged.dir\n",
    "dif_spd,dif_dir = usv_spd - sat_spd, usv_dir - sat_dir\n",
    "cond,cond2 = (dif_dir > 180),(dif_dir < -180)\n",
    "cond,cond2 = (dif_dir > 180),(dif_dir < -180)\n",
    "dif_dir[cond]-=360\n",
    "dif_dir[cond2]+=360\n",
    "\n",
    "cond = (np.isfinite(usv_spd) & np.isfinite(sat_spd))\n",
    "usv_spd = usv_spd[cond]\n",
    "sat_spd = sat_spd[cond]\n",
    "usv_dir = usv_dir[cond]\n",
    "sat_dir = sat_dir[cond]\n",
    "\n",
    "sdif = dif_spd.dropna('time')\n",
    "sdifcor = np.corrcoef(sat_spd,usv_spd)[0,1]\n",
    "std_robust = np.nanmedian(np.abs(sdif - np.nanmedian(sdif))) * 1.482602218505602\n",
    "ilen = sdif.shape[0]\n",
    "print([sdif.mean().data,sdif.median().data,sdifcor,sdif.std().data,std_robust,\n",
    "                    np.abs(sdif).mean().data,sdif.shape[0]])\n",
    "sdif = dif_dir.dropna('time')\n",
    "sdifcor = np.corrcoef(sat_dir,usv_dir)[0,1]\n",
    "std_robust = np.nanmedian(np.abs(sdif - np.nanmedian(sdif))) * 1.482602218505602\n",
    "ilen = sdif.shape[0]\n",
    "print([sdif.mean().data,sdif.median().data,sdifcor,sdif.std().data,std_robust,\n",
    "                    np.abs(sdif).mean().data,sdif.shape[0]])\n"
   ]
  },
  {
   "cell_type": "code",
   "execution_count": null,
   "metadata": {},
   "outputs": [],
   "source": [
    "ds_new"
   ]
  },
  {
   "cell_type": "code",
   "execution_count": null,
   "metadata": {},
   "outputs": [],
   "source": [
    "\n",
    "# Learn about API authentication here: https://plot.ly/python/getting-started\n",
    "# Find your api_key here: https://plot.ly/settings/api\n",
    "# MatPlotlib\n",
    "import matplotlib.pyplot as plt\n",
    "from matplotlib import pylab\n",
    "# Scientific libraries\n",
    "from numpy import arange,array,ones\n",
    "from scipy import stats\n",
    "\n",
    "usv_spd = ds_new.spd\n",
    "sat_spd = ds_collocated_averaged.spd\n",
    "usv_dir = ds_new.dir\n",
    "sat_dir = ds_collocated_averaged.dir\n",
    "dif_spd,dif_dir = usv_spd - sat_spd, usv_dir - sat_dir\n",
    "cond,cond2 = (dif_dir > 180),(dif_dir < -180)\n",
    "cond,cond2 = (dif_dir > 180),(dif_dir < -180)\n",
    "dif_dir[cond]-=360\n",
    "dif_dir[cond2]+=360\n",
    "\n",
    "usv_ucur = ds_new.vel_east\n",
    "usv_vcur = ds_new.vel_north\n",
    "sat_ucur = ds_collocated_averaged.u\n",
    "sat_vcur = ds_collocated_averaged.v\n",
    "usv_spd  = np.sqrt(usv_ucur**2 + usv_vcur**2)\n",
    "sat_spd  = np.sqrt(sat_ucur**2 + sat_vcur**2)\n",
    "\n",
    "cond = (np.isfinite(usv_spd) & np.isfinite(sat_spd))\n",
    "usv_spd = usv_spd[cond]\n",
    "sat_spd = sat_spd[cond]\n",
    "usv_dir = usv_dir[cond]\n",
    "sat_dir = sat_dir[cond]\n",
    "\n",
    "xi = usv_spd.data\n",
    "A = array([ xi, ones(sat_spd.shape[0])])\n",
    "y = sat_spd.data\n",
    "# Generated linear fit\n",
    "slope, intercept, r_value, p_value, std_err = stats.linregress(xi,y)\n",
    "line = slope*xi+intercept\n",
    "plt.plot(xi,y,'o', xi, line)\n",
    "plt.ylim(-.1,1),plt.xlim(-.1,1)\n",
    "plt.grid()\n",
    "plt.xlabel('USV speed')\n",
    "plt.ylabel('OSCAR speed')\n",
    "print(slope,intercept,r_value,p_value,std_err)\n",
    "\n",
    "fig_fname='F:/data/cruise_data/saildrone/baja-2018/figs/oscar_usv_big_spd.png'\n",
    "plt.savefig(fig_fname, transparent=False, format='png')\n",
    "\n",
    "#pylab.title('Linear Fit with Matplotlib')\n",
    "#ax = plt.gca()\n",
    "#ax.set_axis_bgcolor((0.898, 0.898, 0.898))\n",
    "#fig = plt.gcf()\n",
    "#py.plot_mpl(fig, filename='linear-Fit-with-matplotlib')\n",
    "\n"
   ]
  },
  {
   "cell_type": "code",
   "execution_count": null,
   "metadata": {},
   "outputs": [],
   "source": [
    "usv_ucur = ds_new.vel_east\n",
    "usv_vcur = ds_new.vel_north\n",
    "sat_ucur = ds_collocated_averaged.u\n",
    "sat_vcur = ds_collocated_averaged.v\n",
    "\n",
    "cond = (np.isfinite(usv_ucur) & np.isfinite(sat_ucur) & ( usv_vcur<.2))\n",
    "usv_ucur = usv_ucur[cond]\n",
    "sat_ucur = sat_ucur[cond]\n",
    "usv_vcur = usv_vcur[cond]\n",
    "sat_vcur = sat_vcur[cond]\n",
    "\n",
    "xi = usv_ucur.data\n",
    "A = array([ xi, ones(usv_ucur.shape[0])])\n",
    "y = sat_ucur.data\n",
    "# Generated linear fit\n",
    "slope, intercept, r_value, p_value, std_err = stats.linregress(xi,y)\n",
    "line = slope*xi+intercept\n",
    "plt.subplot(231)\n",
    "plt.plot(xi,y,'o', xi, line)\n",
    "plt.ylim(-.5,.5),plt.xlim(-.5,.5)\n",
    "plt.grid()\n",
    "plt.xlabel('USV east speed')\n",
    "plt.ylabel('SAT east speed')\n",
    "print(slope,intercept,r_value,p_value,std_err)\n",
    "xi = usv_vcur.data\n",
    "A = array([ xi, ones(usv_vcur.shape[0])])\n",
    "y = sat_vcur.data\n",
    "# Generated linear fit\n",
    "slope, intercept, r_value, p_value, std_err = stats.linregress(xi,y)\n",
    "line = slope*xi+intercept\n",
    "plt.subplot(232)\n",
    "plt.plot(xi,y,'o', xi, line)\n",
    "plt.xlabel('USV north speed')\n",
    "plt.ylabel('SAT north speed')\n",
    "print(slope,intercept,r_value,p_value,std_err)\n",
    "plt.ylim(-.5,.5),plt.xlim(-.5,.5)\n",
    "plt.grid()\n",
    "xi = np.sqrt(usv_vcur.data**2 + usv_ucur.data**2)\n",
    "A = array([ xi, ones(usv_vcur.shape[0])])\n",
    "y = np.sqrt(sat_vcur.data**2+sat_ucur.data**2)\n",
    "# Generated linear fit\n",
    "slope, intercept, r_value, p_value, std_err = stats.linregress(xi,y)\n",
    "line = slope*xi+intercept\n",
    "plt.subplot(233)\n",
    "plt.plot(xi,y,'o', xi, line)\n",
    "plt.ylim(-.1,.75),plt.xlim(-.1,.75)\n",
    "plt.grid()\n",
    "plt.xlabel('USV speed')\n",
    "plt.ylabel('SAT speed')\n",
    "print(slope,intercept,r_value,p_value,std_err)\n",
    "fig_fname='F:/data/cruise_data/saildrone/baja-2018/figs/sat_current_U_V_speed.png'\n",
    "plt.savefig(fig_fname, transparent=False, format='png')\n"
   ]
  },
  {
   "cell_type": "code",
   "execution_count": null,
   "metadata": {},
   "outputs": [],
   "source": [
    "fig, ax = plt.subplots(figsize=(5,4))\n",
    "ax.plot(usv_spd,usv_spd - sat_spd,'.')\n",
    "ax.grid(True)\n",
    "ax.set_xlabel('USV current speed (ms$^{-1}$)')\n",
    "ax.set_ylabel('USV - Sat current speed (ms$^{-1}$)')\n",
    "fig_fname='F:/data/cruise_data/saildrone/baja-2018/figs/sat_current_USV_minus_Sat_fnct_USV.png'\n",
    "fig.savefig(fig_fname, transparent=False, format='png')\n"
   ]
  },
  {
   "cell_type": "code",
   "execution_count": null,
   "metadata": {},
   "outputs": [],
   "source": [
    "fig, ax = plt.subplots(figsize=(5,4))\n",
    "ax.plot(usv_spd,usv_dir - sat_dir,'.')\n",
    "ax.set_xlabel('USV current speed (ms$^{-1}$)')\n",
    "ax.set_ylabel('USV - Sat current direction (deg)')\n",
    "fig_fname='F:/data/cruise_data/saildrone/baja-2018/figs/sat_current_both_bias.png'\n",
    "fig.savefig(fig_fname, transparent=False, format='png')\n"
   ]
  },
  {
   "cell_type": "code",
   "execution_count": null,
   "metadata": {},
   "outputs": [],
   "source": [
    "ds_usv_subset['cur_spd']=np.sqrt(ds_usv_subset.vel_east**2+ds_usv_subset.vel_north**2)\n",
    "ds_usv_6hr=ds_usv_subset.resample(time='6H').mean()\n",
    "ds_usv_6hr['cur_spd']=np.sqrt(ds_usv_6hr.vel_east**2+ds_usv_6hr.vel_north**2)\n",
    "\n",
    "\n",
    "plt.plot(ds_collocated_averaged.time[cond],sat_spd,'.-')\n",
    "plt.plot(ds_collocated_averaged.time[cond],usv_spd,'.-')\n",
    "plt.plot(ds_usv_6hr.time,ds_usv_6hr.cur_spd)\n",
    "plt.legend({'OSCAR','USV','USV-ave'})\n",
    "fig_fname='F:/data/cruise_data/saildrone/baja-2018/figs/sat_current_timeseries_bias.png'\n",
    "fig.savefig(fig_fname, transparent=False, format='png')\n"
   ]
  },
  {
   "cell_type": "code",
   "execution_count": null,
   "metadata": {},
   "outputs": [],
   "source": [
    "ds_usv.spd_30m.sel(time=slice('2018-05-05','2018-05-09')).plot()\n"
   ]
  }
 ],
 "metadata": {
  "kernelspec": {
   "display_name": "Python 3",
   "language": "python",
   "name": "python3"
  },
  "language_info": {
   "codemirror_mode": {
    "name": "ipython",
    "version": 3
   },
   "file_extension": ".py",
   "mimetype": "text/x-python",
   "name": "python",
   "nbconvert_exporter": "python",
   "pygments_lexer": "ipython3",
   "version": "3.7.1"
  }
 },
 "nbformat": 4,
 "nbformat_minor": 1
}
