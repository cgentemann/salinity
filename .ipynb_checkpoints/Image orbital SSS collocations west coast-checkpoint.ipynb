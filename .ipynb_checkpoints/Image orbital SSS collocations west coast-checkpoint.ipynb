{
 "cells": [
  {
   "cell_type": "markdown",
   "metadata": {},
   "source": [
    "# This is the in situ and SSS collocation code. \n"
   ]
  },
  {
   "cell_type": "code",
   "execution_count": null,
   "metadata": {},
   "outputs": [],
   "source": [
    "import os\n",
    "import numpy as np\n",
    "import matplotlib.pyplot as plt\n",
    "import datetime as dt\n",
    "import xarray as xr\n",
    "import scipy\n",
    "from glob import glob\n",
    "import cartopy.crs as ccrs\n",
    "from pyresample.geometry import AreaDefinition\n",
    "from pyresample import image, geometry, load_area, save_quicklook, SwathDefinition\n",
    "from pyresample.kd_tree import resample_nearest\n",
    "import sys\n",
    "sys.path.append('../saildrone/subroutines/')\n",
    "from read_routines import read_one_usv, add_coll_vars,get_filelist_l2p,get_orbital_data_l2p\n",
    "import warnings\n",
    "warnings.simplefilter('ignore') # filter some warning messages\n",
    "\n",
    "\n",
    "ds = xr.open_dataset('f:/data/sat_data/distance_to_land_25km.nc').rename({'i2':'lon','j2':'lat'})\n",
    "ds['lat'],ds['lon']=np.arange(-89.875,89.876,.25),np.arange(-179.875,179.876,.25)#np.arange(.125,359.876,.25)\n",
    "#ds.coords['lon'] = (ds.coords['lon'] + 180) % 360 - 180\n",
    "#ds = ds.sortby(ds.lon)\n",
    "ds_land=ds\n",
    "plt.rcParams['figure.figsize'] = (15,5)\n",
    "ds_land.dist_land.plot()"
   ]
  },
  {
   "cell_type": "markdown",
   "metadata": {},
   "source": [
    "# Read in USV data\n",
    "Read in the Saildrone USV file either from a local disc or using OpenDAP.\n",
    "\n"
   ]
  },
  {
   "cell_type": "code",
   "execution_count": null,
   "metadata": {},
   "outputs": [],
   "source": [
    "dir_data = 'C:/Users/gentemann/Google Drive/public/ALL_saildrone_data/' #'f:/data/cruise_data/saildrone/saildrone_data/'\n",
    "dir_data_pattern = 'C:/Users/gentemann/Google Drive/public/ALL_saildrone_data/*west*.nc' \n",
    "\n",
    "#get list of all filenames in directory\n",
    "files = glob(dir_data_pattern)\n",
    "print('number of file:',len(files))\n",
    "for ifile,file in enumerate(files):\n",
    "    print(ifile,file)"
   ]
  },
  {
   "cell_type": "code",
   "execution_count": null,
   "metadata": {},
   "outputs": [],
   "source": [
    "#filename_usv='f:/data/cruise_data/saildrone/baja-2018/saildrone-gen_4-baja_2018-sd1002-20180411T180000-20180611T055959-1_minutes-v1.nc'\n",
    "#filename_usv='f:/data/cruise_data/saildrone/baja-2018/saildrone-gen_4-baja_2018-sd1002-20180411T180000-20180611T055959-1_minutes-v1.nc'\n",
    "iname=0\n",
    "ds_usv=[]\n",
    "for file in files:\n",
    "    ds = read_one_usv(file)\n",
    "    ds_usv.append(ds[0])\n",
    "ds_usv=xr.concat(ds_usv,dim='trajectory')\n",
    "#ds_usv = xr.open_mfdataset(files,concat_dim='trajectory')\n",
    "#ds_usv.close()\n",
    "#ds_usv = ds_usv.isel(trajectory=0).swap_dims({'obs':'time'}).rename({'longitude':'lon','latitude':'lat'})\n",
    "#ds_usv = ds_usv.sel(time=slice('2018-04-12T02','2018-06-10T18')) #get rid of last part and first part where USV being towed\n",
    "#ds_usv['lon'] = ds_usv.lon.interpolate_na(dim='time',method='linear') #there are 6 nan values\n",
    "#ds_usv['lat'] = ds_usv.lat.interpolate_na(dim='time',method='linear')\n",
    "#ds_usv['wind_speed']=np.sqrt(ds_usv.UWND_MEAN**2+ds_usv.VWND_MEAN**2)\n",
    "#ds_usv['wind_dir']=np.arctan2(ds_usv.VWND_MEAN,ds_usv.UWND_MEAN)*180/np.pi\n",
    "#ds_usv"
   ]
  },
  {
   "cell_type": "code",
   "execution_count": null,
   "metadata": {},
   "outputs": [],
   "source": [
    "ds"
   ]
  },
  {
   "cell_type": "code",
   "execution_count": null,
   "metadata": {},
   "outputs": [],
   "source": [
    "plt.rcParams['figure.figsize'] = (15.0, 15.0)\n",
    "plt.rcParams.update({'font.size': 16})\n",
    "import cmocean\n",
    "for i in range(len(ds_usv.trajectory)):\n",
    "    ds=ds_usv.isel(trajectory=i)\n",
    "    ax = plt.axes(projection=ccrs.PlateCarree())\n",
    "    cs1 = ax.scatter(ds.lon, ds.lat, s=3.0, c=ds.SAL_CTD_MEAN, edgecolor='none', cmap=cmocean.cm.haline,vmin=32,vmax=34)\n",
    "ax.coastlines()\n",
    "#cs1.set_fontsize(16)\n",
    "x1,x2,y1,y2 = -130,-116,31,52\n",
    "ax.set_xlim(x1,x2)\n",
    "ax.set_ylim(y1,y2)\n",
    "ax.set_xticks(np.arange(x1,x2,4))\n",
    "ax.set_yticks(np.arange(y1,y2,5))\n",
    "cax = plt.colorbar(cs1)\n",
    "cax.set_label('Salinity (psu)',fontsize=16)\n",
    "fig_fname = 'C:/Users/gentemann/Google Drive/f_drive/docs/projects/SSS/figures/west_coast_all_cruises.png'\n",
    "plt.savefig(fig_fname, transparent=False, format='png')"
   ]
  },
  {
   "cell_type": "code",
   "execution_count": null,
   "metadata": {},
   "outputs": [],
   "source": [
    "np.datetime64('2019-06-19')"
   ]
  },
  {
   "cell_type": "code",
   "execution_count": null,
   "metadata": {},
   "outputs": [],
   "source": [
    "plt.rcParams['figure.figsize'] = (15.0, 5.0)\n",
    "plt.rcParams.update({'font.size': 16})\n",
    "import cmocean\n",
    "for i in range(len(ds_usv.trajectory)):\n",
    "    ds=ds_usv.isel(trajectory=i)\n",
    "    #ax = plt.axes(projection=ccrs.PlateCarree())\n",
    "    plt.plot(ds.time,ds.lat)\n",
    "    plt.plot([np.datetime64('2019-06-19'),np.datetime64('2019-08-05')],[35,35],'r',linewidth=10) #DATA OUTAGE\n",
    "fig_fname = 'C:/Users/gentemann/Google Drive/f_drive/docs/projects/SSS/figures/west_coast_all_cruises_timeseries.png'\n",
    "plt.savefig(fig_fname, transparent=False, format='png')"
   ]
  },
  {
   "cell_type": "code",
   "execution_count": null,
   "metadata": {},
   "outputs": [],
   "source": [
    "dir_data = 'F:/data/cruise_data/saildrone/sss/sss_collocations_orbital_norepeat/' #'f:/data/cruise_data/saildrone/saildrone_data/'\n",
    "dir_data_patternJ = 'F:/data/cruise_data/saildrone/sss/sss_collocations_orbital_norepeat/*west*JPL*.nc' \n",
    "dir_data_patternR = 'F:/data/cruise_data/saildrone/sss/sss_collocations_orbital_norepeat/*west*RSS*.nc' \n",
    "\n",
    "#get list of all filenames in directory\n",
    "cfilesJ = glob(dir_data_patternJ)\n",
    "cfilesR = glob(dir_data_patternR)\n",
    "print('number of file:',len(cfilesR))\n",
    "for ifile,file in enumerate(cfilesJ):\n",
    "    print(ifile,file)"
   ]
  },
  {
   "cell_type": "code",
   "execution_count": null,
   "metadata": {},
   "outputs": [],
   "source": [
    "ds2=[]\n",
    "for i in range(len(cfilesJ)):\n",
    "    ds = xr.open_dataset(cfilesJ[i])\n",
    "    ds2.append(ds)\n",
    "ds_colJ = xr.concat(ds2,dim='trajectory')\n",
    "ds2=[]\n",
    "for i in range(len(cfilesR)):\n",
    "    ds = xr.open_dataset(cfilesR[i])\n",
    "    ds2.append(ds)\n",
    "ds_colR = xr.concat(ds2,dim='trajectory')\n",
    "\n",
    "ds=ds_land.interp(lat=ds_colJ.lat,lon=ds_colJ.lon).drop({'lat','lon'})\n",
    "ds_colJ['dist_land']=ds.dist_land\n",
    "ds=ds_land.interp(lat=ds_colR.lat,lon=ds_colR.lon).drop({'lat','lon'})\n",
    "ds_colR['dist_land']=ds.dist_land"
   ]
  },
  {
   "cell_type": "code",
   "execution_count": null,
   "metadata": {},
   "outputs": [],
   "source": [
    "plt.rcParams['figure.figsize'] = (15.0, 5.0)\n",
    "plt.rcParams.update({'font.size': 16})\n",
    "import cmocean\n",
    "for i in range(len(ds_usv.trajectory)):\n",
    "    ds=ds_colJ.isel(trajectory=i)\n",
    "    plt.plot(ds.time,ds.lat,'.',color='b',linewidth=3)\n",
    "    ds=ds_colR.isel(trajectory=i)\n",
    "    plt.plot(ds.time,ds.lat,'.',color='m')\n",
    "    plt.plot([np.datetime64('2019-06-19'),np.datetime64('2019-07-23')],[35,35],'r',linewidth=10) #DATA OUTAGE\n",
    "fig_fname = 'C:/Users/gentemann/Google Drive/f_drive/docs/projects/SSS/figures/west_coast_coll_cruises_timeseriesJPL.png'\n",
    "plt.savefig(fig_fname, transparent=False, format='png')"
   ]
  },
  {
   "cell_type": "code",
   "execution_count": null,
   "metadata": {},
   "outputs": [],
   "source": [
    "for i in range(13):\n",
    "    ds=ds_colJ.isel(trajectory=i)\n",
    "#    ds = ds.where(ds.dist_land>30)\n",
    "    ax = plt.axes(projection=ccrs.PlateCarree())\n",
    "    cs1 = ax.scatter(ds.lon, ds.lat, s=3.0, c=ds.dist_land, edgecolor='none', cmap='jet',vmin=0,vmax=300)\n",
    "ax.coastlines()\n",
    "#cs1.set_fontsize(16)\n",
    "x1,x2,y1,y2 = -130,-116,31,52\n",
    "ax.set_xlim(x1,x2)\n",
    "ax.set_ylim(y1,y2)\n",
    "ax.set_xticks(np.arange(x1,x2,4))\n",
    "ax.set_yticks(np.arange(y1,y2,5))\n",
    "cax = plt.colorbar(cs1)\n",
    "cax.set_label('Distance from Land (km)',fontsize=16)\n",
    "fig_fname = 'C:/Users/gentemann/Google Drive/f_drive/docs/projects/SSS/figures/west_coast_collocations_distanceJPL.png'\n",
    "plt.savefig(fig_fname, transparent=False, format='png')"
   ]
  },
  {
   "cell_type": "code",
   "execution_count": null,
   "metadata": {},
   "outputs": [],
   "source": [
    "for i in range(13):\n",
    "    ds=ds_colR.isel(trajectory=i)\n",
    "    ax = plt.axes(projection=ccrs.PlateCarree())\n",
    "    cs1 = ax.scatter(ds.lon, ds.lat, s=3.0, c=ds.dist_land, edgecolor='none', cmap='jet',vmin=0,vmax=300)\n",
    "ax.coastlines()\n",
    "#cs1.set_fontsize(16)\n",
    "x1,x2,y1,y2 = -130,-116,31,52\n",
    "ax.set_xlim(x1,x2)\n",
    "ax.set_ylim(y1,y2)\n",
    "ax.set_xticks(np.arange(x1,x2,4))\n",
    "ax.set_yticks(np.arange(y1,y2,5))\n",
    "cax = plt.colorbar(cs1)\n",
    "cax.set_label('Distance from Land (km)',fontsize=16)\n",
    "fig_fname = 'C:/Users/gentemann/Google Drive/f_drive/docs/projects/SSS/figures/west_coast_collocations_distanceRSS.png'\n",
    "plt.savefig(fig_fname, transparent=False, format='png')"
   ]
  },
  {
   "cell_type": "code",
   "execution_count": null,
   "metadata": {},
   "outputs": [],
   "source": [
    "ds_colJ"
   ]
  },
  {
   "cell_type": "code",
   "execution_count": null,
   "metadata": {},
   "outputs": [],
   "source": [
    "ds = ds_colR.isel(trajectory=6)\n",
    "ds = ds.where((ds.dist_land>25) & (ds.SAL_CTD_MEAN>26))\n",
    "dif = ds.SAL_CTD_MEAN,ds.SAL_CTD_MEAN-ds.smap_SSS\n",
    "plt.subplot(2,1,1)\n",
    "plt.scatter(ds.smap_iqc_flag,ds.SAL_CTD_MEAN-ds.smap_SSS,c=ds.dist_land)\n",
    "#plt.scatter(ds.dist_land,ds.SAL_CTD_MEAN-ds.smap_SSS,c=ds.dist_land)\n"
   ]
  },
  {
   "cell_type": "code",
   "execution_count": null,
   "metadata": {},
   "outputs": [],
   "source": [
    "plt.rcParams['figure.figsize'] = (15.0,15.0)\n",
    "plt.rcParams.update({'font.size': 16})\n",
    "for i in range(13):\n",
    "    ds = ds_colJ.isel(trajectory=i)\n",
    "    ds = ds.where((ds.dist_land>25) & (ds.SAL_CTD_MEAN>26) & (ds.smap_iqc_flag<1))\n",
    "    dif = ds.SAL_CTD_MEAN,ds.SAL_CTD_MEAN-ds.smap_SSS\n",
    "    plt.subplot(2,1,1)\n",
    "    plt.scatter(ds.SAL_CTD_MEAN,ds.SAL_CTD_MEAN-ds.smap_SSS,c=ds.dist_land)\n",
    "    plt.axhline(0)\n",
    "plt.text(27,7.5,'JPL',fontsize=22)\n",
    "plt.xlim(26,34),plt.ylim(-10,10),plt.ylabel('$\\Delta$Salinity (USV - SMAP) (psu)')\n",
    "cb=plt.colorbar(label='Distance from land (km)')\n",
    "for i in range(13):\n",
    "    ds = ds_colR.isel(trajectory=i)\n",
    "    #ds = ds.where((ds.smap_iqc_flag<1))\n",
    "    ds = ds.where((ds.dist_land>40) & (ds.smap_iqc_flag<10000))\n",
    "    dif = ds.SAL_CTD_MEAN,ds.SAL_CTD_MEAN-ds.smap_SSS\n",
    "    plt.subplot(2,1,2)\n",
    "    plt.axhline(0)\n",
    "    plt.scatter(ds.SAL_CTD_MEAN,ds.SAL_CTD_MEAN-ds.smap_SSS,c=ds.dist_land)\n",
    "plt.text(27,7.5,'RSS',fontsize=22)\n",
    "plt.xlim(26,34),plt.ylim(-10,10),plt.ylabel('$\\Delta$Salinity (USV - SMAP) (psu)'),plt.xlabel('USV Salinity (psu)')\n",
    "cb=plt.colorbar(label='Distance from land (km)')\n",
    "fig_fname = 'C:/Users/gentemann/Google Drive/f_drive/docs/projects/SSS/figures/west_coast_collocations_sal_scatter.png'\n",
    "plt.savefig(fig_fname, transparent=False, format='png')"
   ]
  },
  {
   "cell_type": "code",
   "execution_count": null,
   "metadata": {},
   "outputs": [],
   "source": [
    "plt.rcParams['figure.figsize'] = (15.0,8.0)\n",
    "plt.rcParams.update({'font.size': 16})\n",
    "\n",
    "for i in range(13):\n",
    "    ds=ds_colJ.isel(trajectory=i)\n",
    "    ds = ds.where((ds.SAL_CTD_MEAN>26) & (ds.smap_iqc_flag<1))\n",
    "#    ds = ds.where((ds.dist_land>25) & (ds.SAL_CTD_MEAN>26) & (ds.smap_iqc_flag<1))\n",
    "    ax = plt.subplot(121,projection=ccrs.PlateCarree())\n",
    "    cs1 = ax.scatter(ds.lon, ds.lat, s=15.0, c=ds.SAL_CTD_MEAN-ds.smap_SSS, edgecolor='none', cmap='RdBu',vmin=-5,vmax=5)\n",
    "ax.coastlines()\n",
    "#cs1.set_fontsize(16)\n",
    "x1,x2,y1,y2 = -130,-116,31,52\n",
    "ax.set_xlim(x1,x2)\n",
    "ax.set_ylim(y1,y2)\n",
    "ax.set_xticks(np.arange(x1,x2,4))\n",
    "ax.set_yticks(np.arange(y1,y2,5))\n",
    "\n",
    "for i in range(13):\n",
    "    ds=ds_colR.isel(trajectory=i)\n",
    "    ds = ds.where((ds.dist_land>40) & (ds.smap_iqc_flag<10000))\n",
    "    ax = plt.subplot(122,projection=ccrs.PlateCarree())\n",
    "    cs1 = ax.scatter(ds.lon, ds.lat, s=15.0, c=ds.SAL_CTD_MEAN-ds.smap_SSS, edgecolor='none', cmap='RdBu',vmin=-5,vmax=5)\n",
    "ax.coastlines()\n",
    "#cs1.set_fontsize(16)\n",
    "x1,x2,y1,y2 = -130,-116,31,52\n",
    "ax.set_xlim(x1,x2)\n",
    "ax.set_ylim(y1,y2)\n",
    "ax.set_xticks(np.arange(x1,x2,4))\n",
    "ax.set_yticks(np.arange(y1,y2,5))\n",
    "\n",
    "cax = plt.colorbar(cs1)\n",
    "cax.set_label('$\\Delta$SSS$_{USV-SMAP}$',fontsize=16)\n",
    "fig_fname = 'C:/Users/gentemann/Google Drive/f_drive/docs/projects/SSS/figures/west_coast_collocations_sal_dif.png'\n",
    "plt.savefig(fig_fname, transparent=False, format='png')"
   ]
  },
  {
   "cell_type": "code",
   "execution_count": null,
   "metadata": {},
   "outputs": [],
   "source": [
    "ds=ds_colJ.where((ds_colJ.dist_land>26) & (ds_colJ.SAL_CTD_MEAN>26) & (ds_colJ.smap_iqc_flag<1))\n",
    "ds['dif_sal']=ds.SAL_CTD_MEAN-ds.smap_SSS\n",
    "print(ds.dif_sal.mean().data,ds.dif_sal.std().data,(ds.dif_sal/ds.dif_sal).sum().data)\n",
    "ds=ds_colR.where((ds_colR.dist_land>40) & (ds_colR.smap_iqc_flag<10000))\n",
    "ds['dif_sal']=ds.SAL_CTD_MEAN-ds.smap_SSS\n",
    "print(ds.dif_sal.mean().data,ds.dif_sal.std().data,(ds.dif_sal/ds.dif_sal).sum().data)"
   ]
  },
  {
   "cell_type": "code",
   "execution_count": null,
   "metadata": {},
   "outputs": [],
   "source": []
  },
  {
   "cell_type": "code",
   "execution_count": null,
   "metadata": {},
   "outputs": [],
   "source": [
    "plt.rcParams['figure.figsize'] = (15.0,8.0)\n",
    "plt.rcParams.update({'font.size': 16})\n",
    "\n",
    "for i in range(13):\n",
    "    ds=ds_colR.isel(trajectory=i)\n",
    "    #ds = ds.where((ds.SAL_CTD_MEAN>26) & (ds.smap_iqc_flag<1))\n",
    "#    ds = ds.where((ds.dist_land>25) & (ds.SAL_CTD_MEAN>26) & (ds.smap_iqc_flag<1))\n",
    "    ax = plt.subplot(121,projection=ccrs.PlateCarree())\n",
    "    cs1 = ax.scatter(ds.lon, ds.lat, s=15.0, c=ds.smap_iqc_flag, edgecolor='none', cmap='RdBu',vmin=0,vmax=32000)\n",
    "ax.coastlines()\n",
    "#cs1.set_fontsize(16)\n",
    "x1,x2,y1,y2 = -130,-116,31,52\n",
    "ax.set_xlim(x1,x2)\n",
    "ax.set_ylim(y1,y2)\n",
    "ax.set_xticks(np.arange(x1,x2,4))\n",
    "ax.set_yticks(np.arange(y1,y2,5))\n",
    "cax = plt.colorbar(cs1)\n",
    "\n"
   ]
  },
  {
   "cell_type": "code",
   "execution_count": null,
   "metadata": {},
   "outputs": [],
   "source": [
    "ds1 = xr.open_dataset('F:/data/sat_data/smap/SSS/L2/JPL/V4.3/2019/001/SMAP_L2B_SSS_20921_20190101T005415_R16022_V4.3.h5')\n",
    "ds2 = xr.open_dataset('F:/data/sat_data/smap/SSS/L2/RSS/V4/SCI/2019/001/RSS_SMAP_SSS_L2C_r20921_20190101T005327_2019001_FNL_V04.0.nc')"
   ]
  },
  {
   "cell_type": "code",
   "execution_count": null,
   "metadata": {},
   "outputs": [],
   "source": [
    "ds1"
   ]
  },
  {
   "cell_type": "code",
   "execution_count": null,
   "metadata": {},
   "outputs": [],
   "source": [
    "ds1=ds_colJ.isel(trajectory=2)\n",
    "ds2=ds_colR.isel(trajectory=2)\n",
    "plt.scatter(ds1.time.data,ds1.SAL_CTD_MEAN)\n",
    "plt.scatter(ds2.time.data,ds2.SAL_CTD_MEAN)"
   ]
  },
  {
   "cell_type": "code",
   "execution_count": null,
   "metadata": {},
   "outputs": [],
   "source": []
  },
  {
   "cell_type": "code",
   "execution_count": null,
   "metadata": {},
   "outputs": [],
   "source": []
  }
 ],
 "metadata": {
  "kernelspec": {
   "display_name": "Python 3",
   "language": "python",
   "name": "python3"
  },
  "language_info": {
   "codemirror_mode": {
    "name": "ipython",
    "version": 3
   },
   "file_extension": ".py",
   "mimetype": "text/x-python",
   "name": "python",
   "nbconvert_exporter": "python",
   "pygments_lexer": "ipython3",
   "version": "3.7.9"
  }
 },
 "nbformat": 4,
 "nbformat_minor": 1
}
