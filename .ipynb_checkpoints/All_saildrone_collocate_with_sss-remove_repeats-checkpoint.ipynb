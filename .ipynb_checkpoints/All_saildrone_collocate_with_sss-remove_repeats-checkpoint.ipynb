{
 "cells": [
  {
   "cell_type": "code",
   "execution_count": null,
   "metadata": {},
   "outputs": [],
   "source": [
    "import sys\n",
    "import numpy as np\n",
    "import matplotlib.pyplot as plt\n",
    "import xarray as xr\n",
    "sys.path.append('../saildrone/subroutines/')\n",
    "import warnings\n",
    "warnings.simplefilter('ignore') # filter some warning messages\n",
    "from glob import glob\n"
   ]
  },
  {
   "cell_type": "markdown",
   "metadata": {},
   "source": [
    "# read in collocated files"
   ]
  },
  {
   "cell_type": "code",
   "execution_count": null,
   "metadata": {},
   "outputs": [],
   "source": [
    "data_dir = 'F:/data/cruise_data/saildrone/sss/sss_collocations/'\n",
    "data_dir_out = 'F:/data/cruise_data/saildrone/sss/sss_collocations_norepeat/'\n",
    "filenames = [x for x in glob(data_dir+'*.nc')]\n",
    "filenames"
   ]
  },
  {
   "cell_type": "code",
   "execution_count": null,
   "metadata": {},
   "outputs": [],
   "source": [
    "for iname,name in enumerate(filenames):\n",
    "    i = name.find('\\\\')\n",
    "    fout = data_dir_out + name[i+1:-3]+'norep.nc' \n",
    "    ds = xr.open_dataset(name)\n",
    "    ds.close()\n",
    "    ds_tem2 = ds.where((ds.smap_SSS<50) & (ds.smap_SSS>1),drop=True)\n",
    "    isv=0\n",
    "    while len(ds_tem2.time)>1:\n",
    "        i=0\n",
    "        cond = ((ds_tem2.smap_name==ds_tem2.smap_name[i]) \n",
    "                & (ds_tem2.smap_ydim==ds_tem2.smap_ydim[i]) \n",
    "                & (ds_tem2.smap_xdim==ds_tem2.smap_xdim[i]))\n",
    "        subset = ds_tem2.where(cond,drop=True)  #repeat obs\n",
    "        ds_mn = subset.mean(keep_attrs=True,skipna=True)\n",
    "        ds_mn['time'] = subset.time.mean()\n",
    "        ds_mn = ds_mn.assign_coords({'ob':isv})\n",
    "        if isv==0:\n",
    "            ds_mn2 = ds_mn\n",
    "        else:\n",
    "            ds_mn2 = xr.concat([ds_mn2,ds_mn],dim='ob')\n",
    "        isv = isv+1\n",
    "        ds_tem2 = ds_tem2.where(~cond,drop=True)  #data with repeat obs removed\n",
    "    ds_mn2.to_netcdf(fout)"
   ]
  },
  {
   "cell_type": "code",
   "execution_count": null,
   "metadata": {},
   "outputs": [],
   "source": [
    "#ds= xr.open_dataset('F:/data/sat_data/smap/SSS/L2/JPL/V4.3/2015/136\\SMAP_L2B_SSS_01530_20150516T034831_R16010_V4.3.h5')"
   ]
  },
  {
   "cell_type": "code",
   "execution_count": null,
   "metadata": {},
   "outputs": [],
   "source": []
  },
  {
   "cell_type": "code",
   "execution_count": null,
   "metadata": {},
   "outputs": [],
   "source": []
  }
 ],
 "metadata": {
  "kernelspec": {
   "display_name": "Python 3",
   "language": "python",
   "name": "python3"
  },
  "language_info": {
   "codemirror_mode": {
    "name": "ipython",
    "version": 3
   },
   "file_extension": ".py",
   "mimetype": "text/x-python",
   "name": "python",
   "nbconvert_exporter": "python",
   "pygments_lexer": "ipython3",
   "version": "3.8.3"
  }
 },
 "nbformat": 4,
 "nbformat_minor": 4
}
