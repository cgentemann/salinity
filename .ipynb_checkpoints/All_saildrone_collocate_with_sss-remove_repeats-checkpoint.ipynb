{
 "cells": [
  {
   "cell_type": "code",
   "execution_count": 7,
   "metadata": {},
   "outputs": [],
   "source": [
    "import sys\n",
    "import numpy as np\n",
    "import matplotlib.pyplot as plt\n",
    "import xarray as xr\n",
    "sys.path.append('../saildrone/subroutines/')\n",
    "import warnings\n",
    "warnings.simplefilter('ignore') # filter some warning messages\n",
    "from glob import glob\n",
    "from os import path\n"
   ]
  },
  {
   "cell_type": "markdown",
   "metadata": {},
   "source": [
    "# read in collocated orbital data files"
   ]
  },
  {
   "cell_type": "code",
   "execution_count": 8,
   "metadata": {},
   "outputs": [
    {
     "data": {
      "text/plain": [
       "['F:/data/cruise_data/saildrone/sss/sss_collocations_orbital\\\\PMEL_Arctic_2015_sd126-ALL-1_min-v1jplv05.0_orbital.nc',\n",
       " 'F:/data/cruise_data/saildrone/sss/sss_collocations_orbital\\\\PMEL_Arctic_2015_sd126-ALL-1_min-v1rssv04.0_orbital.nc',\n",
       " 'F:/data/cruise_data/saildrone/sss/sss_collocations_orbital\\\\PMEL_Arctic_2015_sd128-ALL-1_min-v1jplv05.0_orbital.nc',\n",
       " 'F:/data/cruise_data/saildrone/sss/sss_collocations_orbital\\\\PMEL_Arctic_2015_sd128-ALL-1_min-v1rssv04.0_orbital.nc',\n",
       " 'F:/data/cruise_data/saildrone/sss/sss_collocations_orbital\\\\PMEL_Arctic_2016_sd126-ALL-1_min-v1jplv05.0_orbital.nc',\n",
       " 'F:/data/cruise_data/saildrone/sss/sss_collocations_orbital\\\\PMEL_Arctic_2016_sd126-ALL-1_min-v1rssv04.0_orbital.nc',\n",
       " 'F:/data/cruise_data/saildrone/sss/sss_collocations_orbital\\\\PMEL_Arctic_2016_sd128-ALL-1_min-v1jplv05.0_orbital.nc',\n",
       " 'F:/data/cruise_data/saildrone/sss/sss_collocations_orbital\\\\PMEL_Arctic_2016_sd128-ALL-1_min-v1rssv04.0_orbital.nc',\n",
       " 'F:/data/cruise_data/saildrone/sss/sss_collocations_orbital\\\\saildrone-gen_4-baja_2018-sd1002-20180411T180000-20180611T055959-1_minutes-v1jplv05.0_orbital.nc',\n",
       " 'F:/data/cruise_data/saildrone/sss/sss_collocations_orbital\\\\saildrone-gen_4-baja_2018-sd1002-20180411T180000-20180611T055959-1_minutes-v1rssv04.0_orbital.nc',\n",
       " 'F:/data/cruise_data/saildrone/sss/sss_collocations_orbital\\\\saildrone-gen_4-shark-2018-sd1001-20180315T000000-20180529T235959-1_minutes-v1.1581626958976jplv05.0_orbital.nc',\n",
       " 'F:/data/cruise_data/saildrone/sss/sss_collocations_orbital\\\\saildrone-gen_4-shark-2018-sd1001-20180315T000000-20180529T235959-1_minutes-v1.1581626958976rssv04.0_orbital.nc',\n",
       " 'F:/data/cruise_data/saildrone/sss/sss_collocations_orbital\\\\saildrone-gen_4-shark-2018-sd1004-20180315T000000-20180617T235959-1_minutes-v1.1581627077777jplv05.0_orbital.nc',\n",
       " 'F:/data/cruise_data/saildrone/sss/sss_collocations_orbital\\\\saildrone-gen_4-shark-2018-sd1004-20180315T000000-20180617T235959-1_minutes-v1.1581627077777rssv04.0_orbital.nc',\n",
       " 'F:/data/cruise_data/saildrone/sss/sss_collocations_orbital\\\\saildrone-gen_5-1021_atlantic-sd1021-20190525T000000-20191021T235959-1_minutes-v1.1571806429446_(1)jplv05.0_orbital.nc',\n",
       " 'F:/data/cruise_data/saildrone/sss/sss_collocations_orbital\\\\saildrone-gen_5-1021_atlantic-sd1021-20190525T000000-20191021T235959-1_minutes-v1.1571806429446_(1)rssv04.0_orbital.nc',\n",
       " 'F:/data/cruise_data/saildrone/sss/sss_collocations_orbital\\\\saildrone-gen_5-antarctica_circumnavigation_2019-sd1020-20190119T040000-20190803T043000-1_minutes-v1.1564884498845jplv05.0_orbital.nc',\n",
       " 'F:/data/cruise_data/saildrone/sss/sss_collocations_orbital\\\\saildrone-gen_5-antarctica_circumnavigation_2019-sd1020-20190119T040000-20190803T043000-1_minutes-v1.1564884498845rssv04.0_orbital.nc',\n",
       " 'F:/data/cruise_data/saildrone/sss/sss_collocations_orbital\\\\saildrone-gen_5-arctic_misst_2019-sd1036-20190514T230000-20191011T183000-1_minutes-v1.1575336154680jplv05.0_orbital.nc',\n",
       " 'F:/data/cruise_data/saildrone/sss/sss_collocations_orbital\\\\saildrone-gen_5-arctic_misst_2019-sd1036-20190514T230000-20191011T183000-1_minutes-v1.1575336154680rssv04.0_orbital.nc',\n",
       " 'F:/data/cruise_data/saildrone/sss/sss_collocations_orbital\\\\saildrone-gen_5-arctic_misst_2019-sd1037-20190514T230000-20191011T183000-1_minutes-v1.1575487464625jplv05.0_orbital.nc',\n",
       " 'F:/data/cruise_data/saildrone/sss/sss_collocations_orbital\\\\saildrone-gen_5-arctic_misst_2019-sd1037-20190514T230000-20191011T183000-1_minutes-v1.1575487464625rssv04.0_orbital.nc',\n",
       " 'F:/data/cruise_data/saildrone/sss/sss_collocations_orbital\\\\saildrone-gen_5-atlantic_to_med_2019_to_2020-sd1030-20191018T101200-20200717T134559-1_minutes-v1.1595626086288jplv05.0_orbital.nc',\n",
       " 'F:/data/cruise_data/saildrone/sss/sss_collocations_orbital\\\\saildrone-gen_5-atlantic_to_med_2019_to_2020-sd1030-20191018T101200-20200717T134559-1_minutes-v1.1595626086288rssv04.0_orbital.nc',\n",
       " 'F:/data/cruise_data/saildrone/sss/sss_collocations_orbital\\\\saildrone-gen_5-atlantic_to_med_2019_to_2020-sd1053-20191018T110000-20200717T134559-1_minutes-v1.1595634214633jplv05.0_orbital.nc',\n",
       " 'F:/data/cruise_data/saildrone/sss/sss_collocations_orbital\\\\saildrone-gen_5-atlantic_to_med_2019_to_2020-sd1053-20191018T110000-20200717T134559-1_minutes-v1.1595634214633rssv04.0_orbital.nc',\n",
       " 'F:/data/cruise_data/saildrone/sss/sss_collocations_orbital\\\\saildrone-gen_5-atomic_eurec4a_2020-sd1026-20200117T000000-20200302T235959-1_minutes-v1.1589306725934jplv05.0_orbital.nc',\n",
       " 'F:/data/cruise_data/saildrone/sss/sss_collocations_orbital\\\\saildrone-gen_5-atomic_eurec4a_2020-sd1026-20200117T000000-20200302T235959-1_minutes-v1.1589306725934rssv04.0_orbital.nc',\n",
       " 'F:/data/cruise_data/saildrone/sss/sss_collocations_orbital\\\\saildrone-gen_5-atomic_eurec4a_2020-sd1060-20200117T000000-20200302T235959-1_minutes-v1.1589306886594jplv05.0_orbital.nc',\n",
       " 'F:/data/cruise_data/saildrone/sss/sss_collocations_orbital\\\\saildrone-gen_5-atomic_eurec4a_2020-sd1060-20200117T000000-20200302T235959-1_minutes-v1.1589306886594rssv04.0_orbital.nc',\n",
       " 'F:/data/cruise_data/saildrone/sss/sss_collocations_orbital\\\\saildrone-gen_5-atomic_eurec4a_2020-sd1061-20200117T000000-20200302T235959-1_minutes-v1.1589307121602jplv05.0_orbital.nc',\n",
       " 'F:/data/cruise_data/saildrone/sss/sss_collocations_orbital\\\\saildrone-gen_5-atomic_eurec4a_2020-sd1061-20200117T000000-20200302T235959-1_minutes-v1.1589307121602rssv04.0_orbital.nc',\n",
       " 'F:/data/cruise_data/saildrone/sss/sss_collocations_orbital\\\\saildrone_arctic_2017_sd1001jplv05.0_orbital.nc',\n",
       " 'F:/data/cruise_data/saildrone/sss/sss_collocations_orbital\\\\saildrone_arctic_2017_sd1001rssv04.0_orbital.nc',\n",
       " 'F:/data/cruise_data/saildrone/sss/sss_collocations_orbital\\\\saildrone_arctic_2017_sd1002jplv05.0_orbital.nc',\n",
       " 'F:/data/cruise_data/saildrone/sss/sss_collocations_orbital\\\\saildrone_arctic_2017_sd1002rssv04.0_orbital.nc',\n",
       " 'F:/data/cruise_data/saildrone/sss/sss_collocations_orbital\\\\saildrone_arctic_2017_sd1003jplv05.0_orbital.nc',\n",
       " 'F:/data/cruise_data/saildrone/sss/sss_collocations_orbital\\\\saildrone_arctic_2017_sd1003rssv04.0_orbital.nc',\n",
       " 'F:/data/cruise_data/saildrone/sss/sss_collocations_orbital\\\\saildrone_arctic_sd1033_2019jplv05.0_orbital.nc',\n",
       " 'F:/data/cruise_data/saildrone/sss/sss_collocations_orbital\\\\saildrone_arctic_sd1033_2019rssv04.0_orbital.nc',\n",
       " 'F:/data/cruise_data/saildrone/sss/sss_collocations_orbital\\\\saildrone_arctic_sd1034_2019jplv05.0_orbital.nc',\n",
       " 'F:/data/cruise_data/saildrone/sss/sss_collocations_orbital\\\\saildrone_arctic_sd1034_2019rssv04.0_orbital.nc',\n",
       " 'F:/data/cruise_data/saildrone/sss/sss_collocations_orbital\\\\saildrone_arctic_sd1035_2019jplv05.0_orbital.nc',\n",
       " 'F:/data/cruise_data/saildrone/sss/sss_collocations_orbital\\\\saildrone_arctic_sd1035_2019rssv04.0_orbital.nc',\n",
       " 'F:/data/cruise_data/saildrone/sss/sss_collocations_orbital\\\\saildrone_arctic_sd1041_2019jplv05.0_orbital.nc',\n",
       " 'F:/data/cruise_data/saildrone/sss/sss_collocations_orbital\\\\saildrone_arctic_sd1041_2019rssv04.0_orbital.nc',\n",
       " 'F:/data/cruise_data/saildrone/sss/sss_collocations_orbital\\\\saildrone_tpos_sd1005_2017jplv05.0_orbital.nc',\n",
       " 'F:/data/cruise_data/saildrone/sss/sss_collocations_orbital\\\\saildrone_tpos_sd1005_2017rssv04.0_orbital.nc',\n",
       " 'F:/data/cruise_data/saildrone/sss/sss_collocations_orbital\\\\saildrone_tpos_sd1005_2018jplv05.0_orbital.nc',\n",
       " 'F:/data/cruise_data/saildrone/sss/sss_collocations_orbital\\\\saildrone_tpos_sd1005_2018rssv04.0_orbital.nc',\n",
       " 'F:/data/cruise_data/saildrone/sss/sss_collocations_orbital\\\\saildrone_tpos_sd1006_2017jplv05.0_orbital.nc',\n",
       " 'F:/data/cruise_data/saildrone/sss/sss_collocations_orbital\\\\saildrone_tpos_sd1006_2017rssv04.0_orbital.nc',\n",
       " 'F:/data/cruise_data/saildrone/sss/sss_collocations_orbital\\\\saildrone_tpos_sd1006_2018jplv05.0_orbital.nc',\n",
       " 'F:/data/cruise_data/saildrone/sss/sss_collocations_orbital\\\\saildrone_tpos_sd1006_2018rssv04.0_orbital.nc',\n",
       " 'F:/data/cruise_data/saildrone/sss/sss_collocations_orbital\\\\saildrone_tpos_sd1029_2018jplv05.0_orbital.nc',\n",
       " 'F:/data/cruise_data/saildrone/sss/sss_collocations_orbital\\\\saildrone_tpos_sd1029_2018rssv04.0_orbital.nc',\n",
       " 'F:/data/cruise_data/saildrone/sss/sss_collocations_orbital\\\\saildrone_tpos_sd1030_2018jplv05.0_orbital.nc',\n",
       " 'F:/data/cruise_data/saildrone/sss/sss_collocations_orbital\\\\saildrone_tpos_sd1030_2018rssv04.0_orbital.nc',\n",
       " 'F:/data/cruise_data/saildrone/sss/sss_collocations_orbital\\\\saildrone_tpos_sd1066_2019jplv05.0_orbital.nc',\n",
       " 'F:/data/cruise_data/saildrone/sss/sss_collocations_orbital\\\\saildrone_tpos_sd1066_2019rssv04.0_orbital.nc',\n",
       " 'F:/data/cruise_data/saildrone/sss/sss_collocations_orbital\\\\saildrone_tpos_sd1067_2019jplv05.0_orbital.nc',\n",
       " 'F:/data/cruise_data/saildrone/sss/sss_collocations_orbital\\\\saildrone_tpos_sd1067_2019rssv04.0_orbital.nc',\n",
       " 'F:/data/cruise_data/saildrone/sss/sss_collocations_orbital\\\\saildrone_tpos_sd1068_2019jplv05.0_orbital.nc',\n",
       " 'F:/data/cruise_data/saildrone/sss/sss_collocations_orbital\\\\saildrone_tpos_sd1068_2019rssv04.0_orbital.nc',\n",
       " 'F:/data/cruise_data/saildrone/sss/sss_collocations_orbital\\\\saildrone_tpos_sd1069_2019jplv05.0_orbital.nc',\n",
       " 'F:/data/cruise_data/saildrone/sss/sss_collocations_orbital\\\\saildrone_tpos_sd1069_2019rssv04.0_orbital.nc',\n",
       " 'F:/data/cruise_data/saildrone/sss/sss_collocations_orbital\\\\saildrone_west_coast_survey_2018_sd1024jplv05.0_orbital.nc',\n",
       " 'F:/data/cruise_data/saildrone/sss/sss_collocations_orbital\\\\saildrone_west_coast_survey_2018_sd1024rssv04.0_orbital.nc',\n",
       " 'F:/data/cruise_data/saildrone/sss/sss_collocations_orbital\\\\saildrone_west_coast_survey_2018_sd1025jplv05.0_orbital.nc',\n",
       " 'F:/data/cruise_data/saildrone/sss/sss_collocations_orbital\\\\saildrone_west_coast_survey_2018_sd1025rssv04.0_orbital.nc',\n",
       " 'F:/data/cruise_data/saildrone/sss/sss_collocations_orbital\\\\saildrone_west_coast_survey_2018_sd1026jplv05.0_orbital.nc',\n",
       " 'F:/data/cruise_data/saildrone/sss/sss_collocations_orbital\\\\saildrone_west_coast_survey_2018_sd1026rssv04.0_orbital.nc',\n",
       " 'F:/data/cruise_data/saildrone/sss/sss_collocations_orbital\\\\saildrone_west_coast_survey_2018_sd1027jplv05.0_orbital.nc',\n",
       " 'F:/data/cruise_data/saildrone/sss/sss_collocations_orbital\\\\saildrone_west_coast_survey_2018_sd1027rssv04.0_orbital.nc',\n",
       " 'F:/data/cruise_data/saildrone/sss/sss_collocations_orbital\\\\saildrone_west_coast_survey_2018_sd1028jplv05.0_orbital.nc',\n",
       " 'F:/data/cruise_data/saildrone/sss/sss_collocations_orbital\\\\saildrone_west_coast_survey_2018_sd1028rssv04.0_orbital.nc',\n",
       " 'F:/data/cruise_data/saildrone/sss/sss_collocations_orbital\\\\saildrone_west_coast_survey_2019_sd1038jplv05.0_orbital.nc',\n",
       " 'F:/data/cruise_data/saildrone/sss/sss_collocations_orbital\\\\saildrone_west_coast_survey_2019_sd1038rssv04.0_orbital.nc',\n",
       " 'F:/data/cruise_data/saildrone/sss/sss_collocations_orbital\\\\saildrone_west_coast_survey_2019_sd1039jplv05.0_orbital.nc',\n",
       " 'F:/data/cruise_data/saildrone/sss/sss_collocations_orbital\\\\saildrone_west_coast_survey_2019_sd1039rssv04.0_orbital.nc',\n",
       " 'F:/data/cruise_data/saildrone/sss/sss_collocations_orbital\\\\saildrone_west_coast_survey_2019_sd1040jplv05.0_orbital.nc',\n",
       " 'F:/data/cruise_data/saildrone/sss/sss_collocations_orbital\\\\saildrone_west_coast_survey_2019_sd1040rssv04.0_orbital.nc',\n",
       " 'F:/data/cruise_data/saildrone/sss/sss_collocations_orbital\\\\saildrone_west_coast_survey_2019_sd1043jplv05.0_orbital.nc',\n",
       " 'F:/data/cruise_data/saildrone/sss/sss_collocations_orbital\\\\saildrone_west_coast_survey_2019_sd1043rssv04.0_orbital.nc',\n",
       " 'F:/data/cruise_data/saildrone/sss/sss_collocations_orbital\\\\saildrone_west_coast_survey_2019_sd1044jplv05.0_orbital.nc',\n",
       " 'F:/data/cruise_data/saildrone/sss/sss_collocations_orbital\\\\saildrone_west_coast_survey_2019_sd1044rssv04.0_orbital.nc',\n",
       " 'F:/data/cruise_data/saildrone/sss/sss_collocations_orbital\\\\saildrone_west_coast_survey_2019_sd1045jplv05.0_orbital.nc',\n",
       " 'F:/data/cruise_data/saildrone/sss/sss_collocations_orbital\\\\saildrone_west_coast_survey_2019_sd1045rssv04.0_orbital.nc',\n",
       " 'F:/data/cruise_data/saildrone/sss/sss_collocations_orbital\\\\saildrone_west_coast_survey_2019_sd1046jplv05.0_orbital.nc',\n",
       " 'F:/data/cruise_data/saildrone/sss/sss_collocations_orbital\\\\saildrone_west_coast_survey_2019_sd1046rssv04.0_orbital.nc',\n",
       " 'F:/data/cruise_data/saildrone/sss/sss_collocations_orbital\\\\saildrone_west_coast_survey_2019_sd1047jplv05.0_orbital.nc',\n",
       " 'F:/data/cruise_data/saildrone/sss/sss_collocations_orbital\\\\saildrone_west_coast_survey_2019_sd1047rssv04.0_orbital.nc']"
      ]
     },
     "execution_count": 8,
     "metadata": {},
     "output_type": "execute_result"
    }
   ],
   "source": [
    "data_dir = 'F:/data/cruise_data/saildrone/sss/sss_collocations_orbital/'\n",
    "data_dir_out = 'F:/data/cruise_data/saildrone/sss/sss_collocations_orbital_norepeat/'\n",
    "filenames = [x for x in glob(data_dir+'*.nc')]\n",
    "filenames"
   ]
  },
  {
   "cell_type": "code",
   "execution_count": null,
   "metadata": {},
   "outputs": [],
   "source": [
    "loc=['lat','lon']\n",
    "for iname,name in enumerate(filenames):\n",
    "    i = name.find('\\\\')\n",
    "    fout = data_dir_out + name[i+1:-3]+'norep.nc' \n",
    "    if path.exists(fout):\n",
    "        continue\n",
    "    \n",
    "    ds = xr.open_dataset(name)\n",
    "    ds.close()\n",
    "    \n",
    "    #if lat/lon in coordinates rather than variables move to variables\n",
    "    for cor in ds.coords:\n",
    "        if cor in loc:\n",
    "            ds = ds.reset_coords(cor)\n",
    "    \n",
    "    ds_tem2 = ds.where((ds.smap_SSS<50) & (ds.smap_SSS>1),drop=True)    \n",
    "    isv=0\n",
    "    while len(ds_tem2.time)>1:\n",
    "        i=0\n",
    "        cond = ((ds_tem2.smap_name==ds_tem2.smap_name[i]) \n",
    "                & (ds_tem2.smap_ydim==ds_tem2.smap_ydim[i]) \n",
    "                & (ds_tem2.smap_xdim==ds_tem2.smap_xdim[i]))\n",
    "        subset = ds_tem2.where(cond,drop=True)  #repeat obs\n",
    "        ds_mn = subset.mean(keep_attrs=True,skipna=True)\n",
    "        ds_mn['time'] = subset.time.mean()\n",
    "        ds_mn = ds_mn.assign_coords({'ob':isv})\n",
    "        if isv==0:\n",
    "            ds_mn2 = ds_mn\n",
    "        else:\n",
    "            ds_mn2 = xr.concat([ds_mn2,ds_mn],dim='ob')\n",
    "        isv = isv+1\n",
    "        ds_tem2 = ds_tem2.where(~cond,drop=True)  #data with repeat obs removed\n",
    "    ds_mn2.to_netcdf(fout)"
   ]
  },
  {
   "cell_type": "code",
   "execution_count": null,
   "metadata": {},
   "outputs": [],
   "source": [
    "#ds= xr.open_dataset('F:/data/sat_data/smap/SSS/L2/JPL/V4.3/2015/136\\SMAP_L2B_SSS_01530_20150516T034831_R16010_V4.3.h5')"
   ]
  },
  {
   "cell_type": "code",
   "execution_count": null,
   "metadata": {},
   "outputs": [],
   "source": [
    "file = data_dir_out + 'PMEL_Arctic_2015_sd126-ALL-1_min-v1jplv04.3_filesave4norep.nc'\n",
    "ds = xr.open_dataset(file)\n",
    "ds"
   ]
  },
  {
   "cell_type": "code",
   "execution_count": null,
   "metadata": {},
   "outputs": [],
   "source": [
    "file = data_dir_out + 'saildrone-gen_5-arctic_misst_2019-sd1037-20190514T230000-20191011T183000-1_minutes-v1.1575487464625jplv04.3_filesave4norep.nc'\n",
    "file = data_dir_out + '../sss_collocations/'+'saildrone-gen_5-arctic_misst_2019-sd1037-20190514T230000-20191011T183000-1_minutes-v1.1575487464625jplv04.3_filesave4.nc'\n",
    "ds = xr.open_dataset(file)\n",
    "ds"
   ]
  },
  {
   "cell_type": "code",
   "execution_count": null,
   "metadata": {},
   "outputs": [],
   "source": [
    "ds2 = ds.copy(deep=True)\n",
    "loc=['lat','lon']\n",
    "for cor in ds.coords:\n",
    "    if cor in loc:\n",
    "        print(cor)\n",
    "        ds2 = ds2.reset_coords(cor)"
   ]
  },
  {
   "cell_type": "code",
   "execution_count": null,
   "metadata": {},
   "outputs": [],
   "source": [
    "ds2"
   ]
  },
  {
   "cell_type": "markdown",
   "metadata": {},
   "source": [
    "# 8-day averages - remove repeats"
   ]
  },
  {
   "cell_type": "code",
   "execution_count": null,
   "metadata": {},
   "outputs": [],
   "source": [
    "data_dir = 'F:/data/cruise_data/saildrone/sss/sss_collocations_8day_nearest/'\n",
    "data_dir_out = 'F:/data/cruise_data/saildrone/sss/sss_collocations_8day_nearest_norepeat/'\n",
    "filenames = [x for x in glob(data_dir+'*.nc')]\n",
    "filenames"
   ]
  },
  {
   "cell_type": "code",
   "execution_count": null,
   "metadata": {},
   "outputs": [],
   "source": [
    "print(filenames[1])\n",
    "ds = xr.open_dataset(filenames[1])\n",
    "ds.close()\n",
    "ds"
   ]
  },
  {
   "cell_type": "code",
   "execution_count": null,
   "metadata": {},
   "outputs": [],
   "source": [
    "loc=['lat','lon']\n",
    "for iname,name in enumerate(filenames):\n",
    "    print(iname,len(filenames))\n",
    "    i = name.find('\\\\')\n",
    "    fout = data_dir_out + name[i+1:-3]+'norep.nc' \n",
    "    ds = xr.open_dataset(name)\n",
    "    ds.close()\n",
    "    if 'RSS' in name:  \n",
    "        ds_tem2 = ds.where((ds.sat_sss_smap<50) & (ds.sat_sss_smap>1),drop=True)    \n",
    "        isv=0\n",
    "        while len(ds_tem2.time)>1:\n",
    "            i=0\n",
    "            cond = ((ds_tem2.sat_sss_smap==ds_tem2.sat_sss_smap[i]) \n",
    "                    & (ds_tem2.sat_sss_smap_uncertainty==ds_tem2.sat_sss_smap_uncertainty[i]) \n",
    "                    & (ds_tem2.sat_sss_smap_40km==ds_tem2.sat_sss_smap_40km[i]))\n",
    "            subset = ds_tem2.where(cond,drop=True)  #repeat obs\n",
    "            ds_mn = subset.mean(keep_attrs=True,skipna=True)\n",
    "            ds_mn['time'] = subset.time.mean()\n",
    "            ds_mn = ds_mn.assign_coords({'ob':isv})\n",
    "            if isv==0:\n",
    "                ds_mn2 = ds_mn\n",
    "            else:\n",
    "                ds_mn2 = xr.concat([ds_mn2,ds_mn],dim='ob')\n",
    "            isv = isv+1\n",
    "            ds_tem2 = ds_tem2.where(~cond,drop=True)  #data with repeat obs removed\n",
    "    else:\n",
    "        ds_tem2 = ds.where((ds.sat_smap_sss<50) & (ds.sat_smap_sss>1),drop=True)    \n",
    "        isv=0\n",
    "        while len(ds_tem2.time)>1:\n",
    "            i=0\n",
    "            cond = ((ds_tem2.sat_smap_sss==ds_tem2.sat_smap_sss[i]) \n",
    "                    & (ds_tem2.sat_anc_sst==ds_tem2.sat_anc_sst[i]) \n",
    "                    & (ds_tem2.sat_anc_sss==ds_tem2.sat_anc_sss[i]))\n",
    "            subset = ds_tem2.where(cond,drop=True)  #repeat obs\n",
    "            ds_mn = subset.mean(keep_attrs=True,skipna=True)\n",
    "            ds_mn['time'] = subset.time.mean()\n",
    "            ds_mn = ds_mn.assign_coords({'ob':isv})\n",
    "            if isv==0:\n",
    "                ds_mn2 = ds_mn\n",
    "            else:\n",
    "                ds_mn2 = xr.concat([ds_mn2,ds_mn],dim='ob')\n",
    "            isv = isv+1\n",
    "            ds_tem2 = ds_tem2.where(~cond,drop=True)  #data with repeat obs removed\n",
    "    ds_mn2.to_netcdf(fout)"
   ]
  },
  {
   "cell_type": "code",
   "execution_count": null,
   "metadata": {},
   "outputs": [],
   "source": [
    "ds"
   ]
  },
  {
   "cell_type": "code",
   "execution_count": null,
   "metadata": {},
   "outputs": [],
   "source": [
    "ds_mn2"
   ]
  },
  {
   "cell_type": "code",
   "execution_count": null,
   "metadata": {},
   "outputs": [],
   "source": [
    "iname=0\n",
    "name = filenames[iname]\n",
    "i = name.find('\\\\')\n",
    "fout = data_dir_out + name[i+1:-3]+'norep.nc' \n",
    "ds = xr.open_dataset(name)\n",
    "ds.close()\n",
    "ds"
   ]
  }
 ],
 "metadata": {
  "kernelspec": {
   "display_name": "Python 3",
   "language": "python",
   "name": "python3"
  },
  "language_info": {
   "codemirror_mode": {
    "name": "ipython",
    "version": 3
   },
   "file_extension": ".py",
   "mimetype": "text/x-python",
   "name": "python",
   "nbconvert_exporter": "python",
   "pygments_lexer": "ipython3",
   "version": "3.7.10"
  }
 },
 "nbformat": 4,
 "nbformat_minor": 4
}
