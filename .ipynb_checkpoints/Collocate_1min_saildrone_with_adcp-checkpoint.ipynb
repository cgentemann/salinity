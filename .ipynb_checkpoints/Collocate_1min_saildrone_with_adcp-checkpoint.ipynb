{
 "cells": [
  {
   "cell_type": "code",
   "execution_count": null,
   "metadata": {},
   "outputs": [],
   "source": [
    "import xarray as xr\n",
    "import numpy as np\n",
    "import pandas as pd\n",
    "import matplotlib.pyplot as plt\n",
    "import seawater as sw\n",
    "from scipy import interpolate\n",
    "from scipy import signal\n",
    "from glob import glob\n",
    "import scipy.ndimage\n",
    "import matplotlib.colors as colors\n",
    "\n",
    "from sklearn.linear_model import LinearRegression\n",
    "import spectrum as spec\n",
    "from numpy import fft\n",
    "\n",
    "#import spectrum\n",
    "plt.rcParams['figure.figsize'] = (15,10)\n",
    "\n",
    "#data directory for saildrone data\n",
    "#more on the data here: https://podaac.jpl.nasa.gov/dataset/SAILDRONE_ATOMIC\n",
    "# DOI = 10.5067/SDRON-ATOM0\n",
    "data_dir = './../paper_software/2020_ATOMIC_Salinity/data/'\n",
    "saildrone_filenames = [x for x in glob(data_dir+'saildrone*.nc')]\n"
   ]
  },
  {
   "cell_type": "code",
   "execution_count": null,
   "metadata": {},
   "outputs": [],
   "source": [
    "#read in 1min data\n",
    "files = saildrone_filenames\n",
    "ds = []\n",
    "for file in saildrone_filenames:\n",
    "    print(file)\n",
    "    ds_tem=xr.open_dataset(file).isel(trajectory=0).swap_dims({'obs':'time'})\n",
    "    ds_tem.close()\n",
    "    ds.append(ds_tem)\n",
    "ds_usv = xr.concat(ds, dim='trajectory')"
   ]
  },
  {
   "cell_type": "code",
   "execution_count": null,
   "metadata": {},
   "outputs": [],
   "source": [
    "#read in adcp data and make into 1 file\n",
    "str_usv = ['sd-1026','sd-1060','sd-1061']\n",
    "dir_adcp = 'C:/Users/gentemann/Google Drive/public/2019_saildrone/ATOMIC/adcp/'\n",
    "for s in str_usv:\n",
    "    ds_adcp = xr.open_mfdataset(dir_adcp+s+'/*.nc',combine='nested',concat_dim='obs')\n",
    "    ds_adcp.close()\n",
    "    ds_adcp.to_netcdf(dir_adcp+s+'_adcp_combined.nc')\n"
   ]
  },
  {
   "cell_type": "code",
   "execution_count": null,
   "metadata": {},
   "outputs": [],
   "source": [
    "data_dir = dir_adcp\n",
    "adcp_filenames = [x for x in glob(data_dir+'*.nc')]\n",
    "ds = []\n",
    "for file in adcp_filenames:\n",
    "    print(file)\n",
    "    ds_tem=xr.open_dataset(file).isel(trajectory=0).swap_dims({'obs':'time'})\n",
    "    ds_tem.close()\n",
    "    ds.append(ds_tem)\n",
    "ds_adcp = xr.concat(ds, dim='trajectory')\n"
   ]
  },
  {
   "cell_type": "code",
   "execution_count": null,
   "metadata": {},
   "outputs": [],
   "source": [
    "#rename adcp data\n",
    "for var in ds_adcp:\n",
    "    ds_adcp=ds_adcp.rename({var:'adcp_'+var})\n",
    "ds_adcp"
   ]
  },
  {
   "cell_type": "code",
   "execution_count": null,
   "metadata": {},
   "outputs": [],
   "source": [
    "#adcp is 10 min sampling, so just downsample usv data to adcp times\n",
    "for ifile,file in enumerate(saildrone_filenames):\n",
    "    file2 = adcp_filenames[ifile]\n",
    "    ds_usv=xr.open_dataset(file).isel(trajectory=0).swap_dims({'obs':'time'}).reset_coords()\n",
    "    ds_adcp=xr.open_dataset(file2).isel(trajectory=0).swap_dims({'obs':'time'})\n",
    "    ds_adcp = ds_adcp.reset_coords()\n",
    "    for var in ds_adcp:\n",
    "        ds_adcp=ds_adcp.rename({var:'adcp_'+var})\n",
    "    ds_usv_resampled = ds_usv.interp(time=ds_adcp.time,method='nearest')\n",
    "    for var in ds_usv:\n",
    "        ds_adcp[var]=ds_usv_resampled[var]\n",
    "    ds_adcp.to_netcdf(dir_adcp+'combined_adcp_usv_data'+str(ds_usv.trajectory.data)+'.nc')"
   ]
  },
  {
   "cell_type": "code",
   "execution_count": null,
   "metadata": {},
   "outputs": [],
   "source": [
    "plt.plot(ds_adcp.adcp_longitude,ds_adcp.adcp_latitude,'-')\n",
    "plt.plot(ds_adcp.longitude,ds_adcp.latitude)\n"
   ]
  },
  {
   "cell_type": "code",
   "execution_count": null,
   "metadata": {},
   "outputs": [],
   "source": []
  }
 ],
 "metadata": {
  "kernelspec": {
   "display_name": "Python 3",
   "language": "python",
   "name": "python3"
  },
  "language_info": {
   "codemirror_mode": {
    "name": "ipython",
    "version": 3
   },
   "file_extension": ".py",
   "mimetype": "text/x-python",
   "name": "python",
   "nbconvert_exporter": "python",
   "pygments_lexer": "ipython3",
   "version": "3.7.8"
  }
 },
 "nbformat": 4,
 "nbformat_minor": 4
}
