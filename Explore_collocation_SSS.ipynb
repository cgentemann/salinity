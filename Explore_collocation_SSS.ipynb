{
 "cells": [
  {
   "cell_type": "code",
   "execution_count": null,
   "metadata": {},
   "outputs": [],
   "source": [
    "import sys\n",
    "import numpy as np\n",
    "import matplotlib.pyplot as plt\n",
    "import xarray as xr\n",
    "sys.path.append('../saildrone/subroutines/')\n",
    "import warnings\n",
    "warnings.simplefilter('ignore') # filter some warning messages\n",
    "from glob import glob\n"
   ]
  },
  {
   "cell_type": "markdown",
   "metadata": {},
   "source": [
    "# read in collocated files"
   ]
  },
  {
   "cell_type": "code",
   "execution_count": null,
   "metadata": {},
   "outputs": [],
   "source": [
    "data_dir = 'F:/data/cruise_data/saildrone/sss_collocations/'\n",
    "data_dir = 'F:/data/cruise_data/saildrone/sss_collocations_norepeat/'\n",
    "filenames = [x for x in glob(data_dir+'*.nc')]\n",
    "filenames"
   ]
  },
  {
   "cell_type": "code",
   "execution_count": null,
   "metadata": {},
   "outputs": [],
   "source": [
    "data_dict={}\n",
    "for iname,name in enumerate(filenames):\n",
    "    ds = xr.open_dataset(name)\n",
    "    ds.close()\n",
    "    i = name.find('\\\\')\n",
    "    sname = name[i+1:-3]\n",
    "    if iname==0:\n",
    "        data_dict = {name:ds}\n",
    "    else:\n",
    "        data_dict[name]=ds\n",
    " "
   ]
  },
  {
   "cell_type": "code",
   "execution_count": null,
   "metadata": {},
   "outputs": [],
   "source": [
    "fig, axs = plt.subplots(4,4,figsize=(12,12))\n",
    "ii=0\n",
    "for iname,name in enumerate(data_dict):\n",
    "    ii1=int(ii/4)\n",
    "    ii2=ii-ii1*4\n",
    "    print(ii,ii1,ii2)\n",
    "    ds = data_dict[name]\n",
    "    dif = ds.SAL_CTD_MEAN - ds.smap_SSS\n",
    "    dif = dif.where((ds.smap_SSS>2) & (ds.smap_SSS<50) & (ds.SAL_CTD_MEAN<50))\n",
    "    difm = np.nanmean(dif)\n",
    "    difs = np.nanstd(dif)\n",
    "    print(iname,\"{:.2f}\".format(difm),\"{:.2f}\".format(difs),np.isfinite(dif).sum().data)\n",
    "    if np.isfinite(difm):\n",
    "        ax = axs[ii1,ii2]\n",
    "        ax.plot(ds.SAL_CTD_MEAN)\n",
    "        ax.plot(ds.smap_SSS)\n",
    "        ii+=1\n"
   ]
  },
  {
   "cell_type": "code",
   "execution_count": null,
   "metadata": {},
   "outputs": [],
   "source": []
  },
  {
   "cell_type": "code",
   "execution_count": null,
   "metadata": {},
   "outputs": [],
   "source": [
    "plt.plot(ds.SAL_CTD_MEAN)\n",
    "plt.plot(ds.smap_SSS)"
   ]
  },
  {
   "cell_type": "code",
   "execution_count": null,
   "metadata": {},
   "outputs": [],
   "source": [
    "ds = sv.copy(deep=True)\n",
    "dif = ds.SAL_CTD_MEAN - ds.smap_SSS\n",
    "dif = dif.where((ds.smap_SSS>2) & (ds.smap_SSS<50) & (ds.SAL_CTD_MEAN<50))\n",
    "difm = np.nanmean(dif)\n",
    "difs = np.nanstd(dif)\n",
    "difm"
   ]
  },
  {
   "cell_type": "code",
   "execution_count": null,
   "metadata": {},
   "outputs": [],
   "source": [
    "ds=sv\n",
    "dif = ds.SAL_CTD_MEAN - ds.smap_SSS\n",
    "dif = dif.where(ds.smap_SSS>50)\n"
   ]
  },
  {
   "cell_type": "code",
   "execution_count": null,
   "metadata": {},
   "outputs": [],
   "source": [
    "dif"
   ]
  },
  {
   "cell_type": "code",
   "execution_count": null,
   "metadata": {},
   "outputs": [],
   "source": []
  }
 ],
 "metadata": {
  "kernelspec": {
   "display_name": "Python 3",
   "language": "python",
   "name": "python3"
  },
  "language_info": {
   "codemirror_mode": {
    "name": "ipython",
    "version": 3
   },
   "file_extension": ".py",
   "mimetype": "text/x-python",
   "name": "python",
   "nbconvert_exporter": "python",
   "pygments_lexer": "ipython3",
   "version": "3.7.6"
  }
 },
 "nbformat": 4,
 "nbformat_minor": 4
}
