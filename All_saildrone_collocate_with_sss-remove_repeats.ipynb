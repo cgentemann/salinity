{
 "cells": [
  {
   "cell_type": "code",
   "execution_count": 1,
   "metadata": {},
   "outputs": [],
   "source": [
    "import sys\n",
    "import numpy as np\n",
    "import matplotlib.pyplot as plt\n",
    "import xarray as xr\n",
    "sys.path.append('../saildrone/subroutines/')\n",
    "import warnings\n",
    "warnings.simplefilter('ignore') # filter some warning messages\n",
    "from glob import glob\n"
   ]
  },
  {
   "cell_type": "markdown",
   "metadata": {},
   "source": [
    "# read in collocated files"
   ]
  },
  {
   "cell_type": "code",
   "execution_count": 2,
   "metadata": {},
   "outputs": [
    {
     "data": {
      "text/plain": [
       "['F:/data/cruise_data/saildrone/sss_collocations\\\\PMEL_Arctic_2015_sd126-ALL-1_min-v1jplv4.2_filesave3.nc',\n",
       " 'F:/data/cruise_data/saildrone/sss_collocations\\\\PMEL_Arctic_2015_sd126-ALL-1_min-v1rssv4_filesave3.nc',\n",
       " 'F:/data/cruise_data/saildrone/sss_collocations\\\\PMEL_Arctic_2015_sd128-ALL-1_min-v1jplv4.2_filesave3.nc',\n",
       " 'F:/data/cruise_data/saildrone/sss_collocations\\\\PMEL_Arctic_2015_sd128-ALL-1_min-v1rssv4_filesave3.nc',\n",
       " 'F:/data/cruise_data/saildrone/sss_collocations\\\\PMEL_Arctic_2016_sd126-ALL-1_min-v1jplv4.2_filesave3.nc',\n",
       " 'F:/data/cruise_data/saildrone/sss_collocations\\\\PMEL_Arctic_2016_sd126-ALL-1_min-v1rssv4_filesave3.nc',\n",
       " 'F:/data/cruise_data/saildrone/sss_collocations\\\\PMEL_Arctic_2016_sd128-ALL-1_min-v1jplv4.2_filesave3.nc',\n",
       " 'F:/data/cruise_data/saildrone/sss_collocations\\\\PMEL_Arctic_2016_sd128-ALL-1_min-v1rssv4_filesave3.nc',\n",
       " 'F:/data/cruise_data/saildrone/sss_collocations\\\\saildrone-gen_4-baja_2018-sd1002-20180411T180000-20180611T055959-1_minutes-v1jplv4.2_filesave3.nc',\n",
       " 'F:/data/cruise_data/saildrone/sss_collocations\\\\saildrone-gen_4-baja_2018-sd1002-20180411T180000-20180611T055959-1_minutes-v1rssv4_filesave3.nc',\n",
       " 'F:/data/cruise_data/saildrone/sss_collocations\\\\saildrone-gen_4-shark-2018-sd1001-20180315T000000-20180529T235959-1_minutes-v1.1581626958976jplv4.2_filesave3.nc',\n",
       " 'F:/data/cruise_data/saildrone/sss_collocations\\\\saildrone-gen_4-shark-2018-sd1001-20180315T000000-20180529T235959-1_minutes-v1.1581626958976rssv4_filesave3.nc',\n",
       " 'F:/data/cruise_data/saildrone/sss_collocations\\\\saildrone-gen_4-shark-2018-sd1004-20180315T000000-20180617T235959-1_minutes-v1.1581627077777jplv4.2_filesave3.nc',\n",
       " 'F:/data/cruise_data/saildrone/sss_collocations\\\\saildrone-gen_4-shark-2018-sd1004-20180315T000000-20180617T235959-1_minutes-v1.1581627077777rssv4_filesave3.nc',\n",
       " 'F:/data/cruise_data/saildrone/sss_collocations\\\\saildrone-gen_5-1021_atlantic-sd1021-20190525T000000-20191021T235959-1_minutes-v1.1571806429446_(1)jplv4.2_filesave3.nc',\n",
       " 'F:/data/cruise_data/saildrone/sss_collocations\\\\saildrone-gen_5-1021_atlantic-sd1021-20190525T000000-20191021T235959-1_minutes-v1.1571806429446_(1)rssv4_filesave3.nc',\n",
       " 'F:/data/cruise_data/saildrone/sss_collocations\\\\saildrone-gen_5-antarctica_circumnavigation_2019-sd1020-20190119T040000-20190803T043000-1_minutes-v1.1564884498845jplv4.2_filesave3.nc',\n",
       " 'F:/data/cruise_data/saildrone/sss_collocations\\\\saildrone-gen_5-antarctica_circumnavigation_2019-sd1020-20190119T040000-20190803T043000-1_minutes-v1.1564884498845rssv4_filesave3.nc',\n",
       " 'F:/data/cruise_data/saildrone/sss_collocations\\\\saildrone-gen_5-arctic_misst_2019-sd1036-20190514T230000-20191011T183000-1_minutes-v1.1575336154680jplv4.2_filesave3.nc',\n",
       " 'F:/data/cruise_data/saildrone/sss_collocations\\\\saildrone-gen_5-arctic_misst_2019-sd1036-20190514T230000-20191011T183000-1_minutes-v1.1575336154680rssv4_filesave3.nc',\n",
       " 'F:/data/cruise_data/saildrone/sss_collocations\\\\saildrone-gen_5-arctic_misst_2019-sd1037-20190514T230000-20191011T183000-1_minutes-v1.1575487464625jplv4.2_filesave3.nc',\n",
       " 'F:/data/cruise_data/saildrone/sss_collocations\\\\saildrone-gen_5-arctic_misst_2019-sd1037-20190514T230000-20191011T183000-1_minutes-v1.1575487464625rssv4_filesave3.nc',\n",
       " 'F:/data/cruise_data/saildrone/sss_collocations\\\\saildrone-gen_5-atomic_eurec4a_2020-sd1026-20200117T000000-20200302T235959-1_minutes-v1.1589306725934jplv4.2_filesave3.nc',\n",
       " 'F:/data/cruise_data/saildrone/sss_collocations\\\\saildrone-gen_5-atomic_eurec4a_2020-sd1026-20200117T000000-20200302T235959-1_minutes-v1.1589306725934rssv4_filesave3.nc',\n",
       " 'F:/data/cruise_data/saildrone/sss_collocations\\\\saildrone-gen_5-atomic_eurec4a_2020-sd1060-20200117T000000-20200302T235959-1_minutes-v1.1589306886594jplv4.2_filesave3.nc',\n",
       " 'F:/data/cruise_data/saildrone/sss_collocations\\\\saildrone-gen_5-atomic_eurec4a_2020-sd1060-20200117T000000-20200302T235959-1_minutes-v1.1589306886594rssv4_filesave3.nc',\n",
       " 'F:/data/cruise_data/saildrone/sss_collocations\\\\saildrone-gen_5-atomic_eurec4a_2020-sd1061-20200117T000000-20200302T235959-1_minutes-v1.1589307121602jplv4.2_filesave3.nc',\n",
       " 'F:/data/cruise_data/saildrone/sss_collocations\\\\saildrone-gen_5-atomic_eurec4a_2020-sd1061-20200117T000000-20200302T235959-1_minutes-v1.1589307121602rssv4_filesave3.nc',\n",
       " 'F:/data/cruise_data/saildrone/sss_collocations\\\\saildrone_arctic_2017_sd1001jplv4.2_filesave3.nc',\n",
       " 'F:/data/cruise_data/saildrone/sss_collocations\\\\saildrone_arctic_2017_sd1001rssv4_filesave3.nc',\n",
       " 'F:/data/cruise_data/saildrone/sss_collocations\\\\saildrone_arctic_2017_sd1002jplv4.2_filesave3.nc',\n",
       " 'F:/data/cruise_data/saildrone/sss_collocations\\\\saildrone_arctic_2017_sd1002rssv4_filesave3.nc',\n",
       " 'F:/data/cruise_data/saildrone/sss_collocations\\\\saildrone_arctic_2017_sd1003jplv4.2_filesave3.nc',\n",
       " 'F:/data/cruise_data/saildrone/sss_collocations\\\\saildrone_arctic_2017_sd1003rssv4_filesave3.nc',\n",
       " 'F:/data/cruise_data/saildrone/sss_collocations\\\\saildrone_arctic_sd1033_2019jplv4.2_filesave3.nc',\n",
       " 'F:/data/cruise_data/saildrone/sss_collocations\\\\saildrone_arctic_sd1033_2019rssv4_filesave3.nc',\n",
       " 'F:/data/cruise_data/saildrone/sss_collocations\\\\saildrone_arctic_sd1034_2019jplv4.2_filesave3.nc',\n",
       " 'F:/data/cruise_data/saildrone/sss_collocations\\\\saildrone_arctic_sd1034_2019rssv4_filesave3.nc',\n",
       " 'F:/data/cruise_data/saildrone/sss_collocations\\\\saildrone_arctic_sd1035_2019jplv4.2_filesave3.nc',\n",
       " 'F:/data/cruise_data/saildrone/sss_collocations\\\\saildrone_arctic_sd1035_2019rssv4_filesave3.nc',\n",
       " 'F:/data/cruise_data/saildrone/sss_collocations\\\\saildrone_arctic_sd1041_2019jplv4.2_filesave3.nc',\n",
       " 'F:/data/cruise_data/saildrone/sss_collocations\\\\saildrone_arctic_sd1041_2019rssv4_filesave3.nc',\n",
       " 'F:/data/cruise_data/saildrone/sss_collocations\\\\saildrone_tpos_sd1005_2017jplv4.2_filesave3.nc',\n",
       " 'F:/data/cruise_data/saildrone/sss_collocations\\\\saildrone_tpos_sd1005_2017rssv4_filesave3.nc',\n",
       " 'F:/data/cruise_data/saildrone/sss_collocations\\\\saildrone_tpos_sd1005_2018jplv4.2_filesave3.nc',\n",
       " 'F:/data/cruise_data/saildrone/sss_collocations\\\\saildrone_tpos_sd1005_2018rssv4_filesave3.nc',\n",
       " 'F:/data/cruise_data/saildrone/sss_collocations\\\\saildrone_tpos_sd1006_2017jplv4.2_filesave3.nc',\n",
       " 'F:/data/cruise_data/saildrone/sss_collocations\\\\saildrone_tpos_sd1006_2017rssv4_filesave3.nc',\n",
       " 'F:/data/cruise_data/saildrone/sss_collocations\\\\saildrone_tpos_sd1006_2018jplv4.2_filesave3.nc',\n",
       " 'F:/data/cruise_data/saildrone/sss_collocations\\\\saildrone_tpos_sd1006_2018rssv4_filesave3.nc',\n",
       " 'F:/data/cruise_data/saildrone/sss_collocations\\\\saildrone_tpos_sd1029_2018jplv4.2_filesave3.nc',\n",
       " 'F:/data/cruise_data/saildrone/sss_collocations\\\\saildrone_tpos_sd1029_2018rssv4_filesave3.nc',\n",
       " 'F:/data/cruise_data/saildrone/sss_collocations\\\\saildrone_tpos_sd1030_2018jplv4.2_filesave3.nc',\n",
       " 'F:/data/cruise_data/saildrone/sss_collocations\\\\saildrone_tpos_sd1030_2018rssv4_filesave3.nc',\n",
       " 'F:/data/cruise_data/saildrone/sss_collocations\\\\saildrone_tpos_sd1066_2019jplv4.2_filesave3.nc',\n",
       " 'F:/data/cruise_data/saildrone/sss_collocations\\\\saildrone_tpos_sd1066_2019rssv4_filesave3.nc',\n",
       " 'F:/data/cruise_data/saildrone/sss_collocations\\\\saildrone_tpos_sd1067_2019jplv4.2_filesave3.nc',\n",
       " 'F:/data/cruise_data/saildrone/sss_collocations\\\\saildrone_tpos_sd1067_2019rssv4_filesave3.nc',\n",
       " 'F:/data/cruise_data/saildrone/sss_collocations\\\\saildrone_tpos_sd1068_2019jplv4.2_filesave3.nc',\n",
       " 'F:/data/cruise_data/saildrone/sss_collocations\\\\saildrone_tpos_sd1068_2019rssv4_filesave3.nc',\n",
       " 'F:/data/cruise_data/saildrone/sss_collocations\\\\saildrone_tpos_sd1069_2019jplv4.2_filesave3.nc',\n",
       " 'F:/data/cruise_data/saildrone/sss_collocations\\\\saildrone_tpos_sd1069_2019rssv4_filesave3.nc',\n",
       " 'F:/data/cruise_data/saildrone/sss_collocations\\\\saildrone_west_coast_survey_2018_sd1024jplv4.2_filesave3.nc',\n",
       " 'F:/data/cruise_data/saildrone/sss_collocations\\\\saildrone_west_coast_survey_2018_sd1024rssv4_filesave3.nc',\n",
       " 'F:/data/cruise_data/saildrone/sss_collocations\\\\saildrone_west_coast_survey_2018_sd1025jplv4.2_filesave3.nc',\n",
       " 'F:/data/cruise_data/saildrone/sss_collocations\\\\saildrone_west_coast_survey_2018_sd1025rssv4_filesave3.nc',\n",
       " 'F:/data/cruise_data/saildrone/sss_collocations\\\\saildrone_west_coast_survey_2018_sd1026jplv4.2_filesave3.nc',\n",
       " 'F:/data/cruise_data/saildrone/sss_collocations\\\\saildrone_west_coast_survey_2018_sd1026rssv4_filesave3.nc',\n",
       " 'F:/data/cruise_data/saildrone/sss_collocations\\\\saildrone_west_coast_survey_2018_sd1027jplv4.2_filesave3.nc',\n",
       " 'F:/data/cruise_data/saildrone/sss_collocations\\\\saildrone_west_coast_survey_2018_sd1027rssv4_filesave3.nc',\n",
       " 'F:/data/cruise_data/saildrone/sss_collocations\\\\saildrone_west_coast_survey_2018_sd1028jplv4.2_filesave3.nc',\n",
       " 'F:/data/cruise_data/saildrone/sss_collocations\\\\saildrone_west_coast_survey_2018_sd1028rssv4_filesave3.nc',\n",
       " 'F:/data/cruise_data/saildrone/sss_collocations\\\\saildrone_west_coast_survey_2019_sd1038jplv4.2_filesave3.nc',\n",
       " 'F:/data/cruise_data/saildrone/sss_collocations\\\\saildrone_west_coast_survey_2019_sd1038rssv4_filesave3.nc',\n",
       " 'F:/data/cruise_data/saildrone/sss_collocations\\\\saildrone_west_coast_survey_2019_sd1039jplv4.2_filesave3.nc',\n",
       " 'F:/data/cruise_data/saildrone/sss_collocations\\\\saildrone_west_coast_survey_2019_sd1039rssv4_filesave3.nc',\n",
       " 'F:/data/cruise_data/saildrone/sss_collocations\\\\saildrone_west_coast_survey_2019_sd1040jplv4.2_filesave3.nc',\n",
       " 'F:/data/cruise_data/saildrone/sss_collocations\\\\saildrone_west_coast_survey_2019_sd1040rssv4_filesave3.nc',\n",
       " 'F:/data/cruise_data/saildrone/sss_collocations\\\\saildrone_west_coast_survey_2019_sd1043jplv4.2_filesave3.nc',\n",
       " 'F:/data/cruise_data/saildrone/sss_collocations\\\\saildrone_west_coast_survey_2019_sd1043rssv4_filesave3.nc',\n",
       " 'F:/data/cruise_data/saildrone/sss_collocations\\\\saildrone_west_coast_survey_2019_sd1044jplv4.2_filesave3.nc',\n",
       " 'F:/data/cruise_data/saildrone/sss_collocations\\\\saildrone_west_coast_survey_2019_sd1044rssv4_filesave3.nc',\n",
       " 'F:/data/cruise_data/saildrone/sss_collocations\\\\saildrone_west_coast_survey_2019_sd1045jplv4.2_filesave3.nc',\n",
       " 'F:/data/cruise_data/saildrone/sss_collocations\\\\saildrone_west_coast_survey_2019_sd1045rssv4_filesave3.nc',\n",
       " 'F:/data/cruise_data/saildrone/sss_collocations\\\\saildrone_west_coast_survey_2019_sd1046jplv4.2_filesave3.nc',\n",
       " 'F:/data/cruise_data/saildrone/sss_collocations\\\\saildrone_west_coast_survey_2019_sd1046rssv4_filesave3.nc',\n",
       " 'F:/data/cruise_data/saildrone/sss_collocations\\\\saildrone_west_coast_survey_2019_sd1047jplv4.2_filesave3.nc',\n",
       " 'F:/data/cruise_data/saildrone/sss_collocations\\\\saildrone_west_coast_survey_2019_sd1047rssv4_filesave3.nc']"
      ]
     },
     "execution_count": 2,
     "metadata": {},
     "output_type": "execute_result"
    }
   ],
   "source": [
    "data_dir = 'F:/data/cruise_data/saildrone/sss_collocations/'\n",
    "data_dir_out = 'F:/data/cruise_data/saildrone/sss_collocations_norepeat/'\n",
    "filenames = [x for x in glob(data_dir+'*.nc')]\n",
    "filenames"
   ]
  },
  {
   "cell_type": "code",
   "execution_count": 3,
   "metadata": {},
   "outputs": [],
   "source": [
    "for iname,name in enumerate(filenames):\n",
    "    i = name.find('\\\\')\n",
    "    fout = data_dir_out + name[i+1:-3]+'norep.nc' \n",
    "    ds = xr.open_dataset(name)\n",
    "    ds.close()\n",
    "    ds_tem2 = ds.where((ds.smap_SSS<50) & (ds.smap_SSS>1),drop=True)\n",
    "    isv=0\n",
    "    while len(ds_tem2.time)>1:\n",
    "        i=0\n",
    "        cond = ((ds_tem2.smap_name==ds_tem2.smap_name[i]) \n",
    "                & (ds_tem2.smap_ydim==ds_tem2.smap_ydim[i]) \n",
    "                & (ds_tem2.smap_xdim==ds_tem2.smap_xdim[i]))\n",
    "        subset = ds_tem2.where(cond,drop=True)  #repeat obs\n",
    "        ds_mn = subset.mean(keep_attrs=True,skipna=True)\n",
    "        ds_mn['time'] = subset.time.mean()\n",
    "        ds_mn = ds_mn.assign_coords({'ob':isv})\n",
    "        if isv==0:\n",
    "            ds_mn2 = ds_mn\n",
    "        else:\n",
    "            ds_mn2 = xr.concat([ds_mn2,ds_mn],dim='ob')\n",
    "        isv = isv+1\n",
    "        ds_tem2 = ds_tem2.where(~cond,drop=True)  #data with repeat obs removed\n",
    "    ds_mn2.to_netcdf(fout)"
   ]
  },
  {
   "cell_type": "code",
   "execution_count": null,
   "metadata": {},
   "outputs": [],
   "source": [
    "#ds= xr.open_dataset('F:/data/sat_data/smap/SSS/L2/JPL/V4.3/2015/136\\SMAP_L2B_SSS_01530_20150516T034831_R16010_V4.3.h5')"
   ]
  },
  {
   "cell_type": "code",
   "execution_count": null,
   "metadata": {},
   "outputs": [],
   "source": []
  },
  {
   "cell_type": "code",
   "execution_count": null,
   "metadata": {},
   "outputs": [],
   "source": []
  }
 ],
 "metadata": {
  "kernelspec": {
   "display_name": "Python 3",
   "language": "python",
   "name": "python3"
  },
  "language_info": {
   "codemirror_mode": {
    "name": "ipython",
    "version": 3
   },
   "file_extension": ".py",
   "mimetype": "text/x-python",
   "name": "python",
   "nbconvert_exporter": "python",
   "pygments_lexer": "ipython3",
   "version": "3.7.6"
  }
 },
 "nbformat": 4,
 "nbformat_minor": 4
}
